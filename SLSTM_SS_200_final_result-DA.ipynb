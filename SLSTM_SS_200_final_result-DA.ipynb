{
 "cells": [
  {
   "cell_type": "markdown",
   "metadata": {},
   "source": [
    "# Stacked Bi-LSTM iter 3\n",
    "Here we train for a length of 200 units\n",
    "Where the change is done in creating the list of patients\n",
    "Note: Here patients is list of Control subjects and patients1 is list of Parkinson patients"
   ]
  },
  {
   "cell_type": "code",
   "execution_count": null,
   "metadata": {
    "id": "oriXXy5wYuJJ"
   },
   "outputs": [],
   "source": [
    "import tensorflow as tf\n",
    "from sklearn.preprocessing import MinMaxScaler, StandardScaler\n",
    "from sklearn.preprocessing import LabelEncoder\n",
    "from sklearn.metrics import mean_squared_error\n",
    "from sklearn.model_selection import StratifiedShuffleSplit\n",
    "from tensorflow.keras.layers import Bidirectional\n",
    "from tensorflow.keras.models import Sequential\n",
    "from tensorflow.keras.layers import Dense\n",
    "from tensorflow.keras.layers import LSTM\n",
    "from tensorflow.keras.layers import Flatten\n",
    "from tensorflow.keras.callbacks import EarlyStopping, ModelCheckpoint\n",
    "from tensorflow.keras.models import load_model\n",
    "\n",
    "from tensorflow.keras import utils as np_utils\n",
    "\n",
    "from random import shuffle\n",
    "from tensorflow.python.client import device_lib\n",
    "\n",
    "import os\n",
    "import glob\n",
    "import pandas as pd\n",
    "import numpy as np\n",
    "import matplotlib.pyplot as plt\n",
    "\n",
    "# For wider plots\n",
    "plt.rcParams[\"figure.figsize\"] = (20,6)\n",
    "\n",
    "# Take my NVidia GPU into use\n",
    "os.environ[\"CUDA_DEVICE_ORDER\"]=\"PCI_BUS_ID\"\n",
    "os.environ[\"CUDA_VISIBLE_DEVICES\"]=\"0,1,2\""
   ]
  },
  {
   "cell_type": "code",
   "execution_count": null,
   "metadata": {},
   "outputs": [],
   "source": [
    "from tensorflow.python.client import device_lib \n",
    "print(device_lib.list_local_devices())"
   ]
  },
  {
   "cell_type": "code",
   "execution_count": 3,
   "metadata": {
    "id": "Vik1x9mkZIOm"
   },
   "outputs": [],
   "source": [
    "files1 = glob.glob(\"./parkinsons/*Co*.txt\")\n",
    "files2 = glob.glob(\"./parkinsons/*Pt*.txt\")\n",
    "# files=files1+files2\n",
    "# shuffle(files)"
   ]
  },
  {
   "cell_type": "code",
   "execution_count": 4,
   "metadata": {
    "id": "o9de6Bdr_X7C"
   },
   "outputs": [],
   "source": [
    "columns = [\"elaps_time\",\"L1\", \"L2\",\"L3\",\"L4\",\"L5\",\"L6\",\"L7\",\"L8\",\"R1\",\"R2\",\"R3\",\"R4\",\"R5\",\"R6\",\"R7\",\"R8\",\"LTot\",\"RTot\"]"
   ]
  },
  {
   "cell_type": "code",
   "execution_count": 5,
   "metadata": {
    "id": "OkThribYZbU1"
   },
   "outputs": [],
   "source": [
    "def getClassForHealthyOrNot(filename):\n",
    "    if (filename.find(\"Co\") >=0):\n",
    "        return 0\n",
    "    else:\n",
    "        return 1\n"
   ]
  },
  {
   "cell_type": "code",
   "execution_count": 6,
   "metadata": {
    "id": "7NYxPBygzo1e"
   },
   "outputs": [],
   "source": [
    "class Patient:\n",
    "    def __init__(self,input_data,y):\n",
    "        self.x = input_data\n",
    "        self.y = y\n",
    "        self.x_scaled = input_data"
   ]
  },
  {
   "cell_type": "code",
   "execution_count": 7,
   "metadata": {
    "id": "um8W0jLfzp8z"
   },
   "outputs": [],
   "source": [
    "patients=[]\n",
    "un_used_data=[]\n",
    "\n",
    "for f in files1:\n",
    "    #print(f\"{i+1}. {file}\")\n",
    "    \n",
    "    data_txt = pd.read_table(f,names=columns)\n",
    "    data_txt.drop(['elaps_time'],inplace=True,axis=1)\n",
    "    \n",
    "    \n",
    "    \n",
    "    j=0\n",
    "    ispark = getClassForHealthyOrNot(f)\n",
    "    # print(ispark)\n",
    "    while j < 12001:\n",
    "        data = data_txt.iloc[j+1:j+201,:]\n",
    "        \n",
    "        if data.shape[0] == 200:\n",
    "            patients.append( Patient(data, ispark) )\n",
    "        \n",
    "        j=j+100"
   ]
  },
  {
   "cell_type": "code",
   "execution_count": 8,
   "metadata": {
    "id": "iXp833vu_TB3"
   },
   "outputs": [],
   "source": [
    "patients1=[]\n",
    "un_used_data1=[]\n",
    "\n",
    "for f in files2:\n",
    "    #print(f\"{i+1}. {file}\")\n",
    "    \n",
    "    data_txt = pd.read_table(f,names=columns)\n",
    "    data_txt.drop(['elaps_time'],inplace=True,axis=1)\n",
    "    \n",
    "    \n",
    "    \n",
    "    j=0\n",
    "    ispark = getClassForHealthyOrNot(f)\n",
    "    # print(ispark)\n",
    "    while j < 12001:\n",
    "        data = data_txt.iloc[j+1:j+201,:]\n",
    "        \n",
    "        if data.shape[0] == 200:\n",
    "            patients1.append( Patient(data, ispark) )\n",
    "        \n",
    "        j=j+100"
   ]
  },
  {
   "cell_type": "code",
   "execution_count": 9,
   "metadata": {
    "colab": {
     "base_uri": "https://localhost:8080/"
    },
    "id": "YMO-9K-f00D2",
    "outputId": "acfcf674-107a-4e0a-a370-043ea5439305"
   },
   "outputs": [
    {
     "data": {
      "text/plain": [
       "10011"
      ]
     },
     "execution_count": 9,
     "metadata": {},
     "output_type": "execute_result"
    }
   ],
   "source": [
    "len(patients)"
   ]
  },
  {
   "cell_type": "code",
   "execution_count": 10,
   "metadata": {
    "colab": {
     "base_uri": "https://localhost:8080/"
    },
    "id": "IPaH2QfKAOfm",
    "outputId": "a463f0a9-3058-45c8-aa0b-d079db5e5f72"
   },
   "outputs": [
    {
     "data": {
      "text/plain": [
       "22221"
      ]
     },
     "execution_count": 10,
     "metadata": {},
     "output_type": "execute_result"
    }
   ],
   "source": [
    "len(patients1)\n"
   ]
  },
  {
   "cell_type": "code",
   "execution_count": 11,
   "metadata": {
    "id": "9ZYcPnYP1Lkc"
   },
   "outputs": [],
   "source": [
    "shuffle(patients)\n",
    "shuffle(patients1)"
   ]
  },
  {
   "cell_type": "code",
   "execution_count": 12,
   "metadata": {
    "id": "-mAihBLj1QYz"
   },
   "outputs": [],
   "source": [
    "train = patients[:int(len(patients)*0.8)]+patients1[:int(len(patients1)*0.8)]\n",
    "test = patients[int(len(patients)*0.8):]+patients1[int(len(patients1)*0.8):]"
   ]
  },
  {
   "cell_type": "code",
   "execution_count": 13,
   "metadata": {
    "colab": {
     "base_uri": "https://localhost:8080/"
    },
    "id": "OLKpXuqkA0to",
    "outputId": "c79e8660-546b-4ff9-f299-adc95f17f675"
   },
   "outputs": [
    {
     "name": "stdout",
     "output_type": "stream",
     "text": [
      "25784\n",
      "6448\n"
     ]
    }
   ],
   "source": [
    "print(len(train))\n",
    "print(len(test))"
   ]
  },
  {
   "cell_type": "code",
   "execution_count": 14,
   "metadata": {
    "id": "cUKw51iuA3-7"
   },
   "outputs": [],
   "source": [
    "shuffle(train)\n",
    "shuffle(test)"
   ]
  },
  {
   "cell_type": "code",
   "execution_count": 15,
   "metadata": {
    "id": "_Uy2WCDO11YA"
   },
   "outputs": [],
   "source": [
    "train_concat=[]\n",
    "for p in train:\n",
    "    train_concat = train_concat+[p.x]"
   ]
  },
  {
   "cell_type": "code",
   "execution_count": 16,
   "metadata": {
    "id": "CZTBAgwu2GJ4"
   },
   "outputs": [],
   "source": [
    "data_tr = pd.concat(train_concat,ignore_index=True)"
   ]
  },
  {
   "cell_type": "code",
   "execution_count": 17,
   "metadata": {
    "colab": {
     "base_uri": "https://localhost:8080/"
    },
    "id": "Xu_PsImH2ORu",
    "outputId": "d81790ce-1e80-43ef-b20f-8ff466aa74c7"
   },
   "outputs": [
    {
     "data": {
      "text/plain": [
       "array([[-0.6487628 , -0.67514889, -0.64568173, ...,  1.68623587,\n",
       "        -1.12452158,  0.50701034],\n",
       "       [-0.6487628 , -0.67514889, -0.64568173, ...,  1.8369858 ,\n",
       "        -1.12452158,  0.48846822],\n",
       "       [-0.6487628 , -0.67514889, -0.64568173, ...,  1.98773573,\n",
       "        -1.12452158,  0.46583593],\n",
       "       ...,\n",
       "       [-0.6487628 , -0.58347378, -0.59632191, ..., -0.76398129,\n",
       "         1.25518893, -1.12824114],\n",
       "       [-0.6487628 , -0.58347378, -0.64568173, ..., -0.76398129,\n",
       "         1.23697756, -1.12824114],\n",
       "       [-0.6487628 , -0.58347378, -0.64568173, ..., -0.76398129,\n",
       "         1.22175611, -1.11651597]])"
      ]
     },
     "execution_count": 17,
     "metadata": {},
     "output_type": "execute_result"
    }
   ],
   "source": [
    "scaler = StandardScaler()\n",
    "scaler.fit_transform(data_tr)"
   ]
  },
  {
   "cell_type": "code",
   "execution_count": 18,
   "metadata": {
    "id": "lU7nVIWF2RVq"
   },
   "outputs": [],
   "source": [
    "i=0\n",
    "wo_time_col=[\"L1\", \"L2\",\"L3\",\"L4\",\"L5\",\"L6\",\"L7\",\"L8\",\"R1\",\"R2\",\"R3\",\"R4\",\"R5\",\"R6\",\"R7\",\"R8\",\"LTot\",\"RTot\"]\n",
    "for obj in train:\n",
    "    obj.x_scaled = pd.DataFrame(scaler.transform(obj.x),columns=wo_time_col)\n",
    "    i=i+1"
   ]
  },
  {
   "cell_type": "code",
   "execution_count": 19,
   "metadata": {
    "id": "4UARoisP3xih"
   },
   "outputs": [],
   "source": [
    "for obj in test:\n",
    "    obj.x_scaled = pd.DataFrame(scaler.transform(obj.x),columns=wo_time_col)\n",
    "    i=i+1"
   ]
  },
  {
   "cell_type": "code",
   "execution_count": 20,
   "metadata": {
    "id": "97vpZxO86VMi"
   },
   "outputs": [],
   "source": [
    "X_scaled_list_train=[]\n",
    "Y_list_train=[]\n",
    "\n",
    "for obj in train:\n",
    "    X_scaled_list_train = X_scaled_list_train + [obj.x_scaled]\n",
    "    Y_list_train = Y_list_train + [obj.y]\n",
    "    \n",
    "X_scaled_arr_train = np.array(X_scaled_list_train)\n",
    "Y_arr_train = np.array(Y_list_train)"
   ]
  },
  {
   "cell_type": "code",
   "execution_count": 21,
   "metadata": {
    "colab": {
     "base_uri": "https://localhost:8080/"
    },
    "id": "A_SvxxOK72ry",
    "outputId": "890b1bac-4f71-4326-bd98-3bb2ff126373"
   },
   "outputs": [
    {
     "data": {
      "text/plain": [
       "(25784, 200, 18)"
      ]
     },
     "execution_count": 21,
     "metadata": {},
     "output_type": "execute_result"
    }
   ],
   "source": [
    "X_scaled_arr_train.shape"
   ]
  },
  {
   "cell_type": "code",
   "execution_count": 22,
   "metadata": {},
   "outputs": [
    {
     "data": {
      "text/plain": [
       "(25784,)"
      ]
     },
     "execution_count": 22,
     "metadata": {},
     "output_type": "execute_result"
    }
   ],
   "source": [
    "Y_arr_train.shape"
   ]
  },
  {
   "cell_type": "code",
   "execution_count": 23,
   "metadata": {
    "id": "86VG8YJ36-uj"
   },
   "outputs": [],
   "source": [
    "X_scaled_list_test=[]\n",
    "Y_list_test=[]\n",
    "\n",
    "for obj in test:\n",
    "    X_scaled_list_test = X_scaled_list_test + [obj.x_scaled]\n",
    "    Y_list_test = Y_list_test + [obj.y]\n",
    "    \n",
    "X_scaled_arr_test = np.array(X_scaled_list_test)\n",
    "Y_arr_test = np.array(Y_list_test)"
   ]
  },
  {
   "cell_type": "code",
   "execution_count": 24,
   "metadata": {},
   "outputs": [],
   "source": [
    "import numpy as np"
   ]
  },
  {
   "cell_type": "code",
   "execution_count": null,
   "metadata": {
    "id": "ndlZHZnL7fkW"
   },
   "outputs": [],
   "source": [
    "model = Sequential()\n",
    "model.add(Bidirectional(LSTM(80, dropout=0.3, \n",
    "                  return_sequences=True, \n",
    "                  input_shape=(X_scaled_arr_train.shape[1], X_scaled_arr_train.shape[2]))))\n",
    "model.add(Bidirectional(LSTM(32, dropout=0.5,return_sequences=True)))\n",
    "model.add(LSTM(24, dropout=0.2,return_sequences=True))\n",
    "model.add(LSTM(12, dropout=0.2,return_sequences=False))\n",
    "model.add(Dense(1, kernel_initializer='glorot_uniform', activation='relu'))\n",
    "opt=tf.keras.optimizers.Adam(\n",
    "    learning_rate=0.0001,\n",
    "    name=\"Adam\"\n",
    "    )\n",
    "model.compile(loss='binary_crossentropy', optimizer=opt, metrics=['accuracy'])\n",
    "\n",
    "early_stopping = EarlyStopping(monitor='val_accuracy', patience=20, verbose=1, mode='auto')\n",
    "checkpoint = ModelCheckpoint(\"./Model/model_LSTM22_2.v\", \n",
    "                             monitor='val_accuracy', verbose=1, save_best_only=True, \n",
    "                             save_weights_only=False)"
   ]
  },
  {
   "cell_type": "code",
   "execution_count": null,
   "metadata": {
    "colab": {
     "base_uri": "https://localhost:8080/"
    },
    "id": "-RL4C-el7TIg",
    "outputId": "296f68f6-5765-41e9-8016-80554d7f072e",
    "scrolled": true,
    "tags": []
   },
   "outputs": [],
   "source": [
    "history = model.fit(X_scaled_arr_train,Y_arr_train,epochs=500,validation_split=0.2,batch_size=20,shuffle=True,callbacks=[early_stopping, checkpoint])"
   ]
  },
  {
   "cell_type": "code",
   "execution_count": 40,
   "metadata": {
    "scrolled": true,
    "tags": []
   },
   "outputs": [
    {
     "name": "stdout",
     "output_type": "stream",
     "text": [
      "Epoch 1/500\n",
      "1032/1032 [==============================] - 84s 82ms/step - loss: 0.0200 - accuracy: 0.9954 - val_loss: 0.0197 - val_accuracy: 0.9946\n",
      "\n",
      "Epoch 00001: val_accuracy did not improve from 0.99535\n",
      "Epoch 2/500\n",
      "1032/1032 [==============================] - 84s 82ms/step - loss: 0.0074 - accuracy: 0.9972 - val_loss: 0.0190 - val_accuracy: 0.9942\n",
      "\n",
      "Epoch 00002: val_accuracy did not improve from 0.99535\n",
      "Epoch 3/500\n",
      "1032/1032 [==============================] - 85s 83ms/step - loss: 0.0094 - accuracy: 0.9971 - val_loss: 0.0299 - val_accuracy: 0.9940\n",
      "\n",
      "Epoch 00003: val_accuracy did not improve from 0.99535\n",
      "Epoch 4/500\n",
      "1032/1032 [==============================] - 85s 83ms/step - loss: 0.0129 - accuracy: 0.9967 - val_loss: 0.7589 - val_accuracy: 0.9306\n",
      "\n",
      "Epoch 00004: val_accuracy did not improve from 0.99535\n",
      "Epoch 5/500\n",
      "1032/1032 [==============================] - 83s 80ms/step - loss: 0.0600 - accuracy: 0.9888 - val_loss: 0.0366 - val_accuracy: 0.9934\n",
      "\n",
      "Epoch 00005: val_accuracy did not improve from 0.99535\n",
      "Epoch 6/500\n",
      "1032/1032 [==============================] - 82s 80ms/step - loss: 0.0074 - accuracy: 0.9964 - val_loss: 0.0367 - val_accuracy: 0.9942\n",
      "\n",
      "Epoch 00006: val_accuracy did not improve from 0.99535\n",
      "Epoch 7/500\n",
      "1032/1032 [==============================] - 81s 79ms/step - loss: 0.0055 - accuracy: 0.9972 - val_loss: 0.0317 - val_accuracy: 0.9934\n",
      "\n",
      "Epoch 00007: val_accuracy did not improve from 0.99535\n",
      "Epoch 8/500\n",
      "1032/1032 [==============================] - 82s 80ms/step - loss: 0.0060 - accuracy: 0.9974 - val_loss: 0.0348 - val_accuracy: 0.9938\n",
      "\n",
      "Epoch 00008: val_accuracy did not improve from 0.99535\n",
      "Epoch 9/500\n",
      "1032/1032 [==============================] - 83s 81ms/step - loss: 0.0059 - accuracy: 0.9975 - val_loss: 0.0373 - val_accuracy: 0.9938\n",
      "\n",
      "Epoch 00009: val_accuracy did not improve from 0.99535\n",
      "Epoch 10/500\n",
      "1032/1032 [==============================] - 84s 81ms/step - loss: 0.0261 - accuracy: 0.9940 - val_loss: 0.0359 - val_accuracy: 0.9928\n",
      "\n",
      "Epoch 00010: val_accuracy did not improve from 0.99535\n",
      "Epoch 11/500\n",
      "1032/1032 [==============================] - 81s 79ms/step - loss: 0.0088 - accuracy: 0.9962 - val_loss: 0.0429 - val_accuracy: 0.9922\n",
      "\n",
      "Epoch 00011: val_accuracy did not improve from 0.99535\n",
      "Epoch 12/500\n",
      "1032/1032 [==============================] - 81s 79ms/step - loss: 0.0099 - accuracy: 0.9970 - val_loss: 0.0424 - val_accuracy: 0.9932\n",
      "\n",
      "Epoch 00012: val_accuracy did not improve from 0.99535\n",
      "Epoch 13/500\n",
      "1032/1032 [==============================] - 82s 79ms/step - loss: 0.0063 - accuracy: 0.9971 - val_loss: 0.0460 - val_accuracy: 0.9934\n",
      "\n",
      "Epoch 00013: val_accuracy did not improve from 0.99535\n",
      "Epoch 14/500\n",
      "1032/1032 [==============================] - 84s 81ms/step - loss: 0.0096 - accuracy: 0.9966 - val_loss: 0.0334 - val_accuracy: 0.9932\n",
      "\n",
      "Epoch 00014: val_accuracy did not improve from 0.99535\n",
      "Epoch 15/500\n",
      "1032/1032 [==============================] - 84s 81ms/step - loss: 0.0063 - accuracy: 0.9974 - val_loss: 0.0386 - val_accuracy: 0.9936\n",
      "\n",
      "Epoch 00015: val_accuracy did not improve from 0.99535\n",
      "Epoch 16/500\n",
      "1032/1032 [==============================] - 83s 80ms/step - loss: 0.0081 - accuracy: 0.9972 - val_loss: 0.0429 - val_accuracy: 0.9924\n",
      "\n",
      "Epoch 00016: val_accuracy did not improve from 0.99535\n",
      "Epoch 17/500\n",
      "1032/1032 [==============================] - 82s 79ms/step - loss: 0.0194 - accuracy: 0.9958 - val_loss: 0.0316 - val_accuracy: 0.9942\n",
      "\n",
      "Epoch 00017: val_accuracy did not improve from 0.99535\n",
      "Epoch 18/500\n",
      "1032/1032 [==============================] - 81s 79ms/step - loss: 0.0074 - accuracy: 0.9970 - val_loss: 0.0161 - val_accuracy: 0.9948\n",
      "\n",
      "Epoch 00018: val_accuracy did not improve from 0.99535\n",
      "Epoch 19/500\n",
      "1032/1032 [==============================] - 83s 81ms/step - loss: 0.0123 - accuracy: 0.9970 - val_loss: 0.0480 - val_accuracy: 0.9919\n",
      "\n",
      "Epoch 00019: val_accuracy did not improve from 0.99535\n",
      "Epoch 20/500\n",
      "1032/1032 [==============================] - 81s 78ms/step - loss: 0.0134 - accuracy: 0.9959 - val_loss: 0.0311 - val_accuracy: 0.9928\n",
      "\n",
      "Epoch 00020: val_accuracy did not improve from 0.99535\n",
      "Epoch 21/500\n",
      "1032/1032 [==============================] - 82s 80ms/step - loss: 0.0062 - accuracy: 0.9972 - val_loss: 0.0256 - val_accuracy: 0.9942\n",
      "\n",
      "Epoch 00021: val_accuracy did not improve from 0.99535\n",
      "Epoch 22/500\n",
      "1032/1032 [==============================] - 81s 79ms/step - loss: 0.0087 - accuracy: 0.9966 - val_loss: 0.0469 - val_accuracy: 0.9928\n",
      "\n",
      "Epoch 00022: val_accuracy did not improve from 0.99535\n",
      "Epoch 23/500\n",
      "1032/1032 [==============================] - 82s 79ms/step - loss: 0.0077 - accuracy: 0.9969 - val_loss: 0.0234 - val_accuracy: 0.9942\n",
      "\n",
      "Epoch 00023: val_accuracy did not improve from 0.99535\n",
      "Epoch 24/500\n",
      "1032/1032 [==============================] - 82s 80ms/step - loss: 0.0042 - accuracy: 0.9978 - val_loss: 0.0287 - val_accuracy: 0.9946\n",
      "\n",
      "Epoch 00024: val_accuracy did not improve from 0.99535\n",
      "Epoch 25/500\n",
      "1032/1032 [==============================] - 82s 79ms/step - loss: 0.0068 - accuracy: 0.9971 - val_loss: 0.0308 - val_accuracy: 0.9942\n",
      "\n",
      "Epoch 00025: val_accuracy did not improve from 0.99535\n",
      "Epoch 26/500\n",
      "1032/1032 [==============================] - 82s 79ms/step - loss: 0.0054 - accuracy: 0.9974 - val_loss: 0.0286 - val_accuracy: 0.9953\n",
      "\n",
      "Epoch 00026: val_accuracy did not improve from 0.99535\n",
      "Epoch 27/500\n",
      "1032/1032 [==============================] - 83s 81ms/step - loss: 0.0207 - accuracy: 0.9959 - val_loss: 0.1178 - val_accuracy: 0.9874\n",
      "\n",
      "Epoch 00027: val_accuracy did not improve from 0.99535\n",
      "Epoch 28/500\n",
      "1032/1032 [==============================] - 82s 80ms/step - loss: 0.0214 - accuracy: 0.9954 - val_loss: 0.0302 - val_accuracy: 0.9942\n",
      "\n",
      "Epoch 00028: val_accuracy did not improve from 0.99535\n",
      "Epoch 29/500\n",
      "1032/1032 [==============================] - 83s 80ms/step - loss: 0.0106 - accuracy: 0.9966 - val_loss: 0.0400 - val_accuracy: 0.9938\n",
      "\n",
      "Epoch 00029: val_accuracy did not improve from 0.99535\n",
      "Epoch 30/500\n",
      "1032/1032 [==============================] - 82s 79ms/step - loss: 0.0091 - accuracy: 0.9966 - val_loss: 0.0289 - val_accuracy: 0.9936\n",
      "\n",
      "Epoch 00030: val_accuracy did not improve from 0.99535\n",
      "Epoch 31/500\n",
      "1032/1032 [==============================] - 82s 79ms/step - loss: 0.0072 - accuracy: 0.9972 - val_loss: 0.0409 - val_accuracy: 0.9930\n",
      "\n",
      "Epoch 00031: val_accuracy did not improve from 0.99535\n",
      "Epoch 32/500\n",
      "1032/1032 [==============================] - 83s 80ms/step - loss: 0.0123 - accuracy: 0.9965 - val_loss: 0.0494 - val_accuracy: 0.9895\n",
      "\n",
      "Epoch 00032: val_accuracy did not improve from 0.99535\n",
      "Epoch 33/500\n",
      "1032/1032 [==============================] - 81s 79ms/step - loss: 0.0059 - accuracy: 0.9975 - val_loss: 0.0381 - val_accuracy: 0.9934\n",
      "\n",
      "Epoch 00033: val_accuracy did not improve from 0.99535\n",
      "Epoch 34/500\n",
      "1032/1032 [==============================] - 83s 81ms/step - loss: 0.0307 - accuracy: 0.9936 - val_loss: 0.0256 - val_accuracy: 0.9922\n",
      "\n",
      "Epoch 00034: val_accuracy did not improve from 0.99535\n",
      "Epoch 35/500\n",
      "1032/1032 [==============================] - 81s 79ms/step - loss: 0.0427 - accuracy: 0.9933 - val_loss: 0.0417 - val_accuracy: 0.9895\n",
      "\n",
      "Epoch 00035: val_accuracy did not improve from 0.99535\n",
      "Epoch 36/500\n",
      "1032/1032 [==============================] - 81s 79ms/step - loss: 0.0141 - accuracy: 0.9957 - val_loss: 0.0214 - val_accuracy: 0.9919\n",
      "\n",
      "Epoch 00036: val_accuracy did not improve from 0.99535\n",
      "Epoch 37/500\n",
      "1032/1032 [==============================] - 83s 80ms/step - loss: 0.0079 - accuracy: 0.9972 - val_loss: 0.0326 - val_accuracy: 0.9924\n",
      "\n",
      "Epoch 00037: val_accuracy did not improve from 0.99535\n",
      "Epoch 38/500\n",
      "1032/1032 [==============================] - 81s 79ms/step - loss: 0.0065 - accuracy: 0.9976 - val_loss: 0.0258 - val_accuracy: 0.9932\n",
      "\n",
      "Epoch 00038: val_accuracy did not improve from 0.99535\n",
      "Epoch 39/500\n",
      "1032/1032 [==============================] - 82s 79ms/step - loss: 0.0090 - accuracy: 0.9969 - val_loss: 0.0461 - val_accuracy: 0.9919\n",
      "\n",
      "Epoch 00039: val_accuracy did not improve from 0.99535\n",
      "Epoch 40/500\n",
      "1032/1032 [==============================] - 80s 78ms/step - loss: 0.0065 - accuracy: 0.9977 - val_loss: 0.0204 - val_accuracy: 0.9934\n",
      "\n",
      "Epoch 00040: val_accuracy did not improve from 0.99535\n",
      "Epoch 41/500\n",
      "1032/1032 [==============================] - 81s 79ms/step - loss: 0.0044 - accuracy: 0.9978 - val_loss: 0.0248 - val_accuracy: 0.9940\n",
      "\n",
      "Epoch 00041: val_accuracy did not improve from 0.99535\n",
      "Epoch 42/500\n",
      "1032/1032 [==============================] - 82s 80ms/step - loss: 0.1392 - accuracy: 0.9768 - val_loss: 0.1026 - val_accuracy: 0.9665\n",
      "\n",
      "Epoch 00042: val_accuracy did not improve from 0.99535\n",
      "Epoch 43/500\n",
      "1032/1032 [==============================] - 81s 78ms/step - loss: 0.0635 - accuracy: 0.9770 - val_loss: 0.0372 - val_accuracy: 0.9888\n",
      "\n",
      "Epoch 00043: val_accuracy did not improve from 0.99535\n",
      "Epoch 44/500\n",
      "1032/1032 [==============================] - 82s 80ms/step - loss: 0.0230 - accuracy: 0.9915 - val_loss: 0.0364 - val_accuracy: 0.9922\n",
      "\n",
      "Epoch 00044: val_accuracy did not improve from 0.99535\n",
      "Epoch 45/500\n",
      "1032/1032 [==============================] - 83s 80ms/step - loss: 0.0121 - accuracy: 0.9958 - val_loss: 0.0340 - val_accuracy: 0.9938\n",
      "\n",
      "Epoch 00045: val_accuracy did not improve from 0.99535\n",
      "Epoch 46/500\n",
      "1032/1032 [==============================] - 80s 78ms/step - loss: 0.0101 - accuracy: 0.9969 - val_loss: 0.0342 - val_accuracy: 0.9932\n",
      "\n",
      "Epoch 00046: val_accuracy did not improve from 0.99535\n",
      "Epoch 00046: early stopping\n"
     ]
    }
   ],
   "source": [
    "history = model.fit(X_scaled_arr_train,Y_arr_train,epochs=500,validation_split=0.2,batch_size=20,shuffle=True,callbacks=[early_stopping, checkpoint])"
   ]
  },
  {
   "cell_type": "code",
   "execution_count": 41,
   "metadata": {
    "scrolled": true,
    "tags": []
   },
   "outputs": [
    {
     "name": "stdout",
     "output_type": "stream",
     "text": [
      "Epoch 1/500\n",
      "1032/1032 [==============================] - 84s 82ms/step - loss: 0.0079 - accuracy: 0.9972 - val_loss: 0.0243 - val_accuracy: 0.9940\n",
      "\n",
      "Epoch 00001: val_accuracy did not improve from 0.99535\n",
      "Epoch 2/500\n",
      "1032/1032 [==============================] - 85s 82ms/step - loss: 0.0054 - accuracy: 0.9979 - val_loss: 0.0335 - val_accuracy: 0.9930\n",
      "\n",
      "Epoch 00002: val_accuracy did not improve from 0.99535\n",
      "Epoch 3/500\n",
      "1032/1032 [==============================] - 85s 83ms/step - loss: 0.0052 - accuracy: 0.9978 - val_loss: 0.0315 - val_accuracy: 0.9940\n",
      "\n",
      "Epoch 00003: val_accuracy did not improve from 0.99535\n",
      "Epoch 4/500\n",
      "1032/1032 [==============================] - 84s 82ms/step - loss: 0.0070 - accuracy: 0.9980 - val_loss: 0.0302 - val_accuracy: 0.9928\n",
      "\n",
      "Epoch 00004: val_accuracy did not improve from 0.99535\n",
      "Epoch 5/500\n",
      "1032/1032 [==============================] - 84s 82ms/step - loss: 0.0047 - accuracy: 0.9979 - val_loss: 0.0343 - val_accuracy: 0.9940\n",
      "\n",
      "Epoch 00005: val_accuracy did not improve from 0.99535\n",
      "Epoch 6/500\n",
      "1032/1032 [==============================] - 84s 82ms/step - loss: 0.0085 - accuracy: 0.9974 - val_loss: 0.0571 - val_accuracy: 0.9909\n",
      "\n",
      "Epoch 00006: val_accuracy did not improve from 0.99535\n",
      "Epoch 7/500\n",
      "1032/1032 [==============================] - 86s 83ms/step - loss: 0.0102 - accuracy: 0.9969 - val_loss: 0.0495 - val_accuracy: 0.9926\n",
      "\n",
      "Epoch 00007: val_accuracy did not improve from 0.99535\n",
      "Epoch 8/500\n",
      "1032/1032 [==============================] - 86s 83ms/step - loss: 0.0135 - accuracy: 0.9961 - val_loss: 0.0294 - val_accuracy: 0.9928\n",
      "\n",
      "Epoch 00008: val_accuracy did not improve from 0.99535\n",
      "Epoch 9/500\n",
      "1032/1032 [==============================] - 84s 82ms/step - loss: 0.0094 - accuracy: 0.9970 - val_loss: 0.0227 - val_accuracy: 0.9942\n",
      "\n",
      "Epoch 00009: val_accuracy did not improve from 0.99535\n",
      "Epoch 10/500\n",
      "1032/1032 [==============================] - 85s 82ms/step - loss: 0.0055 - accuracy: 0.9976 - val_loss: 0.0193 - val_accuracy: 0.9946\n",
      "\n",
      "Epoch 00010: val_accuracy did not improve from 0.99535\n",
      "Epoch 11/500\n",
      "1032/1032 [==============================] - 85s 82ms/step - loss: 0.0156 - accuracy: 0.9958 - val_loss: 0.0211 - val_accuracy: 0.9946\n",
      "\n",
      "Epoch 00011: val_accuracy did not improve from 0.99535\n",
      "Epoch 12/500\n",
      "1032/1032 [==============================] - 85s 83ms/step - loss: 0.0703 - accuracy: 0.9899 - val_loss: 0.0554 - val_accuracy: 0.9858\n",
      "\n",
      "Epoch 00012: val_accuracy did not improve from 0.99535\n",
      "Epoch 13/500\n",
      "1032/1032 [==============================] - 86s 83ms/step - loss: 0.0144 - accuracy: 0.9954 - val_loss: 0.0274 - val_accuracy: 0.9930\n",
      "\n",
      "Epoch 00013: val_accuracy did not improve from 0.99535\n",
      "Epoch 14/500\n",
      "1032/1032 [==============================] - 84s 82ms/step - loss: 0.0083 - accuracy: 0.9972 - val_loss: 0.0377 - val_accuracy: 0.9926\n",
      "\n",
      "Epoch 00014: val_accuracy did not improve from 0.99535\n",
      "Epoch 15/500\n",
      "1032/1032 [==============================] - 84s 81ms/step - loss: 0.0054 - accuracy: 0.9977 - val_loss: 0.0304 - val_accuracy: 0.9938\n",
      "\n",
      "Epoch 00015: val_accuracy did not improve from 0.99535\n",
      "Epoch 16/500\n",
      "1032/1032 [==============================] - 85s 82ms/step - loss: 0.0044 - accuracy: 0.9975 - val_loss: 0.0296 - val_accuracy: 0.9940\n",
      "\n",
      "Epoch 00016: val_accuracy did not improve from 0.99535\n",
      "Epoch 17/500\n",
      "1032/1032 [==============================] - 85s 82ms/step - loss: 0.0060 - accuracy: 0.9977 - val_loss: 0.0272 - val_accuracy: 0.9952\n",
      "\n",
      "Epoch 00017: val_accuracy did not improve from 0.99535\n",
      "Epoch 18/500\n",
      "1032/1032 [==============================] - 84s 82ms/step - loss: 0.0066 - accuracy: 0.9973 - val_loss: 0.0382 - val_accuracy: 0.9924\n",
      "\n",
      "Epoch 00018: val_accuracy did not improve from 0.99535\n",
      "Epoch 19/500\n",
      "1032/1032 [==============================] - 85s 82ms/step - loss: 0.0078 - accuracy: 0.9974 - val_loss: 0.0727 - val_accuracy: 0.9889\n",
      "\n",
      "Epoch 00019: val_accuracy did not improve from 0.99535\n",
      "Epoch 20/500\n",
      "1032/1032 [==============================] - 86s 83ms/step - loss: 0.0170 - accuracy: 0.9956 - val_loss: 0.0358 - val_accuracy: 0.9934\n",
      "\n",
      "Epoch 00020: val_accuracy did not improve from 0.99535\n",
      "Epoch 21/500\n",
      "1032/1032 [==============================] - 85s 82ms/step - loss: 0.0114 - accuracy: 0.9968 - val_loss: 0.0522 - val_accuracy: 0.9928\n",
      "\n",
      "Epoch 00021: val_accuracy did not improve from 0.99535\n",
      "Epoch 22/500\n",
      "1032/1032 [==============================] - 84s 82ms/step - loss: 0.0057 - accuracy: 0.9976 - val_loss: 0.0455 - val_accuracy: 0.9938\n",
      "\n",
      "Epoch 00022: val_accuracy did not improve from 0.99535\n",
      "Epoch 23/500\n",
      "1032/1032 [==============================] - 85s 82ms/step - loss: 0.0051 - accuracy: 0.9981 - val_loss: 0.0422 - val_accuracy: 0.9938\n",
      "\n",
      "Epoch 00023: val_accuracy did not improve from 0.99535\n",
      "Epoch 24/500\n",
      "1032/1032 [==============================] - 84s 81ms/step - loss: 0.0117 - accuracy: 0.9968 - val_loss: 0.0468 - val_accuracy: 0.9924\n",
      "\n",
      "Epoch 00024: val_accuracy did not improve from 0.99535\n",
      "Epoch 25/500\n",
      "1032/1032 [==============================] - 85s 82ms/step - loss: 0.0073 - accuracy: 0.9972 - val_loss: 0.0528 - val_accuracy: 0.9924\n",
      "\n",
      "Epoch 00025: val_accuracy did not improve from 0.99535\n",
      "Epoch 26/500\n",
      "1032/1032 [==============================] - 84s 82ms/step - loss: 0.0138 - accuracy: 0.9961 - val_loss: 0.0499 - val_accuracy: 0.9928\n",
      "\n",
      "Epoch 00026: val_accuracy did not improve from 0.99535\n",
      "Epoch 27/500\n",
      "1032/1032 [==============================] - 85s 82ms/step - loss: 0.0097 - accuracy: 0.9968 - val_loss: 0.0512 - val_accuracy: 0.9924\n",
      "\n",
      "Epoch 00027: val_accuracy did not improve from 0.99535\n",
      "Epoch 28/500\n",
      "1032/1032 [==============================] - 85s 82ms/step - loss: 0.0070 - accuracy: 0.9974 - val_loss: 0.0363 - val_accuracy: 0.9942\n",
      "\n",
      "Epoch 00028: val_accuracy did not improve from 0.99535\n",
      "Epoch 29/500\n",
      "1032/1032 [==============================] - 84s 82ms/step - loss: 0.0069 - accuracy: 0.9973 - val_loss: 0.0368 - val_accuracy: 0.9934\n",
      "\n",
      "Epoch 00029: val_accuracy did not improve from 0.99535\n",
      "Epoch 30/500\n",
      "1032/1032 [==============================] - 83s 81ms/step - loss: 0.0060 - accuracy: 0.9974 - val_loss: 0.0348 - val_accuracy: 0.9940\n",
      "\n",
      "Epoch 00030: val_accuracy did not improve from 0.99535\n",
      "Epoch 31/500\n",
      "1032/1032 [==============================] - 85s 82ms/step - loss: 0.0124 - accuracy: 0.9963 - val_loss: 0.0338 - val_accuracy: 0.9934\n",
      "\n",
      "Epoch 00031: val_accuracy did not improve from 0.99535\n",
      "Epoch 32/500\n",
      "1032/1032 [==============================] - 85s 82ms/step - loss: 0.0047 - accuracy: 0.9977 - val_loss: 0.0451 - val_accuracy: 0.9932\n",
      "\n",
      "Epoch 00032: val_accuracy did not improve from 0.99535\n",
      "Epoch 33/500\n",
      "1032/1032 [==============================] - 86s 83ms/step - loss: 0.0102 - accuracy: 0.9969 - val_loss: 0.0583 - val_accuracy: 0.9903\n",
      "\n",
      "Epoch 00033: val_accuracy did not improve from 0.99535\n",
      "Epoch 34/500\n",
      "1032/1032 [==============================] - 85s 82ms/step - loss: 0.0134 - accuracy: 0.9963 - val_loss: 0.0477 - val_accuracy: 0.9919\n",
      "\n",
      "Epoch 00034: val_accuracy did not improve from 0.99535\n",
      "Epoch 35/500\n",
      "1032/1032 [==============================] - 85s 82ms/step - loss: 0.0057 - accuracy: 0.9972 - val_loss: 0.0303 - val_accuracy: 0.9932\n",
      "\n",
      "Epoch 00035: val_accuracy did not improve from 0.99535\n",
      "Epoch 36/500\n",
      "1032/1032 [==============================] - 84s 81ms/step - loss: 0.0224 - accuracy: 0.9955 - val_loss: 0.0417 - val_accuracy: 0.9932\n",
      "\n",
      "Epoch 00036: val_accuracy did not improve from 0.99535\n",
      "Epoch 37/500\n",
      "1032/1032 [==============================] - 84s 81ms/step - loss: 0.0054 - accuracy: 0.9972 - val_loss: 0.0285 - val_accuracy: 0.9942\n",
      "\n",
      "Epoch 00037: val_accuracy did not improve from 0.99535\n",
      "Epoch 00037: early stopping\n"
     ]
    }
   ],
   "source": [
    "history = model.fit(X_scaled_arr_train,Y_arr_train,epochs=500,validation_split=0.2,batch_size=20,shuffle=True,callbacks=[early_stopping, checkpoint])"
   ]
  },
  {
   "cell_type": "code",
   "execution_count": 45,
   "metadata": {
    "scrolled": true,
    "tags": []
   },
   "outputs": [
    {
     "name": "stdout",
     "output_type": "stream",
     "text": [
      "Epoch 1/500\n",
      "258/258 [==============================] - 27s 103ms/step - loss: 0.0060 - accuracy: 0.9975 - val_loss: 0.0213 - val_accuracy: 0.9964\n",
      "\n",
      "Epoch 00001: val_accuracy improved from 0.99535 to 0.99641, saving model to ./Model/model_LSTM22_2.v\n"
     ]
    },
    {
     "name": "stderr",
     "output_type": "stream",
     "text": [
      "WARNING:absl:Found untraced functions such as lstm_cell_6_layer_call_fn, lstm_cell_6_layer_call_and_return_conditional_losses, lstm_cell_7_layer_call_fn, lstm_cell_7_layer_call_and_return_conditional_losses, lstm_cell_1_layer_call_fn while saving (showing 5 of 30). These functions will not be directly callable after loading.\n",
      "WARNING:absl:Found untraced functions such as lstm_cell_6_layer_call_fn, lstm_cell_6_layer_call_and_return_conditional_losses, lstm_cell_7_layer_call_fn, lstm_cell_7_layer_call_and_return_conditional_losses, lstm_cell_1_layer_call_fn while saving (showing 5 of 30). These functions will not be directly callable after loading.\n"
     ]
    },
    {
     "name": "stdout",
     "output_type": "stream",
     "text": [
      "INFO:tensorflow:Assets written to: ./Model/model_LSTM22_2.v/assets\n"
     ]
    },
    {
     "name": "stderr",
     "output_type": "stream",
     "text": [
      "INFO:tensorflow:Assets written to: ./Model/model_LSTM22_2.v/assets\n"
     ]
    },
    {
     "name": "stdout",
     "output_type": "stream",
     "text": [
      "Epoch 2/500\n",
      "258/258 [==============================] - 26s 102ms/step - loss: 0.0046 - accuracy: 0.9977 - val_loss: 0.0227 - val_accuracy: 0.9963\n",
      "\n",
      "Epoch 00002: val_accuracy did not improve from 0.99641\n",
      "Epoch 3/500\n",
      "258/258 [==============================] - 26s 102ms/step - loss: 0.0125 - accuracy: 0.9970 - val_loss: 0.0203 - val_accuracy: 0.9958\n",
      "\n",
      "Epoch 00003: val_accuracy did not improve from 0.99641\n",
      "Epoch 4/500\n",
      "258/258 [==============================] - 26s 99ms/step - loss: 0.0061 - accuracy: 0.9975 - val_loss: 0.0246 - val_accuracy: 0.9959\n",
      "\n",
      "Epoch 00004: val_accuracy did not improve from 0.99641\n",
      "Epoch 5/500\n",
      "258/258 [==============================] - 26s 100ms/step - loss: 0.0034 - accuracy: 0.9979 - val_loss: 0.0212 - val_accuracy: 0.9962\n",
      "\n",
      "Epoch 00005: val_accuracy did not improve from 0.99641\n",
      "Epoch 6/500\n",
      "258/258 [==============================] - 26s 99ms/step - loss: 0.0055 - accuracy: 0.9973 - val_loss: 0.0214 - val_accuracy: 0.9957\n",
      "\n",
      "Epoch 00006: val_accuracy did not improve from 0.99641\n",
      "Epoch 7/500\n",
      "258/258 [==============================] - 26s 99ms/step - loss: 0.0053 - accuracy: 0.9979 - val_loss: 0.0252 - val_accuracy: 0.9956\n",
      "\n",
      "Epoch 00007: val_accuracy did not improve from 0.99641\n",
      "Epoch 8/500\n",
      "258/258 [==============================] - 25s 99ms/step - loss: 0.0046 - accuracy: 0.9974 - val_loss: 0.0205 - val_accuracy: 0.9961\n",
      "\n",
      "Epoch 00008: val_accuracy did not improve from 0.99641\n",
      "Epoch 9/500\n",
      "258/258 [==============================] - 26s 99ms/step - loss: 0.0033 - accuracy: 0.9983 - val_loss: 0.0210 - val_accuracy: 0.9962\n",
      "\n",
      "Epoch 00009: val_accuracy did not improve from 0.99641\n",
      "Epoch 10/500\n",
      "258/258 [==============================] - 25s 98ms/step - loss: 0.0033 - accuracy: 0.9980 - val_loss: 0.0287 - val_accuracy: 0.9952\n",
      "\n",
      "Epoch 00010: val_accuracy did not improve from 0.99641\n",
      "Epoch 11/500\n",
      "258/258 [==============================] - 26s 99ms/step - loss: 0.0038 - accuracy: 0.9980 - val_loss: 0.0246 - val_accuracy: 0.9953\n",
      "\n",
      "Epoch 00011: val_accuracy did not improve from 0.99641\n",
      "Epoch 12/500\n",
      "258/258 [==============================] - 25s 99ms/step - loss: 0.0048 - accuracy: 0.9979 - val_loss: 0.0238 - val_accuracy: 0.9958\n",
      "\n",
      "Epoch 00012: val_accuracy did not improve from 0.99641\n",
      "Epoch 13/500\n",
      "258/258 [==============================] - 25s 98ms/step - loss: 0.0044 - accuracy: 0.9981 - val_loss: 0.0225 - val_accuracy: 0.9960\n",
      "\n",
      "Epoch 00013: val_accuracy did not improve from 0.99641\n",
      "Epoch 14/500\n",
      "258/258 [==============================] - 26s 99ms/step - loss: 0.0046 - accuracy: 0.9977 - val_loss: 0.0269 - val_accuracy: 0.9956\n",
      "\n",
      "Epoch 00014: val_accuracy did not improve from 0.99641\n",
      "Epoch 15/500\n",
      "258/258 [==============================] - 25s 99ms/step - loss: 0.0032 - accuracy: 0.9984 - val_loss: 0.0169 - val_accuracy: 0.9960\n",
      "\n",
      "Epoch 00015: val_accuracy did not improve from 0.99641\n",
      "Epoch 16/500\n",
      "258/258 [==============================] - 25s 98ms/step - loss: 0.0040 - accuracy: 0.9983 - val_loss: 0.0167 - val_accuracy: 0.9961\n",
      "\n",
      "Epoch 00016: val_accuracy did not improve from 0.99641\n",
      "Epoch 17/500\n",
      "258/258 [==============================] - 26s 100ms/step - loss: 0.0030 - accuracy: 0.9983 - val_loss: 0.0159 - val_accuracy: 0.9961\n",
      "\n",
      "Epoch 00017: val_accuracy did not improve from 0.99641\n",
      "Epoch 18/500\n",
      "258/258 [==============================] - 26s 100ms/step - loss: 0.0041 - accuracy: 0.9977 - val_loss: 0.0174 - val_accuracy: 0.9962\n",
      "\n",
      "Epoch 00018: val_accuracy did not improve from 0.99641\n",
      "Epoch 19/500\n",
      "258/258 [==============================] - 25s 99ms/step - loss: 0.0030 - accuracy: 0.9984 - val_loss: 0.0215 - val_accuracy: 0.9957\n",
      "\n",
      "Epoch 00019: val_accuracy did not improve from 0.99641\n",
      "Epoch 20/500\n",
      "258/258 [==============================] - 26s 99ms/step - loss: 0.0031 - accuracy: 0.9981 - val_loss: 0.0243 - val_accuracy: 0.9960\n",
      "\n",
      "Epoch 00020: val_accuracy did not improve from 0.99641\n",
      "Epoch 21/500\n",
      "258/258 [==============================] - 26s 99ms/step - loss: 0.0070 - accuracy: 0.9978 - val_loss: 0.0195 - val_accuracy: 0.9958\n",
      "\n",
      "Epoch 00021: val_accuracy did not improve from 0.99641\n",
      "Epoch 00021: early stopping\n"
     ]
    }
   ],
   "source": [
    "history = model.fit(X_scaled_arr_train,Y_arr_train,epochs=500,validation_split=0.4,batch_size=60,shuffle=True,callbacks=[early_stopping, checkpoint])"
   ]
  },
  {
   "cell_type": "code",
   "execution_count": 27,
   "metadata": {
    "colab": {
     "base_uri": "https://localhost:8080/",
     "height": 388
    },
    "id": "Frr6gxt27TTb",
    "outputId": "b1d097e6-a867-42bc-b6e9-077e00d04a88"
   },
   "outputs": [
    {
     "data": {
      "image/png": "[encoded data removed]",
      "text/plain": [
       "<Figure size 2000x600 with 1 Axes>"
      ]
     },
     "metadata": {},
     "output_type": "display_data"
    }
   ],
   "source": [
    "plt.plot(history.history['loss'], label='Parkinson(training data)')\n",
    "plt.plot(history.history['val_loss'], label='Parkinson (validation data)')\n",
    "plt.title('')\n",
    "plt.ylabel('')\n",
    "plt.xlabel('No. epoch')\n",
    "plt.legend(loc=\"upper left\")\n",
    "plt.show()"
   ]
  },
  {
   "cell_type": "code",
   "execution_count": 28,
   "metadata": {
    "colab": {
     "base_uri": "https://localhost:8080/",
     "height": 388
    },
    "id": "VTSPNZGn7TV_",
    "outputId": "8e793964-b99e-4281-f9af-67038d4a6d77"
   },
   "outputs": [
    {
     "data": {
      "image/png": "[encoded data removed]",
      "text/plain": [
       "<Figure size 2000x600 with 1 Axes>"
      ]
     },
     "metadata": {},
     "output_type": "display_data"
    }
   ],
   "source": [
    "plt.plot(history.history['accuracy'], label='Parkinson(training data)')\n",
    "plt.plot(history.history['val_accuracy'], label='Parkinson (validation data)')\n",
    "plt.title('')\n",
    "plt.ylabel('')\n",
    "plt.ylim(0,1)\n",
    "plt.xlabel('No. epoch')\n",
    "plt.legend(loc=\"upper left\")\n",
    "plt.show()"
   ]
  },
  {
   "cell_type": "code",
   "execution_count": 70,
   "metadata": {},
   "outputs": [
    {
     "data": {
      "image/png": "[encoded data removed]",
      "text/plain": [
       "<Figure size 2000x600 with 1 Axes>"
      ]
     },
     "metadata": {},
     "output_type": "display_data"
    }
   ],
   "source": [
    "plt.plot(history.history['loss'], label='Parkinson(training data)')\n",
    "plt.plot(history.history['val_loss'], label='Parkinson (validation data)')\n",
    "plt.title('')\n",
    "plt.ylabel('')\n",
    "plt.xlabel('No. epoch')\n",
    "plt.legend(loc=\"upper left\")\n",
    "plt.show()"
   ]
  },
  {
   "cell_type": "code",
   "execution_count": 71,
   "metadata": {
    "colab": {
     "base_uri": "https://localhost:8080/"
    },
    "id": "M76Hdmll7TYc",
    "outputId": "d21cbf61-6c05-404e-e81c-d2882e756868"
   },
   "outputs": [
    {
     "data": {
      "text/plain": [
       "0.9920496344566345"
      ]
     },
     "execution_count": 71,
     "metadata": {},
     "output_type": "execute_result"
    }
   ],
   "source": [
    "max(history.history['val_accuracy'])"
   ]
  },
  {
   "cell_type": "code",
   "execution_count": 72,
   "metadata": {
    "colab": {
     "base_uri": "https://localhost:8080/"
    },
    "id": "QL6v-5bX7TbC",
    "outputId": "b2b3a4fd-836b-4739-bd5c-c3e31b786f2f"
   },
   "outputs": [
    {
     "data": {
      "text/plain": [
       "0.9941338896751404"
      ]
     },
     "execution_count": 72,
     "metadata": {},
     "output_type": "execute_result"
    }
   ],
   "source": [
    "max(history.history['accuracy'])"
   ]
  },
  {
   "cell_type": "code",
   "execution_count": 73,
   "metadata": {
    "colab": {
     "base_uri": "https://localhost:8080/"
    },
    "id": "fOR25Y8z7Tds",
    "outputId": "fefdd1c7-45d5-415b-e017-7009ac7424f8"
   },
   "outputs": [
    {
     "data": {
      "text/plain": [
       "0.019205331802368164"
      ]
     },
     "execution_count": 73,
     "metadata": {},
     "output_type": "execute_result"
    }
   ],
   "source": [
    "min(history.history['loss'])"
   ]
  },
  {
   "cell_type": "code",
   "execution_count": 74,
   "metadata": {
    "colab": {
     "base_uri": "https://localhost:8080/"
    },
    "id": "Vb0wN8On7TgY",
    "outputId": "cac92228-4ec0-41b2-9842-e15fbbcd7f70"
   },
   "outputs": [
    {
     "data": {
      "text/plain": [
       "0.034811072051525116"
      ]
     },
     "execution_count": 74,
     "metadata": {},
     "output_type": "execute_result"
    }
   ],
   "source": [
    "min(history.history['val_loss'])"
   ]
  },
  {
   "cell_type": "code",
   "execution_count": 29,
   "metadata": {
    "id": "aCwc2CyLO0y8"
   },
   "outputs": [],
   "source": [
    "pdt=model.predict(X_scaled_arr_test)"
   ]
  },
  {
   "cell_type": "code",
   "execution_count": 30,
   "metadata": {},
   "outputs": [],
   "source": [
    "pdt1=model.predict(X_scaled_arr_test)\n",
    "pdt1.size\n",
    "classes_x1 = np.zeros((len(pdt1)))\n",
    "for x in range(len(pdt1)):\n",
    "  if(pdt1[x]>0.5):\n",
    "    classes_x1[x]=(1)\n",
    "  else:\n",
    "    classes_x1[x]=(0)\n",
    "#   print(x,end=\" \")\n",
    "from sklearn.metrics import accuracy_score\n",
    "accuracy = accuracy_score(Y_arr_test,classes_x1 )"
   ]
  },
  {
   "cell_type": "code",
   "execution_count": 46,
   "metadata": {},
   "outputs": [],
   "source": [
    "pdt1=model.predict(X_scaled_arr_test)\n",
    "pdt1.size\n",
    "classes_x1 = np.zeros((len(pdt1)))\n",
    "for x in range(len(pdt1)):\n",
    "  if(pdt1[x]>0.5):\n",
    "    classes_x1[x]=(1)\n",
    "  else:\n",
    "    classes_x1[x]=(0)\n",
    "#   print(x,end=\" \")\n",
    "from sklearn.metrics import accuracy_score\n",
    "accuracy = accuracy_score(Y_arr_test,classes_x1 )"
   ]
  },
  {
   "cell_type": "code",
   "execution_count": 44,
   "metadata": {},
   "outputs": [
    {
     "data": {
      "text/plain": [
       "0.9934863523573201"
      ]
     },
     "execution_count": 44,
     "metadata": {},
     "output_type": "execute_result"
    }
   ],
   "source": [
    "accuracy"
   ]
  },
  {
   "cell_type": "code",
   "execution_count": 47,
   "metadata": {},
   "outputs": [
    {
     "data": {
      "text/plain": [
       "0.9942617866004962"
      ]
     },
     "execution_count": 47,
     "metadata": {},
     "output_type": "execute_result"
    }
   ],
   "source": [
    "accuracy"
   ]
  },
  {
   "cell_type": "code",
   "execution_count": null,
   "metadata": {
    "id": "3cGw_7AWSGaN"
   },
   "outputs": [],
   "source": [
    "# classes_x=np.argmax(pdt,axis=1) \n",
    "pdt.size\n",
    "classes_x = np.zeros((len(pdt)))"
   ]
  },
  {
   "cell_type": "code",
   "execution_count": null,
   "metadata": {
    "colab": {
     "base_uri": "https://localhost:8080/"
    },
    "id": "Zci59mkmSNRb",
    "outputId": "8146b8d4-a8be-483f-f6fa-526a776ad004"
   },
   "outputs": [],
   "source": [
    "for x in range(len(pdt)):\n",
    "  if(pdt[x]>0.5):\n",
    "    classes_x[x]=(1)\n",
    "  else:\n",
    "    classes_x[x]=(0)\n",
    "#   print(x,end=\" \")"
   ]
  },
  {
   "cell_type": "code",
   "execution_count": null,
   "metadata": {
    "colab": {
     "base_uri": "https://localhost:8080/"
    },
    "id": "xwBu-VE2Rux9",
    "outputId": "65428834-2de5-45c9-e553-533f408c9587"
   },
   "outputs": [],
   "source": [
    "print(Y_arr_test.size)\n",
    "classes_x.size"
   ]
  },
  {
   "cell_type": "code",
   "execution_count": null,
   "metadata": {
    "id": "5gvyYnFGR38l"
   },
   "outputs": [],
   "source": [
    "from sklearn.metrics import accuracy_score\n",
    "accuracy = accuracy_score(Y_arr_test,classes_x )"
   ]
  },
  {
   "cell_type": "code",
   "execution_count": null,
   "metadata": {
    "colab": {
     "base_uri": "https://localhost:8080/"
    },
    "id": "8CbXku00SW1b",
    "outputId": "3aeaa6a6-34c5-40ab-ca8f-652abf0ce86b"
   },
   "outputs": [],
   "source": [
    "accuracy"
   ]
  },
  {
   "cell_type": "code",
   "execution_count": null,
   "metadata": {
    "id": "UTT8ifCs8bzO"
   },
   "outputs": [],
   "source": [
    "m1=tf.keras.models.load_model('./Model/model_LSTM22.v')"
   ]
  },
  {
   "cell_type": "code",
   "execution_count": null,
   "metadata": {
    "id": "38wOchuGFTaZ"
   },
   "outputs": [],
   "source": [
    "pdt=m1.predict(X_scaled_arr_test)"
   ]
  },
  {
   "cell_type": "code",
   "execution_count": null,
   "metadata": {
    "colab": {
     "base_uri": "https://localhost:8080/"
    },
    "id": "w5jQpqrzFa4-",
    "outputId": "170010a6-9c0c-432b-9216-042d02d3e22c"
   },
   "outputs": [],
   "source": [
    "for x in range(len(pdt)):\n",
    "  if(pdt[x]>0.5):\n",
    "    classes_x[x]=(1)\n",
    "  else:\n",
    "    classes_x[x]=(0)\n",
    "#   print(x,end=\" \")"
   ]
  },
  {
   "cell_type": "code",
   "execution_count": null,
   "metadata": {
    "id": "PI4VCSiFF1Ex"
   },
   "outputs": [],
   "source": [
    "from sklearn.metrics import accuracy_score\n",
    "accuracy = accuracy_score(Y_arr_test,classes_x )"
   ]
  },
  {
   "cell_type": "code",
   "execution_count": null,
   "metadata": {
    "colab": {
     "base_uri": "https://localhost:8080/"
    },
    "id": "lbqvBBdnF32M",
    "outputId": "43f546db-159a-4c70-cdce-8cf54068cc2e"
   },
   "outputs": [],
   "source": [
    "accuracy"
   ]
  },
  {
   "cell_type": "code",
   "execution_count": 83,
   "metadata": {
    "scrolled": true,
    "tags": []
   },
   "outputs": [
    {
     "name": "stdout",
     "output_type": "stream",
     "text": [
      "Epoch 1/500\n",
      "221/221 [==============================] - 23s 84ms/step - loss: 0.0102 - accuracy: 0.9965 - val_loss: 0.0263 - val_accuracy: 0.9940\n",
      "\n",
      "Epoch 00001: val_accuracy did not improve from 0.99409\n",
      "Epoch 2/500\n",
      "221/221 [==============================] - 19s 84ms/step - loss: 0.0136 - accuracy: 0.9962 - val_loss: 0.0322 - val_accuracy: 0.9937\n",
      "\n",
      "Epoch 00002: val_accuracy did not improve from 0.99409\n",
      "Epoch 3/500\n",
      "221/221 [==============================] - 19s 84ms/step - loss: 0.1654 - accuracy: 0.9688 - val_loss: 0.1208 - val_accuracy: 0.9704\n",
      "\n",
      "Epoch 00003: val_accuracy did not improve from 0.99409\n",
      "Epoch 4/500\n",
      "221/221 [==============================] - 19s 85ms/step - loss: 0.0924 - accuracy: 0.9752 - val_loss: 0.0677 - val_accuracy: 0.9832\n",
      "\n",
      "Epoch 00004: val_accuracy did not improve from 0.99409\n",
      "Epoch 5/500\n",
      "221/221 [==============================] - 19s 85ms/step - loss: 0.0497 - accuracy: 0.9847 - val_loss: 0.0473 - val_accuracy: 0.9858\n",
      "\n",
      "Epoch 00005: val_accuracy did not improve from 0.99409\n",
      "Epoch 6/500\n",
      "221/221 [==============================] - 18s 80ms/step - loss: 0.0542 - accuracy: 0.9851 - val_loss: 0.0505 - val_accuracy: 0.9871\n",
      "\n",
      "Epoch 00006: val_accuracy did not improve from 0.99409\n",
      "Epoch 7/500\n",
      "221/221 [==============================] - 18s 82ms/step - loss: 0.0403 - accuracy: 0.9899 - val_loss: 0.0435 - val_accuracy: 0.9888\n",
      "\n",
      "Epoch 00007: val_accuracy did not improve from 0.99409\n",
      "Epoch 8/500\n",
      "221/221 [==============================] - 18s 82ms/step - loss: 0.0255 - accuracy: 0.9926 - val_loss: 0.0432 - val_accuracy: 0.9892\n",
      "\n",
      "Epoch 00008: val_accuracy did not improve from 0.99409\n",
      "Epoch 9/500\n",
      "221/221 [==============================] - 18s 81ms/step - loss: 0.0242 - accuracy: 0.9929 - val_loss: 0.0387 - val_accuracy: 0.9907\n",
      "\n",
      "Epoch 00009: val_accuracy did not improve from 0.99409\n",
      "Epoch 10/500\n",
      "221/221 [==============================] - 19s 85ms/step - loss: 0.0183 - accuracy: 0.9945 - val_loss: 0.0372 - val_accuracy: 0.9912\n",
      "\n",
      "Epoch 00010: val_accuracy did not improve from 0.99409\n",
      "Epoch 11/500\n",
      "221/221 [==============================] - 18s 82ms/step - loss: 0.0180 - accuracy: 0.9946 - val_loss: 0.0367 - val_accuracy: 0.9913\n",
      "\n",
      "Epoch 00011: val_accuracy did not improve from 0.99409\n",
      "Epoch 12/500\n",
      "221/221 [==============================] - 19s 85ms/step - loss: 0.0145 - accuracy: 0.9955 - val_loss: 0.0329 - val_accuracy: 0.9916\n",
      "\n",
      "Epoch 00012: val_accuracy did not improve from 0.99409\n",
      "Epoch 13/500\n",
      "221/221 [==============================] - 19s 84ms/step - loss: 0.0141 - accuracy: 0.9952 - val_loss: 0.0354 - val_accuracy: 0.9917\n",
      "\n",
      "Epoch 00013: val_accuracy did not improve from 0.99409\n",
      "Epoch 14/500\n",
      "221/221 [==============================] - 19s 85ms/step - loss: 0.0155 - accuracy: 0.9952 - val_loss: 0.0336 - val_accuracy: 0.9920\n",
      "\n",
      "Epoch 00014: val_accuracy did not improve from 0.99409\n",
      "Epoch 15/500\n",
      "221/221 [==============================] - 19s 85ms/step - loss: 0.0165 - accuracy: 0.9952 - val_loss: 0.0330 - val_accuracy: 0.9917\n",
      "\n",
      "Epoch 00015: val_accuracy did not improve from 0.99409\n",
      "Epoch 16/500\n",
      "221/221 [==============================] - 19s 85ms/step - loss: 0.0137 - accuracy: 0.9962 - val_loss: 0.0284 - val_accuracy: 0.9923\n",
      "\n",
      "Epoch 00016: val_accuracy did not improve from 0.99409\n",
      "Epoch 17/500\n",
      "221/221 [==============================] - 19s 84ms/step - loss: 0.0135 - accuracy: 0.9952 - val_loss: 0.0315 - val_accuracy: 0.9924\n",
      "\n",
      "Epoch 00017: val_accuracy did not improve from 0.99409\n",
      "Epoch 18/500\n",
      "221/221 [==============================] - 19s 85ms/step - loss: 0.0438 - accuracy: 0.9936 - val_loss: 0.0600 - val_accuracy: 0.9915\n",
      "\n",
      "Epoch 00018: val_accuracy did not improve from 0.99409\n",
      "Epoch 19/500\n",
      "221/221 [==============================] - 17s 78ms/step - loss: 0.0151 - accuracy: 0.9953 - val_loss: 0.0297 - val_accuracy: 0.9931\n",
      "\n",
      "Epoch 00019: val_accuracy did not improve from 0.99409\n",
      "Epoch 20/500\n",
      "221/221 [==============================] - 18s 81ms/step - loss: 0.0139 - accuracy: 0.9957 - val_loss: 0.0292 - val_accuracy: 0.9931\n",
      "\n",
      "Epoch 00020: val_accuracy did not improve from 0.99409\n",
      "Epoch 21/500\n",
      "221/221 [==============================] - 18s 83ms/step - loss: 0.0098 - accuracy: 0.9962 - val_loss: 0.0290 - val_accuracy: 0.9930\n",
      "\n",
      "Epoch 00021: val_accuracy did not improve from 0.99409\n",
      "Epoch 00021: early stopping\n"
     ]
    }
   ],
   "source": [
    "history = model.fit(X_scaled_arr_train,Y_arr_train,epochs=500,validation_split=0.4,batch_size=70,shuffle=True,callbacks=[early_stopping, checkpoint])"
   ]
  },
  {
   "cell_type": "code",
   "execution_count": 84,
   "metadata": {
    "scrolled": true,
    "tags": []
   },
   "outputs": [
    {
     "name": "stdout",
     "output_type": "stream",
     "text": [
      "Epoch 1/500\n",
      "1547/1547 [==============================] - 115s 74ms/step - loss: 0.0140 - accuracy: 0.9956 - val_loss: 0.0394 - val_accuracy: 0.9923\n",
      "\n",
      "Epoch 00001: val_accuracy did not improve from 0.99409\n",
      "Epoch 2/500\n",
      "1547/1547 [==============================] - 115s 75ms/step - loss: 0.0139 - accuracy: 0.9957 - val_loss: 0.0444 - val_accuracy: 0.9918\n",
      "\n",
      "Epoch 00002: val_accuracy did not improve from 0.99409\n",
      "Epoch 3/500\n",
      "1547/1547 [==============================] - 116s 75ms/step - loss: 0.0768 - accuracy: 0.9857 - val_loss: 0.0559 - val_accuracy: 0.9907\n",
      "\n",
      "Epoch 00003: val_accuracy did not improve from 0.99409\n",
      "Epoch 4/500\n",
      "1547/1547 [==============================] - 112s 72ms/step - loss: 0.0243 - accuracy: 0.9948 - val_loss: 0.0306 - val_accuracy: 0.9927\n",
      "\n",
      "Epoch 00004: val_accuracy did not improve from 0.99409\n",
      "Epoch 5/500\n",
      "1547/1547 [==============================] - 114s 74ms/step - loss: 0.0149 - accuracy: 0.9952 - val_loss: 0.0368 - val_accuracy: 0.9927\n",
      "\n",
      "Epoch 00005: val_accuracy did not improve from 0.99409\n",
      "Epoch 6/500\n",
      "1547/1547 [==============================] - 115s 74ms/step - loss: 0.0356 - accuracy: 0.9910 - val_loss: 0.0287 - val_accuracy: 0.9914\n",
      "\n",
      "Epoch 00006: val_accuracy did not improve from 0.99409\n",
      "Epoch 7/500\n",
      "1547/1547 [==============================] - 115s 75ms/step - loss: 0.0177 - accuracy: 0.9953 - val_loss: 0.0390 - val_accuracy: 0.9920\n",
      "\n",
      "Epoch 00007: val_accuracy did not improve from 0.99409\n",
      "Epoch 8/500\n",
      "1547/1547 [==============================] - 114s 74ms/step - loss: 0.0595 - accuracy: 0.9903 - val_loss: 0.0388 - val_accuracy: 0.9905\n",
      "\n",
      "Epoch 00008: val_accuracy did not improve from 0.99409\n",
      "Epoch 9/500\n",
      "1547/1547 [==============================] - 111s 72ms/step - loss: 0.0134 - accuracy: 0.9952 - val_loss: 0.0656 - val_accuracy: 0.9889\n",
      "\n",
      "Epoch 00009: val_accuracy did not improve from 0.99409\n",
      "Epoch 10/500\n",
      "1547/1547 [==============================] - 113s 73ms/step - loss: 0.0175 - accuracy: 0.9959 - val_loss: 0.1093 - val_accuracy: 0.9858\n",
      "\n",
      "Epoch 00010: val_accuracy did not improve from 0.99409\n",
      "Epoch 11/500\n",
      "1547/1547 [==============================] - 115s 74ms/step - loss: 0.0296 - accuracy: 0.9932 - val_loss: 0.0483 - val_accuracy: 0.9912\n",
      "\n",
      "Epoch 00011: val_accuracy did not improve from 0.99409\n",
      "Epoch 12/500\n",
      "1547/1547 [==============================] - 115s 74ms/step - loss: 0.0160 - accuracy: 0.9953 - val_loss: 0.0401 - val_accuracy: 0.9927\n",
      "\n",
      "Epoch 00012: val_accuracy did not improve from 0.99409\n",
      "Epoch 13/500\n",
      "1547/1547 [==============================] - 112s 73ms/step - loss: 0.0410 - accuracy: 0.9925 - val_loss: 0.0397 - val_accuracy: 0.9920\n",
      "\n",
      "Epoch 00013: val_accuracy did not improve from 0.99409\n",
      "Epoch 14/500\n",
      "1547/1547 [==============================] - 115s 74ms/step - loss: 0.0312 - accuracy: 0.9926 - val_loss: 0.0369 - val_accuracy: 0.9928\n",
      "\n",
      "Epoch 00014: val_accuracy did not improve from 0.99409\n",
      "Epoch 15/500\n",
      "1547/1547 [==============================] - 114s 74ms/step - loss: 0.0199 - accuracy: 0.9951 - val_loss: 0.0400 - val_accuracy: 0.9926\n",
      "\n",
      "Epoch 00015: val_accuracy did not improve from 0.99409\n",
      "Epoch 16/500\n",
      "1547/1547 [==============================] - 113s 73ms/step - loss: 0.0307 - accuracy: 0.9935 - val_loss: 0.0594 - val_accuracy: 0.9902\n",
      "\n",
      "Epoch 00016: val_accuracy did not improve from 0.99409\n",
      "Epoch 17/500\n",
      "1547/1547 [==============================] - 112s 73ms/step - loss: 0.0221 - accuracy: 0.9952 - val_loss: 0.0520 - val_accuracy: 0.9912\n",
      "\n",
      "Epoch 00017: val_accuracy did not improve from 0.99409\n",
      "Epoch 18/500\n",
      "1547/1547 [==============================] - 113s 73ms/step - loss: 0.0212 - accuracy: 0.9944 - val_loss: 0.0362 - val_accuracy: 0.9930\n",
      "\n",
      "Epoch 00018: val_accuracy did not improve from 0.99409\n",
      "Epoch 19/500\n",
      "1547/1547 [==============================] - 114s 73ms/step - loss: 0.0166 - accuracy: 0.9959 - val_loss: 0.0417 - val_accuracy: 0.9925\n",
      "\n",
      "Epoch 00019: val_accuracy did not improve from 0.99409\n",
      "Epoch 20/500\n",
      "1547/1547 [==============================] - 115s 74ms/step - loss: 0.0477 - accuracy: 0.9916 - val_loss: 0.0536 - val_accuracy: 0.9917\n",
      "\n",
      "Epoch 00020: val_accuracy did not improve from 0.99409\n",
      "Epoch 21/500\n",
      "1547/1547 [==============================] - 114s 74ms/step - loss: 0.0559 - accuracy: 0.9900 - val_loss: 0.0626 - val_accuracy: 0.9871\n",
      "\n",
      "Epoch 00021: val_accuracy did not improve from 0.99409\n",
      "Epoch 22/500\n",
      "1547/1547 [==============================] - 115s 74ms/step - loss: 0.0164 - accuracy: 0.9942 - val_loss: 0.0421 - val_accuracy: 0.9917\n",
      "\n",
      "Epoch 00022: val_accuracy did not improve from 0.99409\n",
      "Epoch 23/500\n",
      "1547/1547 [==============================] - 113s 73ms/step - loss: 0.0156 - accuracy: 0.9951 - val_loss: 0.0486 - val_accuracy: 0.9913\n",
      "\n",
      "Epoch 00023: val_accuracy did not improve from 0.99409\n",
      "Epoch 24/500\n",
      "1547/1547 [==============================] - 111s 72ms/step - loss: 0.0139 - accuracy: 0.9957 - val_loss: 0.0481 - val_accuracy: 0.9921\n",
      "\n",
      "Epoch 00024: val_accuracy did not improve from 0.99409\n",
      "Epoch 25/500\n",
      "1547/1547 [==============================] - 115s 74ms/step - loss: 0.0387 - accuracy: 0.9922 - val_loss: 0.0414 - val_accuracy: 0.9917\n",
      "\n",
      "Epoch 00025: val_accuracy did not improve from 0.99409\n",
      "Epoch 26/500\n",
      "1547/1547 [==============================] - 116s 75ms/step - loss: 0.0176 - accuracy: 0.9942 - val_loss: 0.0362 - val_accuracy: 0.9903\n",
      "\n",
      "Epoch 00026: val_accuracy did not improve from 0.99409\n",
      "Epoch 27/500\n",
      "1547/1547 [==============================] - 114s 74ms/step - loss: 0.0124 - accuracy: 0.9966 - val_loss: 0.0267 - val_accuracy: 0.9937\n",
      "\n",
      "Epoch 00027: val_accuracy did not improve from 0.99409\n",
      "Epoch 28/500\n",
      "1547/1547 [==============================] - 114s 74ms/step - loss: 0.0107 - accuracy: 0.9965 - val_loss: 0.0374 - val_accuracy: 0.9927\n",
      "\n",
      "Epoch 00028: val_accuracy did not improve from 0.99409\n",
      "Epoch 29/500\n",
      "1547/1547 [==============================] - 114s 74ms/step - loss: 0.0360 - accuracy: 0.9934 - val_loss: 0.0368 - val_accuracy: 0.9920\n",
      "\n",
      "Epoch 00029: val_accuracy did not improve from 0.99409\n",
      "Epoch 30/500\n",
      "1547/1547 [==============================] - 111s 72ms/step - loss: 0.0176 - accuracy: 0.9948 - val_loss: 0.0528 - val_accuracy: 0.9904\n",
      "\n",
      "Epoch 00030: val_accuracy did not improve from 0.99409\n",
      "Epoch 31/500\n",
      "1547/1547 [==============================] - 111s 72ms/step - loss: 0.0756 - accuracy: 0.9873 - val_loss: 0.0429 - val_accuracy: 0.9900\n",
      "\n",
      "Epoch 00031: val_accuracy did not improve from 0.99409\n",
      "Epoch 32/500\n",
      "1547/1547 [==============================] - 113s 73ms/step - loss: 0.0232 - accuracy: 0.9945 - val_loss: 0.0302 - val_accuracy: 0.9922\n",
      "\n",
      "Epoch 00032: val_accuracy did not improve from 0.99409\n",
      "Epoch 33/500\n",
      "1547/1547 [==============================] - 113s 73ms/step - loss: 0.0099 - accuracy: 0.9964 - val_loss: 0.0517 - val_accuracy: 0.9914\n",
      "\n",
      "Epoch 00033: val_accuracy did not improve from 0.99409\n",
      "Epoch 34/500\n",
      "1547/1547 [==============================] - 111s 72ms/step - loss: 0.0253 - accuracy: 0.9933 - val_loss: 0.0353 - val_accuracy: 0.9916\n",
      "\n",
      "Epoch 00034: val_accuracy did not improve from 0.99409\n",
      "Epoch 35/500\n",
      "1547/1547 [==============================] - 114s 73ms/step - loss: 0.0315 - accuracy: 0.9944 - val_loss: 0.0337 - val_accuracy: 0.9923\n",
      "\n",
      "Epoch 00035: val_accuracy did not improve from 0.99409\n",
      "Epoch 36/500\n",
      "1547/1547 [==============================] - 117s 75ms/step - loss: 0.0083 - accuracy: 0.9967 - val_loss: 0.0273 - val_accuracy: 0.9923\n",
      "\n",
      "Epoch 00036: val_accuracy did not improve from 0.99409\n",
      "Epoch 37/500\n",
      "1547/1547 [==============================] - 114s 74ms/step - loss: 0.0417 - accuracy: 0.9897 - val_loss: 0.0419 - val_accuracy: 0.9905\n",
      "\n",
      "Epoch 00037: val_accuracy did not improve from 0.99409\n",
      "Epoch 38/500\n",
      "1547/1547 [==============================] - 115s 74ms/step - loss: 0.0215 - accuracy: 0.9946 - val_loss: 0.0307 - val_accuracy: 0.9923\n",
      "\n",
      "Epoch 00038: val_accuracy did not improve from 0.99409\n",
      "Epoch 39/500\n",
      "1547/1547 [==============================] - 113s 73ms/step - loss: 0.0098 - accuracy: 0.9960 - val_loss: 0.0320 - val_accuracy: 0.9925\n",
      "\n",
      "Epoch 00039: val_accuracy did not improve from 0.99409\n",
      "Epoch 40/500\n",
      "1547/1547 [==============================] - 116s 75ms/step - loss: 0.0486 - accuracy: 0.9913 - val_loss: 0.0330 - val_accuracy: 0.9920\n",
      "\n",
      "Epoch 00040: val_accuracy did not improve from 0.99409\n",
      "Epoch 41/500\n",
      "1547/1547 [==============================] - 114s 73ms/step - loss: 0.0148 - accuracy: 0.9957 - val_loss: 0.0422 - val_accuracy: 0.9918\n",
      "\n",
      "Epoch 00041: val_accuracy did not improve from 0.99409\n",
      "Epoch 42/500\n",
      "1547/1547 [==============================] - 112s 73ms/step - loss: 0.0098 - accuracy: 0.9964 - val_loss: 0.0391 - val_accuracy: 0.9916\n",
      "\n",
      "Epoch 00042: val_accuracy did not improve from 0.99409\n",
      "Epoch 43/500\n",
      "1547/1547 [==============================] - 113s 73ms/step - loss: 0.0125 - accuracy: 0.9958 - val_loss: 0.0378 - val_accuracy: 0.9917\n",
      "\n",
      "Epoch 00043: val_accuracy did not improve from 0.99409\n",
      "Epoch 44/500\n",
      "1547/1547 [==============================] - 115s 74ms/step - loss: 0.0149 - accuracy: 0.9953 - val_loss: 0.0369 - val_accuracy: 0.9928\n",
      "\n",
      "Epoch 00044: val_accuracy did not improve from 0.99409\n",
      "Epoch 45/500\n",
      "1547/1547 [==============================] - 115s 74ms/step - loss: 0.1801 - accuracy: 0.9802 - val_loss: 0.3342 - val_accuracy: 0.9617\n",
      "\n",
      "Epoch 00045: val_accuracy did not improve from 0.99409\n",
      "Epoch 46/500\n",
      "1547/1547 [==============================] - 115s 74ms/step - loss: 0.0473 - accuracy: 0.9895 - val_loss: 0.0534 - val_accuracy: 0.9872\n",
      "\n",
      "Epoch 00046: val_accuracy did not improve from 0.99409\n",
      "Epoch 47/500\n",
      "1547/1547 [==============================] - 116s 75ms/step - loss: 0.0223 - accuracy: 0.9931 - val_loss: 0.0681 - val_accuracy: 0.9829\n",
      "\n",
      "Epoch 00047: val_accuracy did not improve from 0.99409\n",
      "Epoch 00047: early stopping\n"
     ]
    }
   ],
   "source": [
    "history = model.fit(X_scaled_arr_train,Y_arr_train,epochs=500,validation_split=0.4,batch_size=10,shuffle=True,callbacks=[early_stopping, checkpoint])"
   ]
  },
  {
   "cell_type": "code",
   "execution_count": null,
   "metadata": {},
   "outputs": [],
   "source": []
  }
 ],
 "metadata": {
  "accelerator": "GPU",
  "colab": {
   "collapsed_sections": [],
   "name": "LSTM6.ipynb",
   "provenance": []
  },
  "kernelspec": {
   "display_name": "Python 3",
   "language": "python",
   "name": "python3"
  },
  "language_info": {
   "codemirror_mode": {
    "name": "ipython",
    "version": 3
   },
   "file_extension": ".py",
   "mimetype": "text/x-python",
   "name": "python",
   "nbconvert_exporter": "python",
   "pygments_lexer": "ipython3",
   "version": "3.8.8"
  }
 },
 "nbformat": 4,
 "nbformat_minor": 4
}
