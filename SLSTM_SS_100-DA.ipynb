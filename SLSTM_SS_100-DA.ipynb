{
 "cells": [
  {
   "cell_type": "markdown",
   "metadata": {},
   "source": [
    "# Stacked Bi-LSTM iter 1 \n",
    "Here we train for a length of 100 units\n",
    "Where the change is done in creating the list of patients\n",
    "Note: Here patients is list of Control subjects and patients1 is list of Parkinson patients"
   ]
  },
  {
   "cell_type": "code",
   "execution_count": null,
   "metadata": {
    "id": "oriXXy5wYuJJ"
   },
   "outputs": [],
   "source": [
    "import tensorflow as tf\n",
    "from sklearn.preprocessing import MinMaxScaler, StandardScaler\n",
    "from sklearn.preprocessing import LabelEncoder\n",
    "from sklearn.metrics import mean_squared_error\n",
    "from sklearn.model_selection import StratifiedShuffleSplit\n",
    "from tensorflow.keras.layers import Bidirectional\n",
    "from tensorflow.keras.models import Sequential\n",
    "from tensorflow.keras.layers import Dense\n",
    "from tensorflow.keras.layers import LSTM\n",
    "from tensorflow.keras.layers import Flatten\n",
    "from tensorflow.keras.callbacks import EarlyStopping, ModelCheckpoint\n",
    "from tensorflow.keras.models import load_model\n",
    "\n",
    "from tensorflow.keras import utils as np_utils\n",
    "\n",
    "from random import shuffle\n",
    "from tensorflow.python.client import device_lib\n",
    "\n",
    "import os\n",
    "import glob\n",
    "import pandas as pd\n",
    "import numpy as np\n",
    "import matplotlib.pyplot as plt\n",
    "\n",
    "# For wider plots\n",
    "plt.rcParams[\"figure.figsize\"] = (20,6)\n",
    "\n",
    "# Take my NVidia GPU into use\n",
    "os.environ[\"CUDA_DEVICE_ORDER\"]=\"PCI_BUS_ID\"\n",
    "os.environ[\"CUDA_VISIBLE_DEVICES\"]=\"0,1,2\""
   ]
  },
  {
   "cell_type": "code",
   "execution_count": null,
   "metadata": {},
   "outputs": [],
   "source": [
    "from tensorflow.python.client import device_lib \n",
    "print(device_lib.list_local_devices())"
   ]
  },
  {
   "cell_type": "code",
   "execution_count": 3,
   "metadata": {
    "id": "Vik1x9mkZIOm"
   },
   "outputs": [],
   "source": [
    "files1 = glob.glob(\"./parkinsons/*Co*.txt\")\n",
    "files2 = glob.glob(\"./parkinsons/*Pt*.txt\")\n",
    "# files=files1+files2\n",
    "# shuffle(files)"
   ]
  },
  {
   "cell_type": "code",
   "execution_count": 4,
   "metadata": {
    "id": "o9de6Bdr_X7C"
   },
   "outputs": [],
   "source": [
    "columns = [\"elaps_time\",\"L1\", \"L2\",\"L3\",\"L4\",\"L5\",\"L6\",\"L7\",\"L8\",\"R1\",\"R2\",\"R3\",\"R4\",\"R5\",\"R6\",\"R7\",\"R8\",\"LTot\",\"RTot\"]"
   ]
  },
  {
   "cell_type": "code",
   "execution_count": 5,
   "metadata": {
    "id": "OkThribYZbU1"
   },
   "outputs": [],
   "source": [
    "def getClassForHealthyOrNot(filename):\n",
    "    if (filename.find(\"Co\") >=0):\n",
    "        return 0\n",
    "    else:\n",
    "        return 1\n"
   ]
  },
  {
   "cell_type": "code",
   "execution_count": 6,
   "metadata": {
    "id": "7NYxPBygzo1e"
   },
   "outputs": [],
   "source": [
    "class Patient:\n",
    "    def __init__(self,input_data,y):\n",
    "        self.x = input_data\n",
    "        self.y = y\n",
    "        self.x_scaled = input_data"
   ]
  },
  {
   "cell_type": "code",
   "execution_count": 7,
   "metadata": {
    "id": "um8W0jLfzp8z"
   },
   "outputs": [],
   "source": [
    "patients=[]\n",
    "un_used_data=[]\n",
    "\n",
    "for f in files1:\n",
    "    #print(f\"{i+1}. {file}\")\n",
    "    \n",
    "    data_txt = pd.read_table(f,names=columns)\n",
    "    data_txt.drop(['elaps_time'],inplace=True,axis=1)\n",
    "    \n",
    "    \n",
    "    \n",
    "    j=0\n",
    "    ispark = getClassForHealthyOrNot(f)\n",
    "    # print(ispark)\n",
    "    while j < 12001:\n",
    "        data = data_txt.iloc[j+1:j+101,:]\n",
    "        \n",
    "        if data.shape[0] == 100:\n",
    "            patients.append( Patient(data, ispark) )\n",
    "        \n",
    "        j=j+50"
   ]
  },
  {
   "cell_type": "code",
   "execution_count": 8,
   "metadata": {
    "id": "iXp833vu_TB3"
   },
   "outputs": [],
   "source": [
    "patients1=[]\n",
    "un_used_data1=[]\n",
    "\n",
    "for f in files2:\n",
    "    #print(f\"{i+1}. {file}\")\n",
    "    \n",
    "    data_txt = pd.read_table(f,names=columns)\n",
    "    data_txt.drop(['elaps_time'],inplace=True,axis=1)\n",
    "    \n",
    "    \n",
    "    \n",
    "    j=0\n",
    "    ispark = getClassForHealthyOrNot(f)\n",
    "    # print(ispark)\n",
    "    while j < 12001:\n",
    "        data = data_txt.iloc[j+1:j+101,:]\n",
    "        \n",
    "        if data.shape[0] == 100:\n",
    "            patients1.append( Patient(data, ispark) )\n",
    "        \n",
    "        j=j+50"
   ]
  },
  {
   "cell_type": "code",
   "execution_count": 9,
   "metadata": {
    "colab": {
     "base_uri": "https://localhost:8080/"
    },
    "id": "YMO-9K-f00D2",
    "outputId": "acfcf674-107a-4e0a-a370-043ea5439305"
   },
   "outputs": [
    {
     "data": {
      "text/plain": [
       "20126"
      ]
     },
     "execution_count": 9,
     "metadata": {},
     "output_type": "execute_result"
    }
   ],
   "source": [
    "len(patients)"
   ]
  },
  {
   "cell_type": "code",
   "execution_count": 10,
   "metadata": {
    "colab": {
     "base_uri": "https://localhost:8080/"
    },
    "id": "IPaH2QfKAOfm",
    "outputId": "a463f0a9-3058-45c8-aa0b-d079db5e5f72"
   },
   "outputs": [
    {
     "data": {
      "text/plain": [
       "44667"
      ]
     },
     "execution_count": 10,
     "metadata": {},
     "output_type": "execute_result"
    }
   ],
   "source": [
    "len(patients1)\n"
   ]
  },
  {
   "cell_type": "code",
   "execution_count": 11,
   "metadata": {
    "id": "9ZYcPnYP1Lkc"
   },
   "outputs": [],
   "source": [
    "shuffle(patients)\n",
    "shuffle(patients1)"
   ]
  },
  {
   "cell_type": "code",
   "execution_count": 12,
   "metadata": {
    "id": "-mAihBLj1QYz"
   },
   "outputs": [],
   "source": [
    "train = patients[:int(len(patients)*0.8)]+patients1[:int(len(patients1)*0.8)]\n",
    "test = patients[int(len(patients)*0.8):]+patients1[int(len(patients1)*0.8):]"
   ]
  },
  {
   "cell_type": "code",
   "execution_count": 13,
   "metadata": {
    "colab": {
     "base_uri": "https://localhost:8080/"
    },
    "id": "OLKpXuqkA0to",
    "outputId": "c79e8660-546b-4ff9-f299-adc95f17f675"
   },
   "outputs": [
    {
     "name": "stdout",
     "output_type": "stream",
     "text": [
      "51833\n",
      "12960\n"
     ]
    }
   ],
   "source": [
    "print(len(train))\n",
    "print(len(test))"
   ]
  },
  {
   "cell_type": "code",
   "execution_count": 14,
   "metadata": {
    "id": "cUKw51iuA3-7"
   },
   "outputs": [],
   "source": [
    "shuffle(train)\n",
    "shuffle(test)"
   ]
  },
  {
   "cell_type": "code",
   "execution_count": 15,
   "metadata": {
    "id": "_Uy2WCDO11YA"
   },
   "outputs": [],
   "source": [
    "train_concat=[]\n",
    "for p in train:\n",
    "    train_concat = train_concat+[p.x]"
   ]
  },
  {
   "cell_type": "code",
   "execution_count": 16,
   "metadata": {
    "id": "CZTBAgwu2GJ4"
   },
   "outputs": [],
   "source": [
    "data_tr = pd.concat(train_concat,ignore_index=True)"
   ]
  },
  {
   "cell_type": "code",
   "execution_count": 17,
   "metadata": {
    "colab": {
     "base_uri": "https://localhost:8080/"
    },
    "id": "Xu_PsImH2ORu",
    "outputId": "d81790ce-1e80-43ef-b20f-8ff466aa74c7"
   },
   "outputs": [
    {
     "data": {
      "text/plain": [
       "array([[-0.57097252, -0.6756223 , -0.64615153, ...,  0.042079  ,\n",
       "        -1.10412961,  0.71590061],\n",
       "       [-0.43184923, -0.6756223 , -0.64615153, ...,  0.042079  ,\n",
       "        -1.06822336,  0.64935213],\n",
       "       [ 0.17628822, -0.6756223 , -0.64615153, ...,  0.042079  ,\n",
       "        -0.91126952,  0.58171269],\n",
       "       ...,\n",
       "       [ 2.10925887,  2.33753231,  0.55731202, ...,  1.28951148,\n",
       "         0.76734775, -0.07368075],\n",
       "       [ 2.03653533,  2.33753231,  0.5892881 , ...,  1.10069942,\n",
       "         0.83508   , -0.29105427],\n",
       "       [ 1.98699901,  2.36301354,  0.5892881 , ...,  0.81642059,\n",
       "         0.90335628, -0.47460807]])"
      ]
     },
     "execution_count": 17,
     "metadata": {},
     "output_type": "execute_result"
    }
   ],
   "source": [
    "scaler = StandardScaler()\n",
    "scaler.fit_transform(data_tr)"
   ]
  },
  {
   "cell_type": "code",
   "execution_count": 18,
   "metadata": {
    "id": "lU7nVIWF2RVq"
   },
   "outputs": [],
   "source": [
    "i=0\n",
    "wo_time_col=[\"L1\", \"L2\",\"L3\",\"L4\",\"L5\",\"L6\",\"L7\",\"L8\",\"R1\",\"R2\",\"R3\",\"R4\",\"R5\",\"R6\",\"R7\",\"R8\",\"LTot\",\"RTot\"]\n",
    "for obj in train:\n",
    "    obj.x_scaled = pd.DataFrame(scaler.transform(obj.x),columns=wo_time_col)\n",
    "    i=i+1"
   ]
  },
  {
   "cell_type": "code",
   "execution_count": 19,
   "metadata": {
    "id": "4UARoisP3xih"
   },
   "outputs": [],
   "source": [
    "for obj in test:\n",
    "    obj.x_scaled = pd.DataFrame(scaler.transform(obj.x),columns=wo_time_col)\n",
    "    i=i+1"
   ]
  },
  {
   "cell_type": "code",
   "execution_count": 20,
   "metadata": {
    "id": "97vpZxO86VMi"
   },
   "outputs": [],
   "source": [
    "X_scaled_list_train=[]\n",
    "Y_list_train=[]\n",
    "\n",
    "for obj in train:\n",
    "    X_scaled_list_train = X_scaled_list_train + [obj.x_scaled]\n",
    "    Y_list_train = Y_list_train + [obj.y]\n",
    "    \n",
    "X_scaled_arr_train = np.array(X_scaled_list_train)\n",
    "Y_arr_train = np.array(Y_list_train)"
   ]
  },
  {
   "cell_type": "code",
   "execution_count": 21,
   "metadata": {
    "colab": {
     "base_uri": "https://localhost:8080/"
    },
    "id": "A_SvxxOK72ry",
    "outputId": "890b1bac-4f71-4326-bd98-3bb2ff126373"
   },
   "outputs": [
    {
     "data": {
      "text/plain": [
       "(51833, 100, 18)"
      ]
     },
     "execution_count": 21,
     "metadata": {},
     "output_type": "execute_result"
    }
   ],
   "source": [
    "X_scaled_arr_train.shape"
   ]
  },
  {
   "cell_type": "code",
   "execution_count": 62,
   "metadata": {},
   "outputs": [
    {
     "data": {
      "text/plain": [
       "(51833,)"
      ]
     },
     "execution_count": 62,
     "metadata": {},
     "output_type": "execute_result"
    }
   ],
   "source": [
    "Y_arr_train.shape"
   ]
  },
  {
   "cell_type": "code",
   "execution_count": 22,
   "metadata": {
    "id": "86VG8YJ36-uj"
   },
   "outputs": [],
   "source": [
    "X_scaled_list_test=[]\n",
    "Y_list_test=[]\n",
    "\n",
    "for obj in test:\n",
    "    X_scaled_list_test = X_scaled_list_test + [obj.x_scaled]\n",
    "    Y_list_test = Y_list_test + [obj.y]\n",
    "    \n",
    "X_scaled_arr_test = np.array(X_scaled_list_test)\n",
    "Y_arr_test = np.array(Y_list_test)"
   ]
  },
  {
   "cell_type": "code",
   "execution_count": 23,
   "metadata": {},
   "outputs": [],
   "source": [
    "import numpy as np"
   ]
  },
  {
   "cell_type": "code",
   "execution_count": null,
   "metadata": {
    "id": "ndlZHZnL7fkW"
   },
   "outputs": [],
   "source": [
    "model = Sequential()\n",
    "model.add(Bidirectional(LSTM(80, dropout=0.3, \n",
    "                  return_sequences=True, \n",
    "                  input_shape=(X_scaled_arr_train.shape[1], X_scaled_arr_train.shape[2]))))\n",
    "model.add(Bidirectional(LSTM(32, dropout=0.5,return_sequences=True)))\n",
    "model.add(LSTM(24, dropout=0.2,return_sequences=True))\n",
    "model.add(LSTM(12, dropout=0.2,return_sequences=False))\n",
    "model.add(Dense(1, kernel_initializer='glorot_uniform', activation='relu'))\n",
    "opt=tf.keras.optimizers.Adam(\n",
    "    learning_rate=0.00005,\n",
    "    name=\"Adam\"\n",
    "    )\n",
    "model.compile(loss='binary_crossentropy', optimizer=opt, metrics=['accuracy'])\n",
    "\n",
    "early_stopping = EarlyStopping(monitor='val_accuracy', patience=20, verbose=1, mode='auto')\n",
    "checkpoint = ModelCheckpoint(\"./Model/model_LSTM22.v\", \n",
    "                             monitor='val_accuracy', verbose=1, save_best_only=True, \n",
    "                             save_weights_only=False)"
   ]
  },
  {
   "cell_type": "code",
   "execution_count": 44,
   "metadata": {
    "colab": {
     "base_uri": "https://localhost:8080/"
    },
    "id": "-RL4C-el7TIg",
    "outputId": "296f68f6-5765-41e9-8016-80554d7f072e",
    "scrolled": true,
    "tags": []
   },
   "outputs": [
    {
     "name": "stdout",
     "output_type": "stream",
     "text": [
      "Epoch 1/500\n",
      "1220/1220 [==============================] - 39s 32ms/step - loss: 0.8556 - accuracy: 0.6353 - val_loss: 0.7126 - val_accuracy: 0.6360\n",
      "\n",
      "Epoch 00001: val_accuracy did not improve from 0.74467\n",
      "Epoch 2/500\n",
      "1220/1220 [==============================] - 48s 39ms/step - loss: 0.6665 - accuracy: 0.6569 - val_loss: 0.5565 - val_accuracy: 0.7183\n",
      "\n",
      "Epoch 00002: val_accuracy did not improve from 0.74467\n",
      "Epoch 3/500\n",
      "1220/1220 [==============================] - 48s 39ms/step - loss: 0.5612 - accuracy: 0.7186 - val_loss: 0.4973 - val_accuracy: 0.7683\n",
      "\n",
      "Epoch 00003: val_accuracy improved from 0.74467 to 0.76830, saving model to ./Model/model_LSTM22.v\n"
     ]
    },
    {
     "name": "stderr",
     "output_type": "stream",
     "text": [
      "WARNING:absl:Found untraced functions such as lstm_cell_6_layer_call_and_return_conditional_losses, lstm_cell_6_layer_call_fn, lstm_cell_7_layer_call_and_return_conditional_losses, lstm_cell_7_layer_call_fn, lstm_cell_1_layer_call_and_return_conditional_losses while saving (showing 5 of 30). These functions will not be directly callable after loading.\n",
      "WARNING:absl:Found untraced functions such as lstm_cell_6_layer_call_and_return_conditional_losses, lstm_cell_6_layer_call_fn, lstm_cell_7_layer_call_and_return_conditional_losses, lstm_cell_7_layer_call_fn, lstm_cell_1_layer_call_and_return_conditional_losses while saving (showing 5 of 30). These functions will not be directly callable after loading.\n"
     ]
    },
    {
     "name": "stdout",
     "output_type": "stream",
     "text": [
      "INFO:tensorflow:Assets written to: ./Model/model_LSTM22.v/assets\n"
     ]
    },
    {
     "name": "stderr",
     "output_type": "stream",
     "text": [
      "INFO:tensorflow:Assets written to: ./Model/model_LSTM22.v/assets\n"
     ]
    },
    {
     "name": "stdout",
     "output_type": "stream",
     "text": [
      "Epoch 4/500\n",
      "1220/1220 [==============================] - 42s 34ms/step - loss: 0.5167 - accuracy: 0.7563 - val_loss: 0.4673 - val_accuracy: 0.7917\n",
      "\n",
      "Epoch 00004: val_accuracy improved from 0.76830 to 0.79174, saving model to ./Model/model_LSTM22.v\n"
     ]
    },
    {
     "name": "stderr",
     "output_type": "stream",
     "text": [
      "WARNING:absl:Found untraced functions such as lstm_cell_6_layer_call_and_return_conditional_losses, lstm_cell_6_layer_call_fn, lstm_cell_7_layer_call_and_return_conditional_losses, lstm_cell_7_layer_call_fn, lstm_cell_1_layer_call_and_return_conditional_losses while saving (showing 5 of 30). These functions will not be directly callable after loading.\n",
      "WARNING:absl:Found untraced functions such as lstm_cell_6_layer_call_and_return_conditional_losses, lstm_cell_6_layer_call_fn, lstm_cell_7_layer_call_and_return_conditional_losses, lstm_cell_7_layer_call_fn, lstm_cell_1_layer_call_and_return_conditional_losses while saving (showing 5 of 30). These functions will not be directly callable after loading.\n"
     ]
    },
    {
     "name": "stdout",
     "output_type": "stream",
     "text": [
      "INFO:tensorflow:Assets written to: ./Model/model_LSTM22.v/assets\n"
     ]
    },
    {
     "name": "stderr",
     "output_type": "stream",
     "text": [
      "INFO:tensorflow:Assets written to: ./Model/model_LSTM22.v/assets\n"
     ]
    },
    {
     "name": "stdout",
     "output_type": "stream",
     "text": [
      "Epoch 5/500\n",
      "1220/1220 [==============================] - 53s 43ms/step - loss: 0.4901 - accuracy: 0.7816 - val_loss: 0.4409 - val_accuracy: 0.8146\n",
      "\n",
      "Epoch 00005: val_accuracy improved from 0.79174 to 0.81460, saving model to ./Model/model_LSTM22.v\n"
     ]
    },
    {
     "name": "stderr",
     "output_type": "stream",
     "text": [
      "WARNING:absl:Found untraced functions such as lstm_cell_6_layer_call_and_return_conditional_losses, lstm_cell_6_layer_call_fn, lstm_cell_7_layer_call_and_return_conditional_losses, lstm_cell_7_layer_call_fn, lstm_cell_1_layer_call_and_return_conditional_losses while saving (showing 5 of 30). These functions will not be directly callable after loading.\n",
      "WARNING:absl:Found untraced functions such as lstm_cell_6_layer_call_and_return_conditional_losses, lstm_cell_6_layer_call_fn, lstm_cell_7_layer_call_and_return_conditional_losses, lstm_cell_7_layer_call_fn, lstm_cell_1_layer_call_and_return_conditional_losses while saving (showing 5 of 30). These functions will not be directly callable after loading.\n"
     ]
    },
    {
     "name": "stdout",
     "output_type": "stream",
     "text": [
      "INFO:tensorflow:Assets written to: ./Model/model_LSTM22.v/assets\n"
     ]
    },
    {
     "name": "stderr",
     "output_type": "stream",
     "text": [
      "INFO:tensorflow:Assets written to: ./Model/model_LSTM22.v/assets\n"
     ]
    },
    {
     "name": "stdout",
     "output_type": "stream",
     "text": [
      "Epoch 6/500\n",
      "1220/1220 [==============================] - 43s 35ms/step - loss: 0.4673 - accuracy: 0.7983 - val_loss: 0.4168 - val_accuracy: 0.8300\n",
      "\n",
      "Epoch 00006: val_accuracy improved from 0.81460 to 0.83004, saving model to ./Model/model_LSTM22.v\n"
     ]
    },
    {
     "name": "stderr",
     "output_type": "stream",
     "text": [
      "WARNING:absl:Found untraced functions such as lstm_cell_6_layer_call_and_return_conditional_losses, lstm_cell_6_layer_call_fn, lstm_cell_7_layer_call_and_return_conditional_losses, lstm_cell_7_layer_call_fn, lstm_cell_1_layer_call_and_return_conditional_losses while saving (showing 5 of 30). These functions will not be directly callable after loading.\n",
      "WARNING:absl:Found untraced functions such as lstm_cell_6_layer_call_and_return_conditional_losses, lstm_cell_6_layer_call_fn, lstm_cell_7_layer_call_and_return_conditional_losses, lstm_cell_7_layer_call_fn, lstm_cell_1_layer_call_and_return_conditional_losses while saving (showing 5 of 30). These functions will not be directly callable after loading.\n"
     ]
    },
    {
     "name": "stdout",
     "output_type": "stream",
     "text": [
      "INFO:tensorflow:Assets written to: ./Model/model_LSTM22.v/assets\n"
     ]
    },
    {
     "name": "stderr",
     "output_type": "stream",
     "text": [
      "INFO:tensorflow:Assets written to: ./Model/model_LSTM22.v/assets\n"
     ]
    },
    {
     "name": "stdout",
     "output_type": "stream",
     "text": [
      "Epoch 7/500\n",
      "1220/1220 [==============================] - 44s 36ms/step - loss: 0.4506 - accuracy: 0.8092 - val_loss: 0.3949 - val_accuracy: 0.8391\n",
      "\n",
      "Epoch 00007: val_accuracy improved from 0.83004 to 0.83910, saving model to ./Model/model_LSTM22.v\n"
     ]
    },
    {
     "name": "stderr",
     "output_type": "stream",
     "text": [
      "WARNING:absl:Found untraced functions such as lstm_cell_6_layer_call_and_return_conditional_losses, lstm_cell_6_layer_call_fn, lstm_cell_7_layer_call_and_return_conditional_losses, lstm_cell_7_layer_call_fn, lstm_cell_1_layer_call_and_return_conditional_losses while saving (showing 5 of 30). These functions will not be directly callable after loading.\n",
      "WARNING:absl:Found untraced functions such as lstm_cell_6_layer_call_and_return_conditional_losses, lstm_cell_6_layer_call_fn, lstm_cell_7_layer_call_and_return_conditional_losses, lstm_cell_7_layer_call_fn, lstm_cell_1_layer_call_and_return_conditional_losses while saving (showing 5 of 30). These functions will not be directly callable after loading.\n"
     ]
    },
    {
     "name": "stdout",
     "output_type": "stream",
     "text": [
      "INFO:tensorflow:Assets written to: ./Model/model_LSTM22.v/assets\n"
     ]
    },
    {
     "name": "stderr",
     "output_type": "stream",
     "text": [
      "INFO:tensorflow:Assets written to: ./Model/model_LSTM22.v/assets\n"
     ]
    },
    {
     "name": "stdout",
     "output_type": "stream",
     "text": [
      "Epoch 8/500\n",
      "1220/1220 [==============================] - 50s 41ms/step - loss: 0.4333 - accuracy: 0.8191 - val_loss: 0.3675 - val_accuracy: 0.8514\n",
      "\n",
      "Epoch 00008: val_accuracy improved from 0.83910 to 0.85136, saving model to ./Model/model_LSTM22.v\n"
     ]
    },
    {
     "name": "stderr",
     "output_type": "stream",
     "text": [
      "WARNING:absl:Found untraced functions such as lstm_cell_6_layer_call_and_return_conditional_losses, lstm_cell_6_layer_call_fn, lstm_cell_7_layer_call_and_return_conditional_losses, lstm_cell_7_layer_call_fn, lstm_cell_1_layer_call_and_return_conditional_losses while saving (showing 5 of 30). These functions will not be directly callable after loading.\n",
      "WARNING:absl:Found untraced functions such as lstm_cell_6_layer_call_and_return_conditional_losses, lstm_cell_6_layer_call_fn, lstm_cell_7_layer_call_and_return_conditional_losses, lstm_cell_7_layer_call_fn, lstm_cell_1_layer_call_and_return_conditional_losses while saving (showing 5 of 30). These functions will not be directly callable after loading.\n"
     ]
    },
    {
     "name": "stdout",
     "output_type": "stream",
     "text": [
      "INFO:tensorflow:Assets written to: ./Model/model_LSTM22.v/assets\n"
     ]
    },
    {
     "name": "stderr",
     "output_type": "stream",
     "text": [
      "INFO:tensorflow:Assets written to: ./Model/model_LSTM22.v/assets\n"
     ]
    },
    {
     "name": "stdout",
     "output_type": "stream",
     "text": [
      "Epoch 9/500\n",
      "1220/1220 [==============================] - 42s 34ms/step - loss: 0.4186 - accuracy: 0.8289 - val_loss: 0.3461 - val_accuracy: 0.8645\n",
      "\n",
      "Epoch 00009: val_accuracy improved from 0.85136 to 0.86447, saving model to ./Model/model_LSTM22.v\n"
     ]
    },
    {
     "name": "stderr",
     "output_type": "stream",
     "text": [
      "WARNING:absl:Found untraced functions such as lstm_cell_6_layer_call_and_return_conditional_losses, lstm_cell_6_layer_call_fn, lstm_cell_7_layer_call_and_return_conditional_losses, lstm_cell_7_layer_call_fn, lstm_cell_1_layer_call_and_return_conditional_losses while saving (showing 5 of 30). These functions will not be directly callable after loading.\n",
      "WARNING:absl:Found untraced functions such as lstm_cell_6_layer_call_and_return_conditional_losses, lstm_cell_6_layer_call_fn, lstm_cell_7_layer_call_and_return_conditional_losses, lstm_cell_7_layer_call_fn, lstm_cell_1_layer_call_and_return_conditional_losses while saving (showing 5 of 30). These functions will not be directly callable after loading.\n"
     ]
    },
    {
     "name": "stdout",
     "output_type": "stream",
     "text": [
      "INFO:tensorflow:Assets written to: ./Model/model_LSTM22.v/assets\n"
     ]
    },
    {
     "name": "stderr",
     "output_type": "stream",
     "text": [
      "INFO:tensorflow:Assets written to: ./Model/model_LSTM22.v/assets\n"
     ]
    },
    {
     "name": "stdout",
     "output_type": "stream",
     "text": [
      "Epoch 10/500\n",
      "1220/1220 [==============================] - 44s 36ms/step - loss: 0.4011 - accuracy: 0.8379 - val_loss: 0.3682 - val_accuracy: 0.8537\n",
      "\n",
      "Epoch 00010: val_accuracy did not improve from 0.86447\n",
      "Epoch 11/500\n",
      "1220/1220 [==============================] - 47s 38ms/step - loss: 0.4042 - accuracy: 0.8388 - val_loss: 0.3161 - val_accuracy: 0.8783\n",
      "\n",
      "Epoch 00011: val_accuracy improved from 0.86447 to 0.87827, saving model to ./Model/model_LSTM22.v\n"
     ]
    },
    {
     "name": "stderr",
     "output_type": "stream",
     "text": [
      "WARNING:absl:Found untraced functions such as lstm_cell_6_layer_call_and_return_conditional_losses, lstm_cell_6_layer_call_fn, lstm_cell_7_layer_call_and_return_conditional_losses, lstm_cell_7_layer_call_fn, lstm_cell_1_layer_call_and_return_conditional_losses while saving (showing 5 of 30). These functions will not be directly callable after loading.\n",
      "WARNING:absl:Found untraced functions such as lstm_cell_6_layer_call_and_return_conditional_losses, lstm_cell_6_layer_call_fn, lstm_cell_7_layer_call_and_return_conditional_losses, lstm_cell_7_layer_call_fn, lstm_cell_1_layer_call_and_return_conditional_losses while saving (showing 5 of 30). These functions will not be directly callable after loading.\n"
     ]
    },
    {
     "name": "stdout",
     "output_type": "stream",
     "text": [
      "INFO:tensorflow:Assets written to: ./Model/model_LSTM22.v/assets\n"
     ]
    },
    {
     "name": "stderr",
     "output_type": "stream",
     "text": [
      "INFO:tensorflow:Assets written to: ./Model/model_LSTM22.v/assets\n"
     ]
    },
    {
     "name": "stdout",
     "output_type": "stream",
     "text": [
      "Epoch 12/500\n",
      "1220/1220 [==============================] - 42s 34ms/step - loss: 0.3682 - accuracy: 0.8574 - val_loss: 0.2964 - val_accuracy: 0.8886\n",
      "\n",
      "Epoch 00012: val_accuracy improved from 0.87827 to 0.88859, saving model to ./Model/model_LSTM22.v\n"
     ]
    },
    {
     "name": "stderr",
     "output_type": "stream",
     "text": [
      "WARNING:absl:Found untraced functions such as lstm_cell_6_layer_call_and_return_conditional_losses, lstm_cell_6_layer_call_fn, lstm_cell_7_layer_call_and_return_conditional_losses, lstm_cell_7_layer_call_fn, lstm_cell_1_layer_call_and_return_conditional_losses while saving (showing 5 of 30). These functions will not be directly callable after loading.\n",
      "WARNING:absl:Found untraced functions such as lstm_cell_6_layer_call_and_return_conditional_losses, lstm_cell_6_layer_call_fn, lstm_cell_7_layer_call_and_return_conditional_losses, lstm_cell_7_layer_call_fn, lstm_cell_1_layer_call_and_return_conditional_losses while saving (showing 5 of 30). These functions will not be directly callable after loading.\n"
     ]
    },
    {
     "name": "stdout",
     "output_type": "stream",
     "text": [
      "INFO:tensorflow:Assets written to: ./Model/model_LSTM22.v/assets\n"
     ]
    },
    {
     "name": "stderr",
     "output_type": "stream",
     "text": [
      "INFO:tensorflow:Assets written to: ./Model/model_LSTM22.v/assets\n"
     ]
    },
    {
     "name": "stdout",
     "output_type": "stream",
     "text": [
      "Epoch 13/500\n",
      "1220/1220 [==============================] - 46s 38ms/step - loss: 0.3522 - accuracy: 0.8677 - val_loss: 0.2795 - val_accuracy: 0.9008\n",
      "\n",
      "Epoch 00013: val_accuracy improved from 0.88859 to 0.90084, saving model to ./Model/model_LSTM22.v\n"
     ]
    },
    {
     "name": "stderr",
     "output_type": "stream",
     "text": [
      "WARNING:absl:Found untraced functions such as lstm_cell_6_layer_call_and_return_conditional_losses, lstm_cell_6_layer_call_fn, lstm_cell_7_layer_call_and_return_conditional_losses, lstm_cell_7_layer_call_fn, lstm_cell_1_layer_call_and_return_conditional_losses while saving (showing 5 of 30). These functions will not be directly callable after loading.\n",
      "WARNING:absl:Found untraced functions such as lstm_cell_6_layer_call_and_return_conditional_losses, lstm_cell_6_layer_call_fn, lstm_cell_7_layer_call_and_return_conditional_losses, lstm_cell_7_layer_call_fn, lstm_cell_1_layer_call_and_return_conditional_losses while saving (showing 5 of 30). These functions will not be directly callable after loading.\n"
     ]
    },
    {
     "name": "stdout",
     "output_type": "stream",
     "text": [
      "INFO:tensorflow:Assets written to: ./Model/model_LSTM22.v/assets\n"
     ]
    },
    {
     "name": "stderr",
     "output_type": "stream",
     "text": [
      "INFO:tensorflow:Assets written to: ./Model/model_LSTM22.v/assets\n"
     ]
    },
    {
     "name": "stdout",
     "output_type": "stream",
     "text": [
      "Epoch 14/500\n",
      "1220/1220 [==============================] - 47s 39ms/step - loss: 0.3257 - accuracy: 0.8811 - val_loss: 0.2707 - val_accuracy: 0.8991\n",
      "\n",
      "Epoch 00014: val_accuracy did not improve from 0.90084\n",
      "Epoch 15/500\n",
      "1220/1220 [==============================] - 44s 36ms/step - loss: 0.3372 - accuracy: 0.8756 - val_loss: 0.2457 - val_accuracy: 0.9126\n",
      "\n",
      "Epoch 00015: val_accuracy improved from 0.90084 to 0.91261, saving model to ./Model/model_LSTM22.v\n"
     ]
    },
    {
     "name": "stderr",
     "output_type": "stream",
     "text": [
      "WARNING:absl:Found untraced functions such as lstm_cell_6_layer_call_and_return_conditional_losses, lstm_cell_6_layer_call_fn, lstm_cell_7_layer_call_and_return_conditional_losses, lstm_cell_7_layer_call_fn, lstm_cell_1_layer_call_and_return_conditional_losses while saving (showing 5 of 30). These functions will not be directly callable after loading.\n",
      "WARNING:absl:Found untraced functions such as lstm_cell_6_layer_call_and_return_conditional_losses, lstm_cell_6_layer_call_fn, lstm_cell_7_layer_call_and_return_conditional_losses, lstm_cell_7_layer_call_fn, lstm_cell_1_layer_call_and_return_conditional_losses while saving (showing 5 of 30). These functions will not be directly callable after loading.\n"
     ]
    },
    {
     "name": "stdout",
     "output_type": "stream",
     "text": [
      "INFO:tensorflow:Assets written to: ./Model/model_LSTM22.v/assets\n"
     ]
    },
    {
     "name": "stderr",
     "output_type": "stream",
     "text": [
      "INFO:tensorflow:Assets written to: ./Model/model_LSTM22.v/assets\n"
     ]
    },
    {
     "name": "stdout",
     "output_type": "stream",
     "text": [
      "Epoch 16/500\n",
      "1220/1220 [==============================] - 41s 34ms/step - loss: 0.3034 - accuracy: 0.8908 - val_loss: 0.2613 - val_accuracy: 0.9180\n",
      "\n",
      "Epoch 00016: val_accuracy improved from 0.91261 to 0.91801, saving model to ./Model/model_LSTM22.v\n"
     ]
    },
    {
     "name": "stderr",
     "output_type": "stream",
     "text": [
      "WARNING:absl:Found untraced functions such as lstm_cell_6_layer_call_and_return_conditional_losses, lstm_cell_6_layer_call_fn, lstm_cell_7_layer_call_and_return_conditional_losses, lstm_cell_7_layer_call_fn, lstm_cell_1_layer_call_and_return_conditional_losses while saving (showing 5 of 30). These functions will not be directly callable after loading.\n",
      "WARNING:absl:Found untraced functions such as lstm_cell_6_layer_call_and_return_conditional_losses, lstm_cell_6_layer_call_fn, lstm_cell_7_layer_call_and_return_conditional_losses, lstm_cell_7_layer_call_fn, lstm_cell_1_layer_call_and_return_conditional_losses while saving (showing 5 of 30). These functions will not be directly callable after loading.\n"
     ]
    },
    {
     "name": "stdout",
     "output_type": "stream",
     "text": [
      "INFO:tensorflow:Assets written to: ./Model/model_LSTM22.v/assets\n"
     ]
    },
    {
     "name": "stderr",
     "output_type": "stream",
     "text": [
      "INFO:tensorflow:Assets written to: ./Model/model_LSTM22.v/assets\n"
     ]
    },
    {
     "name": "stdout",
     "output_type": "stream",
     "text": [
      "Epoch 17/500\n",
      "1220/1220 [==============================] - 43s 35ms/step - loss: 0.2992 - accuracy: 0.8912 - val_loss: 0.2835 - val_accuracy: 0.9188\n",
      "\n",
      "Epoch 00017: val_accuracy improved from 0.91801 to 0.91878, saving model to ./Model/model_LSTM22.v\n"
     ]
    },
    {
     "name": "stderr",
     "output_type": "stream",
     "text": [
      "WARNING:absl:Found untraced functions such as lstm_cell_6_layer_call_and_return_conditional_losses, lstm_cell_6_layer_call_fn, lstm_cell_7_layer_call_and_return_conditional_losses, lstm_cell_7_layer_call_fn, lstm_cell_1_layer_call_and_return_conditional_losses while saving (showing 5 of 30). These functions will not be directly callable after loading.\n",
      "WARNING:absl:Found untraced functions such as lstm_cell_6_layer_call_and_return_conditional_losses, lstm_cell_6_layer_call_fn, lstm_cell_7_layer_call_and_return_conditional_losses, lstm_cell_7_layer_call_fn, lstm_cell_1_layer_call_and_return_conditional_losses while saving (showing 5 of 30). These functions will not be directly callable after loading.\n"
     ]
    },
    {
     "name": "stdout",
     "output_type": "stream",
     "text": [
      "INFO:tensorflow:Assets written to: ./Model/model_LSTM22.v/assets\n"
     ]
    },
    {
     "name": "stderr",
     "output_type": "stream",
     "text": [
      "INFO:tensorflow:Assets written to: ./Model/model_LSTM22.v/assets\n"
     ]
    },
    {
     "name": "stdout",
     "output_type": "stream",
     "text": [
      "Epoch 18/500\n",
      "1220/1220 [==============================] - 45s 37ms/step - loss: 0.2789 - accuracy: 0.9044 - val_loss: 0.3422 - val_accuracy: 0.8884\n",
      "\n",
      "Epoch 00018: val_accuracy did not improve from 0.91878\n",
      "Epoch 19/500\n",
      "1220/1220 [==============================] - 48s 39ms/step - loss: 0.2731 - accuracy: 0.9037 - val_loss: 0.2449 - val_accuracy: 0.9233\n",
      "\n",
      "Epoch 00019: val_accuracy improved from 0.91878 to 0.92331, saving model to ./Model/model_LSTM22.v\n"
     ]
    },
    {
     "name": "stderr",
     "output_type": "stream",
     "text": [
      "WARNING:absl:Found untraced functions such as lstm_cell_6_layer_call_and_return_conditional_losses, lstm_cell_6_layer_call_fn, lstm_cell_7_layer_call_and_return_conditional_losses, lstm_cell_7_layer_call_fn, lstm_cell_1_layer_call_and_return_conditional_losses while saving (showing 5 of 30). These functions will not be directly callable after loading.\n",
      "WARNING:absl:Found untraced functions such as lstm_cell_6_layer_call_and_return_conditional_losses, lstm_cell_6_layer_call_fn, lstm_cell_7_layer_call_and_return_conditional_losses, lstm_cell_7_layer_call_fn, lstm_cell_1_layer_call_and_return_conditional_losses while saving (showing 5 of 30). These functions will not be directly callable after loading.\n"
     ]
    },
    {
     "name": "stdout",
     "output_type": "stream",
     "text": [
      "INFO:tensorflow:Assets written to: ./Model/model_LSTM22.v/assets\n"
     ]
    },
    {
     "name": "stderr",
     "output_type": "stream",
     "text": [
      "INFO:tensorflow:Assets written to: ./Model/model_LSTM22.v/assets\n"
     ]
    },
    {
     "name": "stdout",
     "output_type": "stream",
     "text": [
      "Epoch 20/500\n",
      "1220/1220 [==============================] - 42s 34ms/step - loss: 0.2696 - accuracy: 0.9087 - val_loss: 0.2182 - val_accuracy: 0.9368\n",
      "\n",
      "Epoch 00020: val_accuracy improved from 0.92331 to 0.93682, saving model to ./Model/model_LSTM22.v\n"
     ]
    },
    {
     "name": "stderr",
     "output_type": "stream",
     "text": [
      "WARNING:absl:Found untraced functions such as lstm_cell_6_layer_call_and_return_conditional_losses, lstm_cell_6_layer_call_fn, lstm_cell_7_layer_call_and_return_conditional_losses, lstm_cell_7_layer_call_fn, lstm_cell_1_layer_call_and_return_conditional_losses while saving (showing 5 of 30). These functions will not be directly callable after loading.\n",
      "WARNING:absl:Found untraced functions such as lstm_cell_6_layer_call_and_return_conditional_losses, lstm_cell_6_layer_call_fn, lstm_cell_7_layer_call_and_return_conditional_losses, lstm_cell_7_layer_call_fn, lstm_cell_1_layer_call_and_return_conditional_losses while saving (showing 5 of 30). These functions will not be directly callable after loading.\n"
     ]
    },
    {
     "name": "stdout",
     "output_type": "stream",
     "text": [
      "INFO:tensorflow:Assets written to: ./Model/model_LSTM22.v/assets\n"
     ]
    },
    {
     "name": "stderr",
     "output_type": "stream",
     "text": [
      "INFO:tensorflow:Assets written to: ./Model/model_LSTM22.v/assets\n"
     ]
    },
    {
     "name": "stdout",
     "output_type": "stream",
     "text": [
      "Epoch 21/500\n",
      "1220/1220 [==============================] - 43s 35ms/step - loss: 0.2712 - accuracy: 0.9085 - val_loss: 0.2140 - val_accuracy: 0.9359\n",
      "\n",
      "Epoch 00021: val_accuracy did not improve from 0.93682\n",
      "Epoch 22/500\n",
      "1220/1220 [==============================] - 42s 34ms/step - loss: 0.2451 - accuracy: 0.9183 - val_loss: 0.2399 - val_accuracy: 0.9401\n",
      "\n",
      "Epoch 00022: val_accuracy improved from 0.93682 to 0.94010, saving model to ./Model/model_LSTM22.v\n"
     ]
    },
    {
     "name": "stderr",
     "output_type": "stream",
     "text": [
      "WARNING:absl:Found untraced functions such as lstm_cell_6_layer_call_and_return_conditional_losses, lstm_cell_6_layer_call_fn, lstm_cell_7_layer_call_and_return_conditional_losses, lstm_cell_7_layer_call_fn, lstm_cell_1_layer_call_and_return_conditional_losses while saving (showing 5 of 30). These functions will not be directly callable after loading.\n",
      "WARNING:absl:Found untraced functions such as lstm_cell_6_layer_call_and_return_conditional_losses, lstm_cell_6_layer_call_fn, lstm_cell_7_layer_call_and_return_conditional_losses, lstm_cell_7_layer_call_fn, lstm_cell_1_layer_call_and_return_conditional_losses while saving (showing 5 of 30). These functions will not be directly callable after loading.\n"
     ]
    },
    {
     "name": "stdout",
     "output_type": "stream",
     "text": [
      "INFO:tensorflow:Assets written to: ./Model/model_LSTM22.v/assets\n"
     ]
    },
    {
     "name": "stderr",
     "output_type": "stream",
     "text": [
      "INFO:tensorflow:Assets written to: ./Model/model_LSTM22.v/assets\n"
     ]
    },
    {
     "name": "stdout",
     "output_type": "stream",
     "text": [
      "Epoch 23/500\n",
      "1220/1220 [==============================] - 50s 41ms/step - loss: 0.2673 - accuracy: 0.9103 - val_loss: 0.2004 - val_accuracy: 0.9254\n",
      "\n",
      "Epoch 00023: val_accuracy did not improve from 0.94010\n",
      "Epoch 24/500\n",
      "1220/1220 [==============================] - 45s 37ms/step - loss: 0.2244 - accuracy: 0.9240 - val_loss: 0.2546 - val_accuracy: 0.9427\n",
      "\n",
      "Epoch 00024: val_accuracy improved from 0.94010 to 0.94270, saving model to ./Model/model_LSTM22.v\n"
     ]
    },
    {
     "name": "stderr",
     "output_type": "stream",
     "text": [
      "WARNING:absl:Found untraced functions such as lstm_cell_6_layer_call_and_return_conditional_losses, lstm_cell_6_layer_call_fn, lstm_cell_7_layer_call_and_return_conditional_losses, lstm_cell_7_layer_call_fn, lstm_cell_1_layer_call_and_return_conditional_losses while saving (showing 5 of 30). These functions will not be directly callable after loading.\n",
      "WARNING:absl:Found untraced functions such as lstm_cell_6_layer_call_and_return_conditional_losses, lstm_cell_6_layer_call_fn, lstm_cell_7_layer_call_and_return_conditional_losses, lstm_cell_7_layer_call_fn, lstm_cell_1_layer_call_and_return_conditional_losses while saving (showing 5 of 30). These functions will not be directly callable after loading.\n"
     ]
    },
    {
     "name": "stdout",
     "output_type": "stream",
     "text": [
      "INFO:tensorflow:Assets written to: ./Model/model_LSTM22.v/assets\n"
     ]
    },
    {
     "name": "stderr",
     "output_type": "stream",
     "text": [
      "INFO:tensorflow:Assets written to: ./Model/model_LSTM22.v/assets\n"
     ]
    },
    {
     "name": "stdout",
     "output_type": "stream",
     "text": [
      "Epoch 25/500\n",
      "1220/1220 [==============================] - 56s 46ms/step - loss: 0.2706 - accuracy: 0.9142 - val_loss: 0.1703 - val_accuracy: 0.9446\n",
      "\n",
      "Epoch 00025: val_accuracy improved from 0.94270 to 0.94463, saving model to ./Model/model_LSTM22.v\n"
     ]
    },
    {
     "name": "stderr",
     "output_type": "stream",
     "text": [
      "WARNING:absl:Found untraced functions such as lstm_cell_6_layer_call_and_return_conditional_losses, lstm_cell_6_layer_call_fn, lstm_cell_7_layer_call_and_return_conditional_losses, lstm_cell_7_layer_call_fn, lstm_cell_1_layer_call_and_return_conditional_losses while saving (showing 5 of 30). These functions will not be directly callable after loading.\n",
      "WARNING:absl:Found untraced functions such as lstm_cell_6_layer_call_and_return_conditional_losses, lstm_cell_6_layer_call_fn, lstm_cell_7_layer_call_and_return_conditional_losses, lstm_cell_7_layer_call_fn, lstm_cell_1_layer_call_and_return_conditional_losses while saving (showing 5 of 30). These functions will not be directly callable after loading.\n"
     ]
    },
    {
     "name": "stdout",
     "output_type": "stream",
     "text": [
      "INFO:tensorflow:Assets written to: ./Model/model_LSTM22.v/assets\n"
     ]
    },
    {
     "name": "stderr",
     "output_type": "stream",
     "text": [
      "INFO:tensorflow:Assets written to: ./Model/model_LSTM22.v/assets\n"
     ]
    },
    {
     "name": "stdout",
     "output_type": "stream",
     "text": [
      "Epoch 26/500\n",
      "1220/1220 [==============================] - 55s 45ms/step - loss: 0.2103 - accuracy: 0.9281 - val_loss: 0.2057 - val_accuracy: 0.9467\n",
      "\n",
      "Epoch 00026: val_accuracy improved from 0.94463 to 0.94666, saving model to ./Model/model_LSTM22.v\n"
     ]
    },
    {
     "name": "stderr",
     "output_type": "stream",
     "text": [
      "WARNING:absl:Found untraced functions such as lstm_cell_6_layer_call_and_return_conditional_losses, lstm_cell_6_layer_call_fn, lstm_cell_7_layer_call_and_return_conditional_losses, lstm_cell_7_layer_call_fn, lstm_cell_1_layer_call_and_return_conditional_losses while saving (showing 5 of 30). These functions will not be directly callable after loading.\n",
      "WARNING:absl:Found untraced functions such as lstm_cell_6_layer_call_and_return_conditional_losses, lstm_cell_6_layer_call_fn, lstm_cell_7_layer_call_and_return_conditional_losses, lstm_cell_7_layer_call_fn, lstm_cell_1_layer_call_and_return_conditional_losses while saving (showing 5 of 30). These functions will not be directly callable after loading.\n"
     ]
    },
    {
     "name": "stdout",
     "output_type": "stream",
     "text": [
      "INFO:tensorflow:Assets written to: ./Model/model_LSTM22.v/assets\n"
     ]
    },
    {
     "name": "stderr",
     "output_type": "stream",
     "text": [
      "INFO:tensorflow:Assets written to: ./Model/model_LSTM22.v/assets\n"
     ]
    },
    {
     "name": "stdout",
     "output_type": "stream",
     "text": [
      "Epoch 27/500\n",
      "1220/1220 [==============================] - 55s 45ms/step - loss: 0.2855 - accuracy: 0.8992 - val_loss: 0.2119 - val_accuracy: 0.9227\n",
      "\n",
      "Epoch 00027: val_accuracy did not improve from 0.94666\n",
      "Epoch 28/500\n",
      "1220/1220 [==============================] - 55s 45ms/step - loss: 0.2187 - accuracy: 0.9250 - val_loss: 0.2016 - val_accuracy: 0.9461\n",
      "\n",
      "Epoch 00028: val_accuracy did not improve from 0.94666\n",
      "Epoch 29/500\n",
      "1220/1220 [==============================] - 55s 45ms/step - loss: 0.2014 - accuracy: 0.9339 - val_loss: 0.1870 - val_accuracy: 0.9499\n",
      "\n",
      "Epoch 00029: val_accuracy improved from 0.94666 to 0.94994, saving model to ./Model/model_LSTM22.v\n"
     ]
    },
    {
     "name": "stderr",
     "output_type": "stream",
     "text": [
      "WARNING:absl:Found untraced functions such as lstm_cell_6_layer_call_and_return_conditional_losses, lstm_cell_6_layer_call_fn, lstm_cell_7_layer_call_and_return_conditional_losses, lstm_cell_7_layer_call_fn, lstm_cell_1_layer_call_and_return_conditional_losses while saving (showing 5 of 30). These functions will not be directly callable after loading.\n",
      "WARNING:absl:Found untraced functions such as lstm_cell_6_layer_call_and_return_conditional_losses, lstm_cell_6_layer_call_fn, lstm_cell_7_layer_call_and_return_conditional_losses, lstm_cell_7_layer_call_fn, lstm_cell_1_layer_call_and_return_conditional_losses while saving (showing 5 of 30). These functions will not be directly callable after loading.\n"
     ]
    },
    {
     "name": "stdout",
     "output_type": "stream",
     "text": [
      "INFO:tensorflow:Assets written to: ./Model/model_LSTM22.v/assets\n"
     ]
    },
    {
     "name": "stderr",
     "output_type": "stream",
     "text": [
      "INFO:tensorflow:Assets written to: ./Model/model_LSTM22.v/assets\n"
     ]
    },
    {
     "name": "stdout",
     "output_type": "stream",
     "text": [
      "Epoch 30/500\n",
      "1220/1220 [==============================] - 55s 45ms/step - loss: 0.1963 - accuracy: 0.9373 - val_loss: 0.2004 - val_accuracy: 0.9504\n",
      "\n",
      "Epoch 00030: val_accuracy improved from 0.94994 to 0.95042, saving model to ./Model/model_LSTM22.v\n"
     ]
    },
    {
     "name": "stderr",
     "output_type": "stream",
     "text": [
      "WARNING:absl:Found untraced functions such as lstm_cell_6_layer_call_and_return_conditional_losses, lstm_cell_6_layer_call_fn, lstm_cell_7_layer_call_and_return_conditional_losses, lstm_cell_7_layer_call_fn, lstm_cell_1_layer_call_and_return_conditional_losses while saving (showing 5 of 30). These functions will not be directly callable after loading.\n",
      "WARNING:absl:Found untraced functions such as lstm_cell_6_layer_call_and_return_conditional_losses, lstm_cell_6_layer_call_fn, lstm_cell_7_layer_call_and_return_conditional_losses, lstm_cell_7_layer_call_fn, lstm_cell_1_layer_call_and_return_conditional_losses while saving (showing 5 of 30). These functions will not be directly callable after loading.\n"
     ]
    },
    {
     "name": "stdout",
     "output_type": "stream",
     "text": [
      "INFO:tensorflow:Assets written to: ./Model/model_LSTM22.v/assets\n"
     ]
    },
    {
     "name": "stderr",
     "output_type": "stream",
     "text": [
      "INFO:tensorflow:Assets written to: ./Model/model_LSTM22.v/assets\n"
     ]
    },
    {
     "name": "stdout",
     "output_type": "stream",
     "text": [
      "Epoch 31/500\n",
      "1220/1220 [==============================] - 57s 47ms/step - loss: 0.1942 - accuracy: 0.9383 - val_loss: 0.2044 - val_accuracy: 0.9525\n",
      "\n",
      "Epoch 00031: val_accuracy improved from 0.95042 to 0.95254, saving model to ./Model/model_LSTM22.v\n"
     ]
    },
    {
     "name": "stderr",
     "output_type": "stream",
     "text": [
      "WARNING:absl:Found untraced functions such as lstm_cell_6_layer_call_and_return_conditional_losses, lstm_cell_6_layer_call_fn, lstm_cell_7_layer_call_and_return_conditional_losses, lstm_cell_7_layer_call_fn, lstm_cell_1_layer_call_and_return_conditional_losses while saving (showing 5 of 30). These functions will not be directly callable after loading.\n",
      "WARNING:absl:Found untraced functions such as lstm_cell_6_layer_call_and_return_conditional_losses, lstm_cell_6_layer_call_fn, lstm_cell_7_layer_call_and_return_conditional_losses, lstm_cell_7_layer_call_fn, lstm_cell_1_layer_call_and_return_conditional_losses while saving (showing 5 of 30). These functions will not be directly callable after loading.\n"
     ]
    },
    {
     "name": "stdout",
     "output_type": "stream",
     "text": [
      "INFO:tensorflow:Assets written to: ./Model/model_LSTM22.v/assets\n"
     ]
    },
    {
     "name": "stderr",
     "output_type": "stream",
     "text": [
      "INFO:tensorflow:Assets written to: ./Model/model_LSTM22.v/assets\n"
     ]
    },
    {
     "name": "stdout",
     "output_type": "stream",
     "text": [
      "Epoch 32/500\n",
      "1220/1220 [==============================] - 58s 47ms/step - loss: 0.2385 - accuracy: 0.9212 - val_loss: 0.1900 - val_accuracy: 0.9388\n",
      "\n",
      "Epoch 00032: val_accuracy did not improve from 0.95254\n",
      "Epoch 33/500\n",
      "1220/1220 [==============================] - 53s 43ms/step - loss: 0.1855 - accuracy: 0.9389 - val_loss: 0.2012 - val_accuracy: 0.9514\n",
      "\n",
      "Epoch 00033: val_accuracy did not improve from 0.95254\n",
      "Epoch 34/500\n",
      "1220/1220 [==============================] - 47s 39ms/step - loss: 0.1799 - accuracy: 0.9402 - val_loss: 0.1685 - val_accuracy: 0.9517\n",
      "\n",
      "Epoch 00034: val_accuracy did not improve from 0.95254\n",
      "Epoch 35/500\n",
      "1220/1220 [==============================] - 58s 47ms/step - loss: 0.1940 - accuracy: 0.9348 - val_loss: 0.1576 - val_accuracy: 0.9560\n",
      "\n",
      "Epoch 00035: val_accuracy improved from 0.95254 to 0.95601, saving model to ./Model/model_LSTM22.v\n"
     ]
    },
    {
     "name": "stderr",
     "output_type": "stream",
     "text": [
      "WARNING:absl:Found untraced functions such as lstm_cell_6_layer_call_and_return_conditional_losses, lstm_cell_6_layer_call_fn, lstm_cell_7_layer_call_and_return_conditional_losses, lstm_cell_7_layer_call_fn, lstm_cell_1_layer_call_and_return_conditional_losses while saving (showing 5 of 30). These functions will not be directly callable after loading.\n",
      "WARNING:absl:Found untraced functions such as lstm_cell_6_layer_call_and_return_conditional_losses, lstm_cell_6_layer_call_fn, lstm_cell_7_layer_call_and_return_conditional_losses, lstm_cell_7_layer_call_fn, lstm_cell_1_layer_call_and_return_conditional_losses while saving (showing 5 of 30). These functions will not be directly callable after loading.\n"
     ]
    },
    {
     "name": "stdout",
     "output_type": "stream",
     "text": [
      "INFO:tensorflow:Assets written to: ./Model/model_LSTM22.v/assets\n"
     ]
    },
    {
     "name": "stderr",
     "output_type": "stream",
     "text": [
      "INFO:tensorflow:Assets written to: ./Model/model_LSTM22.v/assets\n"
     ]
    },
    {
     "name": "stdout",
     "output_type": "stream",
     "text": [
      "Epoch 36/500\n",
      "1220/1220 [==============================] - 51s 42ms/step - loss: 0.2048 - accuracy: 0.9338 - val_loss: 0.2719 - val_accuracy: 0.8921\n",
      "\n",
      "Epoch 00036: val_accuracy did not improve from 0.95601\n",
      "Epoch 37/500\n",
      "1220/1220 [==============================] - 50s 41ms/step - loss: 0.1895 - accuracy: 0.9362 - val_loss: 0.1726 - val_accuracy: 0.9575\n",
      "\n",
      "Epoch 00037: val_accuracy improved from 0.95601 to 0.95746, saving model to ./Model/model_LSTM22.v\n"
     ]
    },
    {
     "name": "stderr",
     "output_type": "stream",
     "text": [
      "WARNING:absl:Found untraced functions such as lstm_cell_6_layer_call_and_return_conditional_losses, lstm_cell_6_layer_call_fn, lstm_cell_7_layer_call_and_return_conditional_losses, lstm_cell_7_layer_call_fn, lstm_cell_1_layer_call_and_return_conditional_losses while saving (showing 5 of 30). These functions will not be directly callable after loading.\n",
      "WARNING:absl:Found untraced functions such as lstm_cell_6_layer_call_and_return_conditional_losses, lstm_cell_6_layer_call_fn, lstm_cell_7_layer_call_and_return_conditional_losses, lstm_cell_7_layer_call_fn, lstm_cell_1_layer_call_and_return_conditional_losses while saving (showing 5 of 30). These functions will not be directly callable after loading.\n"
     ]
    },
    {
     "name": "stdout",
     "output_type": "stream",
     "text": [
      "INFO:tensorflow:Assets written to: ./Model/model_LSTM22.v/assets\n"
     ]
    },
    {
     "name": "stderr",
     "output_type": "stream",
     "text": [
      "INFO:tensorflow:Assets written to: ./Model/model_LSTM22.v/assets\n"
     ]
    },
    {
     "name": "stdout",
     "output_type": "stream",
     "text": [
      "Epoch 38/500\n",
      "1220/1220 [==============================] - 57s 47ms/step - loss: 0.1704 - accuracy: 0.9447 - val_loss: 0.1776 - val_accuracy: 0.9496\n",
      "\n",
      "Epoch 00038: val_accuracy did not improve from 0.95746\n",
      "Epoch 39/500\n",
      "1220/1220 [==============================] - 53s 43ms/step - loss: 0.1613 - accuracy: 0.9468 - val_loss: 0.1988 - val_accuracy: 0.9564\n",
      "\n",
      "Epoch 00039: val_accuracy did not improve from 0.95746\n",
      "Epoch 40/500\n",
      "1220/1220 [==============================] - 49s 40ms/step - loss: 0.1617 - accuracy: 0.9502 - val_loss: 0.1384 - val_accuracy: 0.9624\n",
      "\n",
      "Epoch 00040: val_accuracy improved from 0.95746 to 0.96238, saving model to ./Model/model_LSTM22.v\n"
     ]
    },
    {
     "name": "stderr",
     "output_type": "stream",
     "text": [
      "WARNING:absl:Found untraced functions such as lstm_cell_6_layer_call_and_return_conditional_losses, lstm_cell_6_layer_call_fn, lstm_cell_7_layer_call_and_return_conditional_losses, lstm_cell_7_layer_call_fn, lstm_cell_1_layer_call_and_return_conditional_losses while saving (showing 5 of 30). These functions will not be directly callable after loading.\n",
      "WARNING:absl:Found untraced functions such as lstm_cell_6_layer_call_and_return_conditional_losses, lstm_cell_6_layer_call_fn, lstm_cell_7_layer_call_and_return_conditional_losses, lstm_cell_7_layer_call_fn, lstm_cell_1_layer_call_and_return_conditional_losses while saving (showing 5 of 30). These functions will not be directly callable after loading.\n"
     ]
    },
    {
     "name": "stdout",
     "output_type": "stream",
     "text": [
      "INFO:tensorflow:Assets written to: ./Model/model_LSTM22.v/assets\n"
     ]
    },
    {
     "name": "stderr",
     "output_type": "stream",
     "text": [
      "INFO:tensorflow:Assets written to: ./Model/model_LSTM22.v/assets\n"
     ]
    },
    {
     "name": "stdout",
     "output_type": "stream",
     "text": [
      "Epoch 41/500\n",
      "1220/1220 [==============================] - 56s 46ms/step - loss: 0.1549 - accuracy: 0.9508 - val_loss: 0.1656 - val_accuracy: 0.9611\n",
      "\n",
      "Epoch 00041: val_accuracy did not improve from 0.96238\n",
      "Epoch 42/500\n",
      "1220/1220 [==============================] - 59s 48ms/step - loss: 0.1519 - accuracy: 0.9533 - val_loss: 0.1597 - val_accuracy: 0.9662\n",
      "\n",
      "Epoch 00042: val_accuracy improved from 0.96238 to 0.96624, saving model to ./Model/model_LSTM22.v\n"
     ]
    },
    {
     "name": "stderr",
     "output_type": "stream",
     "text": [
      "WARNING:absl:Found untraced functions such as lstm_cell_6_layer_call_and_return_conditional_losses, lstm_cell_6_layer_call_fn, lstm_cell_7_layer_call_and_return_conditional_losses, lstm_cell_7_layer_call_fn, lstm_cell_1_layer_call_and_return_conditional_losses while saving (showing 5 of 30). These functions will not be directly callable after loading.\n",
      "WARNING:absl:Found untraced functions such as lstm_cell_6_layer_call_and_return_conditional_losses, lstm_cell_6_layer_call_fn, lstm_cell_7_layer_call_and_return_conditional_losses, lstm_cell_7_layer_call_fn, lstm_cell_1_layer_call_and_return_conditional_losses while saving (showing 5 of 30). These functions will not be directly callable after loading.\n"
     ]
    },
    {
     "name": "stdout",
     "output_type": "stream",
     "text": [
      "INFO:tensorflow:Assets written to: ./Model/model_LSTM22.v/assets\n"
     ]
    },
    {
     "name": "stderr",
     "output_type": "stream",
     "text": [
      "INFO:tensorflow:Assets written to: ./Model/model_LSTM22.v/assets\n"
     ]
    },
    {
     "name": "stdout",
     "output_type": "stream",
     "text": [
      "Epoch 43/500\n",
      "1220/1220 [==============================] - 58s 47ms/step - loss: 0.1574 - accuracy: 0.9497 - val_loss: 0.1636 - val_accuracy: 0.9633\n",
      "\n",
      "Epoch 00043: val_accuracy did not improve from 0.96624\n",
      "Epoch 44/500\n",
      "1220/1220 [==============================] - 52s 42ms/step - loss: 0.1498 - accuracy: 0.9520 - val_loss: 0.1564 - val_accuracy: 0.9651\n",
      "\n",
      "Epoch 00044: val_accuracy did not improve from 0.96624\n",
      "Epoch 45/500\n",
      "1220/1220 [==============================] - 49s 40ms/step - loss: 0.2296 - accuracy: 0.9281 - val_loss: 0.1736 - val_accuracy: 0.9531\n",
      "\n",
      "Epoch 00045: val_accuracy did not improve from 0.96624\n",
      "Epoch 46/500\n",
      "1220/1220 [==============================] - 53s 43ms/step - loss: 0.1604 - accuracy: 0.9472 - val_loss: 0.1496 - val_accuracy: 0.9606\n",
      "\n",
      "Epoch 00046: val_accuracy did not improve from 0.96624\n",
      "Epoch 47/500\n",
      "1220/1220 [==============================] - 53s 43ms/step - loss: 0.1755 - accuracy: 0.9437 - val_loss: 0.1593 - val_accuracy: 0.9621\n",
      "\n",
      "Epoch 00047: val_accuracy did not improve from 0.96624\n",
      "Epoch 48/500\n",
      "1220/1220 [==============================] - 51s 42ms/step - loss: 0.1569 - accuracy: 0.9498 - val_loss: 0.1634 - val_accuracy: 0.9500\n",
      "\n",
      "Epoch 00048: val_accuracy did not improve from 0.96624\n",
      "Epoch 49/500\n",
      "1220/1220 [==============================] - 51s 42ms/step - loss: 0.1970 - accuracy: 0.9333 - val_loss: 0.1772 - val_accuracy: 0.9452\n",
      "\n",
      "Epoch 00049: val_accuracy did not improve from 0.96624\n",
      "Epoch 50/500\n",
      "1220/1220 [==============================] - 58s 47ms/step - loss: 0.1541 - accuracy: 0.9492 - val_loss: 0.1399 - val_accuracy: 0.9666\n",
      "\n",
      "Epoch 00050: val_accuracy improved from 0.96624 to 0.96662, saving model to ./Model/model_LSTM22.v\n"
     ]
    },
    {
     "name": "stderr",
     "output_type": "stream",
     "text": [
      "WARNING:absl:Found untraced functions such as lstm_cell_6_layer_call_and_return_conditional_losses, lstm_cell_6_layer_call_fn, lstm_cell_7_layer_call_and_return_conditional_losses, lstm_cell_7_layer_call_fn, lstm_cell_1_layer_call_and_return_conditional_losses while saving (showing 5 of 30). These functions will not be directly callable after loading.\n",
      "WARNING:absl:Found untraced functions such as lstm_cell_6_layer_call_and_return_conditional_losses, lstm_cell_6_layer_call_fn, lstm_cell_7_layer_call_and_return_conditional_losses, lstm_cell_7_layer_call_fn, lstm_cell_1_layer_call_and_return_conditional_losses while saving (showing 5 of 30). These functions will not be directly callable after loading.\n"
     ]
    },
    {
     "name": "stdout",
     "output_type": "stream",
     "text": [
      "INFO:tensorflow:Assets written to: ./Model/model_LSTM22.v/assets\n"
     ]
    },
    {
     "name": "stderr",
     "output_type": "stream",
     "text": [
      "INFO:tensorflow:Assets written to: ./Model/model_LSTM22.v/assets\n"
     ]
    },
    {
     "name": "stdout",
     "output_type": "stream",
     "text": [
      "Epoch 51/500\n",
      "1220/1220 [==============================] - 52s 42ms/step - loss: 0.1347 - accuracy: 0.9562 - val_loss: 0.1461 - val_accuracy: 0.9700\n",
      "\n",
      "Epoch 00051: val_accuracy improved from 0.96662 to 0.97000, saving model to ./Model/model_LSTM22.v\n"
     ]
    },
    {
     "name": "stderr",
     "output_type": "stream",
     "text": [
      "WARNING:absl:Found untraced functions such as lstm_cell_6_layer_call_and_return_conditional_losses, lstm_cell_6_layer_call_fn, lstm_cell_7_layer_call_and_return_conditional_losses, lstm_cell_7_layer_call_fn, lstm_cell_1_layer_call_and_return_conditional_losses while saving (showing 5 of 30). These functions will not be directly callable after loading.\n",
      "WARNING:absl:Found untraced functions such as lstm_cell_6_layer_call_and_return_conditional_losses, lstm_cell_6_layer_call_fn, lstm_cell_7_layer_call_and_return_conditional_losses, lstm_cell_7_layer_call_fn, lstm_cell_1_layer_call_and_return_conditional_losses while saving (showing 5 of 30). These functions will not be directly callable after loading.\n"
     ]
    },
    {
     "name": "stdout",
     "output_type": "stream",
     "text": [
      "INFO:tensorflow:Assets written to: ./Model/model_LSTM22.v/assets\n"
     ]
    },
    {
     "name": "stderr",
     "output_type": "stream",
     "text": [
      "INFO:tensorflow:Assets written to: ./Model/model_LSTM22.v/assets\n"
     ]
    },
    {
     "name": "stdout",
     "output_type": "stream",
     "text": [
      "Epoch 52/500\n",
      "1220/1220 [==============================] - 54s 44ms/step - loss: 0.1323 - accuracy: 0.9569 - val_loss: 0.1355 - val_accuracy: 0.9694\n",
      "\n",
      "Epoch 00052: val_accuracy did not improve from 0.97000\n",
      "Epoch 53/500\n",
      "1220/1220 [==============================] - 50s 41ms/step - loss: 0.1276 - accuracy: 0.9580 - val_loss: 0.1190 - val_accuracy: 0.9707\n",
      "\n",
      "Epoch 00053: val_accuracy improved from 0.97000 to 0.97068, saving model to ./Model/model_LSTM22.v\n"
     ]
    },
    {
     "name": "stderr",
     "output_type": "stream",
     "text": [
      "WARNING:absl:Found untraced functions such as lstm_cell_6_layer_call_and_return_conditional_losses, lstm_cell_6_layer_call_fn, lstm_cell_7_layer_call_and_return_conditional_losses, lstm_cell_7_layer_call_fn, lstm_cell_1_layer_call_and_return_conditional_losses while saving (showing 5 of 30). These functions will not be directly callable after loading.\n",
      "WARNING:absl:Found untraced functions such as lstm_cell_6_layer_call_and_return_conditional_losses, lstm_cell_6_layer_call_fn, lstm_cell_7_layer_call_and_return_conditional_losses, lstm_cell_7_layer_call_fn, lstm_cell_1_layer_call_and_return_conditional_losses while saving (showing 5 of 30). These functions will not be directly callable after loading.\n"
     ]
    },
    {
     "name": "stdout",
     "output_type": "stream",
     "text": [
      "INFO:tensorflow:Assets written to: ./Model/model_LSTM22.v/assets\n"
     ]
    },
    {
     "name": "stderr",
     "output_type": "stream",
     "text": [
      "INFO:tensorflow:Assets written to: ./Model/model_LSTM22.v/assets\n"
     ]
    },
    {
     "name": "stdout",
     "output_type": "stream",
     "text": [
      "Epoch 54/500\n",
      "1220/1220 [==============================] - 57s 46ms/step - loss: 0.3009 - accuracy: 0.8971 - val_loss: 0.2321 - val_accuracy: 0.9207\n",
      "\n",
      "Epoch 00054: val_accuracy did not improve from 0.97068\n",
      "Epoch 55/500\n",
      "1220/1220 [==============================] - 57s 47ms/step - loss: 0.1829 - accuracy: 0.9312 - val_loss: 0.1580 - val_accuracy: 0.9513\n",
      "\n",
      "Epoch 00055: val_accuracy did not improve from 0.97068\n",
      "Epoch 56/500\n",
      "1220/1220 [==============================] - 47s 39ms/step - loss: 0.1477 - accuracy: 0.9495 - val_loss: 0.1402 - val_accuracy: 0.9618\n",
      "\n",
      "Epoch 00056: val_accuracy did not improve from 0.97068\n",
      "Epoch 57/500\n",
      "1220/1220 [==============================] - 56s 46ms/step - loss: 0.1428 - accuracy: 0.9510 - val_loss: 0.1518 - val_accuracy: 0.9623\n",
      "\n",
      "Epoch 00057: val_accuracy did not improve from 0.97068\n",
      "Epoch 58/500\n",
      "1220/1220 [==============================] - 54s 44ms/step - loss: 0.1342 - accuracy: 0.9582 - val_loss: 0.1356 - val_accuracy: 0.9693\n",
      "\n",
      "Epoch 00058: val_accuracy did not improve from 0.97068\n",
      "Epoch 59/500\n",
      "1220/1220 [==============================] - 48s 39ms/step - loss: 0.1286 - accuracy: 0.9603 - val_loss: 0.1302 - val_accuracy: 0.9697\n",
      "\n",
      "Epoch 00059: val_accuracy did not improve from 0.97068\n",
      "Epoch 60/500\n",
      "1220/1220 [==============================] - 58s 48ms/step - loss: 0.1636 - accuracy: 0.9487 - val_loss: 0.1404 - val_accuracy: 0.9684\n",
      "\n",
      "Epoch 00060: val_accuracy did not improve from 0.97068\n",
      "Epoch 61/500\n",
      "1220/1220 [==============================] - 52s 43ms/step - loss: 0.1231 - accuracy: 0.9595 - val_loss: 0.1383 - val_accuracy: 0.9705\n",
      "\n",
      "Epoch 00061: val_accuracy did not improve from 0.97068\n",
      "Epoch 62/500\n",
      "1220/1220 [==============================] - 52s 43ms/step - loss: 0.1681 - accuracy: 0.9438 - val_loss: 0.1177 - val_accuracy: 0.9714\n",
      "\n",
      "Epoch 00062: val_accuracy improved from 0.97068 to 0.97145, saving model to ./Model/model_LSTM22.v\n"
     ]
    },
    {
     "name": "stderr",
     "output_type": "stream",
     "text": [
      "WARNING:absl:Found untraced functions such as lstm_cell_6_layer_call_and_return_conditional_losses, lstm_cell_6_layer_call_fn, lstm_cell_7_layer_call_and_return_conditional_losses, lstm_cell_7_layer_call_fn, lstm_cell_1_layer_call_and_return_conditional_losses while saving (showing 5 of 30). These functions will not be directly callable after loading.\n",
      "WARNING:absl:Found untraced functions such as lstm_cell_6_layer_call_and_return_conditional_losses, lstm_cell_6_layer_call_fn, lstm_cell_7_layer_call_and_return_conditional_losses, lstm_cell_7_layer_call_fn, lstm_cell_1_layer_call_and_return_conditional_losses while saving (showing 5 of 30). These functions will not be directly callable after loading.\n"
     ]
    },
    {
     "name": "stdout",
     "output_type": "stream",
     "text": [
      "INFO:tensorflow:Assets written to: ./Model/model_LSTM22.v/assets\n"
     ]
    },
    {
     "name": "stderr",
     "output_type": "stream",
     "text": [
      "INFO:tensorflow:Assets written to: ./Model/model_LSTM22.v/assets\n"
     ]
    },
    {
     "name": "stdout",
     "output_type": "stream",
     "text": [
      "Epoch 63/500\n",
      "1220/1220 [==============================] - 57s 46ms/step - loss: 0.1427 - accuracy: 0.9593 - val_loss: 0.2046 - val_accuracy: 0.9507\n",
      "\n",
      "Epoch 00063: val_accuracy did not improve from 0.97145\n",
      "Epoch 64/500\n",
      "1220/1220 [==============================] - 53s 44ms/step - loss: 0.1316 - accuracy: 0.9596 - val_loss: 0.1179 - val_accuracy: 0.9743\n",
      "\n",
      "Epoch 00064: val_accuracy improved from 0.97145 to 0.97434, saving model to ./Model/model_LSTM22.v\n"
     ]
    },
    {
     "name": "stderr",
     "output_type": "stream",
     "text": [
      "WARNING:absl:Found untraced functions such as lstm_cell_6_layer_call_and_return_conditional_losses, lstm_cell_6_layer_call_fn, lstm_cell_7_layer_call_and_return_conditional_losses, lstm_cell_7_layer_call_fn, lstm_cell_1_layer_call_and_return_conditional_losses while saving (showing 5 of 30). These functions will not be directly callable after loading.\n",
      "WARNING:absl:Found untraced functions such as lstm_cell_6_layer_call_and_return_conditional_losses, lstm_cell_6_layer_call_fn, lstm_cell_7_layer_call_and_return_conditional_losses, lstm_cell_7_layer_call_fn, lstm_cell_1_layer_call_and_return_conditional_losses while saving (showing 5 of 30). These functions will not be directly callable after loading.\n"
     ]
    },
    {
     "name": "stdout",
     "output_type": "stream",
     "text": [
      "INFO:tensorflow:Assets written to: ./Model/model_LSTM22.v/assets\n"
     ]
    },
    {
     "name": "stderr",
     "output_type": "stream",
     "text": [
      "INFO:tensorflow:Assets written to: ./Model/model_LSTM22.v/assets\n"
     ]
    },
    {
     "name": "stdout",
     "output_type": "stream",
     "text": [
      "Epoch 65/500\n",
      "1220/1220 [==============================] - 55s 45ms/step - loss: 0.1252 - accuracy: 0.9633 - val_loss: 0.1380 - val_accuracy: 0.9708\n",
      "\n",
      "Epoch 00065: val_accuracy did not improve from 0.97434\n",
      "Epoch 66/500\n",
      "1220/1220 [==============================] - 53s 43ms/step - loss: 0.1072 - accuracy: 0.9647 - val_loss: 0.2943 - val_accuracy: 0.9518\n",
      "\n",
      "Epoch 00066: val_accuracy did not improve from 0.97434\n",
      "Epoch 67/500\n",
      "1220/1220 [==============================] - 50s 41ms/step - loss: 0.1488 - accuracy: 0.9539 - val_loss: 0.1551 - val_accuracy: 0.9633\n",
      "\n",
      "Epoch 00067: val_accuracy did not improve from 0.97434\n",
      "Epoch 68/500\n",
      "1220/1220 [==============================] - 52s 43ms/step - loss: 0.1362 - accuracy: 0.9545 - val_loss: 0.1252 - val_accuracy: 0.9709\n",
      "\n",
      "Epoch 00068: val_accuracy did not improve from 0.97434\n",
      "Epoch 69/500\n",
      "1220/1220 [==============================] - 57s 47ms/step - loss: 0.1141 - accuracy: 0.9651 - val_loss: 0.1366 - val_accuracy: 0.9714\n",
      "\n",
      "Epoch 00069: val_accuracy did not improve from 0.97434\n",
      "Epoch 70/500\n",
      "1220/1220 [==============================] - 53s 44ms/step - loss: 0.1324 - accuracy: 0.9601 - val_loss: 0.1444 - val_accuracy: 0.9617\n",
      "\n",
      "Epoch 00070: val_accuracy did not improve from 0.97434\n",
      "Epoch 71/500\n",
      "1220/1220 [==============================] - 49s 40ms/step - loss: 0.1098 - accuracy: 0.9656 - val_loss: 0.1205 - val_accuracy: 0.9723\n",
      "\n",
      "Epoch 00071: val_accuracy did not improve from 0.97434\n",
      "Epoch 72/500\n",
      "1220/1220 [==============================] - 59s 48ms/step - loss: 0.2344 - accuracy: 0.9217 - val_loss: 0.2348 - val_accuracy: 0.9237\n",
      "\n",
      "Epoch 00072: val_accuracy did not improve from 0.97434\n",
      "Epoch 73/500\n",
      "1220/1220 [==============================] - 54s 44ms/step - loss: 0.2057 - accuracy: 0.9341 - val_loss: 0.1354 - val_accuracy: 0.9618\n",
      "\n",
      "Epoch 00073: val_accuracy did not improve from 0.97434\n",
      "Epoch 74/500\n",
      "1220/1220 [==============================] - 48s 40ms/step - loss: 0.1534 - accuracy: 0.9545 - val_loss: 0.1205 - val_accuracy: 0.9685\n",
      "\n",
      "Epoch 00074: val_accuracy did not improve from 0.97434\n",
      "Epoch 75/500\n",
      "1220/1220 [==============================] - 59s 48ms/step - loss: 0.1193 - accuracy: 0.9652 - val_loss: 0.1193 - val_accuracy: 0.9718\n",
      "\n",
      "Epoch 00075: val_accuracy did not improve from 0.97434\n",
      "Epoch 76/500\n",
      "1220/1220 [==============================] - 54s 45ms/step - loss: 0.1078 - accuracy: 0.9672 - val_loss: 0.1107 - val_accuracy: 0.9745\n",
      "\n",
      "Epoch 00076: val_accuracy improved from 0.97434 to 0.97453, saving model to ./Model/model_LSTM22.v\n"
     ]
    },
    {
     "name": "stderr",
     "output_type": "stream",
     "text": [
      "WARNING:absl:Found untraced functions such as lstm_cell_6_layer_call_and_return_conditional_losses, lstm_cell_6_layer_call_fn, lstm_cell_7_layer_call_and_return_conditional_losses, lstm_cell_7_layer_call_fn, lstm_cell_1_layer_call_and_return_conditional_losses while saving (showing 5 of 30). These functions will not be directly callable after loading.\n",
      "WARNING:absl:Found untraced functions such as lstm_cell_6_layer_call_and_return_conditional_losses, lstm_cell_6_layer_call_fn, lstm_cell_7_layer_call_and_return_conditional_losses, lstm_cell_7_layer_call_fn, lstm_cell_1_layer_call_and_return_conditional_losses while saving (showing 5 of 30). These functions will not be directly callable after loading.\n"
     ]
    },
    {
     "name": "stdout",
     "output_type": "stream",
     "text": [
      "INFO:tensorflow:Assets written to: ./Model/model_LSTM22.v/assets\n"
     ]
    },
    {
     "name": "stderr",
     "output_type": "stream",
     "text": [
      "INFO:tensorflow:Assets written to: ./Model/model_LSTM22.v/assets\n"
     ]
    },
    {
     "name": "stdout",
     "output_type": "stream",
     "text": [
      "Epoch 77/500\n",
      "1220/1220 [==============================] - 52s 43ms/step - loss: 0.0982 - accuracy: 0.9690 - val_loss: 0.1344 - val_accuracy: 0.9729\n",
      "\n",
      "Epoch 00077: val_accuracy did not improve from 0.97453\n",
      "Epoch 78/500\n",
      "1220/1220 [==============================] - 56s 46ms/step - loss: 0.1280 - accuracy: 0.9640 - val_loss: 0.1079 - val_accuracy: 0.9755\n",
      "\n",
      "Epoch 00078: val_accuracy improved from 0.97453 to 0.97550, saving model to ./Model/model_LSTM22.v\n"
     ]
    },
    {
     "name": "stderr",
     "output_type": "stream",
     "text": [
      "WARNING:absl:Found untraced functions such as lstm_cell_6_layer_call_and_return_conditional_losses, lstm_cell_6_layer_call_fn, lstm_cell_7_layer_call_and_return_conditional_losses, lstm_cell_7_layer_call_fn, lstm_cell_1_layer_call_and_return_conditional_losses while saving (showing 5 of 30). These functions will not be directly callable after loading.\n",
      "WARNING:absl:Found untraced functions such as lstm_cell_6_layer_call_and_return_conditional_losses, lstm_cell_6_layer_call_fn, lstm_cell_7_layer_call_and_return_conditional_losses, lstm_cell_7_layer_call_fn, lstm_cell_1_layer_call_and_return_conditional_losses while saving (showing 5 of 30). These functions will not be directly callable after loading.\n"
     ]
    },
    {
     "name": "stdout",
     "output_type": "stream",
     "text": [
      "INFO:tensorflow:Assets written to: ./Model/model_LSTM22.v/assets\n"
     ]
    },
    {
     "name": "stderr",
     "output_type": "stream",
     "text": [
      "INFO:tensorflow:Assets written to: ./Model/model_LSTM22.v/assets\n"
     ]
    },
    {
     "name": "stdout",
     "output_type": "stream",
     "text": [
      "Epoch 79/500\n",
      "1220/1220 [==============================] - 48s 39ms/step - loss: 0.1275 - accuracy: 0.9601 - val_loss: 0.1169 - val_accuracy: 0.9756\n",
      "\n",
      "Epoch 00079: val_accuracy improved from 0.97550 to 0.97560, saving model to ./Model/model_LSTM22.v\n"
     ]
    },
    {
     "name": "stderr",
     "output_type": "stream",
     "text": [
      "WARNING:absl:Found untraced functions such as lstm_cell_6_layer_call_and_return_conditional_losses, lstm_cell_6_layer_call_fn, lstm_cell_7_layer_call_and_return_conditional_losses, lstm_cell_7_layer_call_fn, lstm_cell_1_layer_call_and_return_conditional_losses while saving (showing 5 of 30). These functions will not be directly callable after loading.\n",
      "WARNING:absl:Found untraced functions such as lstm_cell_6_layer_call_and_return_conditional_losses, lstm_cell_6_layer_call_fn, lstm_cell_7_layer_call_and_return_conditional_losses, lstm_cell_7_layer_call_fn, lstm_cell_1_layer_call_and_return_conditional_losses while saving (showing 5 of 30). These functions will not be directly callable after loading.\n"
     ]
    },
    {
     "name": "stdout",
     "output_type": "stream",
     "text": [
      "INFO:tensorflow:Assets written to: ./Model/model_LSTM22.v/assets\n"
     ]
    },
    {
     "name": "stderr",
     "output_type": "stream",
     "text": [
      "INFO:tensorflow:Assets written to: ./Model/model_LSTM22.v/assets\n"
     ]
    },
    {
     "name": "stdout",
     "output_type": "stream",
     "text": [
      "Epoch 80/500\n",
      "1220/1220 [==============================] - 57s 47ms/step - loss: 0.1054 - accuracy: 0.9677 - val_loss: 0.1278 - val_accuracy: 0.9586\n",
      "\n",
      "Epoch 00080: val_accuracy did not improve from 0.97560\n",
      "Epoch 81/500\n",
      "1220/1220 [==============================] - 47s 39ms/step - loss: 0.1473 - accuracy: 0.9552 - val_loss: 0.1132 - val_accuracy: 0.9754\n",
      "\n",
      "Epoch 00081: val_accuracy did not improve from 0.97560\n",
      "Epoch 82/500\n",
      "1220/1220 [==============================] - 44s 36ms/step - loss: 0.1237 - accuracy: 0.9600 - val_loss: 0.1051 - val_accuracy: 0.9757\n",
      "\n",
      "Epoch 00082: val_accuracy improved from 0.97560 to 0.97569, saving model to ./Model/model_LSTM22.v\n"
     ]
    },
    {
     "name": "stderr",
     "output_type": "stream",
     "text": [
      "WARNING:absl:Found untraced functions such as lstm_cell_6_layer_call_and_return_conditional_losses, lstm_cell_6_layer_call_fn, lstm_cell_7_layer_call_and_return_conditional_losses, lstm_cell_7_layer_call_fn, lstm_cell_1_layer_call_and_return_conditional_losses while saving (showing 5 of 30). These functions will not be directly callable after loading.\n",
      "WARNING:absl:Found untraced functions such as lstm_cell_6_layer_call_and_return_conditional_losses, lstm_cell_6_layer_call_fn, lstm_cell_7_layer_call_and_return_conditional_losses, lstm_cell_7_layer_call_fn, lstm_cell_1_layer_call_and_return_conditional_losses while saving (showing 5 of 30). These functions will not be directly callable after loading.\n"
     ]
    },
    {
     "name": "stdout",
     "output_type": "stream",
     "text": [
      "INFO:tensorflow:Assets written to: ./Model/model_LSTM22.v/assets\n"
     ]
    },
    {
     "name": "stderr",
     "output_type": "stream",
     "text": [
      "INFO:tensorflow:Assets written to: ./Model/model_LSTM22.v/assets\n"
     ]
    },
    {
     "name": "stdout",
     "output_type": "stream",
     "text": [
      "Epoch 83/500\n",
      "1220/1220 [==============================] - 47s 39ms/step - loss: 0.0935 - accuracy: 0.9712 - val_loss: 0.1012 - val_accuracy: 0.9767\n",
      "\n",
      "Epoch 00083: val_accuracy improved from 0.97569 to 0.97666, saving model to ./Model/model_LSTM22.v\n"
     ]
    },
    {
     "name": "stderr",
     "output_type": "stream",
     "text": [
      "WARNING:absl:Found untraced functions such as lstm_cell_6_layer_call_and_return_conditional_losses, lstm_cell_6_layer_call_fn, lstm_cell_7_layer_call_and_return_conditional_losses, lstm_cell_7_layer_call_fn, lstm_cell_1_layer_call_and_return_conditional_losses while saving (showing 5 of 30). These functions will not be directly callable after loading.\n",
      "WARNING:absl:Found untraced functions such as lstm_cell_6_layer_call_and_return_conditional_losses, lstm_cell_6_layer_call_fn, lstm_cell_7_layer_call_and_return_conditional_losses, lstm_cell_7_layer_call_fn, lstm_cell_1_layer_call_and_return_conditional_losses while saving (showing 5 of 30). These functions will not be directly callable after loading.\n"
     ]
    },
    {
     "name": "stdout",
     "output_type": "stream",
     "text": [
      "INFO:tensorflow:Assets written to: ./Model/model_LSTM22.v/assets\n"
     ]
    },
    {
     "name": "stderr",
     "output_type": "stream",
     "text": [
      "INFO:tensorflow:Assets written to: ./Model/model_LSTM22.v/assets\n"
     ]
    },
    {
     "name": "stdout",
     "output_type": "stream",
     "text": [
      "Epoch 84/500\n",
      "1220/1220 [==============================] - 42s 34ms/step - loss: 0.0974 - accuracy: 0.9715 - val_loss: 0.1001 - val_accuracy: 0.9783\n",
      "\n",
      "Epoch 00084: val_accuracy improved from 0.97666 to 0.97830, saving model to ./Model/model_LSTM22.v\n"
     ]
    },
    {
     "name": "stderr",
     "output_type": "stream",
     "text": [
      "WARNING:absl:Found untraced functions such as lstm_cell_6_layer_call_and_return_conditional_losses, lstm_cell_6_layer_call_fn, lstm_cell_7_layer_call_and_return_conditional_losses, lstm_cell_7_layer_call_fn, lstm_cell_1_layer_call_and_return_conditional_losses while saving (showing 5 of 30). These functions will not be directly callable after loading.\n",
      "WARNING:absl:Found untraced functions such as lstm_cell_6_layer_call_and_return_conditional_losses, lstm_cell_6_layer_call_fn, lstm_cell_7_layer_call_and_return_conditional_losses, lstm_cell_7_layer_call_fn, lstm_cell_1_layer_call_and_return_conditional_losses while saving (showing 5 of 30). These functions will not be directly callable after loading.\n"
     ]
    },
    {
     "name": "stdout",
     "output_type": "stream",
     "text": [
      "INFO:tensorflow:Assets written to: ./Model/model_LSTM22.v/assets\n"
     ]
    },
    {
     "name": "stderr",
     "output_type": "stream",
     "text": [
      "INFO:tensorflow:Assets written to: ./Model/model_LSTM22.v/assets\n"
     ]
    },
    {
     "name": "stdout",
     "output_type": "stream",
     "text": [
      "Epoch 85/500\n",
      "1220/1220 [==============================] - 53s 43ms/step - loss: 0.1206 - accuracy: 0.9645 - val_loss: 0.0928 - val_accuracy: 0.9747\n",
      "\n",
      "Epoch 00085: val_accuracy did not improve from 0.97830\n",
      "Epoch 86/500\n",
      "1220/1220 [==============================] - 42s 34ms/step - loss: 0.0907 - accuracy: 0.9719 - val_loss: 0.1109 - val_accuracy: 0.9789\n",
      "\n",
      "Epoch 00086: val_accuracy improved from 0.97830 to 0.97888, saving model to ./Model/model_LSTM22.v\n"
     ]
    },
    {
     "name": "stderr",
     "output_type": "stream",
     "text": [
      "WARNING:absl:Found untraced functions such as lstm_cell_6_layer_call_and_return_conditional_losses, lstm_cell_6_layer_call_fn, lstm_cell_7_layer_call_and_return_conditional_losses, lstm_cell_7_layer_call_fn, lstm_cell_1_layer_call_and_return_conditional_losses while saving (showing 5 of 30). These functions will not be directly callable after loading.\n",
      "WARNING:absl:Found untraced functions such as lstm_cell_6_layer_call_and_return_conditional_losses, lstm_cell_6_layer_call_fn, lstm_cell_7_layer_call_and_return_conditional_losses, lstm_cell_7_layer_call_fn, lstm_cell_1_layer_call_and_return_conditional_losses while saving (showing 5 of 30). These functions will not be directly callable after loading.\n"
     ]
    },
    {
     "name": "stdout",
     "output_type": "stream",
     "text": [
      "INFO:tensorflow:Assets written to: ./Model/model_LSTM22.v/assets\n"
     ]
    },
    {
     "name": "stderr",
     "output_type": "stream",
     "text": [
      "INFO:tensorflow:Assets written to: ./Model/model_LSTM22.v/assets\n"
     ]
    },
    {
     "name": "stdout",
     "output_type": "stream",
     "text": [
      "Epoch 87/500\n",
      "1220/1220 [==============================] - 42s 34ms/step - loss: 0.1443 - accuracy: 0.9578 - val_loss: 0.0999 - val_accuracy: 0.9738\n",
      "\n",
      "Epoch 00087: val_accuracy did not improve from 0.97888\n",
      "Epoch 88/500\n",
      "1220/1220 [==============================] - 44s 36ms/step - loss: 0.0927 - accuracy: 0.9705 - val_loss: 0.0937 - val_accuracy: 0.9784\n",
      "\n",
      "Epoch 00088: val_accuracy did not improve from 0.97888\n",
      "Epoch 89/500\n",
      "1220/1220 [==============================] - 52s 43ms/step - loss: 0.0904 - accuracy: 0.9722 - val_loss: 0.0955 - val_accuracy: 0.9801\n",
      "\n",
      "Epoch 00089: val_accuracy improved from 0.97888 to 0.98013, saving model to ./Model/model_LSTM22.v\n"
     ]
    },
    {
     "name": "stderr",
     "output_type": "stream",
     "text": [
      "WARNING:absl:Found untraced functions such as lstm_cell_6_layer_call_and_return_conditional_losses, lstm_cell_6_layer_call_fn, lstm_cell_7_layer_call_and_return_conditional_losses, lstm_cell_7_layer_call_fn, lstm_cell_1_layer_call_and_return_conditional_losses while saving (showing 5 of 30). These functions will not be directly callable after loading.\n",
      "WARNING:absl:Found untraced functions such as lstm_cell_6_layer_call_and_return_conditional_losses, lstm_cell_6_layer_call_fn, lstm_cell_7_layer_call_and_return_conditional_losses, lstm_cell_7_layer_call_fn, lstm_cell_1_layer_call_and_return_conditional_losses while saving (showing 5 of 30). These functions will not be directly callable after loading.\n"
     ]
    },
    {
     "name": "stdout",
     "output_type": "stream",
     "text": [
      "INFO:tensorflow:Assets written to: ./Model/model_LSTM22.v/assets\n"
     ]
    },
    {
     "name": "stderr",
     "output_type": "stream",
     "text": [
      "INFO:tensorflow:Assets written to: ./Model/model_LSTM22.v/assets\n"
     ]
    },
    {
     "name": "stdout",
     "output_type": "stream",
     "text": [
      "Epoch 90/500\n",
      "1220/1220 [==============================] - 42s 34ms/step - loss: 0.0881 - accuracy: 0.9726 - val_loss: 0.1172 - val_accuracy: 0.9774\n",
      "\n",
      "Epoch 00090: val_accuracy did not improve from 0.98013\n",
      "Epoch 91/500\n",
      "1220/1220 [==============================] - 46s 38ms/step - loss: 0.0828 - accuracy: 0.9755 - val_loss: 0.0976 - val_accuracy: 0.9794\n",
      "\n",
      "Epoch 00091: val_accuracy did not improve from 0.98013\n",
      "Epoch 92/500\n",
      "1220/1220 [==============================] - 49s 40ms/step - loss: 0.1535 - accuracy: 0.9556 - val_loss: 0.0902 - val_accuracy: 0.9758\n",
      "\n",
      "Epoch 00092: val_accuracy did not improve from 0.98013\n",
      "Epoch 93/500\n",
      "1220/1220 [==============================] - 45s 37ms/step - loss: 0.0915 - accuracy: 0.9722 - val_loss: 0.1059 - val_accuracy: 0.9769\n",
      "\n",
      "Epoch 00093: val_accuracy did not improve from 0.98013\n",
      "Epoch 94/500\n",
      "1220/1220 [==============================] - 43s 35ms/step - loss: 0.1531 - accuracy: 0.9614 - val_loss: 0.5176 - val_accuracy: 0.9004\n",
      "\n",
      "Epoch 00094: val_accuracy did not improve from 0.98013\n",
      "Epoch 95/500\n",
      "1220/1220 [==============================] - 41s 34ms/step - loss: 0.1821 - accuracy: 0.9393 - val_loss: 0.1130 - val_accuracy: 0.9603\n",
      "\n",
      "Epoch 00095: val_accuracy did not improve from 0.98013\n",
      "Epoch 96/500\n",
      "1220/1220 [==============================] - 53s 43ms/step - loss: 0.1137 - accuracy: 0.9628 - val_loss: 0.1075 - val_accuracy: 0.9710\n",
      "\n",
      "Epoch 00096: val_accuracy did not improve from 0.98013\n",
      "Epoch 97/500\n",
      "1220/1220 [==============================] - 43s 35ms/step - loss: 0.0963 - accuracy: 0.9697 - val_loss: 0.1128 - val_accuracy: 0.9729\n",
      "\n",
      "Epoch 00097: val_accuracy did not improve from 0.98013\n",
      "Epoch 98/500\n",
      "1220/1220 [==============================] - 44s 36ms/step - loss: 0.0848 - accuracy: 0.9720 - val_loss: 0.0889 - val_accuracy: 0.9786\n",
      "\n",
      "Epoch 00098: val_accuracy did not improve from 0.98013\n",
      "Epoch 99/500\n",
      "1220/1220 [==============================] - 41s 34ms/step - loss: 0.1086 - accuracy: 0.9677 - val_loss: 0.0964 - val_accuracy: 0.9764\n",
      "\n",
      "Epoch 00099: val_accuracy did not improve from 0.98013\n",
      "Epoch 100/500\n",
      "1220/1220 [==============================] - 52s 42ms/step - loss: 0.0956 - accuracy: 0.9703 - val_loss: 0.0966 - val_accuracy: 0.9764\n",
      "\n",
      "Epoch 00100: val_accuracy did not improve from 0.98013\n",
      "Epoch 101/500\n",
      "1220/1220 [==============================] - 44s 36ms/step - loss: 0.0922 - accuracy: 0.9714 - val_loss: 0.0880 - val_accuracy: 0.9794\n",
      "\n",
      "Epoch 00101: val_accuracy did not improve from 0.98013\n",
      "Epoch 102/500\n",
      "1220/1220 [==============================] - 42s 35ms/step - loss: 0.0853 - accuracy: 0.9742 - val_loss: 0.1011 - val_accuracy: 0.9801\n",
      "\n",
      "Epoch 00102: val_accuracy did not improve from 0.98013\n",
      "Epoch 103/500\n",
      "1220/1220 [==============================] - 46s 38ms/step - loss: 0.2260 - accuracy: 0.9306 - val_loss: 0.1203 - val_accuracy: 0.9635\n",
      "\n",
      "Epoch 00103: val_accuracy did not improve from 0.98013\n",
      "Epoch 104/500\n",
      "1220/1220 [==============================] - 48s 39ms/step - loss: 0.1055 - accuracy: 0.9649 - val_loss: 0.1018 - val_accuracy: 0.9760\n",
      "\n",
      "Epoch 00104: val_accuracy did not improve from 0.98013\n",
      "Epoch 105/500\n",
      "1220/1220 [==============================] - 44s 36ms/step - loss: 0.0909 - accuracy: 0.9717 - val_loss: 0.0934 - val_accuracy: 0.9780\n",
      "\n",
      "Epoch 00105: val_accuracy did not improve from 0.98013\n",
      "Epoch 106/500\n",
      "1220/1220 [==============================] - 40s 33ms/step - loss: 0.1095 - accuracy: 0.9666 - val_loss: 0.1015 - val_accuracy: 0.9758\n",
      "\n",
      "Epoch 00106: val_accuracy did not improve from 0.98013\n",
      "Epoch 107/500\n",
      "1220/1220 [==============================] - 41s 33ms/step - loss: 0.0876 - accuracy: 0.9733 - val_loss: 0.0894 - val_accuracy: 0.9797\n",
      "\n",
      "Epoch 00107: val_accuracy did not improve from 0.98013\n",
      "Epoch 108/500\n",
      "1220/1220 [==============================] - 51s 42ms/step - loss: 0.1099 - accuracy: 0.9683 - val_loss: 0.0833 - val_accuracy: 0.9775\n",
      "\n",
      "Epoch 00108: val_accuracy did not improve from 0.98013\n",
      "Epoch 109/500\n",
      "1220/1220 [==============================] - 44s 36ms/step - loss: 0.0783 - accuracy: 0.9761 - val_loss: 0.0826 - val_accuracy: 0.9804\n",
      "\n",
      "Epoch 00109: val_accuracy improved from 0.98013 to 0.98042, saving model to ./Model/model_LSTM22.v\n"
     ]
    },
    {
     "name": "stderr",
     "output_type": "stream",
     "text": [
      "WARNING:absl:Found untraced functions such as lstm_cell_6_layer_call_and_return_conditional_losses, lstm_cell_6_layer_call_fn, lstm_cell_7_layer_call_and_return_conditional_losses, lstm_cell_7_layer_call_fn, lstm_cell_1_layer_call_and_return_conditional_losses while saving (showing 5 of 30). These functions will not be directly callable after loading.\n",
      "WARNING:absl:Found untraced functions such as lstm_cell_6_layer_call_and_return_conditional_losses, lstm_cell_6_layer_call_fn, lstm_cell_7_layer_call_and_return_conditional_losses, lstm_cell_7_layer_call_fn, lstm_cell_1_layer_call_and_return_conditional_losses while saving (showing 5 of 30). These functions will not be directly callable after loading.\n"
     ]
    },
    {
     "name": "stdout",
     "output_type": "stream",
     "text": [
      "INFO:tensorflow:Assets written to: ./Model/model_LSTM22.v/assets\n"
     ]
    },
    {
     "name": "stderr",
     "output_type": "stream",
     "text": [
      "INFO:tensorflow:Assets written to: ./Model/model_LSTM22.v/assets\n"
     ]
    },
    {
     "name": "stdout",
     "output_type": "stream",
     "text": [
      "Epoch 110/500\n",
      "1220/1220 [==============================] - 41s 34ms/step - loss: 0.0866 - accuracy: 0.9737 - val_loss: 0.0895 - val_accuracy: 0.9810\n",
      "\n",
      "Epoch 00110: val_accuracy improved from 0.98042 to 0.98100, saving model to ./Model/model_LSTM22.v\n"
     ]
    },
    {
     "name": "stderr",
     "output_type": "stream",
     "text": [
      "WARNING:absl:Found untraced functions such as lstm_cell_6_layer_call_and_return_conditional_losses, lstm_cell_6_layer_call_fn, lstm_cell_7_layer_call_and_return_conditional_losses, lstm_cell_7_layer_call_fn, lstm_cell_1_layer_call_and_return_conditional_losses while saving (showing 5 of 30). These functions will not be directly callable after loading.\n",
      "WARNING:absl:Found untraced functions such as lstm_cell_6_layer_call_and_return_conditional_losses, lstm_cell_6_layer_call_fn, lstm_cell_7_layer_call_and_return_conditional_losses, lstm_cell_7_layer_call_fn, lstm_cell_1_layer_call_and_return_conditional_losses while saving (showing 5 of 30). These functions will not be directly callable after loading.\n"
     ]
    },
    {
     "name": "stdout",
     "output_type": "stream",
     "text": [
      "INFO:tensorflow:Assets written to: ./Model/model_LSTM22.v/assets\n"
     ]
    },
    {
     "name": "stderr",
     "output_type": "stream",
     "text": [
      "INFO:tensorflow:Assets written to: ./Model/model_LSTM22.v/assets\n"
     ]
    },
    {
     "name": "stdout",
     "output_type": "stream",
     "text": [
      "Epoch 111/500\n",
      "1220/1220 [==============================] - 51s 42ms/step - loss: 0.0733 - accuracy: 0.9771 - val_loss: 0.0900 - val_accuracy: 0.9817\n",
      "\n",
      "Epoch 00111: val_accuracy improved from 0.98100 to 0.98167, saving model to ./Model/model_LSTM22.v\n"
     ]
    },
    {
     "name": "stderr",
     "output_type": "stream",
     "text": [
      "WARNING:absl:Found untraced functions such as lstm_cell_6_layer_call_and_return_conditional_losses, lstm_cell_6_layer_call_fn, lstm_cell_7_layer_call_and_return_conditional_losses, lstm_cell_7_layer_call_fn, lstm_cell_1_layer_call_and_return_conditional_losses while saving (showing 5 of 30). These functions will not be directly callable after loading.\n",
      "WARNING:absl:Found untraced functions such as lstm_cell_6_layer_call_and_return_conditional_losses, lstm_cell_6_layer_call_fn, lstm_cell_7_layer_call_and_return_conditional_losses, lstm_cell_7_layer_call_fn, lstm_cell_1_layer_call_and_return_conditional_losses while saving (showing 5 of 30). These functions will not be directly callable after loading.\n"
     ]
    },
    {
     "name": "stdout",
     "output_type": "stream",
     "text": [
      "INFO:tensorflow:Assets written to: ./Model/model_LSTM22.v/assets\n"
     ]
    },
    {
     "name": "stderr",
     "output_type": "stream",
     "text": [
      "INFO:tensorflow:Assets written to: ./Model/model_LSTM22.v/assets\n"
     ]
    },
    {
     "name": "stdout",
     "output_type": "stream",
     "text": [
      "Epoch 112/500\n",
      "1220/1220 [==============================] - 41s 34ms/step - loss: 0.0752 - accuracy: 0.9783 - val_loss: 0.1959 - val_accuracy: 0.9637\n",
      "\n",
      "Epoch 00112: val_accuracy did not improve from 0.98167\n",
      "Epoch 113/500\n",
      "1220/1220 [==============================] - 44s 36ms/step - loss: 0.1622 - accuracy: 0.9533 - val_loss: 0.1003 - val_accuracy: 0.9738\n",
      "\n",
      "Epoch 00113: val_accuracy did not improve from 0.98167\n",
      "Epoch 114/500\n",
      "1220/1220 [==============================] - 55s 45ms/step - loss: 0.0842 - accuracy: 0.9735 - val_loss: 0.0901 - val_accuracy: 0.9811\n",
      "\n",
      "Epoch 00114: val_accuracy did not improve from 0.98167\n",
      "Epoch 115/500\n",
      "1220/1220 [==============================] - 42s 35ms/step - loss: 0.1470 - accuracy: 0.9527 - val_loss: 0.1086 - val_accuracy: 0.9716\n",
      "\n",
      "Epoch 00115: val_accuracy did not improve from 0.98167\n",
      "Epoch 116/500\n",
      "1220/1220 [==============================] - 41s 34ms/step - loss: 0.1025 - accuracy: 0.9679 - val_loss: 0.0903 - val_accuracy: 0.9783\n",
      "\n",
      "Epoch 00116: val_accuracy did not improve from 0.98167\n",
      "Epoch 117/500\n",
      "1220/1220 [==============================] - 40s 33ms/step - loss: 0.0759 - accuracy: 0.9770 - val_loss: 0.0848 - val_accuracy: 0.9809\n",
      "\n",
      "Epoch 00117: val_accuracy did not improve from 0.98167\n",
      "Epoch 118/500\n",
      "1220/1220 [==============================] - 42s 34ms/step - loss: 0.0765 - accuracy: 0.9770 - val_loss: 0.0906 - val_accuracy: 0.9813\n",
      "\n",
      "Epoch 00118: val_accuracy did not improve from 0.98167\n",
      "Epoch 119/500\n",
      "1220/1220 [==============================] - 48s 39ms/step - loss: 0.0828 - accuracy: 0.9763 - val_loss: 0.0928 - val_accuracy: 0.9806\n",
      "\n",
      "Epoch 00119: val_accuracy did not improve from 0.98167\n",
      "Epoch 120/500\n",
      "1220/1220 [==============================] - 40s 33ms/step - loss: 0.0695 - accuracy: 0.9784 - val_loss: 0.0767 - val_accuracy: 0.9845\n",
      "\n",
      "Epoch 00120: val_accuracy improved from 0.98167 to 0.98447, saving model to ./Model/model_LSTM22.v\n"
     ]
    },
    {
     "name": "stderr",
     "output_type": "stream",
     "text": [
      "WARNING:absl:Found untraced functions such as lstm_cell_6_layer_call_and_return_conditional_losses, lstm_cell_6_layer_call_fn, lstm_cell_7_layer_call_and_return_conditional_losses, lstm_cell_7_layer_call_fn, lstm_cell_1_layer_call_and_return_conditional_losses while saving (showing 5 of 30). These functions will not be directly callable after loading.\n",
      "WARNING:absl:Found untraced functions such as lstm_cell_6_layer_call_and_return_conditional_losses, lstm_cell_6_layer_call_fn, lstm_cell_7_layer_call_and_return_conditional_losses, lstm_cell_7_layer_call_fn, lstm_cell_1_layer_call_and_return_conditional_losses while saving (showing 5 of 30). These functions will not be directly callable after loading.\n"
     ]
    },
    {
     "name": "stdout",
     "output_type": "stream",
     "text": [
      "INFO:tensorflow:Assets written to: ./Model/model_LSTM22.v/assets\n"
     ]
    },
    {
     "name": "stderr",
     "output_type": "stream",
     "text": [
      "INFO:tensorflow:Assets written to: ./Model/model_LSTM22.v/assets\n"
     ]
    },
    {
     "name": "stdout",
     "output_type": "stream",
     "text": [
      "Epoch 121/500\n",
      "1220/1220 [==============================] - 40s 33ms/step - loss: 0.0820 - accuracy: 0.9764 - val_loss: 0.1082 - val_accuracy: 0.9792\n",
      "\n",
      "Epoch 00121: val_accuracy did not improve from 0.98447\n",
      "Epoch 122/500\n",
      "1220/1220 [==============================] - 48s 40ms/step - loss: 0.0818 - accuracy: 0.9761 - val_loss: 0.0873 - val_accuracy: 0.9815\n",
      "\n",
      "Epoch 00122: val_accuracy did not improve from 0.98447\n",
      "Epoch 123/500\n",
      "1220/1220 [==============================] - 40s 33ms/step - loss: 0.1024 - accuracy: 0.9687 - val_loss: 0.1402 - val_accuracy: 0.9681\n",
      "\n",
      "Epoch 00123: val_accuracy did not improve from 0.98447\n",
      "Epoch 124/500\n",
      "1220/1220 [==============================] - 40s 33ms/step - loss: 0.0800 - accuracy: 0.9753 - val_loss: 0.0969 - val_accuracy: 0.9805\n",
      "\n",
      "Epoch 00124: val_accuracy did not improve from 0.98447\n",
      "Epoch 125/500\n",
      "1220/1220 [==============================] - 48s 39ms/step - loss: 0.1930 - accuracy: 0.9407 - val_loss: 0.1292 - val_accuracy: 0.9684\n",
      "\n",
      "Epoch 00125: val_accuracy did not improve from 0.98447\n",
      "Epoch 126/500\n",
      "1220/1220 [==============================] - 40s 33ms/step - loss: 0.0932 - accuracy: 0.9695 - val_loss: 0.1000 - val_accuracy: 0.9780\n",
      "\n",
      "Epoch 00126: val_accuracy did not improve from 0.98447\n",
      "Epoch 127/500\n",
      "1220/1220 [==============================] - 40s 33ms/step - loss: 0.0752 - accuracy: 0.9771 - val_loss: 0.0799 - val_accuracy: 0.9818\n",
      "\n",
      "Epoch 00127: val_accuracy did not improve from 0.98447\n",
      "Epoch 128/500\n",
      "1220/1220 [==============================] - 41s 34ms/step - loss: 0.0710 - accuracy: 0.9793 - val_loss: 0.0780 - val_accuracy: 0.9826\n",
      "\n",
      "Epoch 00128: val_accuracy did not improve from 0.98447\n",
      "Epoch 129/500\n",
      "1220/1220 [==============================] - 39s 32ms/step - loss: 0.0682 - accuracy: 0.9794 - val_loss: 0.0710 - val_accuracy: 0.9839\n",
      "\n",
      "Epoch 00129: val_accuracy did not improve from 0.98447\n",
      "Epoch 130/500\n",
      "1220/1220 [==============================] - 48s 40ms/step - loss: 0.0767 - accuracy: 0.9783 - val_loss: 0.0870 - val_accuracy: 0.9837\n",
      "\n",
      "Epoch 00130: val_accuracy did not improve from 0.98447\n",
      "Epoch 131/500\n",
      "1220/1220 [==============================] - 40s 33ms/step - loss: 0.0616 - accuracy: 0.9803 - val_loss: 0.0814 - val_accuracy: 0.9829\n",
      "\n",
      "Epoch 00131: val_accuracy did not improve from 0.98447\n",
      "Epoch 132/500\n",
      "1220/1220 [==============================] - 40s 33ms/step - loss: 0.0687 - accuracy: 0.9795 - val_loss: 0.0809 - val_accuracy: 0.9838\n",
      "\n",
      "Epoch 00132: val_accuracy did not improve from 0.98447\n",
      "Epoch 133/500\n",
      "1220/1220 [==============================] - 40s 33ms/step - loss: 0.0645 - accuracy: 0.9809 - val_loss: 0.0724 - val_accuracy: 0.9842\n",
      "\n",
      "Epoch 00133: val_accuracy did not improve from 0.98447\n",
      "Epoch 134/500\n",
      "1220/1220 [==============================] - 39s 32ms/step - loss: 0.0676 - accuracy: 0.9800 - val_loss: 0.1030 - val_accuracy: 0.9824\n",
      "\n",
      "Epoch 00134: val_accuracy did not improve from 0.98447\n",
      "Epoch 135/500\n",
      "1220/1220 [==============================] - 48s 39ms/step - loss: 0.0727 - accuracy: 0.9795 - val_loss: 0.0866 - val_accuracy: 0.9823\n",
      "\n",
      "Epoch 00135: val_accuracy did not improve from 0.98447\n",
      "Epoch 136/500\n",
      "1220/1220 [==============================] - 40s 32ms/step - loss: 0.0803 - accuracy: 0.9757 - val_loss: 0.0733 - val_accuracy: 0.9831\n",
      "\n",
      "Epoch 00136: val_accuracy did not improve from 0.98447\n",
      "Epoch 137/500\n",
      "1220/1220 [==============================] - 40s 33ms/step - loss: 0.0961 - accuracy: 0.9664 - val_loss: 0.0815 - val_accuracy: 0.9761\n",
      "\n",
      "Epoch 00137: val_accuracy did not improve from 0.98447\n",
      "Epoch 138/500\n",
      "1220/1220 [==============================] - 45s 37ms/step - loss: 0.0720 - accuracy: 0.9765 - val_loss: 0.0774 - val_accuracy: 0.9805\n",
      "\n",
      "Epoch 00138: val_accuracy did not improve from 0.98447\n",
      "Epoch 139/500\n",
      "1220/1220 [==============================] - 43s 35ms/step - loss: 0.0702 - accuracy: 0.9777 - val_loss: 0.1394 - val_accuracy: 0.9736\n",
      "\n",
      "Epoch 00139: val_accuracy did not improve from 0.98447\n",
      "Epoch 140/500\n",
      "1220/1220 [==============================] - 41s 33ms/step - loss: 0.0597 - accuracy: 0.9803 - val_loss: 0.0829 - val_accuracy: 0.9827\n",
      "\n",
      "Epoch 00140: val_accuracy did not improve from 0.98447\n",
      "Epoch 00140: early stopping\n"
     ]
    }
   ],
   "source": [
    "history = model.fit(X_scaled_arr_train,Y_arr_train,epochs=500,validation_split=0.2,batch_size=34,shuffle=True,callbacks=[early_stopping, checkpoint])"
   ]
  },
  {
   "cell_type": "code",
   "execution_count": 45,
   "metadata": {
    "colab": {
     "base_uri": "https://localhost:8080/",
     "height": 388
    },
    "id": "Frr6gxt27TTb",
    "outputId": "b1d097e6-a867-42bc-b6e9-077e00d04a88"
   },
   "outputs": [
    {
     "data": {
      "image/png": "[encoded data removed]",
      "text/plain": [
       "<Figure size 2000x600 with 1 Axes>"
      ]
     },
     "metadata": {},
     "output_type": "display_data"
    }
   ],
   "source": [
    "plt.plot(history.history['loss'], label='Parkinson(training data)')\n",
    "plt.plot(history.history['val_loss'], label='Parkinson (validation data)')\n",
    "plt.title('')\n",
    "plt.ylabel('')\n",
    "plt.xlabel('No. epoch')\n",
    "plt.legend(loc=\"upper left\")\n",
    "plt.show()"
   ]
  },
  {
   "cell_type": "code",
   "execution_count": 46,
   "metadata": {
    "colab": {
     "base_uri": "https://localhost:8080/",
     "height": 388
    },
    "id": "VTSPNZGn7TV_",
    "outputId": "8e793964-b99e-4281-f9af-67038d4a6d77"
   },
   "outputs": [
    {
     "data": {
      "image/png": "[encoded data removed]",
      "text/plain": [
       "<Figure size 2000x600 with 1 Axes>"
      ]
     },
     "metadata": {},
     "output_type": "display_data"
    }
   ],
   "source": [
    "plt.plot(history.history['accuracy'], label='Parkinson(training data)')\n",
    "plt.plot(history.history['val_accuracy'], label='Parkinson (validation data)')\n",
    "plt.title('')\n",
    "plt.ylabel('')\n",
    "plt.ylim(0,1)\n",
    "plt.xlabel('No. epoch')\n",
    "plt.legend(loc=\"upper left\")\n",
    "plt.show()"
   ]
  },
  {
   "cell_type": "code",
   "execution_count": 68,
   "metadata": {},
   "outputs": [
    {
     "data": {
      "image/png": "[encoded data removed]",
      "text/plain": [
       "<Figure size 2000x600 with 1 Axes>"
      ]
     },
     "metadata": {},
     "output_type": "display_data"
    }
   ],
   "source": [
    "plt.plot(history.history['loss'], label='Parkinson(training data)')\n",
    "plt.plot(history.history['val_loss'], label='Parkinson (validation data)')\n",
    "plt.title('')\n",
    "plt.ylabel('')\n",
    "plt.xlabel('No. epoch')\n",
    "plt.legend(loc=\"upper left\")\n",
    "plt.show()"
   ]
  },
  {
   "cell_type": "code",
   "execution_count": 47,
   "metadata": {
    "colab": {
     "base_uri": "https://localhost:8080/"
    },
    "id": "M76Hdmll7TYc",
    "outputId": "d21cbf61-6c05-404e-e81c-d2882e756868"
   },
   "outputs": [
    {
     "data": {
      "text/plain": [
       "0.9844699501991272"
      ]
     },
     "execution_count": 47,
     "metadata": {},
     "output_type": "execute_result"
    }
   ],
   "source": [
    "max(history.history['val_accuracy'])"
   ]
  },
  {
   "cell_type": "code",
   "execution_count": 48,
   "metadata": {
    "colab": {
     "base_uri": "https://localhost:8080/"
    },
    "id": "QL6v-5bX7TbC",
    "outputId": "b2b3a4fd-836b-4739-bd5c-c3e31b786f2f"
   },
   "outputs": [
    {
     "data": {
      "text/plain": [
       "0.9808517694473267"
      ]
     },
     "execution_count": 48,
     "metadata": {},
     "output_type": "execute_result"
    }
   ],
   "source": [
    "max(history.history['accuracy'])"
   ]
  },
  {
   "cell_type": "code",
   "execution_count": 49,
   "metadata": {
    "colab": {
     "base_uri": "https://localhost:8080/"
    },
    "id": "fOR25Y8z7Tds",
    "outputId": "fefdd1c7-45d5-415b-e017-7009ac7424f8"
   },
   "outputs": [
    {
     "data": {
      "text/plain": [
       "0.05972537025809288"
      ]
     },
     "execution_count": 49,
     "metadata": {},
     "output_type": "execute_result"
    }
   ],
   "source": [
    "min(history.history['loss'])"
   ]
  },
  {
   "cell_type": "code",
   "execution_count": 50,
   "metadata": {
    "colab": {
     "base_uri": "https://localhost:8080/"
    },
    "id": "Vb0wN8On7TgY",
    "outputId": "cac92228-4ec0-41b2-9842-e15fbbcd7f70"
   },
   "outputs": [
    {
     "data": {
      "text/plain": [
       "0.07101456820964813"
      ]
     },
     "execution_count": 50,
     "metadata": {},
     "output_type": "execute_result"
    }
   ],
   "source": [
    "min(history.history['val_loss'])"
   ]
  },
  {
   "cell_type": "code",
   "execution_count": 51,
   "metadata": {
    "id": "aCwc2CyLO0y8"
   },
   "outputs": [],
   "source": [
    "pdt=model.predict(X_scaled_arr_test)"
   ]
  },
  {
   "cell_type": "code",
   "execution_count": 65,
   "metadata": {},
   "outputs": [],
   "source": [
    "pdt1=model.predict(X_scaled_arr_test)\n",
    "pdt1.size\n",
    "classes_x1 = np.zeros((len(pdt1)))\n",
    "for x in range(len(pdt1)):\n",
    "  if(pdt1[x]>0.5):\n",
    "    classes_x1[x]=(1)\n",
    "  else:\n",
    "    classes_x1[x]=(0)\n",
    "#   print(x,end=\" \")\n",
    "from sklearn.metrics import accuracy_score\n",
    "accuracy = accuracy_score(Y_arr_test,classes_x1 )"
   ]
  },
  {
   "cell_type": "code",
   "execution_count": 69,
   "metadata": {},
   "outputs": [],
   "source": [
    "pdt1=model.predict(X_scaled_arr_test)\n",
    "pdt1.size\n",
    "classes_x1 = np.zeros((len(pdt1)))\n",
    "for x in range(len(pdt1)):\n",
    "  if(pdt1[x]>0.5):\n",
    "    classes_x1[x]=(1)\n",
    "  else:\n",
    "    classes_x1[x]=(0)\n",
    "#   print(x,end=\" \")\n",
    "from sklearn.metrics import accuracy_score\n",
    "accuracy = accuracy_score(Y_arr_test,classes_x1 )"
   ]
  },
  {
   "cell_type": "code",
   "execution_count": 72,
   "metadata": {},
   "outputs": [],
   "source": [
    "pdt1=model.predict(X_scaled_arr_test)\n",
    "pdt1.size\n",
    "classes_x1 = np.zeros((len(pdt1)))\n",
    "for x in range(len(pdt1)):\n",
    "  if(pdt1[x]>0.5):\n",
    "    classes_x1[x]=(1)\n",
    "  else:\n",
    "    classes_x1[x]=(0)\n",
    "#   print(x,end=\" \")\n",
    "from sklearn.metrics import accuracy_score\n",
    "accuracy1 = accuracy_score(Y_arr_test,classes_x1 )"
   ]
  },
  {
   "cell_type": "code",
   "execution_count": 73,
   "metadata": {},
   "outputs": [
    {
     "data": {
      "text/plain": [
       "0.9881172839506173"
      ]
     },
     "execution_count": 73,
     "metadata": {},
     "output_type": "execute_result"
    }
   ],
   "source": [
    "accuracy1"
   ]
  },
  {
   "cell_type": "code",
   "execution_count": null,
   "metadata": {},
   "outputs": [],
   "source": []
  },
  {
   "cell_type": "code",
   "execution_count": 66,
   "metadata": {},
   "outputs": [
    {
     "data": {
      "text/plain": [
       "0.9844135802469136"
      ]
     },
     "execution_count": 66,
     "metadata": {},
     "output_type": "execute_result"
    }
   ],
   "source": [
    "accuracy"
   ]
  },
  {
   "cell_type": "code",
   "execution_count": 70,
   "metadata": {},
   "outputs": [
    {
     "data": {
      "text/plain": [
       "0.9867283950617284"
      ]
     },
     "execution_count": 70,
     "metadata": {},
     "output_type": "execute_result"
    }
   ],
   "source": [
    "accuracy"
   ]
  },
  {
   "cell_type": "code",
   "execution_count": 52,
   "metadata": {
    "id": "3cGw_7AWSGaN"
   },
   "outputs": [],
   "source": [
    "# classes_x=np.argmax(pdt,axis=1) \n",
    "pdt.size\n",
    "classes_x = np.zeros((len(pdt)))"
   ]
  },
  {
   "cell_type": "code",
   "execution_count": 53,
   "metadata": {
    "colab": {
     "base_uri": "https://localhost:8080/"
    },
    "id": "Zci59mkmSNRb",
    "outputId": "8146b8d4-a8be-483f-f6fa-526a776ad004"
   },
   "outputs": [],
   "source": [
    "for x in range(len(pdt)):\n",
    "  if(pdt[x]>0.5):\n",
    "    classes_x[x]=(1)\n",
    "  else:\n",
    "    classes_x[x]=(0)\n",
    "#   print(x,end=\" \")"
   ]
  },
  {
   "cell_type": "code",
   "execution_count": 54,
   "metadata": {
    "colab": {
     "base_uri": "https://localhost:8080/"
    },
    "id": "xwBu-VE2Rux9",
    "outputId": "65428834-2de5-45c9-e553-533f408c9587"
   },
   "outputs": [
    {
     "name": "stdout",
     "output_type": "stream",
     "text": [
      "12960\n"
     ]
    },
    {
     "data": {
      "text/plain": [
       "12960"
      ]
     },
     "execution_count": 54,
     "metadata": {},
     "output_type": "execute_result"
    }
   ],
   "source": [
    "print(Y_arr_test.size)\n",
    "classes_x.size"
   ]
  },
  {
   "cell_type": "code",
   "execution_count": 55,
   "metadata": {
    "id": "5gvyYnFGR38l"
   },
   "outputs": [],
   "source": [
    "from sklearn.metrics import accuracy_score\n",
    "accuracy = accuracy_score(Y_arr_test,classes_x )"
   ]
  },
  {
   "cell_type": "code",
   "execution_count": 56,
   "metadata": {
    "colab": {
     "base_uri": "https://localhost:8080/"
    },
    "id": "8CbXku00SW1b",
    "outputId": "3aeaa6a6-34c5-40ab-ca8f-652abf0ce86b"
   },
   "outputs": [
    {
     "data": {
      "text/plain": [
       "0.9834876543209876"
      ]
     },
     "execution_count": 56,
     "metadata": {},
     "output_type": "execute_result"
    }
   ],
   "source": [
    "accuracy"
   ]
  },
  {
   "cell_type": "code",
   "execution_count": 57,
   "metadata": {
    "id": "UTT8ifCs8bzO"
   },
   "outputs": [],
   "source": [
    "m1=tf.keras.models.load_model('./Model/model_LSTM22.v')"
   ]
  },
  {
   "cell_type": "code",
   "execution_count": 58,
   "metadata": {
    "id": "38wOchuGFTaZ"
   },
   "outputs": [],
   "source": [
    "pdt=m1.predict(X_scaled_arr_test)"
   ]
  },
  {
   "cell_type": "code",
   "execution_count": 59,
   "metadata": {
    "colab": {
     "base_uri": "https://localhost:8080/"
    },
    "id": "w5jQpqrzFa4-",
    "outputId": "170010a6-9c0c-432b-9216-042d02d3e22c"
   },
   "outputs": [],
   "source": [
    "for x in range(len(pdt)):\n",
    "  if(pdt[x]>0.5):\n",
    "    classes_x[x]=(1)\n",
    "  else:\n",
    "    classes_x[x]=(0)\n",
    "#   print(x,end=\" \")"
   ]
  },
  {
   "cell_type": "code",
   "execution_count": 60,
   "metadata": {
    "id": "PI4VCSiFF1Ex"
   },
   "outputs": [],
   "source": [
    "from sklearn.metrics import accuracy_score\n",
    "accuracy = accuracy_score(Y_arr_test,classes_x )"
   ]
  },
  {
   "cell_type": "code",
   "execution_count": 61,
   "metadata": {
    "colab": {
     "base_uri": "https://localhost:8080/"
    },
    "id": "lbqvBBdnF32M",
    "outputId": "43f546db-159a-4c70-cdce-8cf54068cc2e"
   },
   "outputs": [
    {
     "data": {
      "text/plain": [
       "0.9819444444444444"
      ]
     },
     "execution_count": 61,
     "metadata": {},
     "output_type": "execute_result"
    }
   ],
   "source": [
    "accuracy"
   ]
  },
  {
   "cell_type": "code",
   "execution_count": 81,
   "metadata": {},
   "outputs": [
    {
     "name": "stdout",
     "output_type": "stream",
     "text": [
      "Epoch 1/500\n",
      "504/504 [==============================] - 29s 58ms/step - loss: 0.0134 - accuracy: 0.9958 - val_loss: 0.0405 - val_accuracy: 0.9918\n",
      "\n",
      "Epoch 00001: val_accuracy did not improve from 0.99344\n",
      "Epoch 2/500\n",
      "504/504 [==============================] - 29s 58ms/step - loss: 0.0228 - accuracy: 0.9944 - val_loss: 0.0662 - val_accuracy: 0.9888\n",
      "\n",
      "Epoch 00002: val_accuracy did not improve from 0.99344\n",
      "Epoch 3/500\n",
      "504/504 [==============================] - 29s 58ms/step - loss: 0.0649 - accuracy: 0.9845 - val_loss: 0.1950 - val_accuracy: 0.9619\n",
      "\n",
      "Epoch 00003: val_accuracy did not improve from 0.99344\n",
      "Epoch 4/500\n",
      "504/504 [==============================] - 29s 58ms/step - loss: 0.0452 - accuracy: 0.9866 - val_loss: 0.0573 - val_accuracy: 0.9878\n",
      "\n",
      "Epoch 00004: val_accuracy did not improve from 0.99344\n",
      "Epoch 5/500\n",
      "504/504 [==============================] - 29s 58ms/step - loss: 0.0272 - accuracy: 0.9916 - val_loss: 0.0515 - val_accuracy: 0.9885\n",
      "\n",
      "Epoch 00005: val_accuracy did not improve from 0.99344\n",
      "Epoch 6/500\n",
      "504/504 [==============================] - 29s 58ms/step - loss: 0.0225 - accuracy: 0.9932 - val_loss: 0.0504 - val_accuracy: 0.9898\n",
      "\n",
      "Epoch 00006: val_accuracy did not improve from 0.99344\n",
      "Epoch 7/500\n",
      "504/504 [==============================] - 30s 59ms/step - loss: 0.0206 - accuracy: 0.9934 - val_loss: 0.0482 - val_accuracy: 0.9902\n",
      "\n",
      "Epoch 00007: val_accuracy did not improve from 0.99344\n",
      "Epoch 8/500\n",
      "504/504 [==============================] - 30s 59ms/step - loss: 0.0158 - accuracy: 0.9946 - val_loss: 0.0472 - val_accuracy: 0.9906\n",
      "\n",
      "Epoch 00008: val_accuracy did not improve from 0.99344\n",
      "Epoch 9/500\n",
      "504/504 [==============================] - 29s 59ms/step - loss: 0.0142 - accuracy: 0.9951 - val_loss: 0.0437 - val_accuracy: 0.9910\n",
      "\n",
      "Epoch 00009: val_accuracy did not improve from 0.99344\n",
      "Epoch 10/500\n",
      "504/504 [==============================] - 29s 58ms/step - loss: 0.0135 - accuracy: 0.9955 - val_loss: 0.0424 - val_accuracy: 0.9915\n",
      "\n",
      "Epoch 00010: val_accuracy did not improve from 0.99344\n",
      "Epoch 11/500\n",
      "504/504 [==============================] - 30s 59ms/step - loss: 0.0150 - accuracy: 0.9953 - val_loss: 0.0518 - val_accuracy: 0.9905\n",
      "\n",
      "Epoch 00011: val_accuracy did not improve from 0.99344\n",
      "Epoch 12/500\n",
      "504/504 [==============================] - 29s 58ms/step - loss: 0.0135 - accuracy: 0.9958 - val_loss: 0.0409 - val_accuracy: 0.9923\n",
      "\n",
      "Epoch 00012: val_accuracy did not improve from 0.99344\n",
      "Epoch 13/500\n",
      "504/504 [==============================] - 29s 58ms/step - loss: 0.0124 - accuracy: 0.9955 - val_loss: 0.0387 - val_accuracy: 0.9927\n",
      "\n",
      "Epoch 00013: val_accuracy did not improve from 0.99344\n",
      "Epoch 14/500\n",
      "504/504 [==============================] - 29s 58ms/step - loss: 0.0111 - accuracy: 0.9954 - val_loss: 0.0367 - val_accuracy: 0.9927\n",
      "\n",
      "Epoch 00014: val_accuracy did not improve from 0.99344\n",
      "Epoch 15/500\n",
      "504/504 [==============================] - 29s 58ms/step - loss: 0.0106 - accuracy: 0.9957 - val_loss: 0.0381 - val_accuracy: 0.9929\n",
      "\n",
      "Epoch 00015: val_accuracy did not improve from 0.99344\n",
      "Epoch 16/500\n",
      "504/504 [==============================] - 29s 58ms/step - loss: 0.0150 - accuracy: 0.9952 - val_loss: 0.0327 - val_accuracy: 0.9929\n",
      "\n",
      "Epoch 00016: val_accuracy did not improve from 0.99344\n",
      "Epoch 17/500\n",
      "504/504 [==============================] - 29s 58ms/step - loss: 0.0133 - accuracy: 0.9954 - val_loss: 0.0344 - val_accuracy: 0.9933\n",
      "\n",
      "Epoch 00017: val_accuracy did not improve from 0.99344\n",
      "Epoch 18/500\n",
      "504/504 [==============================] - 29s 57ms/step - loss: 0.0115 - accuracy: 0.9956 - val_loss: 0.0351 - val_accuracy: 0.9929\n",
      "\n",
      "Epoch 00018: val_accuracy did not improve from 0.99344\n",
      "Epoch 19/500\n",
      "504/504 [==============================] - 29s 58ms/step - loss: 0.0096 - accuracy: 0.9965 - val_loss: 0.0413 - val_accuracy: 0.9929\n",
      "\n",
      "Epoch 00019: val_accuracy did not improve from 0.99344\n",
      "Epoch 20/500\n",
      "504/504 [==============================] - 29s 58ms/step - loss: 0.0119 - accuracy: 0.9960 - val_loss: 0.0406 - val_accuracy: 0.9918\n",
      "\n",
      "Epoch 00020: val_accuracy did not improve from 0.99344\n",
      "Epoch 21/500\n",
      "504/504 [==============================] - 29s 57ms/step - loss: 0.0135 - accuracy: 0.9956 - val_loss: 0.0375 - val_accuracy: 0.9927\n",
      "\n",
      "Epoch 00021: val_accuracy did not improve from 0.99344\n",
      "Epoch 22/500\n",
      "504/504 [==============================] - 29s 58ms/step - loss: 0.0119 - accuracy: 0.9960 - val_loss: 0.0419 - val_accuracy: 0.9920\n",
      "\n",
      "Epoch 00022: val_accuracy did not improve from 0.99344\n",
      "Epoch 23/500\n",
      "504/504 [==============================] - 29s 58ms/step - loss: 0.0193 - accuracy: 0.9943 - val_loss: 0.0422 - val_accuracy: 0.9920\n",
      "\n",
      "Epoch 00023: val_accuracy did not improve from 0.99344\n",
      "Epoch 24/500\n",
      "504/504 [==============================] - 29s 58ms/step - loss: 0.0380 - accuracy: 0.9935 - val_loss: 0.1375 - val_accuracy: 0.9846\n",
      "\n",
      "Epoch 00024: val_accuracy did not improve from 0.99344\n",
      "Epoch 25/500\n",
      "504/504 [==============================] - 29s 57ms/step - loss: 0.0178 - accuracy: 0.9944 - val_loss: 0.0465 - val_accuracy: 0.9915\n",
      "\n",
      "Epoch 00025: val_accuracy did not improve from 0.99344\n",
      "Epoch 26/500\n",
      "504/504 [==============================] - 29s 57ms/step - loss: 0.0138 - accuracy: 0.9951 - val_loss: 0.0415 - val_accuracy: 0.9922\n",
      "\n",
      "Epoch 00026: val_accuracy did not improve from 0.99344\n",
      "Epoch 27/500\n",
      "504/504 [==============================] - 29s 57ms/step - loss: 0.0127 - accuracy: 0.9960 - val_loss: 0.0411 - val_accuracy: 0.9922\n",
      "\n",
      "Epoch 00027: val_accuracy did not improve from 0.99344\n",
      "Epoch 28/500\n",
      "504/504 [==============================] - 29s 57ms/step - loss: 0.0136 - accuracy: 0.9957 - val_loss: 0.0394 - val_accuracy: 0.9926\n",
      "\n",
      "Epoch 00028: val_accuracy did not improve from 0.99344\n",
      "Epoch 29/500\n",
      "504/504 [==============================] - 29s 58ms/step - loss: 0.0111 - accuracy: 0.9961 - val_loss: 0.0417 - val_accuracy: 0.9922\n",
      "\n",
      "Epoch 00029: val_accuracy did not improve from 0.99344\n",
      "Epoch 30/500\n",
      "504/504 [==============================] - 29s 58ms/step - loss: 0.0109 - accuracy: 0.9962 - val_loss: 0.0386 - val_accuracy: 0.9923\n",
      "\n",
      "Epoch 00030: val_accuracy did not improve from 0.99344\n",
      "Epoch 31/500\n",
      "504/504 [==============================] - 29s 57ms/step - loss: 0.0116 - accuracy: 0.9957 - val_loss: 0.0450 - val_accuracy: 0.9924\n",
      "\n",
      "Epoch 00031: val_accuracy did not improve from 0.99344\n",
      "Epoch 32/500\n",
      "504/504 [==============================] - 29s 58ms/step - loss: 0.0118 - accuracy: 0.9962 - val_loss: 0.0472 - val_accuracy: 0.9925\n",
      "\n",
      "Epoch 00032: val_accuracy did not improve from 0.99344\n",
      "Epoch 33/500\n",
      "504/504 [==============================] - 29s 57ms/step - loss: 0.0364 - accuracy: 0.9865 - val_loss: 0.0488 - val_accuracy: 0.9869\n",
      "\n",
      "Epoch 00033: val_accuracy did not improve from 0.99344\n",
      "Epoch 34/500\n",
      "504/504 [==============================] - 29s 58ms/step - loss: 0.0278 - accuracy: 0.9907 - val_loss: 0.0415 - val_accuracy: 0.9893\n",
      "\n",
      "Epoch 00034: val_accuracy did not improve from 0.99344\n",
      "Epoch 35/500\n",
      "504/504 [==============================] - 29s 58ms/step - loss: 0.0180 - accuracy: 0.9937 - val_loss: 0.0386 - val_accuracy: 0.9909\n",
      "\n",
      "Epoch 00035: val_accuracy did not improve from 0.99344\n",
      "Epoch 36/500\n",
      "504/504 [==============================] - 29s 57ms/step - loss: 0.0162 - accuracy: 0.9945 - val_loss: 0.0398 - val_accuracy: 0.9911\n",
      "\n",
      "Epoch 00036: val_accuracy did not improve from 0.99344\n",
      "Epoch 37/500\n",
      "504/504 [==============================] - 29s 58ms/step - loss: 0.0144 - accuracy: 0.9951 - val_loss: 0.0373 - val_accuracy: 0.9921\n",
      "\n",
      "Epoch 00037: val_accuracy did not improve from 0.99344\n",
      "Epoch 00037: early stopping\n"
     ]
    }
   ],
   "source": [
    "history3 = model.fit(X_scaled_arr_train,Y_arr_train,epochs=500,validation_split=0.3,batch_size=72,shuffle=True,callbacks=[early_stopping, checkpoint],use_multiprocessing=True)"
   ]
  },
  {
   "cell_type": "code",
   "execution_count": 76,
   "metadata": {},
   "outputs": [],
   "source": [
    "pdt1=model.predict(X_scaled_arr_test)\n",
    "pdt1.size\n",
    "classes_x1 = np.zeros((len(pdt1)))\n",
    "for x in range(len(pdt1)):\n",
    "  if(pdt1[x]>0.5):\n",
    "    classes_x1[x]=(1)\n",
    "  else:\n",
    "    classes_x1[x]=(0)\n",
    "#   print(x,end=\" \")\n",
    "from sklearn.metrics import accuracy_score\n",
    "accuracy1 = accuracy_score(Y_arr_test,classes_x1 )"
   ]
  },
  {
   "cell_type": "code",
   "execution_count": 1,
   "metadata": {},
   "outputs": [
    {
     "ename": "NameError",
     "evalue": "name 'accuracy1' is not defined",
     "output_type": "error",
     "traceback": [
      "\u001b[0;31m---------------------------------------------------------------------------\u001b[0m",
      "\u001b[0;31mNameError\u001b[0m                                 Traceback (most recent call last)",
      "Cell \u001b[0;32mIn [1], line 1\u001b[0m\n\u001b[0;32m----> 1\u001b[0m \u001b[43maccuracy1\u001b[49m\n",
      "\u001b[0;31mNameError\u001b[0m: name 'accuracy1' is not defined"
     ]
    }
   ],
   "source": [
    "accuracy1"
   ]
  },
  {
   "cell_type": "code",
   "execution_count": null,
   "metadata": {},
   "outputs": [],
   "source": []
  }
 ],
 "metadata": {
  "accelerator": "GPU",
  "colab": {
   "collapsed_sections": [],
   "name": "LSTM6.ipynb",
   "provenance": []
  },
  "kernelspec": {
   "display_name": "Python 3",
   "language": "python",
   "name": "python3"
  },
  "language_info": {
   "codemirror_mode": {
    "name": "ipython",
    "version": 3
   },
   "file_extension": ".py",
   "mimetype": "text/x-python",
   "name": "python",
   "nbconvert_exporter": "python",
   "pygments_lexer": "ipython3",
   "version": "3.8.8"
  }
 },
 "nbformat": 4,
 "nbformat_minor": 4
}
