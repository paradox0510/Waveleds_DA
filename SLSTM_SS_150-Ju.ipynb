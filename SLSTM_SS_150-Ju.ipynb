{
 "cells": [
  {
   "cell_type": "code",
   "execution_count": 1,
   "metadata": {
    "id": "oriXXy5wYuJJ"
   },
   "outputs": [
    {
     "name": "stderr",
     "output_type": "stream",
     "text": [
      "2023-04-30 19:16:36.621008: I tensorflow/stream_executor/platform/default/dso_loader.cc:49] Successfully opened dynamic library libcudart.so.10.1\n",
      "Matplotlib created a temporary config/cache directory at /tmp/matplotlib-th_j1egg because the default path (/home/harsh/.config/matplotlib) is not a writable directory; it is highly recommended to set the MPLCONFIGDIR environment variable to a writable directory, in particular to speed up the import of Matplotlib and to better support multiprocessing.\n"
     ]
    }
   ],
   "source": [
    "import tensorflow as tf\n",
    "from sklearn.preprocessing import MinMaxScaler, StandardScaler\n",
    "from sklearn.preprocessing import LabelEncoder\n",
    "from sklearn.metrics import mean_squared_error\n",
    "from sklearn.model_selection import StratifiedShuffleSplit\n",
    "from tensorflow.keras.layers import Bidirectional\n",
    "from tensorflow.keras.models import Sequential\n",
    "from tensorflow.keras.layers import Dense\n",
    "from tensorflow.keras.layers import LSTM\n",
    "from tensorflow.keras.layers import Flatten\n",
    "from tensorflow.keras.callbacks import EarlyStopping, ModelCheckpoint\n",
    "from tensorflow.keras.models import load_model\n",
    "\n",
    "from tensorflow.keras import utils as np_utils\n",
    "\n",
    "from random import shuffle\n",
    "from tensorflow.python.client import device_lib\n",
    "\n",
    "import os\n",
    "import glob\n",
    "import pandas as pd\n",
    "import numpy as np\n",
    "import matplotlib.pyplot as plt\n",
    "\n",
    "# For wider plots\n",
    "plt.rcParams[\"figure.figsize\"] = (20,6)\n",
    "\n",
    "os.environ['TF_XLA_FLAGS']=\"--tf_xla_enable_xla_devices\"\n",
    "# Take my NVidia GPU into use\n",
    "# os.environ[\"CUDA_DEVICE_ORDER\"]=\"PCI_BUS_ID\"\n",
    "# os.environ[\"CUDA_VISIBLE_DEVICES\"]=\"0,1,2\""
   ]
  },
  {
   "cell_type": "code",
   "execution_count": 2,
   "metadata": {},
   "outputs": [
    {
     "name": "stdout",
     "output_type": "stream",
     "text": [
      "[name: \"/device:CPU:0\"\n",
      "device_type: \"CPU\"\n",
      "memory_limit: 268435456\n",
      "locality {\n",
      "}\n",
      "incarnation: 14400963599568954059\n",
      ", name: \"/device:XLA_CPU:0\"\n",
      "device_type: \"XLA_CPU\"\n",
      "memory_limit: 17179869184\n",
      "locality {\n",
      "}\n",
      "incarnation: 7154340530738083145\n",
      "physical_device_desc: \"device: XLA_CPU device\"\n",
      "]\n"
     ]
    },
    {
     "name": "stderr",
     "output_type": "stream",
     "text": [
      "2023-04-30 19:16:39.063998: I tensorflow/core/platform/cpu_feature_guard.cc:142] This TensorFlow binary is optimized with oneAPI Deep Neural Network Library (oneDNN) to use the following CPU instructions in performance-critical operations:  SSE4.1 SSE4.2 AVX AVX2 AVX512F FMA\n",
      "To enable them in other operations, rebuild TensorFlow with the appropriate compiler flags.\n",
      "2023-04-30 19:16:39.100380: I tensorflow/core/platform/profile_utils/cpu_utils.cc:112] CPU Frequency: 2200000000 Hz\n",
      "2023-04-30 19:16:39.104511: I tensorflow/compiler/xla/service/service.cc:168] XLA service 0xefbf60 initialized for platform Host (this does not guarantee that XLA will be used). Devices:\n",
      "2023-04-30 19:16:39.104558: I tensorflow/compiler/xla/service/service.cc:176]   StreamExecutor device (0): Host, Default Version\n",
      "2023-04-30 19:16:39.110738: I tensorflow/stream_executor/platform/default/dso_loader.cc:49] Successfully opened dynamic library libcuda.so.1\n",
      "2023-04-30 19:16:39.177168: E tensorflow/stream_executor/cuda/cuda_driver.cc:328] failed call to cuInit: CUDA_ERROR_NO_DEVICE: no CUDA-capable device is detected\n",
      "2023-04-30 19:16:39.177196: I tensorflow/stream_executor/cuda/cuda_diagnostics.cc:156] kernel driver does not appear to be running on this host (hpcadxenon-HP-Z8-G4-Workstation): /proc/driver/nvidia/version does not exist\n"
     ]
    }
   ],
   "source": [
    "from tensorflow.python.client import device_lib \n",
    "os.environ['TF_XLA_FLAGS']=\"--tf_xla_enable_xla_devices\"\n",
    "print(device_lib.list_local_devices())"
   ]
  },
  {
   "cell_type": "code",
   "execution_count": 3,
   "metadata": {},
   "outputs": [
    {
     "data": {
      "text/plain": [
       "[PhysicalDevice(name='/physical_device:CPU:0', device_type='CPU'),\n",
       " PhysicalDevice(name='/physical_device:XLA_CPU:0', device_type='XLA_CPU')]"
      ]
     },
     "execution_count": 3,
     "metadata": {},
     "output_type": "execute_result"
    }
   ],
   "source": [
    "tf.config.experimental.list_physical_devices()"
   ]
  },
  {
   "cell_type": "code",
   "execution_count": 4,
   "metadata": {
    "id": "Vik1x9mkZIOm"
   },
   "outputs": [],
   "source": [
    "files1 = glob.glob(\"./parkinsons/*Ga**Co*.txt\")\n",
    "files2 = glob.glob(\"./parkinsons/*Ga**Pt*.txt\")\n",
    "files1j = glob.glob(\"./parkinsons/*Ju**Co*.txt\")\n",
    "files2j = glob.glob(\"./parkinsons/*Ju**Pt*.txt\")\n",
    "files1s = glob.glob(\"./parkinsons/*Si**Co*.txt\")\n",
    "files2s = glob.glob(\"./parkinsons/*Si**Pt*.txt\")\n",
    "# files=files1+files2\n",
    "# shuffle(files)"
   ]
  },
  {
   "cell_type": "code",
   "execution_count": 5,
   "metadata": {},
   "outputs": [
    {
     "name": "stdout",
     "output_type": "stream",
     "text": [
      "38\n",
      "75\n",
      "25\n",
      "104\n",
      "29\n",
      "35\n"
     ]
    }
   ],
   "source": [
    "print(len(files1))\n",
    "print(len(files2))     \n",
    "print(len(files1j))\n",
    "print(len(files2j))     \n",
    "print(len(files1s))\n",
    "print(len(files2s))     "
   ]
  },
  {
   "cell_type": "code",
   "execution_count": 6,
   "metadata": {
    "id": "o9de6Bdr_X7C"
   },
   "outputs": [],
   "source": [
    "columns = [\"elaps_time\",\"L1\", \"L2\",\"L3\",\"L4\",\"L5\",\"L6\",\"L7\",\"L8\",\"R1\",\"R2\",\"R3\",\"R4\",\"R5\",\"R6\",\"R7\",\"R8\",\"LTot\",\"RTot\"]"
   ]
  },
  {
   "cell_type": "code",
   "execution_count": 7,
   "metadata": {
    "id": "OkThribYZbU1"
   },
   "outputs": [],
   "source": [
    "def getClassForHealthyOrNot(filename):\n",
    "    if (filename.find(\"Co\") >=0):\n",
    "        return 0\n",
    "    else:\n",
    "        return 1\n"
   ]
  },
  {
   "cell_type": "code",
   "execution_count": 8,
   "metadata": {
    "id": "7NYxPBygzo1e"
   },
   "outputs": [],
   "source": [
    "class Patient:\n",
    "    def __init__(self,input_data,y):\n",
    "        self.x = input_data\n",
    "        self.y = y\n",
    "        self.x_scaled = input_data"
   ]
  },
  {
   "cell_type": "code",
   "execution_count": 9,
   "metadata": {
    "id": "um8W0jLfzp8z"
   },
   "outputs": [],
   "source": [
    "patients=[]\n",
    "un_used_data=[]\n",
    "\n",
    "for f in files1:\n",
    "    #print(f\"{i+1}. {file}\")\n",
    "    \n",
    "    data_txt = pd.read_table(f,names=columns)\n",
    "    data_txt.drop(['elaps_time'],inplace=True,axis=1)\n",
    "    \n",
    "    \n",
    "    \n",
    "    j=0\n",
    "    ispark = getClassForHealthyOrNot(f)\n",
    "    # print(ispark)\n",
    "    while j < 12001:\n",
    "        data = data_txt.iloc[j+1:j+151,:]\n",
    "        \n",
    "        if data.shape[0] == 150:\n",
    "            patients.append( Patient(data, ispark) )\n",
    "        \n",
    "        j=j+75"
   ]
  },
  {
   "cell_type": "code",
   "execution_count": 10,
   "metadata": {
    "id": "iXp833vu_TB3"
   },
   "outputs": [],
   "source": [
    "patients1=[]\n",
    "un_used_data1=[]\n",
    "\n",
    "for f in files2:\n",
    "    #print(f\"{i+1}. {file}\")\n",
    "    \n",
    "    data_txt = pd.read_table(f,names=columns)\n",
    "    data_txt.drop(['elaps_time'],inplace=True,axis=1)\n",
    "    \n",
    "    \n",
    "    \n",
    "    j=0\n",
    "    ispark = getClassForHealthyOrNot(f)\n",
    "    # print(ispark)\n",
    "    while j < 12001:\n",
    "        data = data_txt.iloc[j+1:j+151,:]\n",
    "        \n",
    "        if data.shape[0] == 150:\n",
    "            patients1.append( Patient(data, ispark) )\n",
    "        \n",
    "        j=j+75"
   ]
  },
  {
   "cell_type": "code",
   "execution_count": 11,
   "metadata": {
    "colab": {
     "base_uri": "https://localhost:8080/"
    },
    "id": "YMO-9K-f00D2",
    "outputId": "acfcf674-107a-4e0a-a370-043ea5439305"
   },
   "outputs": [
    {
     "data": {
      "text/plain": [
       "5972"
      ]
     },
     "execution_count": 11,
     "metadata": {},
     "output_type": "execute_result"
    }
   ],
   "source": [
    "len(patients)"
   ]
  },
  {
   "cell_type": "code",
   "execution_count": 12,
   "metadata": {
    "colab": {
     "base_uri": "https://localhost:8080/"
    },
    "id": "IPaH2QfKAOfm",
    "outputId": "a463f0a9-3058-45c8-aa0b-d079db5e5f72"
   },
   "outputs": [
    {
     "data": {
      "text/plain": [
       "12000"
      ]
     },
     "execution_count": 12,
     "metadata": {},
     "output_type": "execute_result"
    }
   ],
   "source": [
    "len(patients1)\n"
   ]
  },
  {
   "cell_type": "code",
   "execution_count": 13,
   "metadata": {
    "id": "9ZYcPnYP1Lkc"
   },
   "outputs": [],
   "source": [
    "shuffle(patients)\n",
    "shuffle(patients1)"
   ]
  },
  {
   "cell_type": "code",
   "execution_count": 14,
   "metadata": {
    "id": "-mAihBLj1QYz"
   },
   "outputs": [],
   "source": [
    "train = patients[:int(len(patients)*0.8)]+patients1[:int(len(patients1)*0.8)]\n",
    "test = patients[int(len(patients)*0.8):]+patients1[int(len(patients1)*0.8):]"
   ]
  },
  {
   "cell_type": "code",
   "execution_count": 15,
   "metadata": {
    "colab": {
     "base_uri": "https://localhost:8080/"
    },
    "id": "OLKpXuqkA0to",
    "outputId": "c79e8660-546b-4ff9-f299-adc95f17f675"
   },
   "outputs": [
    {
     "name": "stdout",
     "output_type": "stream",
     "text": [
      "14377\n",
      "3595\n"
     ]
    }
   ],
   "source": [
    "print(len(train))\n",
    "print(len(test))"
   ]
  },
  {
   "cell_type": "code",
   "execution_count": 16,
   "metadata": {
    "id": "cUKw51iuA3-7"
   },
   "outputs": [],
   "source": [
    "shuffle(train)\n",
    "shuffle(test)"
   ]
  },
  {
   "cell_type": "code",
   "execution_count": 17,
   "metadata": {
    "id": "_Uy2WCDO11YA"
   },
   "outputs": [],
   "source": [
    "train_concat=[]\n",
    "for p in train:\n",
    "    train_concat = train_concat+[p.x]"
   ]
  },
  {
   "cell_type": "code",
   "execution_count": 18,
   "metadata": {
    "id": "CZTBAgwu2GJ4"
   },
   "outputs": [],
   "source": [
    "data_tr = pd.concat(train_concat,ignore_index=True)"
   ]
  },
  {
   "cell_type": "code",
   "execution_count": 19,
   "metadata": {
    "colab": {
     "base_uri": "https://localhost:8080/"
    },
    "id": "Xu_PsImH2ORu",
    "outputId": "d81790ce-1e80-43ef-b20f-8ff466aa74c7"
   },
   "outputs": [
    {
     "data": {
      "text/plain": [
       "array([[ 0.55637509,  0.32127161,  0.29253343, ..., -0.76741576,\n",
       "         1.39435066, -1.1257737 ],\n",
       "       [ 0.43423612,  0.2259723 ,  0.17253494, ..., -0.76741576,\n",
       "         1.39435066, -1.1257737 ],\n",
       "       [ 0.30446347,  0.13197846,  0.05698084, ..., -0.76741576,\n",
       "         1.36647677, -1.09741081],\n",
       "       ...,\n",
       "       [-0.63666088, -0.6800239 , -0.65856569, ...,  0.00223702,\n",
       "        -1.12620704,  1.08625899],\n",
       "       [-0.63666088, -0.6800239 , -0.65856569, ...,  0.00223702,\n",
       "        -1.12620704,  1.0008976 ],\n",
       "       [-0.63666088, -0.6800239 , -0.65856569, ...,  0.04193258,\n",
       "        -1.12620704,  0.9384447 ]])"
      ]
     },
     "execution_count": 19,
     "metadata": {},
     "output_type": "execute_result"
    }
   ],
   "source": [
    "scaler = StandardScaler()\n",
    "scaler.fit_transform(data_tr)"
   ]
  },
  {
   "cell_type": "code",
   "execution_count": 20,
   "metadata": {
    "id": "lU7nVIWF2RVq"
   },
   "outputs": [],
   "source": [
    "i=0\n",
    "wo_time_col=[\"L1\", \"L2\",\"L3\",\"L4\",\"L5\",\"L6\",\"L7\",\"L8\",\"R1\",\"R2\",\"R3\",\"R4\",\"R5\",\"R6\",\"R7\",\"R8\",\"LTot\",\"RTot\"]\n",
    "for obj in train:\n",
    "    obj.x_scaled = pd.DataFrame(scaler.transform(obj.x),columns=wo_time_col)\n",
    "    i=i+1"
   ]
  },
  {
   "cell_type": "code",
   "execution_count": 21,
   "metadata": {
    "id": "4UARoisP3xih"
   },
   "outputs": [],
   "source": [
    "for obj in test:\n",
    "    obj.x_scaled = pd.DataFrame(scaler.transform(obj.x),columns=wo_time_col)\n",
    "    i=i+1"
   ]
  },
  {
   "cell_type": "code",
   "execution_count": 22,
   "metadata": {
    "id": "97vpZxO86VMi"
   },
   "outputs": [],
   "source": [
    "X_scaled_list_train=[]\n",
    "Y_list_train=[]\n",
    "\n",
    "for obj in train:\n",
    "    X_scaled_list_train = X_scaled_list_train + [obj.x_scaled]\n",
    "    Y_list_train = Y_list_train + [obj.y]\n",
    "    \n",
    "X_scaled_arr_train = np.array(X_scaled_list_train)\n",
    "Y_arr_train = np.array(Y_list_train)"
   ]
  },
  {
   "cell_type": "code",
   "execution_count": 23,
   "metadata": {
    "colab": {
     "base_uri": "https://localhost:8080/"
    },
    "id": "A_SvxxOK72ry",
    "outputId": "890b1bac-4f71-4326-bd98-3bb2ff126373"
   },
   "outputs": [
    {
     "data": {
      "text/plain": [
       "(14377, 150, 18)"
      ]
     },
     "execution_count": 23,
     "metadata": {},
     "output_type": "execute_result"
    }
   ],
   "source": [
    "X_scaled_arr_train.shape"
   ]
  },
  {
   "cell_type": "code",
   "execution_count": 24,
   "metadata": {},
   "outputs": [
    {
     "data": {
      "text/plain": [
       "(14377,)"
      ]
     },
     "execution_count": 24,
     "metadata": {},
     "output_type": "execute_result"
    }
   ],
   "source": [
    "Y_arr_train.shape"
   ]
  },
  {
   "cell_type": "code",
   "execution_count": 25,
   "metadata": {
    "id": "86VG8YJ36-uj"
   },
   "outputs": [],
   "source": [
    "X_scaled_list_test=[]\n",
    "Y_list_test=[]\n",
    "\n",
    "for obj in test:\n",
    "    X_scaled_list_test = X_scaled_list_test + [obj.x_scaled]\n",
    "    Y_list_test = Y_list_test + [obj.y]\n",
    "    \n",
    "X_scaled_arr_test = np.array(X_scaled_list_test)\n",
    "Y_arr_test = np.array(Y_list_test)"
   ]
  },
  {
   "cell_type": "code",
   "execution_count": 26,
   "metadata": {},
   "outputs": [],
   "source": [
    "import numpy as np"
   ]
  },
  {
   "cell_type": "code",
   "execution_count": 27,
   "metadata": {
    "id": "ndlZHZnL7fkW"
   },
   "outputs": [],
   "source": [
    "model = Sequential()\n",
    "model.add(Bidirectional(LSTM(80, dropout=0.3, \n",
    "                  return_sequences=True, \n",
    "                  input_shape=(X_scaled_arr_train.shape[1], X_scaled_arr_train.shape[2]))))\n",
    "model.add(Bidirectional(LSTM(32, dropout=0.5,return_sequences=True)))\n",
    "model.add(LSTM(24, dropout=0.2,return_sequences=True))\n",
    "model.add(LSTM(12, dropout=0.2,return_sequences=False))\n",
    "model.add(Dense(1, kernel_initializer='glorot_uniform', activation='relu'))\n",
    "opt=tf.keras.optimizers.Adam(\n",
    "    learning_rate=0.0001,\n",
    "    name=\"Adam\"\n",
    "    )\n",
    "model.compile(loss='binary_crossentropy', optimizer=opt, metrics=['accuracy'])\n",
    "\n",
    "early_stopping = EarlyStopping(monitor='val_accuracy', patience=10|0, verbose=1, mode='auto')\n",
    "checkpoint = ModelCheckpoint(\"./Model/model_LSTM22_150_cross_test.v\", \n",
    "                             monitor='val_accuracy', verbose=1, save_best_only=True, \n",
    "                             save_weights_only=False)"
   ]
  },
  {
   "cell_type": "code",
   "execution_count": 28,
   "metadata": {
    "colab": {
     "base_uri": "https://localhost:8080/"
    },
    "id": "-RL4C-el7TIg",
    "outputId": "296f68f6-5765-41e9-8016-80554d7f072e",
    "scrolled": true,
    "tags": []
   },
   "outputs": [
    {
     "name": "stderr",
     "output_type": "stream",
     "text": [
      "2023-04-30 19:17:32.817546: I tensorflow/compiler/mlir/mlir_graph_optimization_pass.cc:116] None of the MLIR optimization passes are enabled (registered 2)\n"
     ]
    },
    {
     "name": "stdout",
     "output_type": "stream",
     "text": [
      "Epoch 1/500\n",
      "576/576 [==============================] - 283s 478ms/step - loss: 1.3693 - accuracy: 0.4962 - val_loss: 0.5682 - val_accuracy: 0.7045\n",
      "\n",
      "Epoch 00001: val_accuracy improved from -inf to 0.70445, saving model to ./Model/model_LSTM22_150_cross_test.v\n"
     ]
    },
    {
     "name": "stderr",
     "output_type": "stream",
     "text": [
      "2023-04-30 19:22:24.711484: W tensorflow/python/util/util.cc:348] Sets are not currently considered sequences, but this may change in the future, so consider avoiding using them.\n",
      "WARNING:absl:Found untraced functions such as lstm_cell_6_layer_call_and_return_conditional_losses, lstm_cell_6_layer_call_fn, lstm_cell_7_layer_call_and_return_conditional_losses, lstm_cell_7_layer_call_fn, lstm_cell_1_layer_call_and_return_conditional_losses while saving (showing 5 of 30). These functions will not be directly callable after loading.\n",
      "WARNING:absl:Found untraced functions such as lstm_cell_6_layer_call_and_return_conditional_losses, lstm_cell_6_layer_call_fn, lstm_cell_7_layer_call_and_return_conditional_losses, lstm_cell_7_layer_call_fn, lstm_cell_1_layer_call_and_return_conditional_losses while saving (showing 5 of 30). These functions will not be directly callable after loading.\n"
     ]
    },
    {
     "name": "stdout",
     "output_type": "stream",
     "text": [
      "INFO:tensorflow:Assets written to: ./Model/model_LSTM22_150_cross_test.v/assets\n"
     ]
    },
    {
     "name": "stderr",
     "output_type": "stream",
     "text": [
      "INFO:tensorflow:Assets written to: ./Model/model_LSTM22_150_cross_test.v/assets\n"
     ]
    },
    {
     "name": "stdout",
     "output_type": "stream",
     "text": [
      "Epoch 2/500\n",
      "576/576 [==============================] - 246s 426ms/step - loss: 0.5661 - accuracy: 0.7120 - val_loss: 0.4757 - val_accuracy: 0.7747\n",
      "\n",
      "Epoch 00002: val_accuracy improved from 0.70445 to 0.77469, saving model to ./Model/model_LSTM22_150_cross_test.v\n"
     ]
    },
    {
     "name": "stderr",
     "output_type": "stream",
     "text": [
      "WARNING:absl:Found untraced functions such as lstm_cell_6_layer_call_and_return_conditional_losses, lstm_cell_6_layer_call_fn, lstm_cell_7_layer_call_and_return_conditional_losses, lstm_cell_7_layer_call_fn, lstm_cell_1_layer_call_and_return_conditional_losses while saving (showing 5 of 30). These functions will not be directly callable after loading.\n",
      "WARNING:absl:Found untraced functions such as lstm_cell_6_layer_call_and_return_conditional_losses, lstm_cell_6_layer_call_fn, lstm_cell_7_layer_call_and_return_conditional_losses, lstm_cell_7_layer_call_fn, lstm_cell_1_layer_call_and_return_conditional_losses while saving (showing 5 of 30). These functions will not be directly callable after loading.\n"
     ]
    },
    {
     "name": "stdout",
     "output_type": "stream",
     "text": [
      "INFO:tensorflow:Assets written to: ./Model/model_LSTM22_150_cross_test.v/assets\n"
     ]
    },
    {
     "name": "stderr",
     "output_type": "stream",
     "text": [
      "INFO:tensorflow:Assets written to: ./Model/model_LSTM22_150_cross_test.v/assets\n"
     ]
    },
    {
     "name": "stdout",
     "output_type": "stream",
     "text": [
      "Epoch 3/500\n",
      "576/576 [==============================] - 242s 421ms/step - loss: 0.4833 - accuracy: 0.7868 - val_loss: 0.4554 - val_accuracy: 0.7837\n",
      "\n",
      "Epoch 00003: val_accuracy improved from 0.77469 to 0.78373, saving model to ./Model/model_LSTM22_150_cross_test.v\n"
     ]
    },
    {
     "name": "stderr",
     "output_type": "stream",
     "text": [
      "WARNING:absl:Found untraced functions such as lstm_cell_6_layer_call_and_return_conditional_losses, lstm_cell_6_layer_call_fn, lstm_cell_7_layer_call_and_return_conditional_losses, lstm_cell_7_layer_call_fn, lstm_cell_1_layer_call_and_return_conditional_losses while saving (showing 5 of 30). These functions will not be directly callable after loading.\n",
      "WARNING:absl:Found untraced functions such as lstm_cell_6_layer_call_and_return_conditional_losses, lstm_cell_6_layer_call_fn, lstm_cell_7_layer_call_and_return_conditional_losses, lstm_cell_7_layer_call_fn, lstm_cell_1_layer_call_and_return_conditional_losses while saving (showing 5 of 30). These functions will not be directly callable after loading.\n"
     ]
    },
    {
     "name": "stdout",
     "output_type": "stream",
     "text": [
      "INFO:tensorflow:Assets written to: ./Model/model_LSTM22_150_cross_test.v/assets\n"
     ]
    },
    {
     "name": "stderr",
     "output_type": "stream",
     "text": [
      "INFO:tensorflow:Assets written to: ./Model/model_LSTM22_150_cross_test.v/assets\n"
     ]
    },
    {
     "name": "stdout",
     "output_type": "stream",
     "text": [
      "Epoch 4/500\n",
      "576/576 [==============================] - 242s 420ms/step - loss: 0.4329 - accuracy: 0.8149 - val_loss: 0.3357 - val_accuracy: 0.8964\n",
      "\n",
      "Epoch 00004: val_accuracy improved from 0.78373 to 0.89638, saving model to ./Model/model_LSTM22_150_cross_test.v\n"
     ]
    },
    {
     "name": "stderr",
     "output_type": "stream",
     "text": [
      "WARNING:absl:Found untraced functions such as lstm_cell_6_layer_call_and_return_conditional_losses, lstm_cell_6_layer_call_fn, lstm_cell_7_layer_call_and_return_conditional_losses, lstm_cell_7_layer_call_fn, lstm_cell_1_layer_call_and_return_conditional_losses while saving (showing 5 of 30). These functions will not be directly callable after loading.\n",
      "WARNING:absl:Found untraced functions such as lstm_cell_6_layer_call_and_return_conditional_losses, lstm_cell_6_layer_call_fn, lstm_cell_7_layer_call_and_return_conditional_losses, lstm_cell_7_layer_call_fn, lstm_cell_1_layer_call_and_return_conditional_losses while saving (showing 5 of 30). These functions will not be directly callable after loading.\n"
     ]
    },
    {
     "name": "stdout",
     "output_type": "stream",
     "text": [
      "INFO:tensorflow:Assets written to: ./Model/model_LSTM22_150_cross_test.v/assets\n"
     ]
    },
    {
     "name": "stderr",
     "output_type": "stream",
     "text": [
      "INFO:tensorflow:Assets written to: ./Model/model_LSTM22_150_cross_test.v/assets\n"
     ]
    },
    {
     "name": "stdout",
     "output_type": "stream",
     "text": [
      "Epoch 5/500\n",
      "576/576 [==============================] - 241s 418ms/step - loss: 0.3338 - accuracy: 0.8783 - val_loss: 0.2814 - val_accuracy: 0.9398\n",
      "\n",
      "Epoch 00005: val_accuracy improved from 0.89638 to 0.93985, saving model to ./Model/model_LSTM22_150_cross_test.v\n"
     ]
    },
    {
     "name": "stderr",
     "output_type": "stream",
     "text": [
      "WARNING:absl:Found untraced functions such as lstm_cell_6_layer_call_and_return_conditional_losses, lstm_cell_6_layer_call_fn, lstm_cell_7_layer_call_and_return_conditional_losses, lstm_cell_7_layer_call_fn, lstm_cell_1_layer_call_and_return_conditional_losses while saving (showing 5 of 30). These functions will not be directly callable after loading.\n",
      "WARNING:absl:Found untraced functions such as lstm_cell_6_layer_call_and_return_conditional_losses, lstm_cell_6_layer_call_fn, lstm_cell_7_layer_call_and_return_conditional_losses, lstm_cell_7_layer_call_fn, lstm_cell_1_layer_call_and_return_conditional_losses while saving (showing 5 of 30). These functions will not be directly callable after loading.\n"
     ]
    },
    {
     "name": "stdout",
     "output_type": "stream",
     "text": [
      "INFO:tensorflow:Assets written to: ./Model/model_LSTM22_150_cross_test.v/assets\n"
     ]
    },
    {
     "name": "stderr",
     "output_type": "stream",
     "text": [
      "INFO:tensorflow:Assets written to: ./Model/model_LSTM22_150_cross_test.v/assets\n"
     ]
    },
    {
     "name": "stdout",
     "output_type": "stream",
     "text": [
      "Epoch 6/500\n",
      "576/576 [==============================] - 241s 419ms/step - loss: 0.2674 - accuracy: 0.9160 - val_loss: 0.2994 - val_accuracy: 0.9336\n",
      "\n",
      "Epoch 00006: val_accuracy did not improve from 0.93985\n",
      "Epoch 7/500\n",
      "576/576 [==============================] - 239s 416ms/step - loss: 0.2688 - accuracy: 0.9250 - val_loss: 0.1844 - val_accuracy: 0.9611\n",
      "\n",
      "Epoch 00007: val_accuracy improved from 0.93985 to 0.96106, saving model to ./Model/model_LSTM22_150_cross_test.v\n"
     ]
    },
    {
     "name": "stderr",
     "output_type": "stream",
     "text": [
      "WARNING:absl:Found untraced functions such as lstm_cell_6_layer_call_and_return_conditional_losses, lstm_cell_6_layer_call_fn, lstm_cell_7_layer_call_and_return_conditional_losses, lstm_cell_7_layer_call_fn, lstm_cell_1_layer_call_and_return_conditional_losses while saving (showing 5 of 30). These functions will not be directly callable after loading.\n",
      "WARNING:absl:Found untraced functions such as lstm_cell_6_layer_call_and_return_conditional_losses, lstm_cell_6_layer_call_fn, lstm_cell_7_layer_call_and_return_conditional_losses, lstm_cell_7_layer_call_fn, lstm_cell_1_layer_call_and_return_conditional_losses while saving (showing 5 of 30). These functions will not be directly callable after loading.\n"
     ]
    },
    {
     "name": "stdout",
     "output_type": "stream",
     "text": [
      "INFO:tensorflow:Assets written to: ./Model/model_LSTM22_150_cross_test.v/assets\n"
     ]
    },
    {
     "name": "stderr",
     "output_type": "stream",
     "text": [
      "INFO:tensorflow:Assets written to: ./Model/model_LSTM22_150_cross_test.v/assets\n"
     ]
    },
    {
     "name": "stdout",
     "output_type": "stream",
     "text": [
      "Epoch 8/500\n",
      "576/576 [==============================] - 239s 414ms/step - loss: 0.2153 - accuracy: 0.9483 - val_loss: 0.7256 - val_accuracy: 0.6937\n",
      "\n",
      "Epoch 00008: val_accuracy did not improve from 0.96106\n",
      "Epoch 9/500\n",
      "576/576 [==============================] - 236s 410ms/step - loss: 0.6336 - accuracy: 0.7016 - val_loss: 0.5295 - val_accuracy: 0.7483\n",
      "\n",
      "Epoch 00009: val_accuracy did not improve from 0.96106\n",
      "Epoch 10/500\n",
      "576/576 [==============================] - 236s 410ms/step - loss: 0.5321 - accuracy: 0.7527 - val_loss: 0.4247 - val_accuracy: 0.8143\n",
      "\n",
      "Epoch 00010: val_accuracy did not improve from 0.96106\n",
      "Epoch 11/500\n",
      "576/576 [==============================] - 237s 411ms/step - loss: 0.4444 - accuracy: 0.8023 - val_loss: 0.2919 - val_accuracy: 0.8745\n",
      "\n",
      "Epoch 00011: val_accuracy did not improve from 0.96106\n",
      "Epoch 12/500\n",
      "576/576 [==============================] - 236s 410ms/step - loss: 0.3908 - accuracy: 0.8526 - val_loss: 0.3894 - val_accuracy: 0.8661\n",
      "\n",
      "Epoch 00012: val_accuracy did not improve from 0.96106\n",
      "Epoch 13/500\n",
      "576/576 [==============================] - 236s 411ms/step - loss: 0.3873 - accuracy: 0.8543 - val_loss: 0.2654 - val_accuracy: 0.9159\n",
      "\n",
      "Epoch 00013: val_accuracy did not improve from 0.96106\n",
      "Epoch 14/500\n",
      "576/576 [==============================] - 236s 410ms/step - loss: 0.2854 - accuracy: 0.9087 - val_loss: 0.1846 - val_accuracy: 0.9437\n",
      "\n",
      "Epoch 00014: val_accuracy did not improve from 0.96106\n",
      "Epoch 15/500\n",
      "576/576 [==============================] - 234s 406ms/step - loss: 0.2442 - accuracy: 0.9331 - val_loss: 0.1472 - val_accuracy: 0.9534\n",
      "\n",
      "Epoch 00015: val_accuracy did not improve from 0.96106\n",
      "Epoch 16/500\n",
      "576/576 [==============================] - 232s 403ms/step - loss: 0.1775 - accuracy: 0.9509 - val_loss: 0.1204 - val_accuracy: 0.9725\n",
      "\n",
      "Epoch 00016: val_accuracy improved from 0.96106 to 0.97253, saving model to ./Model/model_LSTM22_150_cross_test.v\n"
     ]
    },
    {
     "name": "stderr",
     "output_type": "stream",
     "text": [
      "WARNING:absl:Found untraced functions such as lstm_cell_6_layer_call_and_return_conditional_losses, lstm_cell_6_layer_call_fn, lstm_cell_7_layer_call_and_return_conditional_losses, lstm_cell_7_layer_call_fn, lstm_cell_1_layer_call_and_return_conditional_losses while saving (showing 5 of 30). These functions will not be directly callable after loading.\n",
      "WARNING:absl:Found untraced functions such as lstm_cell_6_layer_call_and_return_conditional_losses, lstm_cell_6_layer_call_fn, lstm_cell_7_layer_call_and_return_conditional_losses, lstm_cell_7_layer_call_fn, lstm_cell_1_layer_call_and_return_conditional_losses while saving (showing 5 of 30). These functions will not be directly callable after loading.\n"
     ]
    },
    {
     "name": "stdout",
     "output_type": "stream",
     "text": [
      "INFO:tensorflow:Assets written to: ./Model/model_LSTM22_150_cross_test.v/assets\n"
     ]
    },
    {
     "name": "stderr",
     "output_type": "stream",
     "text": [
      "INFO:tensorflow:Assets written to: ./Model/model_LSTM22_150_cross_test.v/assets\n"
     ]
    },
    {
     "name": "stdout",
     "output_type": "stream",
     "text": [
      "Epoch 17/500\n",
      "576/576 [==============================] - 230s 399ms/step - loss: 0.1995 - accuracy: 0.9523 - val_loss: 0.1218 - val_accuracy: 0.9732\n",
      "\n",
      "Epoch 00017: val_accuracy improved from 0.97253 to 0.97323, saving model to ./Model/model_LSTM22_150_cross_test.v\n"
     ]
    },
    {
     "name": "stderr",
     "output_type": "stream",
     "text": [
      "WARNING:absl:Found untraced functions such as lstm_cell_6_layer_call_and_return_conditional_losses, lstm_cell_6_layer_call_fn, lstm_cell_7_layer_call_and_return_conditional_losses, lstm_cell_7_layer_call_fn, lstm_cell_1_layer_call_and_return_conditional_losses while saving (showing 5 of 30). These functions will not be directly callable after loading.\n",
      "WARNING:absl:Found untraced functions such as lstm_cell_6_layer_call_and_return_conditional_losses, lstm_cell_6_layer_call_fn, lstm_cell_7_layer_call_and_return_conditional_losses, lstm_cell_7_layer_call_fn, lstm_cell_1_layer_call_and_return_conditional_losses while saving (showing 5 of 30). These functions will not be directly callable after loading.\n"
     ]
    },
    {
     "name": "stdout",
     "output_type": "stream",
     "text": [
      "INFO:tensorflow:Assets written to: ./Model/model_LSTM22_150_cross_test.v/assets\n"
     ]
    },
    {
     "name": "stderr",
     "output_type": "stream",
     "text": [
      "INFO:tensorflow:Assets written to: ./Model/model_LSTM22_150_cross_test.v/assets\n"
     ]
    },
    {
     "name": "stdout",
     "output_type": "stream",
     "text": [
      "Epoch 18/500\n",
      "576/576 [==============================] - 231s 400ms/step - loss: 0.1650 - accuracy: 0.9607 - val_loss: 0.1036 - val_accuracy: 0.9774\n",
      "\n",
      "Epoch 00018: val_accuracy improved from 0.97323 to 0.97740, saving model to ./Model/model_LSTM22_150_cross_test.v\n"
     ]
    },
    {
     "name": "stderr",
     "output_type": "stream",
     "text": [
      "WARNING:absl:Found untraced functions such as lstm_cell_6_layer_call_and_return_conditional_losses, lstm_cell_6_layer_call_fn, lstm_cell_7_layer_call_and_return_conditional_losses, lstm_cell_7_layer_call_fn, lstm_cell_1_layer_call_and_return_conditional_losses while saving (showing 5 of 30). These functions will not be directly callable after loading.\n",
      "WARNING:absl:Found untraced functions such as lstm_cell_6_layer_call_and_return_conditional_losses, lstm_cell_6_layer_call_fn, lstm_cell_7_layer_call_and_return_conditional_losses, lstm_cell_7_layer_call_fn, lstm_cell_1_layer_call_and_return_conditional_losses while saving (showing 5 of 30). These functions will not be directly callable after loading.\n"
     ]
    },
    {
     "name": "stdout",
     "output_type": "stream",
     "text": [
      "INFO:tensorflow:Assets written to: ./Model/model_LSTM22_150_cross_test.v/assets\n"
     ]
    },
    {
     "name": "stderr",
     "output_type": "stream",
     "text": [
      "INFO:tensorflow:Assets written to: ./Model/model_LSTM22_150_cross_test.v/assets\n"
     ]
    },
    {
     "name": "stdout",
     "output_type": "stream",
     "text": [
      "Epoch 19/500\n",
      "576/576 [==============================] - 227s 394ms/step - loss: 0.1695 - accuracy: 0.9622 - val_loss: 0.1866 - val_accuracy: 0.9656\n",
      "\n",
      "Epoch 00019: val_accuracy did not improve from 0.97740\n",
      "Epoch 20/500\n",
      "576/576 [==============================] - 228s 396ms/step - loss: 0.1671 - accuracy: 0.9625 - val_loss: 0.1162 - val_accuracy: 0.9816\n",
      "\n",
      "Epoch 00020: val_accuracy improved from 0.97740 to 0.98157, saving model to ./Model/model_LSTM22_150_cross_test.v\n"
     ]
    },
    {
     "name": "stderr",
     "output_type": "stream",
     "text": [
      "WARNING:absl:Found untraced functions such as lstm_cell_6_layer_call_and_return_conditional_losses, lstm_cell_6_layer_call_fn, lstm_cell_7_layer_call_and_return_conditional_losses, lstm_cell_7_layer_call_fn, lstm_cell_1_layer_call_and_return_conditional_losses while saving (showing 5 of 30). These functions will not be directly callable after loading.\n",
      "WARNING:absl:Found untraced functions such as lstm_cell_6_layer_call_and_return_conditional_losses, lstm_cell_6_layer_call_fn, lstm_cell_7_layer_call_and_return_conditional_losses, lstm_cell_7_layer_call_fn, lstm_cell_1_layer_call_and_return_conditional_losses while saving (showing 5 of 30). These functions will not be directly callable after loading.\n"
     ]
    },
    {
     "name": "stdout",
     "output_type": "stream",
     "text": [
      "INFO:tensorflow:Assets written to: ./Model/model_LSTM22_150_cross_test.v/assets\n"
     ]
    },
    {
     "name": "stderr",
     "output_type": "stream",
     "text": [
      "INFO:tensorflow:Assets written to: ./Model/model_LSTM22_150_cross_test.v/assets\n"
     ]
    },
    {
     "name": "stdout",
     "output_type": "stream",
     "text": [
      "Epoch 21/500\n",
      "576/576 [==============================] - 227s 393ms/step - loss: 0.1131 - accuracy: 0.9736 - val_loss: 0.3361 - val_accuracy: 0.8766\n",
      "\n",
      "Epoch 00021: val_accuracy did not improve from 0.98157\n",
      "Epoch 22/500\n",
      "576/576 [==============================] - 225s 391ms/step - loss: 0.2908 - accuracy: 0.8986 - val_loss: 0.1859 - val_accuracy: 0.9590\n",
      "\n",
      "Epoch 00022: val_accuracy did not improve from 0.98157\n",
      "Epoch 23/500\n",
      "576/576 [==============================] - 225s 391ms/step - loss: 0.1683 - accuracy: 0.9517 - val_loss: 0.1228 - val_accuracy: 0.9788\n",
      "\n",
      "Epoch 00023: val_accuracy did not improve from 0.98157\n",
      "Epoch 24/500\n",
      "576/576 [==============================] - 223s 387ms/step - loss: 0.2516 - accuracy: 0.9516 - val_loss: 0.1178 - val_accuracy: 0.9819\n",
      "\n",
      "Epoch 00024: val_accuracy improved from 0.98157 to 0.98192, saving model to ./Model/model_LSTM22_150_cross_test.v\n"
     ]
    },
    {
     "name": "stderr",
     "output_type": "stream",
     "text": [
      "WARNING:absl:Found untraced functions such as lstm_cell_6_layer_call_and_return_conditional_losses, lstm_cell_6_layer_call_fn, lstm_cell_7_layer_call_and_return_conditional_losses, lstm_cell_7_layer_call_fn, lstm_cell_1_layer_call_and_return_conditional_losses while saving (showing 5 of 30). These functions will not be directly callable after loading.\n",
      "WARNING:absl:Found untraced functions such as lstm_cell_6_layer_call_and_return_conditional_losses, lstm_cell_6_layer_call_fn, lstm_cell_7_layer_call_and_return_conditional_losses, lstm_cell_7_layer_call_fn, lstm_cell_1_layer_call_and_return_conditional_losses while saving (showing 5 of 30). These functions will not be directly callable after loading.\n"
     ]
    },
    {
     "name": "stdout",
     "output_type": "stream",
     "text": [
      "INFO:tensorflow:Assets written to: ./Model/model_LSTM22_150_cross_test.v/assets\n"
     ]
    },
    {
     "name": "stderr",
     "output_type": "stream",
     "text": [
      "INFO:tensorflow:Assets written to: ./Model/model_LSTM22_150_cross_test.v/assets\n"
     ]
    },
    {
     "name": "stdout",
     "output_type": "stream",
     "text": [
      "Epoch 25/500\n",
      "576/576 [==============================] - 222s 386ms/step - loss: 0.1304 - accuracy: 0.9735 - val_loss: 0.0994 - val_accuracy: 0.9805\n",
      "\n",
      "Epoch 00025: val_accuracy did not improve from 0.98192\n",
      "Epoch 26/500\n",
      "576/576 [==============================] - 223s 388ms/step - loss: 0.1060 - accuracy: 0.9740 - val_loss: 0.0733 - val_accuracy: 0.9830\n",
      "\n",
      "Epoch 00026: val_accuracy improved from 0.98192 to 0.98296, saving model to ./Model/model_LSTM22_150_cross_test.v\n"
     ]
    },
    {
     "name": "stderr",
     "output_type": "stream",
     "text": [
      "WARNING:absl:Found untraced functions such as lstm_cell_6_layer_call_and_return_conditional_losses, lstm_cell_6_layer_call_fn, lstm_cell_7_layer_call_and_return_conditional_losses, lstm_cell_7_layer_call_fn, lstm_cell_1_layer_call_and_return_conditional_losses while saving (showing 5 of 30). These functions will not be directly callable after loading.\n",
      "WARNING:absl:Found untraced functions such as lstm_cell_6_layer_call_and_return_conditional_losses, lstm_cell_6_layer_call_fn, lstm_cell_7_layer_call_and_return_conditional_losses, lstm_cell_7_layer_call_fn, lstm_cell_1_layer_call_and_return_conditional_losses while saving (showing 5 of 30). These functions will not be directly callable after loading.\n"
     ]
    },
    {
     "name": "stdout",
     "output_type": "stream",
     "text": [
      "INFO:tensorflow:Assets written to: ./Model/model_LSTM22_150_cross_test.v/assets\n"
     ]
    },
    {
     "name": "stderr",
     "output_type": "stream",
     "text": [
      "INFO:tensorflow:Assets written to: ./Model/model_LSTM22_150_cross_test.v/assets\n"
     ]
    },
    {
     "name": "stdout",
     "output_type": "stream",
     "text": [
      "Epoch 27/500\n",
      "576/576 [==============================] - 224s 388ms/step - loss: 0.0870 - accuracy: 0.9806 - val_loss: 0.0990 - val_accuracy: 0.9885\n",
      "\n",
      "Epoch 00027: val_accuracy improved from 0.98296 to 0.98853, saving model to ./Model/model_LSTM22_150_cross_test.v\n"
     ]
    },
    {
     "name": "stderr",
     "output_type": "stream",
     "text": [
      "WARNING:absl:Found untraced functions such as lstm_cell_6_layer_call_and_return_conditional_losses, lstm_cell_6_layer_call_fn, lstm_cell_7_layer_call_and_return_conditional_losses, lstm_cell_7_layer_call_fn, lstm_cell_1_layer_call_and_return_conditional_losses while saving (showing 5 of 30). These functions will not be directly callable after loading.\n",
      "WARNING:absl:Found untraced functions such as lstm_cell_6_layer_call_and_return_conditional_losses, lstm_cell_6_layer_call_fn, lstm_cell_7_layer_call_and_return_conditional_losses, lstm_cell_7_layer_call_fn, lstm_cell_1_layer_call_and_return_conditional_losses while saving (showing 5 of 30). These functions will not be directly callable after loading.\n"
     ]
    },
    {
     "name": "stdout",
     "output_type": "stream",
     "text": [
      "INFO:tensorflow:Assets written to: ./Model/model_LSTM22_150_cross_test.v/assets\n"
     ]
    },
    {
     "name": "stderr",
     "output_type": "stream",
     "text": [
      "INFO:tensorflow:Assets written to: ./Model/model_LSTM22_150_cross_test.v/assets\n"
     ]
    },
    {
     "name": "stdout",
     "output_type": "stream",
     "text": [
      "Epoch 28/500\n",
      "576/576 [==============================] - 223s 388ms/step - loss: 0.0899 - accuracy: 0.9824 - val_loss: 0.1001 - val_accuracy: 0.9854\n",
      "\n",
      "Epoch 00028: val_accuracy did not improve from 0.98853\n",
      "Epoch 29/500\n",
      "576/576 [==============================] - 223s 387ms/step - loss: 0.1054 - accuracy: 0.9774 - val_loss: 0.0614 - val_accuracy: 0.9906\n",
      "\n",
      "Epoch 00029: val_accuracy improved from 0.98853 to 0.99061, saving model to ./Model/model_LSTM22_150_cross_test.v\n"
     ]
    },
    {
     "name": "stderr",
     "output_type": "stream",
     "text": [
      "WARNING:absl:Found untraced functions such as lstm_cell_6_layer_call_and_return_conditional_losses, lstm_cell_6_layer_call_fn, lstm_cell_7_layer_call_and_return_conditional_losses, lstm_cell_7_layer_call_fn, lstm_cell_1_layer_call_and_return_conditional_losses while saving (showing 5 of 30). These functions will not be directly callable after loading.\n",
      "WARNING:absl:Found untraced functions such as lstm_cell_6_layer_call_and_return_conditional_losses, lstm_cell_6_layer_call_fn, lstm_cell_7_layer_call_and_return_conditional_losses, lstm_cell_7_layer_call_fn, lstm_cell_1_layer_call_and_return_conditional_losses while saving (showing 5 of 30). These functions will not be directly callable after loading.\n"
     ]
    },
    {
     "name": "stdout",
     "output_type": "stream",
     "text": [
      "INFO:tensorflow:Assets written to: ./Model/model_LSTM22_150_cross_test.v/assets\n"
     ]
    },
    {
     "name": "stderr",
     "output_type": "stream",
     "text": [
      "INFO:tensorflow:Assets written to: ./Model/model_LSTM22_150_cross_test.v/assets\n"
     ]
    },
    {
     "name": "stdout",
     "output_type": "stream",
     "text": [
      "Epoch 30/500\n",
      "576/576 [==============================] - 222s 386ms/step - loss: 0.1148 - accuracy: 0.9805 - val_loss: 0.1326 - val_accuracy: 0.9812\n",
      "\n",
      "Epoch 00030: val_accuracy did not improve from 0.99061\n",
      "Epoch 31/500\n",
      "576/576 [==============================] - 223s 387ms/step - loss: 0.2749 - accuracy: 0.9550 - val_loss: 0.0571 - val_accuracy: 0.9910\n",
      "\n",
      "Epoch 00031: val_accuracy improved from 0.99061 to 0.99096, saving model to ./Model/model_LSTM22_150_cross_test.v\n"
     ]
    },
    {
     "name": "stderr",
     "output_type": "stream",
     "text": [
      "WARNING:absl:Found untraced functions such as lstm_cell_6_layer_call_and_return_conditional_losses, lstm_cell_6_layer_call_fn, lstm_cell_7_layer_call_and_return_conditional_losses, lstm_cell_7_layer_call_fn, lstm_cell_1_layer_call_and_return_conditional_losses while saving (showing 5 of 30). These functions will not be directly callable after loading.\n",
      "WARNING:absl:Found untraced functions such as lstm_cell_6_layer_call_and_return_conditional_losses, lstm_cell_6_layer_call_fn, lstm_cell_7_layer_call_and_return_conditional_losses, lstm_cell_7_layer_call_fn, lstm_cell_1_layer_call_and_return_conditional_losses while saving (showing 5 of 30). These functions will not be directly callable after loading.\n"
     ]
    },
    {
     "name": "stdout",
     "output_type": "stream",
     "text": [
      "INFO:tensorflow:Assets written to: ./Model/model_LSTM22_150_cross_test.v/assets\n"
     ]
    },
    {
     "name": "stderr",
     "output_type": "stream",
     "text": [
      "INFO:tensorflow:Assets written to: ./Model/model_LSTM22_150_cross_test.v/assets\n"
     ]
    },
    {
     "name": "stdout",
     "output_type": "stream",
     "text": [
      "Epoch 32/500\n",
      "576/576 [==============================] - 220s 382ms/step - loss: 0.1469 - accuracy: 0.9720 - val_loss: 0.0651 - val_accuracy: 0.9885\n",
      "\n",
      "Epoch 00032: val_accuracy did not improve from 0.99096\n",
      "Epoch 33/500\n",
      "576/576 [==============================] - 223s 387ms/step - loss: 0.0788 - accuracy: 0.9853 - val_loss: 0.0399 - val_accuracy: 0.9917\n",
      "\n",
      "Epoch 00033: val_accuracy improved from 0.99096 to 0.99166, saving model to ./Model/model_LSTM22_150_cross_test.v\n"
     ]
    },
    {
     "name": "stderr",
     "output_type": "stream",
     "text": [
      "WARNING:absl:Found untraced functions such as lstm_cell_6_layer_call_and_return_conditional_losses, lstm_cell_6_layer_call_fn, lstm_cell_7_layer_call_and_return_conditional_losses, lstm_cell_7_layer_call_fn, lstm_cell_1_layer_call_and_return_conditional_losses while saving (showing 5 of 30). These functions will not be directly callable after loading.\n",
      "WARNING:absl:Found untraced functions such as lstm_cell_6_layer_call_and_return_conditional_losses, lstm_cell_6_layer_call_fn, lstm_cell_7_layer_call_and_return_conditional_losses, lstm_cell_7_layer_call_fn, lstm_cell_1_layer_call_and_return_conditional_losses while saving (showing 5 of 30). These functions will not be directly callable after loading.\n"
     ]
    },
    {
     "name": "stdout",
     "output_type": "stream",
     "text": [
      "INFO:tensorflow:Assets written to: ./Model/model_LSTM22_150_cross_test.v/assets\n"
     ]
    },
    {
     "name": "stderr",
     "output_type": "stream",
     "text": [
      "INFO:tensorflow:Assets written to: ./Model/model_LSTM22_150_cross_test.v/assets\n"
     ]
    },
    {
     "name": "stdout",
     "output_type": "stream",
     "text": [
      "Epoch 34/500\n",
      "576/576 [==============================] - 224s 388ms/step - loss: 0.1247 - accuracy: 0.9749 - val_loss: 0.0628 - val_accuracy: 0.9864\n",
      "\n",
      "Epoch 00034: val_accuracy did not improve from 0.99166\n",
      "Epoch 35/500\n",
      "576/576 [==============================] - 224s 389ms/step - loss: 0.0715 - accuracy: 0.9820 - val_loss: 0.0474 - val_accuracy: 0.9906\n",
      "\n",
      "Epoch 00035: val_accuracy did not improve from 0.99166\n",
      "Epoch 36/500\n",
      "576/576 [==============================] - 223s 387ms/step - loss: 0.0680 - accuracy: 0.9848 - val_loss: 0.0452 - val_accuracy: 0.9927\n",
      "\n",
      "Epoch 00036: val_accuracy improved from 0.99166 to 0.99270, saving model to ./Model/model_LSTM22_150_cross_test.v\n"
     ]
    },
    {
     "name": "stderr",
     "output_type": "stream",
     "text": [
      "WARNING:absl:Found untraced functions such as lstm_cell_6_layer_call_and_return_conditional_losses, lstm_cell_6_layer_call_fn, lstm_cell_7_layer_call_and_return_conditional_losses, lstm_cell_7_layer_call_fn, lstm_cell_1_layer_call_and_return_conditional_losses while saving (showing 5 of 30). These functions will not be directly callable after loading.\n",
      "WARNING:absl:Found untraced functions such as lstm_cell_6_layer_call_and_return_conditional_losses, lstm_cell_6_layer_call_fn, lstm_cell_7_layer_call_and_return_conditional_losses, lstm_cell_7_layer_call_fn, lstm_cell_1_layer_call_and_return_conditional_losses while saving (showing 5 of 30). These functions will not be directly callable after loading.\n"
     ]
    },
    {
     "name": "stdout",
     "output_type": "stream",
     "text": [
      "INFO:tensorflow:Assets written to: ./Model/model_LSTM22_150_cross_test.v/assets\n"
     ]
    },
    {
     "name": "stderr",
     "output_type": "stream",
     "text": [
      "INFO:tensorflow:Assets written to: ./Model/model_LSTM22_150_cross_test.v/assets\n"
     ]
    },
    {
     "name": "stdout",
     "output_type": "stream",
     "text": [
      "Epoch 37/500\n",
      "576/576 [==============================] - 223s 387ms/step - loss: 0.0885 - accuracy: 0.9852 - val_loss: 0.0337 - val_accuracy: 0.9944\n",
      "\n",
      "Epoch 00037: val_accuracy improved from 0.99270 to 0.99444, saving model to ./Model/model_LSTM22_150_cross_test.v\n"
     ]
    },
    {
     "name": "stderr",
     "output_type": "stream",
     "text": [
      "WARNING:absl:Found untraced functions such as lstm_cell_6_layer_call_and_return_conditional_losses, lstm_cell_6_layer_call_fn, lstm_cell_7_layer_call_and_return_conditional_losses, lstm_cell_7_layer_call_fn, lstm_cell_1_layer_call_and_return_conditional_losses while saving (showing 5 of 30). These functions will not be directly callable after loading.\n",
      "WARNING:absl:Found untraced functions such as lstm_cell_6_layer_call_and_return_conditional_losses, lstm_cell_6_layer_call_fn, lstm_cell_7_layer_call_and_return_conditional_losses, lstm_cell_7_layer_call_fn, lstm_cell_1_layer_call_and_return_conditional_losses while saving (showing 5 of 30). These functions will not be directly callable after loading.\n"
     ]
    },
    {
     "name": "stdout",
     "output_type": "stream",
     "text": [
      "INFO:tensorflow:Assets written to: ./Model/model_LSTM22_150_cross_test.v/assets\n"
     ]
    },
    {
     "name": "stderr",
     "output_type": "stream",
     "text": [
      "INFO:tensorflow:Assets written to: ./Model/model_LSTM22_150_cross_test.v/assets\n"
     ]
    },
    {
     "name": "stdout",
     "output_type": "stream",
     "text": [
      "Epoch 38/500\n",
      "576/576 [==============================] - 222s 386ms/step - loss: 0.0781 - accuracy: 0.9872 - val_loss: 0.0625 - val_accuracy: 0.9868\n",
      "\n",
      "Epoch 00038: val_accuracy did not improve from 0.99444\n",
      "Epoch 39/500\n",
      "576/576 [==============================] - 223s 387ms/step - loss: 0.0994 - accuracy: 0.9782 - val_loss: 0.0827 - val_accuracy: 0.9826\n",
      "\n",
      "Epoch 00039: val_accuracy did not improve from 0.99444\n",
      "Epoch 40/500\n",
      "576/576 [==============================] - 223s 387ms/step - loss: 0.0718 - accuracy: 0.9813 - val_loss: 0.0505 - val_accuracy: 0.9937\n",
      "\n",
      "Epoch 00040: val_accuracy did not improve from 0.99444\n",
      "Epoch 41/500\n",
      "576/576 [==============================] - 221s 384ms/step - loss: 0.0401 - accuracy: 0.9904 - val_loss: 0.0392 - val_accuracy: 0.9944\n",
      "\n",
      "Epoch 00041: val_accuracy did not improve from 0.99444\n",
      "Epoch 42/500\n",
      "576/576 [==============================] - 223s 387ms/step - loss: 0.0491 - accuracy: 0.9897 - val_loss: 0.0333 - val_accuracy: 0.9934\n",
      "\n",
      "Epoch 00042: val_accuracy did not improve from 0.99444\n",
      "Epoch 43/500\n",
      "576/576 [==============================] - 223s 387ms/step - loss: 0.1986 - accuracy: 0.9785 - val_loss: 0.0375 - val_accuracy: 0.9906\n",
      "\n",
      "Epoch 00043: val_accuracy did not improve from 0.99444\n",
      "Epoch 44/500\n",
      "576/576 [==============================] - 222s 385ms/step - loss: 0.0446 - accuracy: 0.9892 - val_loss: 0.0465 - val_accuracy: 0.9934\n",
      "\n",
      "Epoch 00044: val_accuracy did not improve from 0.99444\n",
      "Epoch 45/500\n",
      "576/576 [==============================] - 221s 384ms/step - loss: 0.0397 - accuracy: 0.9929 - val_loss: 0.0475 - val_accuracy: 0.9927\n",
      "\n",
      "Epoch 00045: val_accuracy did not improve from 0.99444\n",
      "Epoch 46/500\n",
      "576/576 [==============================] - 223s 387ms/step - loss: 0.0476 - accuracy: 0.9916 - val_loss: 0.0643 - val_accuracy: 0.9917\n",
      "\n",
      "Epoch 00046: val_accuracy did not improve from 0.99444\n",
      "Epoch 47/500\n",
      "576/576 [==============================] - 221s 383ms/step - loss: 0.0512 - accuracy: 0.9897 - val_loss: 0.0692 - val_accuracy: 0.9899\n",
      "\n",
      "Epoch 00047: val_accuracy did not improve from 0.99444\n",
      "Epoch 00047: early stopping\n"
     ]
    }
   ],
   "source": [
    "history = model.fit(X_scaled_arr_train,Y_arr_train,epochs=500,validation_split=0.2,batch_size=20,shuffle=True,callbacks=[early_stopping, checkpoint])"
   ]
  },
  {
   "cell_type": "code",
   "execution_count": 29,
   "metadata": {
    "colab": {
     "base_uri": "https://localhost:8080/",
     "height": 388
    },
    "id": "Frr6gxt27TTb",
    "outputId": "b1d097e6-a867-42bc-b6e9-077e00d04a88"
   },
   "outputs": [
    {
     "data": {
      "image/png": "[encoded data removed]",
      "text/plain": [
       "<Figure size 2000x600 with 1 Axes>"
      ]
     },
     "metadata": {},
     "output_type": "display_data"
    }
   ],
   "source": [
    "plt.plot(history.history['loss'], label='Parkinson(training data)')\n",
    "plt.plot(history.history['val_loss'], label='Parkinson (validation data)')\n",
    "plt.title('')\n",
    "plt.ylabel('')\n",
    "plt.xlabel('No. epoch')\n",
    "plt.legend(loc=\"upper left\")\n",
    "plt.show()"
   ]
  },
  {
   "cell_type": "code",
   "execution_count": 30,
   "metadata": {
    "colab": {
     "base_uri": "https://localhost:8080/",
     "height": 388
    },
    "id": "VTSPNZGn7TV_",
    "outputId": "8e793964-b99e-4281-f9af-67038d4a6d77"
   },
   "outputs": [
    {
     "data": {
      "image/png": "[encoded data removed]",
      "text/plain": [
       "<Figure size 2000x600 with 1 Axes>"
      ]
     },
     "metadata": {},
     "output_type": "display_data"
    }
   ],
   "source": [
    "plt.plot(history.history['accuracy'], label='Parkinson(training data)')\n",
    "plt.plot(history.history['val_accuracy'], label='Parkinson (validation data)')\n",
    "plt.title('')\n",
    "plt.ylabel('')\n",
    "plt.ylim(0,1)\n",
    "plt.xlabel('No. epoch')\n",
    "plt.legend(loc=\"upper left\")\n",
    "plt.show()"
   ]
  },
  {
   "cell_type": "code",
   "execution_count": 31,
   "metadata": {},
   "outputs": [
    {
     "data": {
      "image/png": "[encoded data removed]",
      "text/plain": [
       "<Figure size 2000x600 with 1 Axes>"
      ]
     },
     "metadata": {},
     "output_type": "display_data"
    }
   ],
   "source": [
    "plt.plot(history.history['loss'], label='Parkinson(training data)')\n",
    "plt.plot(history.history['val_loss'], label='Parkinson (validation data)')\n",
    "plt.title('')\n",
    "plt.ylabel('')\n",
    "plt.xlabel('No. epoch')\n",
    "plt.legend(loc=\"upper left\")\n",
    "plt.show()"
   ]
  },
  {
   "cell_type": "code",
   "execution_count": 32,
   "metadata": {},
   "outputs": [],
   "source": [
    "pdt1=model.predict(X_scaled_arr_test)\n",
    "pdt1.size\n",
    "classes_x1 = np.zeros((len(pdt1)))\n",
    "for x in range(len(pdt1)):\n",
    "  if(pdt1[x]>0.5):\n",
    "    classes_x1[x]=(1)\n",
    "  else:\n",
    "    classes_x1[x]=(0)\n",
    "#   print(x,end=\" \")\n",
    "from sklearn.metrics import accuracy_score\n",
    "accuracy = accuracy_score(Y_arr_test,classes_x1 )"
   ]
  },
  {
   "cell_type": "code",
   "execution_count": 33,
   "metadata": {},
   "outputs": [
    {
     "data": {
      "text/plain": [
       "0.9899860917941585"
      ]
     },
     "execution_count": 33,
     "metadata": {},
     "output_type": "execute_result"
    }
   ],
   "source": [
    "accuracy"
   ]
  },
  {
   "cell_type": "code",
   "execution_count": 42,
   "metadata": {},
   "outputs": [],
   "source": [
    "patients_t=[]\n",
    "un_used_data_t=[]\n",
    "\n",
    "for f in files1j:\n",
    "    #print(f\"{i+1}. {file}\")\n",
    "    \n",
    "    data_txt = pd.read_table(f,names=columns)\n",
    "    data_txt.drop(['elaps_time'],inplace=True,axis=1)\n",
    "    \n",
    "    \n",
    "    \n",
    "    j=0\n",
    "    ispark = getClassForHealthyOrNot(f)\n",
    "    # print(ispark)\n",
    "    while j < 12001:\n",
    "        data = data_txt.iloc[j+1:j+151,:]\n",
    "        \n",
    "        if data.shape[0] == 150:\n",
    "            patients_t.append( Patient(data, ispark) )\n",
    "        \n",
    "        j=j+75"
   ]
  },
  {
   "cell_type": "code",
   "execution_count": 43,
   "metadata": {},
   "outputs": [],
   "source": [
    "patients1_t=[]\n",
    "un_used_data1_t=[]\n",
    "\n",
    "for f in files2j:\n",
    "    #print(f\"{i+1}. {file}\")\n",
    "    \n",
    "    data_txt = pd.read_table(f,names=columns)\n",
    "    data_txt.drop(['elaps_time'],inplace=True,axis=1)\n",
    "    \n",
    "    \n",
    "    \n",
    "    j=0\n",
    "    ispark = getClassForHealthyOrNot(f)\n",
    "    # print(ispark)\n",
    "    while j < 12001:\n",
    "        data = data_txt.iloc[j+1:j+151,:]\n",
    "        \n",
    "        if data.shape[0] == 150:\n",
    "            patients1_t.append( Patient(data, ispark) )\n",
    "        \n",
    "        j=j+75"
   ]
  },
  {
   "cell_type": "code",
   "execution_count": 44,
   "metadata": {},
   "outputs": [
    {
     "data": {
      "text/plain": [
       "2749"
      ]
     },
     "execution_count": 44,
     "metadata": {},
     "output_type": "execute_result"
    }
   ],
   "source": [
    "len(patients_t)"
   ]
  },
  {
   "cell_type": "code",
   "execution_count": 45,
   "metadata": {},
   "outputs": [],
   "source": [
    "test_t= patients+patients1_t"
   ]
  },
  {
   "cell_type": "code",
   "execution_count": 46,
   "metadata": {},
   "outputs": [],
   "source": [
    "wo_time_col=[\"L1\", \"L2\",\"L3\",\"L4\",\"L5\",\"L6\",\"L7\",\"L8\",\"R1\",\"R2\",\"R3\",\"R4\",\"R5\",\"R6\",\"R7\",\"R8\",\"LTot\",\"RTot\"]\n",
    "for obj in test_t:\n",
    "    obj.x_scaled = pd.DataFrame(scaler.transform(obj.x),columns=wo_time_col)\n",
    "    i=i+1\n",
    "    \n",
    "X_scaled_list_test_t=[]\n",
    "Y_list_test_t=[]\n",
    "\n",
    "for obj in test_t:\n",
    "    X_scaled_list_test_t = X_scaled_list_test_t + [obj.x_scaled]\n",
    "    Y_list_test_t = Y_list_test_t + [obj.y]\n",
    "    \n",
    "X_scaled_arr_test_t = np.array(X_scaled_list_test_t)\n",
    "Y_arr_test_t = np.array(Y_list_test_t)"
   ]
  },
  {
   "cell_type": "code",
   "execution_count": 47,
   "metadata": {},
   "outputs": [],
   "source": [
    "pdt1_t=model.predict(X_scaled_arr_test_t)\n",
    "pdt1_t.size\n",
    "classes_x1_t = np.zeros((len(pdt1_t)))\n",
    "for x in range(len(pdt1_t)):\n",
    "  if(pdt1_t[x]>0.5):\n",
    "    classes_x1_t[x]=(1)\n",
    "  else:\n",
    "    classes_x1_t[x]=(0)\n",
    "#   print(x,end=\" \")\n",
    "from sklearn.metrics import accuracy_score\n",
    "accuracy_t = accuracy_score(Y_arr_test_t,classes_x1_t )"
   ]
  },
  {
   "cell_type": "code",
   "execution_count": 40,
   "metadata": {},
   "outputs": [
    {
     "data": {
      "text/plain": [
       "0.8398721050812306"
      ]
     },
     "execution_count": 40,
     "metadata": {},
     "output_type": "execute_result"
    }
   ],
   "source": [
    "accuracy_t"
   ]
  },
  {
   "cell_type": "code",
   "execution_count": 48,
   "metadata": {},
   "outputs": [
    {
     "data": {
      "text/plain": [
       "0.8055001108893325"
      ]
     },
     "execution_count": 48,
     "metadata": {},
     "output_type": "execute_result"
    }
   ],
   "source": [
    "accuracy_t"
   ]
  },
  {
   "cell_type": "code",
   "execution_count": null,
   "metadata": {},
   "outputs": [],
   "source": []
  }
 ],
 "metadata": {
  "accelerator": "GPU",
  "colab": {
   "collapsed_sections": [],
   "name": "LSTM6.ipynb",
   "provenance": []
  },
  "kernelspec": {
   "display_name": "Python 3 (ipykernel)",
   "language": "python",
   "name": "python3"
  },
  "language_info": {
   "codemirror_mode": {
    "name": "ipython",
    "version": 3
   },
   "file_extension": ".py",
   "mimetype": "text/x-python",
   "name": "python",
   "nbconvert_exporter": "python",
   "pygments_lexer": "ipython3",
   "version": "3.9.13"
  }
 },
 "nbformat": 4,
 "nbformat_minor": 4
}
