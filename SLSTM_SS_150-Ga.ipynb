{
 "cells": [
  {
   "cell_type": "code",
   "execution_count": 1,
   "metadata": {
    "id": "oriXXy5wYuJJ"
   },
   "outputs": [
    {
     "name": "stderr",
     "output_type": "stream",
     "text": [
      "2023-04-30 02:05:08.199395: I tensorflow/stream_executor/platform/default/dso_loader.cc:49] Successfully opened dynamic library libcudart.so.10.1\n",
      "Matplotlib created a temporary config/cache directory at /tmp/matplotlib-9g4qkou9 because the default path (/home/harsh/.config/matplotlib) is not a writable directory; it is highly recommended to set the MPLCONFIGDIR environment variable to a writable directory, in particular to speed up the import of Matplotlib and to better support multiprocessing.\n"
     ]
    }
   ],
   "source": [
    "import tensorflow as tf\n",
    "from sklearn.preprocessing import MinMaxScaler, StandardScaler\n",
    "from sklearn.preprocessing import LabelEncoder\n",
    "from sklearn.metrics import mean_squared_error\n",
    "from sklearn.model_selection import StratifiedShuffleSplit\n",
    "from tensorflow.keras.layers import Bidirectional\n",
    "from tensorflow.keras.models import Sequential\n",
    "from tensorflow.keras.layers import Dense\n",
    "from tensorflow.keras.layers import LSTM\n",
    "from tensorflow.keras.layers import Flatten\n",
    "from tensorflow.keras.callbacks import EarlyStopping, ModelCheckpoint\n",
    "from tensorflow.keras.models import load_model\n",
    "\n",
    "from tensorflow.keras import utils as np_utils\n",
    "\n",
    "from random import shuffle\n",
    "from tensorflow.python.client import device_lib\n",
    "\n",
    "import os\n",
    "import glob\n",
    "import pandas as pd\n",
    "import numpy as np\n",
    "import matplotlib.pyplot as plt\n",
    "\n",
    "# For wider plots\n",
    "plt.rcParams[\"figure.figsize\"] = (20,6)\n",
    "\n",
    "os.environ['TF_XLA_FLAGS']=\"--tf_xla_enable_xla_devices\"\n",
    "# Take my NVidia GPU into use\n",
    "# os.environ[\"CUDA_DEVICE_ORDER\"]=\"PCI_BUS_ID\"\n",
    "# os.environ[\"CUDA_VISIBLE_DEVICES\"]=\"0,1,2\""
   ]
  },
  {
   "cell_type": "code",
   "execution_count": 3,
   "metadata": {},
   "outputs": [
    {
     "name": "stdout",
     "output_type": "stream",
     "text": [
      "[name: \"/device:CPU:0\"\n",
      "device_type: \"CPU\"\n",
      "memory_limit: 268435456\n",
      "locality {\n",
      "}\n",
      "incarnation: 931521595729475197\n",
      ", name: \"/device:XLA_CPU:0\"\n",
      "device_type: \"XLA_CPU\"\n",
      "memory_limit: 17179869184\n",
      "locality {\n",
      "}\n",
      "incarnation: 991832818922184608\n",
      "physical_device_desc: \"device: XLA_CPU device\"\n",
      "]\n"
     ]
    }
   ],
   "source": [
    "from tensorflow.python.client import device_lib \n",
    "os.environ['TF_XLA_FLAGS']=\"--tf_xla_enable_xla_devices\"\n",
    "print(device_lib.list_local_devices())"
   ]
  },
  {
   "cell_type": "code",
   "execution_count": 4,
   "metadata": {},
   "outputs": [
    {
     "data": {
      "text/plain": [
       "[PhysicalDevice(name='/physical_device:CPU:0', device_type='CPU'),\n",
       " PhysicalDevice(name='/physical_device:XLA_CPU:0', device_type='XLA_CPU')]"
      ]
     },
     "execution_count": 4,
     "metadata": {},
     "output_type": "execute_result"
    }
   ],
   "source": [
    "tf.config.experimental.list_physical_devices()"
   ]
  },
  {
   "cell_type": "code",
   "execution_count": 7,
   "metadata": {
    "id": "Vik1x9mkZIOm"
   },
   "outputs": [],
   "source": [
    "files1 = glob.glob(\"./parkinsons/*Ju**Co*.txt\")\n",
    "files2 = glob.glob(\"./parkinsons/*Ju**Pt*.txt\")\n",
    "files1j = glob.glob(\"./parkinsons/*Ga**Co*.txt\")\n",
    "files2j = glob.glob(\"./parkinsons/*Ga**Pt*.txt\")\n",
    "files1s = glob.glob(\"./parkinsons/*Si**Co*.txt\")\n",
    "files2s = glob.glob(\"./parkinsons/*Si**Pt*.txt\")\n",
    "# files=files1+files2\n",
    "# shuffle(files)"
   ]
  },
  {
   "cell_type": "code",
   "execution_count": 8,
   "metadata": {},
   "outputs": [
    {
     "name": "stdout",
     "output_type": "stream",
     "text": [
      "25\n",
      "104\n",
      "38\n",
      "75\n",
      "29\n",
      "35\n"
     ]
    }
   ],
   "source": [
    "print(len(files1))\n",
    "print(len(files2))     \n",
    "print(len(files1j))\n",
    "print(len(files2j))     \n",
    "print(len(files1s))\n",
    "print(len(files2s))     "
   ]
  },
  {
   "cell_type": "code",
   "execution_count": 9,
   "metadata": {
    "id": "o9de6Bdr_X7C"
   },
   "outputs": [],
   "source": [
    "columns = [\"elaps_time\",\"L1\", \"L2\",\"L3\",\"L4\",\"L5\",\"L6\",\"L7\",\"L8\",\"R1\",\"R2\",\"R3\",\"R4\",\"R5\",\"R6\",\"R7\",\"R8\",\"LTot\",\"RTot\"]"
   ]
  },
  {
   "cell_type": "code",
   "execution_count": 10,
   "metadata": {
    "id": "OkThribYZbU1"
   },
   "outputs": [],
   "source": [
    "def getClassForHealthyOrNot(filename):\n",
    "    if (filename.find(\"Co\") >=0):\n",
    "        return 0\n",
    "    else:\n",
    "        return 1\n"
   ]
  },
  {
   "cell_type": "code",
   "execution_count": 11,
   "metadata": {
    "id": "7NYxPBygzo1e"
   },
   "outputs": [],
   "source": [
    "class Patient:\n",
    "    def __init__(self,input_data,y):\n",
    "        self.x = input_data\n",
    "        self.y = y\n",
    "        self.x_scaled = input_data"
   ]
  },
  {
   "cell_type": "code",
   "execution_count": 12,
   "metadata": {
    "id": "um8W0jLfzp8z"
   },
   "outputs": [],
   "source": [
    "patients=[]\n",
    "un_used_data=[]\n",
    "\n",
    "for f in files1:\n",
    "    #print(f\"{i+1}. {file}\")\n",
    "    \n",
    "    data_txt = pd.read_table(f,names=columns)\n",
    "    data_txt.drop(['elaps_time'],inplace=True,axis=1)\n",
    "    \n",
    "    \n",
    "    \n",
    "    j=0\n",
    "    ispark = getClassForHealthyOrNot(f)\n",
    "    # print(ispark)\n",
    "    while j < 12001:\n",
    "        data = data_txt.iloc[j+1:j+151,:]\n",
    "        \n",
    "        if data.shape[0] == 150:\n",
    "            patients.append( Patient(data, ispark) )\n",
    "        \n",
    "        j=j+75"
   ]
  },
  {
   "cell_type": "code",
   "execution_count": 13,
   "metadata": {
    "id": "iXp833vu_TB3"
   },
   "outputs": [],
   "source": [
    "patients1=[]\n",
    "un_used_data1=[]\n",
    "\n",
    "for f in files2:\n",
    "    #print(f\"{i+1}. {file}\")\n",
    "    \n",
    "    data_txt = pd.read_table(f,names=columns)\n",
    "    data_txt.drop(['elaps_time'],inplace=True,axis=1)\n",
    "    \n",
    "    \n",
    "    \n",
    "    j=0\n",
    "    ispark = getClassForHealthyOrNot(f)\n",
    "    # print(ispark)\n",
    "    while j < 12001:\n",
    "        data = data_txt.iloc[j+1:j+151,:]\n",
    "        \n",
    "        if data.shape[0] == 150:\n",
    "            patients1.append( Patient(data, ispark) )\n",
    "        \n",
    "        j=j+75"
   ]
  },
  {
   "cell_type": "code",
   "execution_count": 14,
   "metadata": {
    "colab": {
     "base_uri": "https://localhost:8080/"
    },
    "id": "YMO-9K-f00D2",
    "outputId": "acfcf674-107a-4e0a-a370-043ea5439305"
   },
   "outputs": [
    {
     "data": {
      "text/plain": [
       "2749"
      ]
     },
     "execution_count": 14,
     "metadata": {},
     "output_type": "execute_result"
    }
   ],
   "source": [
    "len(patients)"
   ]
  },
  {
   "cell_type": "code",
   "execution_count": 15,
   "metadata": {
    "colab": {
     "base_uri": "https://localhost:8080/"
    },
    "id": "IPaH2QfKAOfm",
    "outputId": "a463f0a9-3058-45c8-aa0b-d079db5e5f72"
   },
   "outputs": [
    {
     "data": {
      "text/plain": [
       "12064"
      ]
     },
     "execution_count": 15,
     "metadata": {},
     "output_type": "execute_result"
    }
   ],
   "source": [
    "len(patients1)\n"
   ]
  },
  {
   "cell_type": "code",
   "execution_count": 16,
   "metadata": {
    "id": "9ZYcPnYP1Lkc"
   },
   "outputs": [],
   "source": [
    "shuffle(patients)\n",
    "shuffle(patients1)"
   ]
  },
  {
   "cell_type": "code",
   "execution_count": 17,
   "metadata": {
    "id": "-mAihBLj1QYz"
   },
   "outputs": [],
   "source": [
    "train = patients[:int(len(patients)*0.8)]+patients1[:int(len(patients1)*0.8)]\n",
    "test = patients[int(len(patients)*0.8):]+patients1[int(len(patients1)*0.8):]"
   ]
  },
  {
   "cell_type": "code",
   "execution_count": 18,
   "metadata": {
    "colab": {
     "base_uri": "https://localhost:8080/"
    },
    "id": "OLKpXuqkA0to",
    "outputId": "c79e8660-546b-4ff9-f299-adc95f17f675"
   },
   "outputs": [
    {
     "name": "stdout",
     "output_type": "stream",
     "text": [
      "11850\n",
      "2963\n"
     ]
    }
   ],
   "source": [
    "print(len(train))\n",
    "print(len(test))"
   ]
  },
  {
   "cell_type": "code",
   "execution_count": 19,
   "metadata": {
    "id": "cUKw51iuA3-7"
   },
   "outputs": [],
   "source": [
    "shuffle(train)\n",
    "shuffle(test)"
   ]
  },
  {
   "cell_type": "code",
   "execution_count": 20,
   "metadata": {
    "id": "_Uy2WCDO11YA"
   },
   "outputs": [],
   "source": [
    "train_concat=[]\n",
    "for p in train:\n",
    "    train_concat = train_concat+[p.x]"
   ]
  },
  {
   "cell_type": "code",
   "execution_count": 21,
   "metadata": {
    "id": "CZTBAgwu2GJ4"
   },
   "outputs": [],
   "source": [
    "data_tr = pd.concat(train_concat,ignore_index=True)"
   ]
  },
  {
   "cell_type": "code",
   "execution_count": 22,
   "metadata": {
    "colab": {
     "base_uri": "https://localhost:8080/"
    },
    "id": "Xu_PsImH2ORu",
    "outputId": "d81790ce-1e80-43ef-b20f-8ff466aa74c7"
   },
   "outputs": [
    {
     "data": {
      "text/plain": [
       "array([[-0.69637564, -0.68513435, -0.60030605, ...,  0.41346634,\n",
       "        -1.12004968,  0.86772799],\n",
       "       [-0.69637564, -0.68513435, -0.60030605, ...,  0.47119568,\n",
       "        -1.12004968,  0.87264783],\n",
       "       [-0.69637564, -0.68513435, -0.60030605, ...,  0.64232194,\n",
       "        -1.12004968,  0.89888694],\n",
       "       ...,\n",
       "       [-0.69637564, -0.68513435, -0.63966869, ...,  1.83195868,\n",
       "        -1.12691365,  0.53071944],\n",
       "       [-0.69637564, -0.68513435, -0.63966869, ...,  1.90618212,\n",
       "        -1.12691365,  0.50366036],\n",
       "       [-0.69637564, -0.65503459, -0.63966869, ...,  1.94329384,\n",
       "        -1.1205988 ,  0.47550798]])"
      ]
     },
     "execution_count": 22,
     "metadata": {},
     "output_type": "execute_result"
    }
   ],
   "source": [
    "scaler = StandardScaler()\n",
    "scaler.fit_transform(data_tr)"
   ]
  },
  {
   "cell_type": "code",
   "execution_count": 23,
   "metadata": {
    "id": "lU7nVIWF2RVq"
   },
   "outputs": [],
   "source": [
    "i=0\n",
    "wo_time_col=[\"L1\", \"L2\",\"L3\",\"L4\",\"L5\",\"L6\",\"L7\",\"L8\",\"R1\",\"R2\",\"R3\",\"R4\",\"R5\",\"R6\",\"R7\",\"R8\",\"LTot\",\"RTot\"]\n",
    "for obj in train:\n",
    "    obj.x_scaled = pd.DataFrame(scaler.transform(obj.x),columns=wo_time_col)\n",
    "    i=i+1"
   ]
  },
  {
   "cell_type": "code",
   "execution_count": 24,
   "metadata": {
    "id": "4UARoisP3xih"
   },
   "outputs": [],
   "source": [
    "for obj in test:\n",
    "    obj.x_scaled = pd.DataFrame(scaler.transform(obj.x),columns=wo_time_col)\n",
    "    i=i+1"
   ]
  },
  {
   "cell_type": "code",
   "execution_count": 25,
   "metadata": {
    "id": "97vpZxO86VMi"
   },
   "outputs": [],
   "source": [
    "X_scaled_list_train=[]\n",
    "Y_list_train=[]\n",
    "\n",
    "for obj in train:\n",
    "    X_scaled_list_train = X_scaled_list_train + [obj.x_scaled]\n",
    "    Y_list_train = Y_list_train + [obj.y]\n",
    "    \n",
    "X_scaled_arr_train = np.array(X_scaled_list_train)\n",
    "Y_arr_train = np.array(Y_list_train)"
   ]
  },
  {
   "cell_type": "code",
   "execution_count": 26,
   "metadata": {
    "colab": {
     "base_uri": "https://localhost:8080/"
    },
    "id": "A_SvxxOK72ry",
    "outputId": "890b1bac-4f71-4326-bd98-3bb2ff126373"
   },
   "outputs": [
    {
     "data": {
      "text/plain": [
       "(11850, 150, 18)"
      ]
     },
     "execution_count": 26,
     "metadata": {},
     "output_type": "execute_result"
    }
   ],
   "source": [
    "X_scaled_arr_train.shape"
   ]
  },
  {
   "cell_type": "code",
   "execution_count": 27,
   "metadata": {},
   "outputs": [
    {
     "data": {
      "text/plain": [
       "(11850,)"
      ]
     },
     "execution_count": 27,
     "metadata": {},
     "output_type": "execute_result"
    }
   ],
   "source": [
    "Y_arr_train.shape"
   ]
  },
  {
   "cell_type": "code",
   "execution_count": 28,
   "metadata": {
    "id": "86VG8YJ36-uj"
   },
   "outputs": [],
   "source": [
    "X_scaled_list_test=[]\n",
    "Y_list_test=[]\n",
    "\n",
    "for obj in test:\n",
    "    X_scaled_list_test = X_scaled_list_test + [obj.x_scaled]\n",
    "    Y_list_test = Y_list_test + [obj.y]\n",
    "    \n",
    "X_scaled_arr_test = np.array(X_scaled_list_test)\n",
    "Y_arr_test = np.array(Y_list_test)"
   ]
  },
  {
   "cell_type": "code",
   "execution_count": 29,
   "metadata": {},
   "outputs": [],
   "source": [
    "import numpy as np"
   ]
  },
  {
   "cell_type": "code",
   "execution_count": 32,
   "metadata": {
    "id": "ndlZHZnL7fkW"
   },
   "outputs": [],
   "source": [
    "model = Sequential()\n",
    "model.add(Bidirectional(LSTM(80, dropout=0.3, \n",
    "                  return_sequences=True, \n",
    "                  input_shape=(X_scaled_arr_train.shape[1], X_scaled_arr_train.shape[2]))))\n",
    "model.add(Bidirectional(LSTM(32, dropout=0.5,return_sequences=True)))\n",
    "model.add(LSTM(24, dropout=0.2,return_sequences=True))\n",
    "model.add(LSTM(12, dropout=0.2,return_sequences=False))\n",
    "model.add(Dense(1, kernel_initializer='glorot_uniform', activation='relu'))\n",
    "opt=tf.keras.optimizers.Adam(\n",
    "    learning_rate=0.0001,\n",
    "    name=\"Adam\"\n",
    "    )\n",
    "model.compile(loss='binary_crossentropy', optimizer=opt, metrics=['accuracy'])\n",
    "\n",
    "early_stopping = EarlyStopping(monitor='val_accuracy', patience=10|0, verbose=1, mode='auto')\n",
    "checkpoint = ModelCheckpoint(\"./Model/model_LSTM22_150_cross_test.v\", \n",
    "                             monitor='val_accuracy', verbose=1, save_best_only=True, \n",
    "                             save_weights_only=False)"
   ]
  },
  {
   "cell_type": "code",
   "execution_count": 33,
   "metadata": {
    "colab": {
     "base_uri": "https://localhost:8080/"
    },
    "id": "-RL4C-el7TIg",
    "outputId": "296f68f6-5765-41e9-8016-80554d7f072e",
    "scrolled": true,
    "tags": []
   },
   "outputs": [
    {
     "name": "stdout",
     "output_type": "stream",
     "text": [
      "Epoch 1/500\n",
      "474/474 [==============================] - 176s 350ms/step - loss: 3.2582 - accuracy: 0.2033 - val_loss: 0.5949 - val_accuracy: 0.7570\n",
      "\n",
      "Epoch 00001: val_accuracy improved from -inf to 0.75696, saving model to ./Model/model_LSTM22_150_cross_test.v\n"
     ]
    },
    {
     "name": "stderr",
     "output_type": "stream",
     "text": [
      "2023-04-30 02:13:18.948941: W tensorflow/python/util/util.cc:348] Sets are not currently considered sequences, but this may change in the future, so consider avoiding using them.\n",
      "WARNING:absl:Found untraced functions such as lstm_cell_14_layer_call_and_return_conditional_losses, lstm_cell_14_layer_call_fn, lstm_cell_15_layer_call_and_return_conditional_losses, lstm_cell_15_layer_call_fn, lstm_cell_9_layer_call_and_return_conditional_losses while saving (showing 5 of 30). These functions will not be directly callable after loading.\n",
      "WARNING:absl:Found untraced functions such as lstm_cell_14_layer_call_and_return_conditional_losses, lstm_cell_14_layer_call_fn, lstm_cell_15_layer_call_and_return_conditional_losses, lstm_cell_15_layer_call_fn, lstm_cell_9_layer_call_and_return_conditional_losses while saving (showing 5 of 30). These functions will not be directly callable after loading.\n"
     ]
    },
    {
     "name": "stdout",
     "output_type": "stream",
     "text": [
      "INFO:tensorflow:Assets written to: ./Model/model_LSTM22_150_cross_test.v/assets\n"
     ]
    },
    {
     "name": "stderr",
     "output_type": "stream",
     "text": [
      "INFO:tensorflow:Assets written to: ./Model/model_LSTM22_150_cross_test.v/assets\n"
     ]
    },
    {
     "name": "stdout",
     "output_type": "stream",
     "text": [
      "Epoch 2/500\n",
      "474/474 [==============================] - 157s 332ms/step - loss: 0.5604 - accuracy: 0.7551 - val_loss: 0.4532 - val_accuracy: 0.8215\n",
      "\n",
      "Epoch 00002: val_accuracy improved from 0.75696 to 0.82152, saving model to ./Model/model_LSTM22_150_cross_test.v\n"
     ]
    },
    {
     "name": "stderr",
     "output_type": "stream",
     "text": [
      "WARNING:absl:Found untraced functions such as lstm_cell_14_layer_call_and_return_conditional_losses, lstm_cell_14_layer_call_fn, lstm_cell_15_layer_call_and_return_conditional_losses, lstm_cell_15_layer_call_fn, lstm_cell_9_layer_call_and_return_conditional_losses while saving (showing 5 of 30). These functions will not be directly callable after loading.\n",
      "WARNING:absl:Found untraced functions such as lstm_cell_14_layer_call_and_return_conditional_losses, lstm_cell_14_layer_call_fn, lstm_cell_15_layer_call_and_return_conditional_losses, lstm_cell_15_layer_call_fn, lstm_cell_9_layer_call_and_return_conditional_losses while saving (showing 5 of 30). These functions will not be directly callable after loading.\n"
     ]
    },
    {
     "name": "stdout",
     "output_type": "stream",
     "text": [
      "INFO:tensorflow:Assets written to: ./Model/model_LSTM22_150_cross_test.v/assets\n"
     ]
    },
    {
     "name": "stderr",
     "output_type": "stream",
     "text": [
      "INFO:tensorflow:Assets written to: ./Model/model_LSTM22_150_cross_test.v/assets\n"
     ]
    },
    {
     "name": "stdout",
     "output_type": "stream",
     "text": [
      "Epoch 3/500\n",
      "474/474 [==============================] - 157s 331ms/step - loss: 0.4566 - accuracy: 0.8200 - val_loss: 0.4224 - val_accuracy: 0.8228\n",
      "\n",
      "Epoch 00003: val_accuracy improved from 0.82152 to 0.82278, saving model to ./Model/model_LSTM22_150_cross_test.v\n"
     ]
    },
    {
     "name": "stderr",
     "output_type": "stream",
     "text": [
      "WARNING:absl:Found untraced functions such as lstm_cell_14_layer_call_and_return_conditional_losses, lstm_cell_14_layer_call_fn, lstm_cell_15_layer_call_and_return_conditional_losses, lstm_cell_15_layer_call_fn, lstm_cell_9_layer_call_and_return_conditional_losses while saving (showing 5 of 30). These functions will not be directly callable after loading.\n",
      "WARNING:absl:Found untraced functions such as lstm_cell_14_layer_call_and_return_conditional_losses, lstm_cell_14_layer_call_fn, lstm_cell_15_layer_call_and_return_conditional_losses, lstm_cell_15_layer_call_fn, lstm_cell_9_layer_call_and_return_conditional_losses while saving (showing 5 of 30). These functions will not be directly callable after loading.\n"
     ]
    },
    {
     "name": "stdout",
     "output_type": "stream",
     "text": [
      "INFO:tensorflow:Assets written to: ./Model/model_LSTM22_150_cross_test.v/assets\n"
     ]
    },
    {
     "name": "stderr",
     "output_type": "stream",
     "text": [
      "INFO:tensorflow:Assets written to: ./Model/model_LSTM22_150_cross_test.v/assets\n"
     ]
    },
    {
     "name": "stdout",
     "output_type": "stream",
     "text": [
      "Epoch 4/500\n",
      "474/474 [==============================] - 156s 329ms/step - loss: 0.4334 - accuracy: 0.8193 - val_loss: 0.3994 - val_accuracy: 0.8371\n",
      "\n",
      "Epoch 00004: val_accuracy improved from 0.82278 to 0.83713, saving model to ./Model/model_LSTM22_150_cross_test.v\n"
     ]
    },
    {
     "name": "stderr",
     "output_type": "stream",
     "text": [
      "WARNING:absl:Found untraced functions such as lstm_cell_14_layer_call_and_return_conditional_losses, lstm_cell_14_layer_call_fn, lstm_cell_15_layer_call_and_return_conditional_losses, lstm_cell_15_layer_call_fn, lstm_cell_9_layer_call_and_return_conditional_losses while saving (showing 5 of 30). These functions will not be directly callable after loading.\n",
      "WARNING:absl:Found untraced functions such as lstm_cell_14_layer_call_and_return_conditional_losses, lstm_cell_14_layer_call_fn, lstm_cell_15_layer_call_and_return_conditional_losses, lstm_cell_15_layer_call_fn, lstm_cell_9_layer_call_and_return_conditional_losses while saving (showing 5 of 30). These functions will not be directly callable after loading.\n"
     ]
    },
    {
     "name": "stdout",
     "output_type": "stream",
     "text": [
      "INFO:tensorflow:Assets written to: ./Model/model_LSTM22_150_cross_test.v/assets\n"
     ]
    },
    {
     "name": "stderr",
     "output_type": "stream",
     "text": [
      "INFO:tensorflow:Assets written to: ./Model/model_LSTM22_150_cross_test.v/assets\n"
     ]
    },
    {
     "name": "stdout",
     "output_type": "stream",
     "text": [
      "Epoch 5/500\n",
      "474/474 [==============================] - 156s 328ms/step - loss: 0.4194 - accuracy: 0.8287 - val_loss: 0.3920 - val_accuracy: 0.8481\n",
      "\n",
      "Epoch 00005: val_accuracy improved from 0.83713 to 0.84810, saving model to ./Model/model_LSTM22_150_cross_test.v\n"
     ]
    },
    {
     "name": "stderr",
     "output_type": "stream",
     "text": [
      "WARNING:absl:Found untraced functions such as lstm_cell_14_layer_call_and_return_conditional_losses, lstm_cell_14_layer_call_fn, lstm_cell_15_layer_call_and_return_conditional_losses, lstm_cell_15_layer_call_fn, lstm_cell_9_layer_call_and_return_conditional_losses while saving (showing 5 of 30). These functions will not be directly callable after loading.\n",
      "WARNING:absl:Found untraced functions such as lstm_cell_14_layer_call_and_return_conditional_losses, lstm_cell_14_layer_call_fn, lstm_cell_15_layer_call_and_return_conditional_losses, lstm_cell_15_layer_call_fn, lstm_cell_9_layer_call_and_return_conditional_losses while saving (showing 5 of 30). These functions will not be directly callable after loading.\n"
     ]
    },
    {
     "name": "stdout",
     "output_type": "stream",
     "text": [
      "INFO:tensorflow:Assets written to: ./Model/model_LSTM22_150_cross_test.v/assets\n"
     ]
    },
    {
     "name": "stderr",
     "output_type": "stream",
     "text": [
      "INFO:tensorflow:Assets written to: ./Model/model_LSTM22_150_cross_test.v/assets\n"
     ]
    },
    {
     "name": "stdout",
     "output_type": "stream",
     "text": [
      "Epoch 6/500\n",
      "474/474 [==============================] - 156s 330ms/step - loss: 0.3713 - accuracy: 0.8459 - val_loss: 0.3250 - val_accuracy: 0.8650\n",
      "\n",
      "Epoch 00006: val_accuracy improved from 0.84810 to 0.86498, saving model to ./Model/model_LSTM22_150_cross_test.v\n"
     ]
    },
    {
     "name": "stderr",
     "output_type": "stream",
     "text": [
      "WARNING:absl:Found untraced functions such as lstm_cell_14_layer_call_and_return_conditional_losses, lstm_cell_14_layer_call_fn, lstm_cell_15_layer_call_and_return_conditional_losses, lstm_cell_15_layer_call_fn, lstm_cell_9_layer_call_and_return_conditional_losses while saving (showing 5 of 30). These functions will not be directly callable after loading.\n",
      "WARNING:absl:Found untraced functions such as lstm_cell_14_layer_call_and_return_conditional_losses, lstm_cell_14_layer_call_fn, lstm_cell_15_layer_call_and_return_conditional_losses, lstm_cell_15_layer_call_fn, lstm_cell_9_layer_call_and_return_conditional_losses while saving (showing 5 of 30). These functions will not be directly callable after loading.\n"
     ]
    },
    {
     "name": "stdout",
     "output_type": "stream",
     "text": [
      "INFO:tensorflow:Assets written to: ./Model/model_LSTM22_150_cross_test.v/assets\n"
     ]
    },
    {
     "name": "stderr",
     "output_type": "stream",
     "text": [
      "INFO:tensorflow:Assets written to: ./Model/model_LSTM22_150_cross_test.v/assets\n"
     ]
    },
    {
     "name": "stdout",
     "output_type": "stream",
     "text": [
      "Epoch 7/500\n",
      "474/474 [==============================] - 157s 332ms/step - loss: 0.3566 - accuracy: 0.8606 - val_loss: 0.2912 - val_accuracy: 0.8924\n",
      "\n",
      "Epoch 00007: val_accuracy improved from 0.86498 to 0.89241, saving model to ./Model/model_LSTM22_150_cross_test.v\n"
     ]
    },
    {
     "name": "stderr",
     "output_type": "stream",
     "text": [
      "WARNING:absl:Found untraced functions such as lstm_cell_14_layer_call_and_return_conditional_losses, lstm_cell_14_layer_call_fn, lstm_cell_15_layer_call_and_return_conditional_losses, lstm_cell_15_layer_call_fn, lstm_cell_9_layer_call_and_return_conditional_losses while saving (showing 5 of 30). These functions will not be directly callable after loading.\n",
      "WARNING:absl:Found untraced functions such as lstm_cell_14_layer_call_and_return_conditional_losses, lstm_cell_14_layer_call_fn, lstm_cell_15_layer_call_and_return_conditional_losses, lstm_cell_15_layer_call_fn, lstm_cell_9_layer_call_and_return_conditional_losses while saving (showing 5 of 30). These functions will not be directly callable after loading.\n"
     ]
    },
    {
     "name": "stdout",
     "output_type": "stream",
     "text": [
      "INFO:tensorflow:Assets written to: ./Model/model_LSTM22_150_cross_test.v/assets\n"
     ]
    },
    {
     "name": "stderr",
     "output_type": "stream",
     "text": [
      "INFO:tensorflow:Assets written to: ./Model/model_LSTM22_150_cross_test.v/assets\n"
     ]
    },
    {
     "name": "stdout",
     "output_type": "stream",
     "text": [
      "Epoch 8/500\n",
      "474/474 [==============================] - 159s 335ms/step - loss: 0.3117 - accuracy: 0.8897 - val_loss: 0.2561 - val_accuracy: 0.8937\n",
      "\n",
      "Epoch 00008: val_accuracy improved from 0.89241 to 0.89367, saving model to ./Model/model_LSTM22_150_cross_test.v\n"
     ]
    },
    {
     "name": "stderr",
     "output_type": "stream",
     "text": [
      "WARNING:absl:Found untraced functions such as lstm_cell_14_layer_call_and_return_conditional_losses, lstm_cell_14_layer_call_fn, lstm_cell_15_layer_call_and_return_conditional_losses, lstm_cell_15_layer_call_fn, lstm_cell_9_layer_call_and_return_conditional_losses while saving (showing 5 of 30). These functions will not be directly callable after loading.\n",
      "WARNING:absl:Found untraced functions such as lstm_cell_14_layer_call_and_return_conditional_losses, lstm_cell_14_layer_call_fn, lstm_cell_15_layer_call_and_return_conditional_losses, lstm_cell_15_layer_call_fn, lstm_cell_9_layer_call_and_return_conditional_losses while saving (showing 5 of 30). These functions will not be directly callable after loading.\n"
     ]
    },
    {
     "name": "stdout",
     "output_type": "stream",
     "text": [
      "INFO:tensorflow:Assets written to: ./Model/model_LSTM22_150_cross_test.v/assets\n"
     ]
    },
    {
     "name": "stderr",
     "output_type": "stream",
     "text": [
      "INFO:tensorflow:Assets written to: ./Model/model_LSTM22_150_cross_test.v/assets\n"
     ]
    },
    {
     "name": "stdout",
     "output_type": "stream",
     "text": [
      "Epoch 9/500\n",
      "474/474 [==============================] - 156s 328ms/step - loss: 0.2834 - accuracy: 0.8967 - val_loss: 0.3372 - val_accuracy: 0.8633\n",
      "\n",
      "Epoch 00009: val_accuracy did not improve from 0.89367\n",
      "Epoch 10/500\n",
      "474/474 [==============================] - 157s 332ms/step - loss: 0.3225 - accuracy: 0.8782 - val_loss: 0.2063 - val_accuracy: 0.9198\n",
      "\n",
      "Epoch 00010: val_accuracy improved from 0.89367 to 0.91983, saving model to ./Model/model_LSTM22_150_cross_test.v\n"
     ]
    },
    {
     "name": "stderr",
     "output_type": "stream",
     "text": [
      "WARNING:absl:Found untraced functions such as lstm_cell_14_layer_call_and_return_conditional_losses, lstm_cell_14_layer_call_fn, lstm_cell_15_layer_call_and_return_conditional_losses, lstm_cell_15_layer_call_fn, lstm_cell_9_layer_call_and_return_conditional_losses while saving (showing 5 of 30). These functions will not be directly callable after loading.\n",
      "WARNING:absl:Found untraced functions such as lstm_cell_14_layer_call_and_return_conditional_losses, lstm_cell_14_layer_call_fn, lstm_cell_15_layer_call_and_return_conditional_losses, lstm_cell_15_layer_call_fn, lstm_cell_9_layer_call_and_return_conditional_losses while saving (showing 5 of 30). These functions will not be directly callable after loading.\n"
     ]
    },
    {
     "name": "stdout",
     "output_type": "stream",
     "text": [
      "INFO:tensorflow:Assets written to: ./Model/model_LSTM22_150_cross_test.v/assets\n"
     ]
    },
    {
     "name": "stderr",
     "output_type": "stream",
     "text": [
      "INFO:tensorflow:Assets written to: ./Model/model_LSTM22_150_cross_test.v/assets\n"
     ]
    },
    {
     "name": "stdout",
     "output_type": "stream",
     "text": [
      "Epoch 11/500\n",
      "474/474 [==============================] - 156s 329ms/step - loss: 0.2670 - accuracy: 0.9161 - val_loss: 0.1799 - val_accuracy: 0.9468\n",
      "\n",
      "Epoch 00011: val_accuracy improved from 0.91983 to 0.94684, saving model to ./Model/model_LSTM22_150_cross_test.v\n"
     ]
    },
    {
     "name": "stderr",
     "output_type": "stream",
     "text": [
      "WARNING:absl:Found untraced functions such as lstm_cell_14_layer_call_and_return_conditional_losses, lstm_cell_14_layer_call_fn, lstm_cell_15_layer_call_and_return_conditional_losses, lstm_cell_15_layer_call_fn, lstm_cell_9_layer_call_and_return_conditional_losses while saving (showing 5 of 30). These functions will not be directly callable after loading.\n",
      "WARNING:absl:Found untraced functions such as lstm_cell_14_layer_call_and_return_conditional_losses, lstm_cell_14_layer_call_fn, lstm_cell_15_layer_call_and_return_conditional_losses, lstm_cell_15_layer_call_fn, lstm_cell_9_layer_call_and_return_conditional_losses while saving (showing 5 of 30). These functions will not be directly callable after loading.\n"
     ]
    },
    {
     "name": "stdout",
     "output_type": "stream",
     "text": [
      "INFO:tensorflow:Assets written to: ./Model/model_LSTM22_150_cross_test.v/assets\n"
     ]
    },
    {
     "name": "stderr",
     "output_type": "stream",
     "text": [
      "INFO:tensorflow:Assets written to: ./Model/model_LSTM22_150_cross_test.v/assets\n"
     ]
    },
    {
     "name": "stdout",
     "output_type": "stream",
     "text": [
      "Epoch 12/500\n",
      "474/474 [==============================] - 158s 333ms/step - loss: 0.5474 - accuracy: 0.7655 - val_loss: 0.3083 - val_accuracy: 0.8781\n",
      "\n",
      "Epoch 00012: val_accuracy did not improve from 0.94684\n",
      "Epoch 13/500\n",
      "474/474 [==============================] - 157s 332ms/step - loss: 0.3118 - accuracy: 0.8735 - val_loss: 0.2531 - val_accuracy: 0.9004\n",
      "\n",
      "Epoch 00013: val_accuracy did not improve from 0.94684\n",
      "Epoch 14/500\n",
      "474/474 [==============================] - 156s 329ms/step - loss: 0.2562 - accuracy: 0.8939 - val_loss: 0.2225 - val_accuracy: 0.9232\n",
      "\n",
      "Epoch 00014: val_accuracy did not improve from 0.94684\n",
      "Epoch 15/500\n",
      "474/474 [==============================] - 156s 329ms/step - loss: 0.2516 - accuracy: 0.9012 - val_loss: 0.2166 - val_accuracy: 0.9380\n",
      "\n",
      "Epoch 00015: val_accuracy did not improve from 0.94684\n",
      "Epoch 16/500\n",
      "474/474 [==============================] - 158s 334ms/step - loss: 0.2167 - accuracy: 0.9286 - val_loss: 0.1943 - val_accuracy: 0.9519\n",
      "\n",
      "Epoch 00016: val_accuracy improved from 0.94684 to 0.95190, saving model to ./Model/model_LSTM22_150_cross_test.v\n"
     ]
    },
    {
     "name": "stderr",
     "output_type": "stream",
     "text": [
      "WARNING:absl:Found untraced functions such as lstm_cell_14_layer_call_and_return_conditional_losses, lstm_cell_14_layer_call_fn, lstm_cell_15_layer_call_and_return_conditional_losses, lstm_cell_15_layer_call_fn, lstm_cell_9_layer_call_and_return_conditional_losses while saving (showing 5 of 30). These functions will not be directly callable after loading.\n",
      "WARNING:absl:Found untraced functions such as lstm_cell_14_layer_call_and_return_conditional_losses, lstm_cell_14_layer_call_fn, lstm_cell_15_layer_call_and_return_conditional_losses, lstm_cell_15_layer_call_fn, lstm_cell_9_layer_call_and_return_conditional_losses while saving (showing 5 of 30). These functions will not be directly callable after loading.\n"
     ]
    },
    {
     "name": "stdout",
     "output_type": "stream",
     "text": [
      "INFO:tensorflow:Assets written to: ./Model/model_LSTM22_150_cross_test.v/assets\n"
     ]
    },
    {
     "name": "stderr",
     "output_type": "stream",
     "text": [
      "INFO:tensorflow:Assets written to: ./Model/model_LSTM22_150_cross_test.v/assets\n"
     ]
    },
    {
     "name": "stdout",
     "output_type": "stream",
     "text": [
      "Epoch 17/500\n",
      "474/474 [==============================] - 156s 329ms/step - loss: 0.2198 - accuracy: 0.9184 - val_loss: 0.2070 - val_accuracy: 0.9473\n",
      "\n",
      "Epoch 00017: val_accuracy did not improve from 0.95190\n",
      "Epoch 18/500\n",
      "474/474 [==============================] - 155s 328ms/step - loss: 0.1707 - accuracy: 0.9507 - val_loss: 0.1767 - val_accuracy: 0.9624\n",
      "\n",
      "Epoch 00018: val_accuracy improved from 0.95190 to 0.96245, saving model to ./Model/model_LSTM22_150_cross_test.v\n"
     ]
    },
    {
     "name": "stderr",
     "output_type": "stream",
     "text": [
      "WARNING:absl:Found untraced functions such as lstm_cell_14_layer_call_and_return_conditional_losses, lstm_cell_14_layer_call_fn, lstm_cell_15_layer_call_and_return_conditional_losses, lstm_cell_15_layer_call_fn, lstm_cell_9_layer_call_and_return_conditional_losses while saving (showing 5 of 30). These functions will not be directly callable after loading.\n",
      "WARNING:absl:Found untraced functions such as lstm_cell_14_layer_call_and_return_conditional_losses, lstm_cell_14_layer_call_fn, lstm_cell_15_layer_call_and_return_conditional_losses, lstm_cell_15_layer_call_fn, lstm_cell_9_layer_call_and_return_conditional_losses while saving (showing 5 of 30). These functions will not be directly callable after loading.\n"
     ]
    },
    {
     "name": "stdout",
     "output_type": "stream",
     "text": [
      "INFO:tensorflow:Assets written to: ./Model/model_LSTM22_150_cross_test.v/assets\n"
     ]
    },
    {
     "name": "stderr",
     "output_type": "stream",
     "text": [
      "INFO:tensorflow:Assets written to: ./Model/model_LSTM22_150_cross_test.v/assets\n"
     ]
    },
    {
     "name": "stdout",
     "output_type": "stream",
     "text": [
      "Epoch 19/500\n",
      "474/474 [==============================] - 155s 328ms/step - loss: 0.1739 - accuracy: 0.9542 - val_loss: 0.1412 - val_accuracy: 0.9650\n",
      "\n",
      "Epoch 00019: val_accuracy improved from 0.96245 to 0.96498, saving model to ./Model/model_LSTM22_150_cross_test.v\n"
     ]
    },
    {
     "name": "stderr",
     "output_type": "stream",
     "text": [
      "WARNING:absl:Found untraced functions such as lstm_cell_14_layer_call_and_return_conditional_losses, lstm_cell_14_layer_call_fn, lstm_cell_15_layer_call_and_return_conditional_losses, lstm_cell_15_layer_call_fn, lstm_cell_9_layer_call_and_return_conditional_losses while saving (showing 5 of 30). These functions will not be directly callable after loading.\n",
      "WARNING:absl:Found untraced functions such as lstm_cell_14_layer_call_and_return_conditional_losses, lstm_cell_14_layer_call_fn, lstm_cell_15_layer_call_and_return_conditional_losses, lstm_cell_15_layer_call_fn, lstm_cell_9_layer_call_and_return_conditional_losses while saving (showing 5 of 30). These functions will not be directly callable after loading.\n"
     ]
    },
    {
     "name": "stdout",
     "output_type": "stream",
     "text": [
      "INFO:tensorflow:Assets written to: ./Model/model_LSTM22_150_cross_test.v/assets\n"
     ]
    },
    {
     "name": "stderr",
     "output_type": "stream",
     "text": [
      "INFO:tensorflow:Assets written to: ./Model/model_LSTM22_150_cross_test.v/assets\n"
     ]
    },
    {
     "name": "stdout",
     "output_type": "stream",
     "text": [
      "Epoch 20/500\n",
      "474/474 [==============================] - 156s 329ms/step - loss: 0.1531 - accuracy: 0.9609 - val_loss: 0.2494 - val_accuracy: 0.9599\n",
      "\n",
      "Epoch 00020: val_accuracy did not improve from 0.96498\n",
      "Epoch 21/500\n",
      "474/474 [==============================] - 156s 330ms/step - loss: 0.1609 - accuracy: 0.9615 - val_loss: 0.1752 - val_accuracy: 0.9582\n",
      "\n",
      "Epoch 00021: val_accuracy did not improve from 0.96498\n",
      "Epoch 22/500\n",
      "474/474 [==============================] - 157s 331ms/step - loss: 0.1558 - accuracy: 0.9624 - val_loss: 0.1139 - val_accuracy: 0.9696\n",
      "\n",
      "Epoch 00022: val_accuracy improved from 0.96498 to 0.96962, saving model to ./Model/model_LSTM22_150_cross_test.v\n"
     ]
    },
    {
     "name": "stderr",
     "output_type": "stream",
     "text": [
      "WARNING:absl:Found untraced functions such as lstm_cell_14_layer_call_and_return_conditional_losses, lstm_cell_14_layer_call_fn, lstm_cell_15_layer_call_and_return_conditional_losses, lstm_cell_15_layer_call_fn, lstm_cell_9_layer_call_and_return_conditional_losses while saving (showing 5 of 30). These functions will not be directly callable after loading.\n",
      "WARNING:absl:Found untraced functions such as lstm_cell_14_layer_call_and_return_conditional_losses, lstm_cell_14_layer_call_fn, lstm_cell_15_layer_call_and_return_conditional_losses, lstm_cell_15_layer_call_fn, lstm_cell_9_layer_call_and_return_conditional_losses while saving (showing 5 of 30). These functions will not be directly callable after loading.\n"
     ]
    },
    {
     "name": "stdout",
     "output_type": "stream",
     "text": [
      "INFO:tensorflow:Assets written to: ./Model/model_LSTM22_150_cross_test.v/assets\n"
     ]
    },
    {
     "name": "stderr",
     "output_type": "stream",
     "text": [
      "INFO:tensorflow:Assets written to: ./Model/model_LSTM22_150_cross_test.v/assets\n"
     ]
    },
    {
     "name": "stdout",
     "output_type": "stream",
     "text": [
      "Epoch 23/500\n",
      "474/474 [==============================] - 155s 327ms/step - loss: 0.1310 - accuracy: 0.9660 - val_loss: 0.2098 - val_accuracy: 0.9730\n",
      "\n",
      "Epoch 00023: val_accuracy improved from 0.96962 to 0.97300, saving model to ./Model/model_LSTM22_150_cross_test.v\n"
     ]
    },
    {
     "name": "stderr",
     "output_type": "stream",
     "text": [
      "WARNING:absl:Found untraced functions such as lstm_cell_14_layer_call_and_return_conditional_losses, lstm_cell_14_layer_call_fn, lstm_cell_15_layer_call_and_return_conditional_losses, lstm_cell_15_layer_call_fn, lstm_cell_9_layer_call_and_return_conditional_losses while saving (showing 5 of 30). These functions will not be directly callable after loading.\n",
      "WARNING:absl:Found untraced functions such as lstm_cell_14_layer_call_and_return_conditional_losses, lstm_cell_14_layer_call_fn, lstm_cell_15_layer_call_and_return_conditional_losses, lstm_cell_15_layer_call_fn, lstm_cell_9_layer_call_and_return_conditional_losses while saving (showing 5 of 30). These functions will not be directly callable after loading.\n"
     ]
    },
    {
     "name": "stdout",
     "output_type": "stream",
     "text": [
      "INFO:tensorflow:Assets written to: ./Model/model_LSTM22_150_cross_test.v/assets\n"
     ]
    },
    {
     "name": "stderr",
     "output_type": "stream",
     "text": [
      "INFO:tensorflow:Assets written to: ./Model/model_LSTM22_150_cross_test.v/assets\n"
     ]
    },
    {
     "name": "stdout",
     "output_type": "stream",
     "text": [
      "Epoch 24/500\n",
      "474/474 [==============================] - 155s 327ms/step - loss: 0.1443 - accuracy: 0.9680 - val_loss: 0.1289 - val_accuracy: 0.9696\n",
      "\n",
      "Epoch 00024: val_accuracy did not improve from 0.97300\n",
      "Epoch 25/500\n",
      "474/474 [==============================] - 155s 327ms/step - loss: 0.1349 - accuracy: 0.9664 - val_loss: 0.2166 - val_accuracy: 0.9658\n",
      "\n",
      "Epoch 00025: val_accuracy did not improve from 0.97300\n",
      "Epoch 26/500\n",
      "474/474 [==============================] - 154s 326ms/step - loss: 0.1292 - accuracy: 0.9686 - val_loss: 0.1907 - val_accuracy: 0.9616\n",
      "\n",
      "Epoch 00026: val_accuracy did not improve from 0.97300\n",
      "Epoch 27/500\n",
      "474/474 [==============================] - 157s 332ms/step - loss: 0.1352 - accuracy: 0.9621 - val_loss: 0.1417 - val_accuracy: 0.9751\n",
      "\n",
      "Epoch 00027: val_accuracy improved from 0.97300 to 0.97511, saving model to ./Model/model_LSTM22_150_cross_test.v\n"
     ]
    },
    {
     "name": "stderr",
     "output_type": "stream",
     "text": [
      "WARNING:absl:Found untraced functions such as lstm_cell_14_layer_call_and_return_conditional_losses, lstm_cell_14_layer_call_fn, lstm_cell_15_layer_call_and_return_conditional_losses, lstm_cell_15_layer_call_fn, lstm_cell_9_layer_call_and_return_conditional_losses while saving (showing 5 of 30). These functions will not be directly callable after loading.\n",
      "WARNING:absl:Found untraced functions such as lstm_cell_14_layer_call_and_return_conditional_losses, lstm_cell_14_layer_call_fn, lstm_cell_15_layer_call_and_return_conditional_losses, lstm_cell_15_layer_call_fn, lstm_cell_9_layer_call_and_return_conditional_losses while saving (showing 5 of 30). These functions will not be directly callable after loading.\n"
     ]
    },
    {
     "name": "stdout",
     "output_type": "stream",
     "text": [
      "INFO:tensorflow:Assets written to: ./Model/model_LSTM22_150_cross_test.v/assets\n"
     ]
    },
    {
     "name": "stderr",
     "output_type": "stream",
     "text": [
      "INFO:tensorflow:Assets written to: ./Model/model_LSTM22_150_cross_test.v/assets\n"
     ]
    },
    {
     "name": "stdout",
     "output_type": "stream",
     "text": [
      "Epoch 28/500\n",
      "474/474 [==============================] - 155s 328ms/step - loss: 0.1337 - accuracy: 0.9674 - val_loss: 0.2275 - val_accuracy: 0.9426\n",
      "\n",
      "Epoch 00028: val_accuracy did not improve from 0.97511\n",
      "Epoch 29/500\n",
      "474/474 [==============================] - 157s 330ms/step - loss: 0.1666 - accuracy: 0.9589 - val_loss: 0.1108 - val_accuracy: 0.9781\n",
      "\n",
      "Epoch 00029: val_accuracy improved from 0.97511 to 0.97806, saving model to ./Model/model_LSTM22_150_cross_test.v\n"
     ]
    },
    {
     "name": "stderr",
     "output_type": "stream",
     "text": [
      "WARNING:absl:Found untraced functions such as lstm_cell_14_layer_call_and_return_conditional_losses, lstm_cell_14_layer_call_fn, lstm_cell_15_layer_call_and_return_conditional_losses, lstm_cell_15_layer_call_fn, lstm_cell_9_layer_call_and_return_conditional_losses while saving (showing 5 of 30). These functions will not be directly callable after loading.\n",
      "WARNING:absl:Found untraced functions such as lstm_cell_14_layer_call_and_return_conditional_losses, lstm_cell_14_layer_call_fn, lstm_cell_15_layer_call_and_return_conditional_losses, lstm_cell_15_layer_call_fn, lstm_cell_9_layer_call_and_return_conditional_losses while saving (showing 5 of 30). These functions will not be directly callable after loading.\n"
     ]
    },
    {
     "name": "stdout",
     "output_type": "stream",
     "text": [
      "INFO:tensorflow:Assets written to: ./Model/model_LSTM22_150_cross_test.v/assets\n"
     ]
    },
    {
     "name": "stderr",
     "output_type": "stream",
     "text": [
      "INFO:tensorflow:Assets written to: ./Model/model_LSTM22_150_cross_test.v/assets\n"
     ]
    },
    {
     "name": "stdout",
     "output_type": "stream",
     "text": [
      "Epoch 30/500\n",
      "474/474 [==============================] - 155s 327ms/step - loss: 0.1725 - accuracy: 0.9643 - val_loss: 0.1639 - val_accuracy: 0.9485\n",
      "\n",
      "Epoch 00030: val_accuracy did not improve from 0.97806\n",
      "Epoch 31/500\n",
      "474/474 [==============================] - 157s 332ms/step - loss: 0.1524 - accuracy: 0.9571 - val_loss: 0.1334 - val_accuracy: 0.9705\n",
      "\n",
      "Epoch 00031: val_accuracy did not improve from 0.97806\n",
      "Epoch 32/500\n",
      "474/474 [==============================] - 156s 328ms/step - loss: 0.1070 - accuracy: 0.9712 - val_loss: 0.1415 - val_accuracy: 0.9768\n",
      "\n",
      "Epoch 00032: val_accuracy did not improve from 0.97806\n",
      "Epoch 33/500\n",
      "474/474 [==============================] - 155s 327ms/step - loss: 0.1858 - accuracy: 0.9518 - val_loss: 0.1109 - val_accuracy: 0.9772\n",
      "\n",
      "Epoch 00033: val_accuracy did not improve from 0.97806\n",
      "Epoch 34/500\n",
      "474/474 [==============================] - 154s 326ms/step - loss: 0.1062 - accuracy: 0.9776 - val_loss: 0.1113 - val_accuracy: 0.9814\n",
      "\n",
      "Epoch 00034: val_accuracy improved from 0.97806 to 0.98143, saving model to ./Model/model_LSTM22_150_cross_test.v\n"
     ]
    },
    {
     "name": "stderr",
     "output_type": "stream",
     "text": [
      "WARNING:absl:Found untraced functions such as lstm_cell_14_layer_call_and_return_conditional_losses, lstm_cell_14_layer_call_fn, lstm_cell_15_layer_call_and_return_conditional_losses, lstm_cell_15_layer_call_fn, lstm_cell_9_layer_call_and_return_conditional_losses while saving (showing 5 of 30). These functions will not be directly callable after loading.\n",
      "WARNING:absl:Found untraced functions such as lstm_cell_14_layer_call_and_return_conditional_losses, lstm_cell_14_layer_call_fn, lstm_cell_15_layer_call_and_return_conditional_losses, lstm_cell_15_layer_call_fn, lstm_cell_9_layer_call_and_return_conditional_losses while saving (showing 5 of 30). These functions will not be directly callable after loading.\n"
     ]
    },
    {
     "name": "stdout",
     "output_type": "stream",
     "text": [
      "INFO:tensorflow:Assets written to: ./Model/model_LSTM22_150_cross_test.v/assets\n"
     ]
    },
    {
     "name": "stderr",
     "output_type": "stream",
     "text": [
      "INFO:tensorflow:Assets written to: ./Model/model_LSTM22_150_cross_test.v/assets\n"
     ]
    },
    {
     "name": "stdout",
     "output_type": "stream",
     "text": [
      "Epoch 35/500\n",
      "474/474 [==============================] - 156s 330ms/step - loss: 0.0966 - accuracy: 0.9792 - val_loss: 0.1160 - val_accuracy: 0.9806\n",
      "\n",
      "Epoch 00035: val_accuracy did not improve from 0.98143\n",
      "Epoch 36/500\n",
      "474/474 [==============================] - 154s 326ms/step - loss: 0.0868 - accuracy: 0.9814 - val_loss: 0.1163 - val_accuracy: 0.9793\n",
      "\n",
      "Epoch 00036: val_accuracy did not improve from 0.98143\n",
      "Epoch 37/500\n",
      "474/474 [==============================] - 154s 326ms/step - loss: 0.1000 - accuracy: 0.9807 - val_loss: 0.1131 - val_accuracy: 0.9819\n",
      "\n",
      "Epoch 00037: val_accuracy improved from 0.98143 to 0.98186, saving model to ./Model/model_LSTM22_150_cross_test.v\n"
     ]
    },
    {
     "name": "stderr",
     "output_type": "stream",
     "text": [
      "WARNING:absl:Found untraced functions such as lstm_cell_14_layer_call_and_return_conditional_losses, lstm_cell_14_layer_call_fn, lstm_cell_15_layer_call_and_return_conditional_losses, lstm_cell_15_layer_call_fn, lstm_cell_9_layer_call_and_return_conditional_losses while saving (showing 5 of 30). These functions will not be directly callable after loading.\n",
      "WARNING:absl:Found untraced functions such as lstm_cell_14_layer_call_and_return_conditional_losses, lstm_cell_14_layer_call_fn, lstm_cell_15_layer_call_and_return_conditional_losses, lstm_cell_15_layer_call_fn, lstm_cell_9_layer_call_and_return_conditional_losses while saving (showing 5 of 30). These functions will not be directly callable after loading.\n"
     ]
    },
    {
     "name": "stdout",
     "output_type": "stream",
     "text": [
      "INFO:tensorflow:Assets written to: ./Model/model_LSTM22_150_cross_test.v/assets\n"
     ]
    },
    {
     "name": "stderr",
     "output_type": "stream",
     "text": [
      "INFO:tensorflow:Assets written to: ./Model/model_LSTM22_150_cross_test.v/assets\n"
     ]
    },
    {
     "name": "stdout",
     "output_type": "stream",
     "text": [
      "Epoch 38/500\n",
      "474/474 [==============================] - 158s 333ms/step - loss: 0.0791 - accuracy: 0.9844 - val_loss: 0.1067 - val_accuracy: 0.9802\n",
      "\n",
      "Epoch 00038: val_accuracy did not improve from 0.98186\n",
      "Epoch 39/500\n",
      "474/474 [==============================] - 156s 329ms/step - loss: 0.0594 - accuracy: 0.9858 - val_loss: 0.5757 - val_accuracy: 0.9283\n",
      "\n",
      "Epoch 00039: val_accuracy did not improve from 0.98186\n",
      "Epoch 40/500\n",
      "474/474 [==============================] - 155s 326ms/step - loss: 0.1381 - accuracy: 0.9564 - val_loss: 0.0780 - val_accuracy: 0.9789\n",
      "\n",
      "Epoch 00040: val_accuracy did not improve from 0.98186\n",
      "Epoch 41/500\n",
      "474/474 [==============================] - 155s 328ms/step - loss: 0.0959 - accuracy: 0.9730 - val_loss: 0.1083 - val_accuracy: 0.9785\n",
      "\n",
      "Epoch 00041: val_accuracy did not improve from 0.98186\n",
      "Epoch 42/500\n",
      "474/474 [==============================] - 156s 328ms/step - loss: 0.0689 - accuracy: 0.9835 - val_loss: 0.0938 - val_accuracy: 0.9819\n",
      "\n",
      "Epoch 00042: val_accuracy did not improve from 0.98186\n",
      "Epoch 43/500\n",
      "474/474 [==============================] - 155s 328ms/step - loss: 0.0792 - accuracy: 0.9820 - val_loss: 0.0874 - val_accuracy: 0.9823\n",
      "\n",
      "Epoch 00043: val_accuracy improved from 0.98186 to 0.98228, saving model to ./Model/model_LSTM22_150_cross_test.v\n"
     ]
    },
    {
     "name": "stderr",
     "output_type": "stream",
     "text": [
      "WARNING:absl:Found untraced functions such as lstm_cell_14_layer_call_and_return_conditional_losses, lstm_cell_14_layer_call_fn, lstm_cell_15_layer_call_and_return_conditional_losses, lstm_cell_15_layer_call_fn, lstm_cell_9_layer_call_and_return_conditional_losses while saving (showing 5 of 30). These functions will not be directly callable after loading.\n",
      "WARNING:absl:Found untraced functions such as lstm_cell_14_layer_call_and_return_conditional_losses, lstm_cell_14_layer_call_fn, lstm_cell_15_layer_call_and_return_conditional_losses, lstm_cell_15_layer_call_fn, lstm_cell_9_layer_call_and_return_conditional_losses while saving (showing 5 of 30). These functions will not be directly callable after loading.\n"
     ]
    },
    {
     "name": "stdout",
     "output_type": "stream",
     "text": [
      "INFO:tensorflow:Assets written to: ./Model/model_LSTM22_150_cross_test.v/assets\n"
     ]
    },
    {
     "name": "stderr",
     "output_type": "stream",
     "text": [
      "INFO:tensorflow:Assets written to: ./Model/model_LSTM22_150_cross_test.v/assets\n"
     ]
    },
    {
     "name": "stdout",
     "output_type": "stream",
     "text": [
      "Epoch 44/500\n",
      "474/474 [==============================] - 156s 329ms/step - loss: 0.0851 - accuracy: 0.9814 - val_loss: 0.0946 - val_accuracy: 0.9810\n",
      "\n",
      "Epoch 00044: val_accuracy did not improve from 0.98228\n",
      "Epoch 45/500\n",
      "474/474 [==============================] - 155s 328ms/step - loss: 0.0521 - accuracy: 0.9844 - val_loss: 0.1032 - val_accuracy: 0.9810\n",
      "\n",
      "Epoch 00045: val_accuracy did not improve from 0.98228\n",
      "Epoch 46/500\n",
      "474/474 [==============================] - 154s 325ms/step - loss: 0.0788 - accuracy: 0.9838 - val_loss: 0.0870 - val_accuracy: 0.9823\n",
      "\n",
      "Epoch 00046: val_accuracy did not improve from 0.98228\n",
      "Epoch 47/500\n",
      "474/474 [==============================] - 156s 329ms/step - loss: 0.0549 - accuracy: 0.9854 - val_loss: 0.0979 - val_accuracy: 0.9827\n",
      "\n",
      "Epoch 00047: val_accuracy improved from 0.98228 to 0.98270, saving model to ./Model/model_LSTM22_150_cross_test.v\n"
     ]
    },
    {
     "name": "stderr",
     "output_type": "stream",
     "text": [
      "WARNING:absl:Found untraced functions such as lstm_cell_14_layer_call_and_return_conditional_losses, lstm_cell_14_layer_call_fn, lstm_cell_15_layer_call_and_return_conditional_losses, lstm_cell_15_layer_call_fn, lstm_cell_9_layer_call_and_return_conditional_losses while saving (showing 5 of 30). These functions will not be directly callable after loading.\n",
      "WARNING:absl:Found untraced functions such as lstm_cell_14_layer_call_and_return_conditional_losses, lstm_cell_14_layer_call_fn, lstm_cell_15_layer_call_and_return_conditional_losses, lstm_cell_15_layer_call_fn, lstm_cell_9_layer_call_and_return_conditional_losses while saving (showing 5 of 30). These functions will not be directly callable after loading.\n"
     ]
    },
    {
     "name": "stdout",
     "output_type": "stream",
     "text": [
      "INFO:tensorflow:Assets written to: ./Model/model_LSTM22_150_cross_test.v/assets\n"
     ]
    },
    {
     "name": "stderr",
     "output_type": "stream",
     "text": [
      "INFO:tensorflow:Assets written to: ./Model/model_LSTM22_150_cross_test.v/assets\n"
     ]
    },
    {
     "name": "stdout",
     "output_type": "stream",
     "text": [
      "Epoch 48/500\n",
      "474/474 [==============================] - 157s 332ms/step - loss: 0.0773 - accuracy: 0.9830 - val_loss: 0.0891 - val_accuracy: 0.9840\n",
      "\n",
      "Epoch 00048: val_accuracy improved from 0.98270 to 0.98397, saving model to ./Model/model_LSTM22_150_cross_test.v\n"
     ]
    },
    {
     "name": "stderr",
     "output_type": "stream",
     "text": [
      "WARNING:absl:Found untraced functions such as lstm_cell_14_layer_call_and_return_conditional_losses, lstm_cell_14_layer_call_fn, lstm_cell_15_layer_call_and_return_conditional_losses, lstm_cell_15_layer_call_fn, lstm_cell_9_layer_call_and_return_conditional_losses while saving (showing 5 of 30). These functions will not be directly callable after loading.\n",
      "WARNING:absl:Found untraced functions such as lstm_cell_14_layer_call_and_return_conditional_losses, lstm_cell_14_layer_call_fn, lstm_cell_15_layer_call_and_return_conditional_losses, lstm_cell_15_layer_call_fn, lstm_cell_9_layer_call_and_return_conditional_losses while saving (showing 5 of 30). These functions will not be directly callable after loading.\n"
     ]
    },
    {
     "name": "stdout",
     "output_type": "stream",
     "text": [
      "INFO:tensorflow:Assets written to: ./Model/model_LSTM22_150_cross_test.v/assets\n"
     ]
    },
    {
     "name": "stderr",
     "output_type": "stream",
     "text": [
      "INFO:tensorflow:Assets written to: ./Model/model_LSTM22_150_cross_test.v/assets\n"
     ]
    },
    {
     "name": "stdout",
     "output_type": "stream",
     "text": [
      "Epoch 49/500\n",
      "474/474 [==============================] - 156s 330ms/step - loss: 0.0417 - accuracy: 0.9865 - val_loss: 0.1129 - val_accuracy: 0.9823\n",
      "\n",
      "Epoch 00049: val_accuracy did not improve from 0.98397\n",
      "Epoch 50/500\n",
      "474/474 [==============================] - 156s 328ms/step - loss: 0.0555 - accuracy: 0.9874 - val_loss: 0.0834 - val_accuracy: 0.9831\n",
      "\n",
      "Epoch 00050: val_accuracy did not improve from 0.98397\n",
      "Epoch 51/500\n",
      "474/474 [==============================] - 154s 325ms/step - loss: 0.4260 - accuracy: 0.9278 - val_loss: 0.1356 - val_accuracy: 0.9797\n",
      "\n",
      "Epoch 00051: val_accuracy did not improve from 0.98397\n",
      "Epoch 52/500\n",
      "474/474 [==============================] - 155s 327ms/step - loss: 0.1273 - accuracy: 0.9823 - val_loss: 0.0611 - val_accuracy: 0.9819\n",
      "\n",
      "Epoch 00052: val_accuracy did not improve from 0.98397\n",
      "Epoch 53/500\n",
      "474/474 [==============================] - 155s 327ms/step - loss: 0.0748 - accuracy: 0.9826 - val_loss: 0.0895 - val_accuracy: 0.9806\n",
      "\n",
      "Epoch 00053: val_accuracy did not improve from 0.98397\n",
      "Epoch 54/500\n",
      "474/474 [==============================] - 155s 327ms/step - loss: 0.0869 - accuracy: 0.9793 - val_loss: 0.0676 - val_accuracy: 0.9831\n",
      "\n",
      "Epoch 00054: val_accuracy did not improve from 0.98397\n",
      "Epoch 55/500\n",
      "474/474 [==============================] - 155s 327ms/step - loss: 0.0768 - accuracy: 0.9830 - val_loss: 0.0771 - val_accuracy: 0.9819\n",
      "\n",
      "Epoch 00055: val_accuracy did not improve from 0.98397\n",
      "Epoch 56/500\n",
      "474/474 [==============================] - 155s 328ms/step - loss: 0.0469 - accuracy: 0.9887 - val_loss: 0.1757 - val_accuracy: 0.9654\n",
      "\n",
      "Epoch 00056: val_accuracy did not improve from 0.98397\n",
      "Epoch 57/500\n",
      "474/474 [==============================] - 155s 327ms/step - loss: 0.0765 - accuracy: 0.9784 - val_loss: 0.2273 - val_accuracy: 0.9274\n",
      "\n",
      "Epoch 00057: val_accuracy did not improve from 0.98397\n",
      "Epoch 58/500\n",
      "474/474 [==============================] - 155s 327ms/step - loss: 0.2015 - accuracy: 0.9459 - val_loss: 0.0951 - val_accuracy: 0.9759\n",
      "\n",
      "Epoch 00058: val_accuracy did not improve from 0.98397\n",
      "Epoch 00058: early stopping\n"
     ]
    }
   ],
   "source": [
    "history = model.fit(X_scaled_arr_train,Y_arr_train,epochs=500,validation_split=0.2,batch_size=20,shuffle=True,callbacks=[early_stopping, checkpoint])"
   ]
  },
  {
   "cell_type": "code",
   "execution_count": 34,
   "metadata": {
    "colab": {
     "base_uri": "https://localhost:8080/",
     "height": 388
    },
    "id": "Frr6gxt27TTb",
    "outputId": "b1d097e6-a867-42bc-b6e9-077e00d04a88"
   },
   "outputs": [
    {
     "data": {
      "image/png": "[encoded data removed]",
      "text/plain": [
       "<Figure size 2000x600 with 1 Axes>"
      ]
     },
     "metadata": {},
     "output_type": "display_data"
    }
   ],
   "source": [
    "plt.plot(history.history['loss'], label='Parkinson(training data)')\n",
    "plt.plot(history.history['val_loss'], label='Parkinson (validation data)')\n",
    "plt.title('')\n",
    "plt.ylabel('')\n",
    "plt.xlabel('No. epoch')\n",
    "plt.legend(loc=\"upper left\")\n",
    "plt.show()"
   ]
  },
  {
   "cell_type": "code",
   "execution_count": 35,
   "metadata": {
    "colab": {
     "base_uri": "https://localhost:8080/",
     "height": 388
    },
    "id": "VTSPNZGn7TV_",
    "outputId": "8e793964-b99e-4281-f9af-67038d4a6d77"
   },
   "outputs": [
    {
     "data": {
      "image/png": "[encoded data removed]",
      "text/plain": [
       "<Figure size 2000x600 with 1 Axes>"
      ]
     },
     "metadata": {},
     "output_type": "display_data"
    }
   ],
   "source": [
    "plt.plot(history.history['accuracy'], label='Parkinson(training data)')\n",
    "plt.plot(history.history['val_accuracy'], label='Parkinson (validation data)')\n",
    "plt.title('')\n",
    "plt.ylabel('')\n",
    "plt.ylim(0,1)\n",
    "plt.xlabel('No. epoch')\n",
    "plt.legend(loc=\"upper left\")\n",
    "plt.show()"
   ]
  },
  {
   "cell_type": "code",
   "execution_count": 36,
   "metadata": {},
   "outputs": [
    {
     "data": {
      "image/png": "[encoded data removed]",
      "text/plain": [
       "<Figure size 2000x600 with 1 Axes>"
      ]
     },
     "metadata": {},
     "output_type": "display_data"
    }
   ],
   "source": [
    "plt.plot(history.history['loss'], label='Parkinson(training data)')\n",
    "plt.plot(history.history['val_loss'], label='Parkinson (validation data)')\n",
    "plt.title('')\n",
    "plt.ylabel('')\n",
    "plt.xlabel('No. epoch')\n",
    "plt.legend(loc=\"upper left\")\n",
    "plt.show()"
   ]
  },
  {
   "cell_type": "code",
   "execution_count": 37,
   "metadata": {},
   "outputs": [],
   "source": [
    "pdt1=model.predict(X_scaled_arr_test)\n",
    "pdt1.size\n",
    "classes_x1 = np.zeros((len(pdt1)))\n",
    "for x in range(len(pdt1)):\n",
    "  if(pdt1[x]>0.5):\n",
    "    classes_x1[x]=(1)\n",
    "  else:\n",
    "    classes_x1[x]=(0)\n",
    "#   print(x,end=\" \")\n",
    "from sklearn.metrics import accuracy_score\n",
    "accuracy = accuracy_score(Y_arr_test,classes_x1 )"
   ]
  },
  {
   "cell_type": "code",
   "execution_count": 38,
   "metadata": {},
   "outputs": [
    {
     "data": {
      "text/plain": [
       "0.9811002362470469"
      ]
     },
     "execution_count": 38,
     "metadata": {},
     "output_type": "execute_result"
    }
   ],
   "source": [
    "accuracy"
   ]
  },
  {
   "cell_type": "code",
   "execution_count": 53,
   "metadata": {},
   "outputs": [],
   "source": [
    "patients_t=[]\n",
    "un_used_data_t=[]\n",
    "\n",
    "for f in files1s:\n",
    "    #print(f\"{i+1}. {file}\")\n",
    "    \n",
    "    data_txt = pd.read_table(f,names=columns)\n",
    "    data_txt.drop(['elaps_time'],inplace=True,axis=1)\n",
    "    \n",
    "    \n",
    "    \n",
    "    j=0\n",
    "    ispark = getClassForHealthyOrNot(f)\n",
    "    # print(ispark)\n",
    "    while j < 12001:\n",
    "        data = data_txt.iloc[j+1:j+151,:]\n",
    "        \n",
    "        if data.shape[0] == 150:\n",
    "            patients_t.append( Patient(data, ispark) )\n",
    "        \n",
    "        j=j+75"
   ]
  },
  {
   "cell_type": "code",
   "execution_count": 54,
   "metadata": {},
   "outputs": [],
   "source": [
    "patients1_t=[]\n",
    "un_used_data1_t=[]\n",
    "\n",
    "for f in files2s:\n",
    "    #print(f\"{i+1}. {file}\")\n",
    "    \n",
    "    data_txt = pd.read_table(f,names=columns)\n",
    "    data_txt.drop(['elaps_time'],inplace=True,axis=1)\n",
    "    \n",
    "    \n",
    "    \n",
    "    j=0\n",
    "    ispark = getClassForHealthyOrNot(f)\n",
    "    # print(ispark)\n",
    "    while j < 12001:\n",
    "        data = data_txt.iloc[j+1:j+151,:]\n",
    "        \n",
    "        if data.shape[0] == 150:\n",
    "            patients1_t.append( Patient(data, ispark) )\n",
    "        \n",
    "        j=j+75"
   ]
  },
  {
   "cell_type": "code",
   "execution_count": 55,
   "metadata": {},
   "outputs": [
    {
     "data": {
      "text/plain": [
       "4640"
      ]
     },
     "execution_count": 55,
     "metadata": {},
     "output_type": "execute_result"
    }
   ],
   "source": [
    "len(patients_t)"
   ]
  },
  {
   "cell_type": "code",
   "execution_count": 56,
   "metadata": {},
   "outputs": [],
   "source": [
    "test_t= patients+patients1_t"
   ]
  },
  {
   "cell_type": "code",
   "execution_count": 57,
   "metadata": {},
   "outputs": [],
   "source": [
    "wo_time_col=[\"L1\", \"L2\",\"L3\",\"L4\",\"L5\",\"L6\",\"L7\",\"L8\",\"R1\",\"R2\",\"R3\",\"R4\",\"R5\",\"R6\",\"R7\",\"R8\",\"LTot\",\"RTot\"]\n",
    "for obj in test_t:\n",
    "    obj.x_scaled = pd.DataFrame(scaler.transform(obj.x),columns=wo_time_col)\n",
    "    i=i+1\n",
    "    \n",
    "X_scaled_list_test_t=[]\n",
    "Y_list_test_t=[]\n",
    "\n",
    "for obj in test_t:\n",
    "    X_scaled_list_test_t = X_scaled_list_test_t + [obj.x_scaled]\n",
    "    Y_list_test_t = Y_list_test_t + [obj.y]\n",
    "    \n",
    "X_scaled_arr_test_t = np.array(X_scaled_list_test_t)\n",
    "Y_arr_test_t = np.array(Y_list_test_t)"
   ]
  },
  {
   "cell_type": "code",
   "execution_count": 58,
   "metadata": {},
   "outputs": [],
   "source": [
    "pdt1_t=model.predict(X_scaled_arr_test_t)\n",
    "pdt1_t.size\n",
    "classes_x1_t = np.zeros((len(pdt1_t)))\n",
    "for x in range(len(pdt1_t)):\n",
    "  if(pdt1_t[x]>0.5):\n",
    "    classes_x1_t[x]=(1)\n",
    "  else:\n",
    "    classes_x1_t[x]=(0)\n",
    "#   print(x,end=\" \")\n",
    "from sklearn.metrics import accuracy_score\n",
    "accuracy_t = accuracy_score(Y_arr_test_t,classes_x1_t )"
   ]
  },
  {
   "cell_type": "code",
   "execution_count": 47,
   "metadata": {},
   "outputs": [
    {
     "data": {
      "text/plain": [
       "0.6335118961440085"
      ]
     },
     "execution_count": 47,
     "metadata": {},
     "output_type": "execute_result"
    }
   ],
   "source": [
    "accuracy_t"
   ]
  },
  {
   "cell_type": "code",
   "execution_count": 59,
   "metadata": {},
   "outputs": [
    {
     "data": {
      "text/plain": [
       "0.6047063752531248"
      ]
     },
     "execution_count": 59,
     "metadata": {},
     "output_type": "execute_result"
    }
   ],
   "source": [
    "accuracy_t"
   ]
  },
  {
   "cell_type": "code",
   "execution_count": null,
   "metadata": {},
   "outputs": [],
   "source": []
  }
 ],
 "metadata": {
  "accelerator": "GPU",
  "colab": {
   "collapsed_sections": [],
   "name": "LSTM6.ipynb",
   "provenance": []
  },
  "kernelspec": {
   "display_name": "Python 3 (ipykernel)",
   "language": "python",
   "name": "python3"
  },
  "language_info": {
   "codemirror_mode": {
    "name": "ipython",
    "version": 3
   },
   "file_extension": ".py",
   "mimetype": "text/x-python",
   "name": "python",
   "nbconvert_exporter": "python",
   "pygments_lexer": "ipython3",
   "version": "3.9.13"
  }
 },
 "nbformat": 4,
 "nbformat_minor": 4
}
