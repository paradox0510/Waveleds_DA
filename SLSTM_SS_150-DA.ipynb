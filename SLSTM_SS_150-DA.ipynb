{
 "cells": [
  {
   "cell_type": "markdown",
   "metadata": {},
   "source": [
    "# Stacked Bi-LSTM iter 2 \n",
    "Here we train for a length of 150 units\n",
    "Where the change is done in creating the list of patients \\\n",
    "Note: Here patients is list of Control subjects and patients1 is list of Parkinson patients"
   ]
  },
  {
   "cell_type": "code",
   "execution_count": null,
   "metadata": {
    "id": "oriXXy5wYuJJ"
   },
   "outputs": [],
   "source": [
    "import tensorflow as tf\n",
    "from sklearn.preprocessing import MinMaxScaler, StandardScaler\n",
    "from sklearn.preprocessing import LabelEncoder\n",
    "from sklearn.metrics import mean_squared_error\n",
    "from sklearn.model_selection import StratifiedShuffleSplit\n",
    "from tensorflow.keras.layers import Bidirectional\n",
    "from tensorflow.keras.models import Sequential\n",
    "from tensorflow.keras.layers import Dense\n",
    "from tensorflow.keras.layers import LSTM\n",
    "from tensorflow.keras.layers import Flatten\n",
    "from tensorflow.keras.callbacks import EarlyStopping, ModelCheckpoint\n",
    "from tensorflow.keras.models import load_model\n",
    "\n",
    "from tensorflow.keras import utils as np_utils\n",
    "\n",
    "from random import shuffle\n",
    "from tensorflow.python.client import device_lib\n",
    "\n",
    "import os\n",
    "import glob\n",
    "import pandas as pd\n",
    "import numpy as np\n",
    "import matplotlib.pyplot as plt\n",
    "\n",
    "# For wider plots\n",
    "plt.rcParams[\"figure.figsize\"] = (20,6)\n",
    "\n",
    "# Take my NVidia GPU into use\n",
    "os.environ[\"CUDA_DEVICE_ORDER\"]=\"PCI_BUS_ID\"\n",
    "os.environ[\"CUDA_VISIBLE_DEVICES\"]=\"0,1,2\""
   ]
  },
  {
   "cell_type": "code",
   "execution_count": 3,
   "metadata": {
    "id": "Vik1x9mkZIOm"
   },
   "outputs": [],
   "source": [
    "files1 = glob.glob(\"./parkinsons/*Co*.txt\")\n",
    "files2 = glob.glob(\"./parkinsons/*Pt*.txt\")\n",
    "# files=files1+files2\n",
    "# shuffle(files)"
   ]
  },
  {
   "cell_type": "code",
   "execution_count": 4,
   "metadata": {
    "id": "o9de6Bdr_X7C"
   },
   "outputs": [],
   "source": [
    "columns = [\"elaps_time\",\"L1\", \"L2\",\"L3\",\"L4\",\"L5\",\"L6\",\"L7\",\"L8\",\"R1\",\"R2\",\"R3\",\"R4\",\"R5\",\"R6\",\"R7\",\"R8\",\"LTot\",\"RTot\"]"
   ]
  },
  {
   "cell_type": "code",
   "execution_count": 5,
   "metadata": {
    "id": "OkThribYZbU1"
   },
   "outputs": [],
   "source": [
    "def getClassForHealthyOrNot(filename):\n",
    "    if (filename.find(\"Co\") >=0):\n",
    "        return 0\n",
    "    else:\n",
    "        return 1\n"
   ]
  },
  {
   "cell_type": "code",
   "execution_count": 6,
   "metadata": {
    "id": "7NYxPBygzo1e"
   },
   "outputs": [],
   "source": [
    "class Patient:\n",
    "    def __init__(self,input_data,y):\n",
    "        self.x = input_data\n",
    "        self.y = y\n",
    "        self.x_scaled = input_data"
   ]
  },
  {
   "cell_type": "code",
   "execution_count": 7,
   "metadata": {
    "id": "um8W0jLfzp8z"
   },
   "outputs": [],
   "source": [
    "patients=[]\n",
    "un_used_data=[]\n",
    "\n",
    "for f in files1:\n",
    "    #print(f\"{i+1}. {file}\")\n",
    "    \n",
    "    data_txt = pd.read_table(f,names=columns)\n",
    "    data_txt.drop(['elaps_time'],inplace=True,axis=1)\n",
    "    \n",
    "    \n",
    "    \n",
    "    j=0\n",
    "    ispark = getClassForHealthyOrNot(f)\n",
    "    # print(ispark)\n",
    "    while j < 12001:\n",
    "        data = data_txt.iloc[j+1:j+151,:]\n",
    "        \n",
    "        if data.shape[0] == 150:\n",
    "            patients.append( Patient(data, ispark) )\n",
    "        \n",
    "        j=j+75"
   ]
  },
  {
   "cell_type": "code",
   "execution_count": 8,
   "metadata": {
    "id": "iXp833vu_TB3"
   },
   "outputs": [],
   "source": [
    "patients1=[]\n",
    "un_used_data1=[]\n",
    "\n",
    "for f in files2:\n",
    "    #print(f\"{i+1}. {file}\")\n",
    "    \n",
    "    data_txt = pd.read_table(f,names=columns)\n",
    "    data_txt.drop(['elaps_time'],inplace=True,axis=1)\n",
    "    \n",
    "    \n",
    "    \n",
    "    j=0\n",
    "    ispark = getClassForHealthyOrNot(f)\n",
    "    # print(ispark)\n",
    "    while j < 12001:\n",
    "        data = data_txt.iloc[j+1:j+151,:]\n",
    "        \n",
    "        if data.shape[0] == 150:\n",
    "            patients1.append( Patient(data, ispark) )\n",
    "        \n",
    "        j=j+75"
   ]
  },
  {
   "cell_type": "code",
   "execution_count": 9,
   "metadata": {
    "colab": {
     "base_uri": "https://localhost:8080/"
    },
    "id": "YMO-9K-f00D2",
    "outputId": "acfcf674-107a-4e0a-a370-043ea5439305"
   },
   "outputs": [
    {
     "data": {
      "text/plain": [
       "13361"
      ]
     },
     "execution_count": 9,
     "metadata": {},
     "output_type": "execute_result"
    }
   ],
   "source": [
    "len(patients)"
   ]
  },
  {
   "cell_type": "code",
   "execution_count": 10,
   "metadata": {
    "colab": {
     "base_uri": "https://localhost:8080/"
    },
    "id": "IPaH2QfKAOfm",
    "outputId": "a463f0a9-3058-45c8-aa0b-d079db5e5f72"
   },
   "outputs": [
    {
     "data": {
      "text/plain": [
       "29664"
      ]
     },
     "execution_count": 10,
     "metadata": {},
     "output_type": "execute_result"
    }
   ],
   "source": [
    "len(patients1)\n"
   ]
  },
  {
   "cell_type": "code",
   "execution_count": 11,
   "metadata": {
    "id": "9ZYcPnYP1Lkc"
   },
   "outputs": [],
   "source": [
    "shuffle(patients)\n",
    "shuffle(patients1)"
   ]
  },
  {
   "cell_type": "code",
   "execution_count": 12,
   "metadata": {
    "id": "-mAihBLj1QYz"
   },
   "outputs": [],
   "source": [
    "train = patients[:int(len(patients)*0.8)]+patients1[:int(len(patients1)*0.8)]\n",
    "test = patients[int(len(patients)*0.8):]+patients1[int(len(patients1)*0.8):]"
   ]
  },
  {
   "cell_type": "code",
   "execution_count": 13,
   "metadata": {
    "colab": {
     "base_uri": "https://localhost:8080/"
    },
    "id": "OLKpXuqkA0to",
    "outputId": "c79e8660-546b-4ff9-f299-adc95f17f675"
   },
   "outputs": [
    {
     "name": "stdout",
     "output_type": "stream",
     "text": [
      "34419\n",
      "8606\n"
     ]
    }
   ],
   "source": [
    "print(len(train))\n",
    "print(len(test))"
   ]
  },
  {
   "cell_type": "code",
   "execution_count": 14,
   "metadata": {
    "id": "cUKw51iuA3-7"
   },
   "outputs": [],
   "source": [
    "shuffle(train)\n",
    "shuffle(test)"
   ]
  },
  {
   "cell_type": "code",
   "execution_count": 15,
   "metadata": {
    "id": "_Uy2WCDO11YA"
   },
   "outputs": [],
   "source": [
    "train_concat=[]\n",
    "for p in train:\n",
    "    train_concat = train_concat+[p.x]"
   ]
  },
  {
   "cell_type": "code",
   "execution_count": 16,
   "metadata": {
    "id": "CZTBAgwu2GJ4"
   },
   "outputs": [],
   "source": [
    "data_tr = pd.concat(train_concat,ignore_index=True)"
   ]
  },
  {
   "cell_type": "code",
   "execution_count": 17,
   "metadata": {
    "colab": {
     "base_uri": "https://localhost:8080/"
    },
    "id": "Xu_PsImH2ORu",
    "outputId": "d81790ce-1e80-43ef-b20f-8ff466aa74c7"
   },
   "outputs": [
    {
     "data": {
      "text/plain": [
       "array([[-0.45587084, -0.56198919, -0.52845803, ..., -0.76409095,\n",
       "         1.34887398, -1.11487277],\n",
       "       [-0.45587084, -0.56198919, -0.55169045, ..., -0.76409095,\n",
       "         1.37743382, -1.11487277],\n",
       "       [-0.45587084, -0.57725889, -0.55169045, ..., -0.76409095,\n",
       "         1.38341779, -1.10805243],\n",
       "       ...,\n",
       "       [-0.64958142, -0.67523947, -0.64607215, ...,  0.45792515,\n",
       "        -1.12468041,  0.71707044],\n",
       "       [-0.64958142, -0.67523947, -0.64607215, ...,  0.51732871,\n",
       "        -1.11760845,  0.74080522],\n",
       "       [-0.64958142, -0.67523947, -0.64607215, ...,  0.66583761,\n",
       "        -1.11760845,  0.79918733]])"
      ]
     },
     "execution_count": 17,
     "metadata": {},
     "output_type": "execute_result"
    }
   ],
   "source": [
    "scaler = StandardScaler()\n",
    "scaler.fit_transform(data_tr)"
   ]
  },
  {
   "cell_type": "code",
   "execution_count": 18,
   "metadata": {
    "id": "lU7nVIWF2RVq"
   },
   "outputs": [],
   "source": [
    "i=0\n",
    "wo_time_col=[\"L1\", \"L2\",\"L3\",\"L4\",\"L5\",\"L6\",\"L7\",\"L8\",\"R1\",\"R2\",\"R3\",\"R4\",\"R5\",\"R6\",\"R7\",\"R8\",\"LTot\",\"RTot\"]\n",
    "for obj in train:\n",
    "    obj.x_scaled = pd.DataFrame(scaler.transform(obj.x),columns=wo_time_col)\n",
    "    i=i+1"
   ]
  },
  {
   "cell_type": "code",
   "execution_count": 19,
   "metadata": {
    "id": "4UARoisP3xih"
   },
   "outputs": [],
   "source": [
    "for obj in test:\n",
    "    obj.x_scaled = pd.DataFrame(scaler.transform(obj.x),columns=wo_time_col)\n",
    "    i=i+1"
   ]
  },
  {
   "cell_type": "code",
   "execution_count": 20,
   "metadata": {
    "id": "97vpZxO86VMi"
   },
   "outputs": [],
   "source": [
    "X_scaled_list_train=[]\n",
    "Y_list_train=[]\n",
    "\n",
    "for obj in train:\n",
    "    X_scaled_list_train = X_scaled_list_train + [obj.x_scaled]\n",
    "    Y_list_train = Y_list_train + [obj.y]\n",
    "    \n",
    "X_scaled_arr_train = np.array(X_scaled_list_train)\n",
    "Y_arr_train = np.array(Y_list_train)"
   ]
  },
  {
   "cell_type": "code",
   "execution_count": 21,
   "metadata": {
    "colab": {
     "base_uri": "https://localhost:8080/"
    },
    "id": "A_SvxxOK72ry",
    "outputId": "890b1bac-4f71-4326-bd98-3bb2ff126373"
   },
   "outputs": [
    {
     "data": {
      "text/plain": [
       "(34419, 150, 18)"
      ]
     },
     "execution_count": 21,
     "metadata": {},
     "output_type": "execute_result"
    }
   ],
   "source": [
    "X_scaled_arr_train.shape"
   ]
  },
  {
   "cell_type": "code",
   "execution_count": 22,
   "metadata": {},
   "outputs": [
    {
     "data": {
      "text/plain": [
       "(34419,)"
      ]
     },
     "execution_count": 22,
     "metadata": {},
     "output_type": "execute_result"
    }
   ],
   "source": [
    "Y_arr_train.shape"
   ]
  },
  {
   "cell_type": "code",
   "execution_count": 23,
   "metadata": {
    "id": "86VG8YJ36-uj"
   },
   "outputs": [],
   "source": [
    "X_scaled_list_test=[]\n",
    "Y_list_test=[]\n",
    "\n",
    "for obj in test:\n",
    "    X_scaled_list_test = X_scaled_list_test + [obj.x_scaled]\n",
    "    Y_list_test = Y_list_test + [obj.y]\n",
    "    \n",
    "X_scaled_arr_test = np.array(X_scaled_list_test)\n",
    "Y_arr_test = np.array(Y_list_test)"
   ]
  },
  {
   "cell_type": "code",
   "execution_count": 25,
   "metadata": {},
   "outputs": [],
   "source": [
    "import numpy as np"
   ]
  },
  {
   "cell_type": "code",
   "execution_count": null,
   "metadata": {
    "id": "ndlZHZnL7fkW"
   },
   "outputs": [],
   "source": [
    "model = Sequential()\n",
    "model.add(Bidirectional(LSTM(80, dropout=0.3, \n",
    "                  return_sequences=True, \n",
    "                  input_shape=(X_scaled_arr_train.shape[1], X_scaled_arr_train.shape[2]))))\n",
    "model.add(Bidirectional(LSTM(32, dropout=0.5,return_sequences=True)))\n",
    "model.add(LSTM(24, dropout=0.2,return_sequences=True))\n",
    "model.add(LSTM(12, dropout=0.2,return_sequences=False))\n",
    "model.add(Dense(1, kernel_initializer='glorot_uniform', activation='relu'))\n",
    "opt=tf.keras.optimizers.Adam(\n",
    "    learning_rate=0.00005,\n",
    "    name=\"Adam\"\n",
    "    )\n",
    "model.compile(loss='binary_crossentropy', optimizer=opt, metrics=['accuracy'])\n",
    "\n",
    "early_stopping = EarlyStopping(monitor='val_accuracy', patience=20, verbose=1, mode='auto')\n",
    "checkpoint = ModelCheckpoint(\"./Model/model_LSTM22.v\", \n",
    "                             monitor='val_accuracy', verbose=1, save_best_only=True, \n",
    "                             save_weights_only=False)"
   ]
  },
  {
   "cell_type": "code",
   "execution_count": null,
   "metadata": {
    "colab": {
     "base_uri": "https://localhost:8080/"
    },
    "id": "-RL4C-el7TIg",
    "outputId": "296f68f6-5765-41e9-8016-80554d7f072e",
    "scrolled": true,
    "tags": []
   },
   "outputs": [],
   "source": [
    "history = model.fit(X_scaled_arr_train,Y_arr_train,epochs=500,validation_split=0.2,batch_size=20,shuffle=True,callbacks=[early_stopping, checkpoint])"
   ]
  },
  {
   "cell_type": "code",
   "execution_count": 28,
   "metadata": {
    "colab": {
     "base_uri": "https://localhost:8080/",
     "height": 388
    },
    "id": "Frr6gxt27TTb",
    "outputId": "b1d097e6-a867-42bc-b6e9-077e00d04a88"
   },
   "outputs": [
    {
     "data": {
      "image/png": "[encoded data removed]",
      "text/plain": [
       "<Figure size 2000x600 with 1 Axes>"
      ]
     },
     "metadata": {},
     "output_type": "display_data"
    }
   ],
   "source": [
    "plt.plot(history.history['loss'], label='Parkinson(training data)')\n",
    "plt.plot(history.history['val_loss'], label='Parkinson (validation data)')\n",
    "plt.title('')\n",
    "plt.ylabel('')\n",
    "plt.xlabel('No. epoch')\n",
    "plt.legend(loc=\"upper left\")\n",
    "plt.show()"
   ]
  },
  {
   "cell_type": "code",
   "execution_count": 29,
   "metadata": {
    "colab": {
     "base_uri": "https://localhost:8080/",
     "height": 388
    },
    "id": "VTSPNZGn7TV_",
    "outputId": "8e793964-b99e-4281-f9af-67038d4a6d77"
   },
   "outputs": [
    {
     "data": {
      "image/png": "[encoded data removed]",
      "text/plain": [
       "<Figure size 2000x600 with 1 Axes>"
      ]
     },
     "metadata": {},
     "output_type": "display_data"
    }
   ],
   "source": [
    "plt.plot(history.history['accuracy'], label='Parkinson(training data)')\n",
    "plt.plot(history.history['val_accuracy'], label='Parkinson (validation data)')\n",
    "plt.title('')\n",
    "plt.ylabel('')\n",
    "plt.ylim(0,1)\n",
    "plt.xlabel('No. epoch')\n",
    "plt.legend(loc=\"upper left\")\n",
    "plt.show()"
   ]
  },
  {
   "cell_type": "code",
   "execution_count": 30,
   "metadata": {},
   "outputs": [
    {
     "data": {
      "image/png": "[encoded data removed]",
      "text/plain": [
       "<Figure size 2000x600 with 1 Axes>"
      ]
     },
     "metadata": {},
     "output_type": "display_data"
    }
   ],
   "source": [
    "plt.plot(history.history['loss'], label='Parkinson(training data)')\n",
    "plt.plot(history.history['val_loss'], label='Parkinson (validation data)')\n",
    "plt.title('')\n",
    "plt.ylabel('')\n",
    "plt.xlabel('No. epoch')\n",
    "plt.legend(loc=\"upper left\")\n",
    "plt.show()"
   ]
  },
  {
   "cell_type": "code",
   "execution_count": 31,
   "metadata": {
    "colab": {
     "base_uri": "https://localhost:8080/"
    },
    "id": "M76Hdmll7TYc",
    "outputId": "d21cbf61-6c05-404e-e81c-d2882e756868"
   },
   "outputs": [
    {
     "data": {
      "text/plain": [
       "0.9927367568016052"
      ]
     },
     "execution_count": 31,
     "metadata": {},
     "output_type": "execute_result"
    }
   ],
   "source": [
    "max(history.history['val_accuracy'])"
   ]
  },
  {
   "cell_type": "code",
   "execution_count": 32,
   "metadata": {
    "colab": {
     "base_uri": "https://localhost:8080/"
    },
    "id": "QL6v-5bX7TbC",
    "outputId": "b2b3a4fd-836b-4739-bd5c-c3e31b786f2f"
   },
   "outputs": [
    {
     "data": {
      "text/plain": [
       "0.9926638603210449"
      ]
     },
     "execution_count": 32,
     "metadata": {},
     "output_type": "execute_result"
    }
   ],
   "source": [
    "max(history.history['accuracy'])"
   ]
  },
  {
   "cell_type": "code",
   "execution_count": 33,
   "metadata": {
    "colab": {
     "base_uri": "https://localhost:8080/"
    },
    "id": "fOR25Y8z7Tds",
    "outputId": "fefdd1c7-45d5-415b-e017-7009ac7424f8"
   },
   "outputs": [
    {
     "data": {
      "text/plain": [
       "0.02122127264738083"
      ]
     },
     "execution_count": 33,
     "metadata": {},
     "output_type": "execute_result"
    }
   ],
   "source": [
    "min(history.history['loss'])"
   ]
  },
  {
   "cell_type": "code",
   "execution_count": 34,
   "metadata": {
    "colab": {
     "base_uri": "https://localhost:8080/"
    },
    "id": "Vb0wN8On7TgY",
    "outputId": "cac92228-4ec0-41b2-9842-e15fbbcd7f70"
   },
   "outputs": [
    {
     "data": {
      "text/plain": [
       "0.02986801415681839"
      ]
     },
     "execution_count": 34,
     "metadata": {},
     "output_type": "execute_result"
    }
   ],
   "source": [
    "min(history.history['val_loss'])"
   ]
  },
  {
   "cell_type": "code",
   "execution_count": 35,
   "metadata": {
    "id": "aCwc2CyLO0y8"
   },
   "outputs": [],
   "source": [
    "pdt=model.predict(X_scaled_arr_test)"
   ]
  },
  {
   "cell_type": "code",
   "execution_count": 36,
   "metadata": {},
   "outputs": [],
   "source": [
    "pdt1=model.predict(X_scaled_arr_test)\n",
    "pdt1.size\n",
    "classes_x1 = np.zeros((len(pdt1)))\n",
    "for x in range(len(pdt1)):\n",
    "  if(pdt1[x]>0.5):\n",
    "    classes_x1[x]=(1)\n",
    "  else:\n",
    "    classes_x1[x]=(0)\n",
    "#   print(x,end=\" \")\n",
    "from sklearn.metrics import accuracy_score\n",
    "accuracy = accuracy_score(Y_arr_test,classes_x1 )"
   ]
  },
  {
   "cell_type": "code",
   "execution_count": 41,
   "metadata": {},
   "outputs": [],
   "source": [
    "pdt1=model.predict(X_scaled_arr_test)\n",
    "pdt1.size\n",
    "classes_x1 = np.zeros((len(pdt1)))\n",
    "for x in range(len(pdt1)):\n",
    "  if(pdt1[x]>0.5):\n",
    "    classes_x1[x]=(1)\n",
    "  else:\n",
    "    classes_x1[x]=(0)\n",
    "#   print(x,end=\" \")\n",
    "from sklearn.metrics import accuracy_score\n",
    "accuracy = accuracy_score(Y_arr_test,classes_x1 )"
   ]
  },
  {
   "cell_type": "code",
   "execution_count": 38,
   "metadata": {},
   "outputs": [
    {
     "data": {
      "text/plain": [
       "0.9908203578898443"
      ]
     },
     "execution_count": 38,
     "metadata": {},
     "output_type": "execute_result"
    }
   ],
   "source": [
    "accuracy"
   ]
  },
  {
   "cell_type": "code",
   "execution_count": 42,
   "metadata": {},
   "outputs": [
    {
     "data": {
      "text/plain": [
       "0.9909365558912386"
      ]
     },
     "execution_count": 42,
     "metadata": {},
     "output_type": "execute_result"
    }
   ],
   "source": [
    "accuracy"
   ]
  },
  {
   "cell_type": "code",
   "execution_count": null,
   "metadata": {
    "id": "3cGw_7AWSGaN"
   },
   "outputs": [],
   "source": [
    "# classes_x=np.argmax(pdt,axis=1) \n",
    "pdt.size\n",
    "classes_x = np.zeros((len(pdt)))"
   ]
  },
  {
   "cell_type": "code",
   "execution_count": null,
   "metadata": {
    "colab": {
     "base_uri": "https://localhost:8080/"
    },
    "id": "Zci59mkmSNRb",
    "outputId": "8146b8d4-a8be-483f-f6fa-526a776ad004"
   },
   "outputs": [],
   "source": [
    "for x in range(len(pdt)):\n",
    "  if(pdt[x]>0.5):\n",
    "    classes_x[x]=(1)\n",
    "  else:\n",
    "    classes_x[x]=(0)\n",
    "#   print(x,end=\" \")"
   ]
  },
  {
   "cell_type": "code",
   "execution_count": null,
   "metadata": {
    "colab": {
     "base_uri": "https://localhost:8080/"
    },
    "id": "xwBu-VE2Rux9",
    "outputId": "65428834-2de5-45c9-e553-533f408c9587"
   },
   "outputs": [],
   "source": [
    "print(Y_arr_test.size)\n",
    "classes_x.size"
   ]
  },
  {
   "cell_type": "code",
   "execution_count": null,
   "metadata": {
    "id": "5gvyYnFGR38l"
   },
   "outputs": [],
   "source": [
    "from sklearn.metrics import accuracy_score\n",
    "accuracy = accuracy_score(Y_arr_test,classes_x )"
   ]
  },
  {
   "cell_type": "code",
   "execution_count": null,
   "metadata": {
    "colab": {
     "base_uri": "https://localhost:8080/"
    },
    "id": "8CbXku00SW1b",
    "outputId": "3aeaa6a6-34c5-40ab-ca8f-652abf0ce86b"
   },
   "outputs": [],
   "source": [
    "accuracy"
   ]
  },
  {
   "cell_type": "code",
   "execution_count": null,
   "metadata": {
    "id": "UTT8ifCs8bzO"
   },
   "outputs": [],
   "source": [
    "m1=tf.keras.models.load_model('./Model/model_LSTM22.v')"
   ]
  },
  {
   "cell_type": "code",
   "execution_count": null,
   "metadata": {
    "id": "38wOchuGFTaZ"
   },
   "outputs": [],
   "source": [
    "pdt=m1.predict(X_scaled_arr_test)"
   ]
  },
  {
   "cell_type": "code",
   "execution_count": null,
   "metadata": {
    "colab": {
     "base_uri": "https://localhost:8080/"
    },
    "id": "w5jQpqrzFa4-",
    "outputId": "170010a6-9c0c-432b-9216-042d02d3e22c"
   },
   "outputs": [],
   "source": [
    "for x in range(len(pdt)):\n",
    "  if(pdt[x]>0.5):\n",
    "    classes_x[x]=(1)\n",
    "  else:\n",
    "    classes_x[x]=(0)\n",
    "#   print(x,end=\" \")"
   ]
  },
  {
   "cell_type": "code",
   "execution_count": null,
   "metadata": {
    "id": "PI4VCSiFF1Ex"
   },
   "outputs": [],
   "source": [
    "from sklearn.metrics import accuracy_score\n",
    "accuracy = accuracy_score(Y_arr_test,classes_x )"
   ]
  },
  {
   "cell_type": "code",
   "execution_count": null,
   "metadata": {
    "colab": {
     "base_uri": "https://localhost:8080/"
    },
    "id": "lbqvBBdnF32M",
    "outputId": "43f546db-159a-4c70-cdce-8cf54068cc2e"
   },
   "outputs": [],
   "source": [
    "accuracy"
   ]
  },
  {
   "cell_type": "code",
   "execution_count": 43,
   "metadata": {},
   "outputs": [
    {
     "name": "stdout",
     "output_type": "stream",
     "text": [
      "Epoch 1/500\n",
      "2066/2066 [==============================] - 158s 76ms/step - loss: 0.0228 - accuracy: 0.9939 - val_loss: 0.0335 - val_accuracy: 0.9934\n",
      "\n",
      "Epoch 00001: val_accuracy did not improve from 0.99484\n",
      "Epoch 2/500\n",
      "2066/2066 [==============================] - 158s 77ms/step - loss: 0.2527 - accuracy: 0.9653 - val_loss: 0.0616 - val_accuracy: 0.9863\n",
      "\n",
      "Epoch 00002: val_accuracy did not improve from 0.99484\n",
      "Epoch 3/500\n",
      "2066/2066 [==============================] - 157s 76ms/step - loss: 0.1276 - accuracy: 0.9810 - val_loss: 0.1679 - val_accuracy: 0.9773\n",
      "\n",
      "Epoch 00003: val_accuracy did not improve from 0.99484\n",
      "Epoch 4/500\n",
      "2066/2066 [==============================] - 158s 76ms/step - loss: 0.0993 - accuracy: 0.9845 - val_loss: 0.0755 - val_accuracy: 0.9869\n",
      "\n",
      "Epoch 00004: val_accuracy did not improve from 0.99484\n",
      "Epoch 5/500\n",
      "2066/2066 [==============================] - 158s 77ms/step - loss: 0.0466 - accuracy: 0.9902 - val_loss: 0.0414 - val_accuracy: 0.9906\n",
      "\n",
      "Epoch 00005: val_accuracy did not improve from 0.99484\n",
      "Epoch 6/500\n",
      "2066/2066 [==============================] - 157s 76ms/step - loss: 0.0246 - accuracy: 0.9931 - val_loss: 0.0297 - val_accuracy: 0.9927\n",
      "\n",
      "Epoch 00006: val_accuracy did not improve from 0.99484\n",
      "Epoch 7/500\n",
      "2066/2066 [==============================] - 158s 77ms/step - loss: 0.0206 - accuracy: 0.9933 - val_loss: 0.0263 - val_accuracy: 0.9919\n",
      "\n",
      "Epoch 00007: val_accuracy did not improve from 0.99484\n",
      "Epoch 8/500\n",
      "2066/2066 [==============================] - 159s 77ms/step - loss: 0.0187 - accuracy: 0.9948 - val_loss: 0.0490 - val_accuracy: 0.9915\n",
      "\n",
      "Epoch 00008: val_accuracy did not improve from 0.99484\n",
      "Epoch 9/500\n",
      "2066/2066 [==============================] - 157s 76ms/step - loss: 0.0552 - accuracy: 0.9860 - val_loss: 0.0337 - val_accuracy: 0.9916\n",
      "\n",
      "Epoch 00009: val_accuracy did not improve from 0.99484\n",
      "Epoch 10/500\n",
      "2066/2066 [==============================] - 157s 76ms/step - loss: 0.0214 - accuracy: 0.9948 - val_loss: 0.0282 - val_accuracy: 0.9923\n",
      "\n",
      "Epoch 00010: val_accuracy did not improve from 0.99484\n",
      "Epoch 11/500\n",
      "2066/2066 [==============================] - 158s 76ms/step - loss: 0.0257 - accuracy: 0.9929 - val_loss: 0.0473 - val_accuracy: 0.9900\n",
      "\n",
      "Epoch 00011: val_accuracy did not improve from 0.99484\n",
      "Epoch 12/500\n",
      "2066/2066 [==============================] - 158s 76ms/step - loss: 0.0228 - accuracy: 0.9937 - val_loss: 0.0386 - val_accuracy: 0.9914\n",
      "\n",
      "Epoch 00012: val_accuracy did not improve from 0.99484\n",
      "Epoch 13/500\n",
      "2066/2066 [==============================] - 156s 75ms/step - loss: 0.0296 - accuracy: 0.9932 - val_loss: 0.0392 - val_accuracy: 0.9918\n",
      "\n",
      "Epoch 00013: val_accuracy did not improve from 0.99484\n",
      "Epoch 14/500\n",
      "2066/2066 [==============================] - 156s 75ms/step - loss: 0.0266 - accuracy: 0.9929 - val_loss: 0.0303 - val_accuracy: 0.9925\n",
      "\n",
      "Epoch 00014: val_accuracy did not improve from 0.99484\n",
      "Epoch 15/500\n",
      "2066/2066 [==============================] - 155s 75ms/step - loss: 0.1080 - accuracy: 0.9851 - val_loss: 0.4336 - val_accuracy: 0.9563\n",
      "\n",
      "Epoch 00015: val_accuracy did not improve from 0.99484\n",
      "Epoch 16/500\n",
      "2066/2066 [==============================] - 155s 75ms/step - loss: 0.1688 - accuracy: 0.9777 - val_loss: 0.2819 - val_accuracy: 0.9596\n",
      "\n",
      "Epoch 00016: val_accuracy did not improve from 0.99484\n",
      "Epoch 17/500\n",
      "2066/2066 [==============================] - 155s 75ms/step - loss: 0.1069 - accuracy: 0.9786 - val_loss: 0.0494 - val_accuracy: 0.9877\n",
      "\n",
      "Epoch 00017: val_accuracy did not improve from 0.99484\n",
      "Epoch 18/500\n",
      "2066/2066 [==============================] - 157s 76ms/step - loss: 0.0311 - accuracy: 0.9922 - val_loss: 0.0403 - val_accuracy: 0.9903\n",
      "\n",
      "Epoch 00018: val_accuracy did not improve from 0.99484\n",
      "Epoch 19/500\n",
      "2066/2066 [==============================] - 152s 74ms/step - loss: 0.0235 - accuracy: 0.9939 - val_loss: 0.0417 - val_accuracy: 0.9916\n",
      "\n",
      "Epoch 00019: val_accuracy did not improve from 0.99484\n",
      "Epoch 20/500\n",
      "2066/2066 [==============================] - 153s 74ms/step - loss: 0.0181 - accuracy: 0.9947 - val_loss: 0.0450 - val_accuracy: 0.9913\n",
      "\n",
      "Epoch 00020: val_accuracy did not improve from 0.99484\n",
      "Epoch 21/500\n",
      "2066/2066 [==============================] - 154s 75ms/step - loss: 0.0188 - accuracy: 0.9946 - val_loss: 0.0384 - val_accuracy: 0.9916\n",
      "\n",
      "Epoch 00021: val_accuracy did not improve from 0.99484\n",
      "Epoch 00021: early stopping\n"
     ]
    }
   ],
   "source": [
    "history = model.fit(X_scaled_arr_train,Y_arr_train,epochs=500,validation_split=0.4,batch_size=10,shuffle=True,callbacks=[early_stopping, checkpoint])"
   ]
  },
  {
   "cell_type": "code",
   "execution_count": 40,
   "metadata": {
    "scrolled": true,
    "tags": []
   },
   "outputs": [
    {
     "name": "stdout",
     "output_type": "stream",
     "text": [
      "Epoch 1/500\n",
      "2066/2066 [==============================] - 156s 76ms/step - loss: 0.0366 - accuracy: 0.9896 - val_loss: 0.0276 - val_accuracy: 0.9920\n",
      "\n",
      "Epoch 00001: val_accuracy did not improve from 0.99484\n",
      "Epoch 2/500\n",
      "2066/2066 [==============================] - 158s 76ms/step - loss: 0.0359 - accuracy: 0.9908 - val_loss: 0.0360 - val_accuracy: 0.9916\n",
      "\n",
      "Epoch 00002: val_accuracy did not improve from 0.99484\n",
      "Epoch 3/500\n",
      "2066/2066 [==============================] - 157s 76ms/step - loss: 0.0285 - accuracy: 0.9900 - val_loss: 0.0279 - val_accuracy: 0.9924\n",
      "\n",
      "Epoch 00003: val_accuracy did not improve from 0.99484\n",
      "Epoch 4/500\n",
      "2066/2066 [==============================] - 157s 76ms/step - loss: 0.0412 - accuracy: 0.9905 - val_loss: 0.0291 - val_accuracy: 0.9931\n",
      "\n",
      "Epoch 00004: val_accuracy did not improve from 0.99484\n",
      "Epoch 5/500\n",
      "2066/2066 [==============================] - 158s 77ms/step - loss: 0.0239 - accuracy: 0.9923 - val_loss: 0.0330 - val_accuracy: 0.9919\n",
      "\n",
      "Epoch 00005: val_accuracy did not improve from 0.99484\n",
      "Epoch 6/500\n",
      "2066/2066 [==============================] - 159s 77ms/step - loss: 0.0245 - accuracy: 0.9927 - val_loss: 0.0350 - val_accuracy: 0.9915\n",
      "\n",
      "Epoch 00006: val_accuracy did not improve from 0.99484\n",
      "Epoch 7/500\n",
      "2066/2066 [==============================] - 159s 77ms/step - loss: 0.0211 - accuracy: 0.9932 - val_loss: 0.0207 - val_accuracy: 0.9942\n",
      "\n",
      "Epoch 00007: val_accuracy did not improve from 0.99484\n",
      "Epoch 8/500\n",
      "2066/2066 [==============================] - 158s 76ms/step - loss: 0.0404 - accuracy: 0.9906 - val_loss: 0.0255 - val_accuracy: 0.9935\n",
      "\n",
      "Epoch 00008: val_accuracy did not improve from 0.99484\n",
      "Epoch 9/500\n",
      "2066/2066 [==============================] - 157s 76ms/step - loss: 0.0363 - accuracy: 0.9917 - val_loss: 0.0329 - val_accuracy: 0.9916\n",
      "\n",
      "Epoch 00009: val_accuracy did not improve from 0.99484\n",
      "Epoch 10/500\n",
      "2066/2066 [==============================] - 155s 75ms/step - loss: 0.0265 - accuracy: 0.9927 - val_loss: 0.0469 - val_accuracy: 0.9887\n",
      "\n",
      "Epoch 00010: val_accuracy did not improve from 0.99484\n",
      "Epoch 11/500\n",
      "2066/2066 [==============================] - 156s 75ms/step - loss: 0.0294 - accuracy: 0.9916 - val_loss: 0.1088 - val_accuracy: 0.9808\n",
      "\n",
      "Epoch 00011: val_accuracy did not improve from 0.99484\n",
      "Epoch 12/500\n",
      "2066/2066 [==============================] - 156s 75ms/step - loss: 0.0253 - accuracy: 0.9931 - val_loss: 0.0289 - val_accuracy: 0.9930\n",
      "\n",
      "Epoch 00012: val_accuracy did not improve from 0.99484\n",
      "Epoch 13/500\n",
      "2066/2066 [==============================] - 155s 75ms/step - loss: 0.0218 - accuracy: 0.9938 - val_loss: 0.0270 - val_accuracy: 0.9927\n",
      "\n",
      "Epoch 00013: val_accuracy did not improve from 0.99484\n",
      "Epoch 14/500\n",
      "2066/2066 [==============================] - 156s 76ms/step - loss: 0.0326 - accuracy: 0.9921 - val_loss: 0.0348 - val_accuracy: 0.9911\n",
      "\n",
      "Epoch 00014: val_accuracy did not improve from 0.99484\n",
      "Epoch 15/500\n",
      "2066/2066 [==============================] - 157s 76ms/step - loss: 0.0230 - accuracy: 0.9935 - val_loss: 0.0315 - val_accuracy: 0.9921\n",
      "\n",
      "Epoch 00015: val_accuracy did not improve from 0.99484\n",
      "Epoch 16/500\n",
      "2066/2066 [==============================] - 153s 74ms/step - loss: 0.0182 - accuracy: 0.9942 - val_loss: 0.0358 - val_accuracy: 0.9918\n",
      "\n",
      "Epoch 00016: val_accuracy did not improve from 0.99484\n",
      "Epoch 17/500\n",
      "2066/2066 [==============================] - 155s 75ms/step - loss: 0.0289 - accuracy: 0.9935 - val_loss: 0.0318 - val_accuracy: 0.9932\n",
      "\n",
      "Epoch 00017: val_accuracy did not improve from 0.99484\n",
      "Epoch 18/500\n",
      "2066/2066 [==============================] - 153s 74ms/step - loss: 0.0275 - accuracy: 0.9924 - val_loss: 0.0267 - val_accuracy: 0.9928\n",
      "\n",
      "Epoch 00018: val_accuracy did not improve from 0.99484\n",
      "Epoch 19/500\n",
      "2066/2066 [==============================] - 152s 74ms/step - loss: 0.2695 - accuracy: 0.9637 - val_loss: 0.0811 - val_accuracy: 0.9840\n",
      "\n",
      "Epoch 00019: val_accuracy did not improve from 0.99484\n",
      "Epoch 20/500\n",
      "2066/2066 [==============================] - 151s 73ms/step - loss: 0.1284 - accuracy: 0.9664 - val_loss: 0.1284 - val_accuracy: 0.9646\n",
      "\n",
      "Epoch 00020: val_accuracy did not improve from 0.99484\n",
      "Epoch 21/500\n",
      "2066/2066 [==============================] - 152s 73ms/step - loss: 0.1090 - accuracy: 0.9672 - val_loss: 0.0752 - val_accuracy: 0.9794\n",
      "\n",
      "Epoch 00021: val_accuracy did not improve from 0.99484\n",
      "Epoch 22/500\n",
      "2066/2066 [==============================] - 153s 74ms/step - loss: 0.0638 - accuracy: 0.9786 - val_loss: 0.0471 - val_accuracy: 0.9847\n",
      "\n",
      "Epoch 00022: val_accuracy did not improve from 0.99484\n",
      "Epoch 23/500\n",
      "2066/2066 [==============================] - 153s 74ms/step - loss: 0.0467 - accuracy: 0.9841 - val_loss: 0.0377 - val_accuracy: 0.9878\n",
      "\n",
      "Epoch 00023: val_accuracy did not improve from 0.99484\n",
      "Epoch 24/500\n",
      "2066/2066 [==============================] - 153s 74ms/step - loss: 0.0287 - accuracy: 0.9904 - val_loss: 0.0243 - val_accuracy: 0.9915\n",
      "\n",
      "Epoch 00024: val_accuracy did not improve from 0.99484\n",
      "Epoch 25/500\n",
      "2066/2066 [==============================] - 152s 74ms/step - loss: 0.0198 - accuracy: 0.9939 - val_loss: 0.0262 - val_accuracy: 0.9927\n",
      "\n",
      "Epoch 00025: val_accuracy did not improve from 0.99484\n",
      "Epoch 26/500\n",
      "2066/2066 [==============================] - 154s 75ms/step - loss: 0.0398 - accuracy: 0.9909 - val_loss: 0.0296 - val_accuracy: 0.9922\n",
      "\n",
      "Epoch 00026: val_accuracy did not improve from 0.99484\n",
      "Epoch 27/500\n",
      "2066/2066 [==============================] - 155s 75ms/step - loss: 0.0271 - accuracy: 0.9931 - val_loss: 0.0230 - val_accuracy: 0.9934\n",
      "\n",
      "Epoch 00027: val_accuracy did not improve from 0.99484\n",
      "Epoch 00027: early stopping\n"
     ]
    }
   ],
   "source": [
    "history = model.fit(X_scaled_arr_train,Y_arr_train,epochs=500,validation_split=0.4,batch_size=10,shuffle=True,callbacks=[early_stopping, checkpoint])"
   ]
  },
  {
   "cell_type": "code",
   "execution_count": 45,
   "metadata": {},
   "outputs": [],
   "source": [
    "model1 = Sequential()\n",
    "model1.add(Bidirectional(LSTM(80, dropout=0.3, \n",
    "                  return_sequences=True, \n",
    "                  input_shape=(X_scaled_arr_train.shape[1], X_scaled_arr_train.shape[2]))))\n",
    "model1.add(Bidirectional(LSTM(32, dropout=0.5,return_sequences=True)))\n",
    "model1.add(LSTM(24, dropout=0.2,return_sequences=True))\n",
    "model1.add(LSTM(12, dropout=0.2,return_sequences=False))\n",
    "model1.add(Dense(1, kernel_initializer='glorot_uniform', activation='relu'))\n",
    "opt=tf.keras.optimizers.Adam(\n",
    "    learning_rate=0.00005,\n",
    "    name=\"Adam\"\n",
    "    )\n",
    "model1.compile(loss='binary_crossentropy', optimizer=opt, metrics=['accuracy'])\n",
    "\n",
    "early_stopping = EarlyStopping(monitor='val_accuracy', patience=20, verbose=1, mode='auto')\n",
    "checkpoint = ModelCheckpoint(\"./Model/model_LSTM_150.v\", \n",
    "                             monitor='val_accuracy', verbose=1, save_best_only=True, \n",
    "                             save_weights_only=False)"
   ]
  },
  {
   "cell_type": "code",
   "execution_count": 46,
   "metadata": {},
   "outputs": [
    {
     "name": "stdout",
     "output_type": "stream",
     "text": [
      "Epoch 1/500\n",
      "1240/1240 [==============================] - 88s 65ms/step - loss: 1.3158 - accuracy: 0.4436 - val_loss: 0.6140 - val_accuracy: 0.6897\n",
      "\n",
      "Epoch 00001: val_accuracy improved from -inf to 0.68972, saving model to ./Model/model_LSTM_150.v\n"
     ]
    },
    {
     "name": "stderr",
     "output_type": "stream",
     "text": [
      "WARNING:absl:Found untraced functions such as lstm_cell_17_layer_call_fn, lstm_cell_17_layer_call_and_return_conditional_losses, lstm_cell_18_layer_call_fn, lstm_cell_18_layer_call_and_return_conditional_losses, lstm_cell_12_layer_call_fn while saving (showing 5 of 30). These functions will not be directly callable after loading.\n",
      "WARNING:absl:Found untraced functions such as lstm_cell_17_layer_call_fn, lstm_cell_17_layer_call_and_return_conditional_losses, lstm_cell_18_layer_call_fn, lstm_cell_18_layer_call_and_return_conditional_losses, lstm_cell_12_layer_call_fn while saving (showing 5 of 30). These functions will not be directly callable after loading.\n"
     ]
    },
    {
     "name": "stdout",
     "output_type": "stream",
     "text": [
      "INFO:tensorflow:Assets written to: ./Model/model_LSTM_150.v/assets\n"
     ]
    },
    {
     "name": "stderr",
     "output_type": "stream",
     "text": [
      "INFO:tensorflow:Assets written to: ./Model/model_LSTM_150.v/assets\n"
     ]
    },
    {
     "name": "stdout",
     "output_type": "stream",
     "text": [
      "Epoch 2/500\n",
      "1240/1240 [==============================] - 82s 66ms/step - loss: 0.6159 - accuracy: 0.6873 - val_loss: 0.5799 - val_accuracy: 0.7089\n",
      "\n",
      "Epoch 00002: val_accuracy improved from 0.68972 to 0.70889, saving model to ./Model/model_LSTM_150.v\n"
     ]
    },
    {
     "name": "stderr",
     "output_type": "stream",
     "text": [
      "WARNING:absl:Found untraced functions such as lstm_cell_17_layer_call_fn, lstm_cell_17_layer_call_and_return_conditional_losses, lstm_cell_18_layer_call_fn, lstm_cell_18_layer_call_and_return_conditional_losses, lstm_cell_12_layer_call_fn while saving (showing 5 of 30). These functions will not be directly callable after loading.\n",
      "WARNING:absl:Found untraced functions such as lstm_cell_17_layer_call_fn, lstm_cell_17_layer_call_and_return_conditional_losses, lstm_cell_18_layer_call_fn, lstm_cell_18_layer_call_and_return_conditional_losses, lstm_cell_12_layer_call_fn while saving (showing 5 of 30). These functions will not be directly callable after loading.\n"
     ]
    },
    {
     "name": "stdout",
     "output_type": "stream",
     "text": [
      "INFO:tensorflow:Assets written to: ./Model/model_LSTM_150.v/assets\n"
     ]
    },
    {
     "name": "stderr",
     "output_type": "stream",
     "text": [
      "INFO:tensorflow:Assets written to: ./Model/model_LSTM_150.v/assets\n"
     ]
    },
    {
     "name": "stdout",
     "output_type": "stream",
     "text": [
      "Epoch 3/500\n",
      "1240/1240 [==============================] - 81s 66ms/step - loss: 0.5754 - accuracy: 0.7134 - val_loss: 0.5230 - val_accuracy: 0.7603\n",
      "\n",
      "Epoch 00003: val_accuracy improved from 0.70889 to 0.76031, saving model to ./Model/model_LSTM_150.v\n"
     ]
    },
    {
     "name": "stderr",
     "output_type": "stream",
     "text": [
      "WARNING:absl:Found untraced functions such as lstm_cell_17_layer_call_fn, lstm_cell_17_layer_call_and_return_conditional_losses, lstm_cell_18_layer_call_fn, lstm_cell_18_layer_call_and_return_conditional_losses, lstm_cell_12_layer_call_fn while saving (showing 5 of 30). These functions will not be directly callable after loading.\n",
      "WARNING:absl:Found untraced functions such as lstm_cell_17_layer_call_fn, lstm_cell_17_layer_call_and_return_conditional_losses, lstm_cell_18_layer_call_fn, lstm_cell_18_layer_call_and_return_conditional_losses, lstm_cell_12_layer_call_fn while saving (showing 5 of 30). These functions will not be directly callable after loading.\n"
     ]
    },
    {
     "name": "stdout",
     "output_type": "stream",
     "text": [
      "INFO:tensorflow:Assets written to: ./Model/model_LSTM_150.v/assets\n"
     ]
    },
    {
     "name": "stderr",
     "output_type": "stream",
     "text": [
      "INFO:tensorflow:Assets written to: ./Model/model_LSTM_150.v/assets\n"
     ]
    },
    {
     "name": "stdout",
     "output_type": "stream",
     "text": [
      "Epoch 4/500\n",
      "1240/1240 [==============================] - 82s 66ms/step - loss: 0.5303 - accuracy: 0.7504 - val_loss: 0.4769 - val_accuracy: 0.7786\n",
      "\n",
      "Epoch 00004: val_accuracy improved from 0.76031 to 0.77862, saving model to ./Model/model_LSTM_150.v\n"
     ]
    },
    {
     "name": "stderr",
     "output_type": "stream",
     "text": [
      "WARNING:absl:Found untraced functions such as lstm_cell_17_layer_call_fn, lstm_cell_17_layer_call_and_return_conditional_losses, lstm_cell_18_layer_call_fn, lstm_cell_18_layer_call_and_return_conditional_losses, lstm_cell_12_layer_call_fn while saving (showing 5 of 30). These functions will not be directly callable after loading.\n",
      "WARNING:absl:Found untraced functions such as lstm_cell_17_layer_call_fn, lstm_cell_17_layer_call_and_return_conditional_losses, lstm_cell_18_layer_call_fn, lstm_cell_18_layer_call_and_return_conditional_losses, lstm_cell_12_layer_call_fn while saving (showing 5 of 30). These functions will not be directly callable after loading.\n"
     ]
    },
    {
     "name": "stdout",
     "output_type": "stream",
     "text": [
      "INFO:tensorflow:Assets written to: ./Model/model_LSTM_150.v/assets\n"
     ]
    },
    {
     "name": "stderr",
     "output_type": "stream",
     "text": [
      "INFO:tensorflow:Assets written to: ./Model/model_LSTM_150.v/assets\n"
     ]
    },
    {
     "name": "stdout",
     "output_type": "stream",
     "text": [
      "Epoch 5/500\n",
      "1240/1240 [==============================] - 81s 65ms/step - loss: 0.4767 - accuracy: 0.7890 - val_loss: 0.4451 - val_accuracy: 0.8379\n",
      "\n",
      "Epoch 00005: val_accuracy improved from 0.77862 to 0.83788, saving model to ./Model/model_LSTM_150.v\n"
     ]
    },
    {
     "name": "stderr",
     "output_type": "stream",
     "text": [
      "WARNING:absl:Found untraced functions such as lstm_cell_17_layer_call_fn, lstm_cell_17_layer_call_and_return_conditional_losses, lstm_cell_18_layer_call_fn, lstm_cell_18_layer_call_and_return_conditional_losses, lstm_cell_12_layer_call_fn while saving (showing 5 of 30). These functions will not be directly callable after loading.\n",
      "WARNING:absl:Found untraced functions such as lstm_cell_17_layer_call_fn, lstm_cell_17_layer_call_and_return_conditional_losses, lstm_cell_18_layer_call_fn, lstm_cell_18_layer_call_and_return_conditional_losses, lstm_cell_12_layer_call_fn while saving (showing 5 of 30). These functions will not be directly callable after loading.\n"
     ]
    },
    {
     "name": "stdout",
     "output_type": "stream",
     "text": [
      "INFO:tensorflow:Assets written to: ./Model/model_LSTM_150.v/assets\n"
     ]
    },
    {
     "name": "stderr",
     "output_type": "stream",
     "text": [
      "INFO:tensorflow:Assets written to: ./Model/model_LSTM_150.v/assets\n"
     ]
    },
    {
     "name": "stdout",
     "output_type": "stream",
     "text": [
      "Epoch 6/500\n",
      "1240/1240 [==============================] - 82s 66ms/step - loss: 0.4567 - accuracy: 0.8093 - val_loss: 0.3691 - val_accuracy: 0.8611\n",
      "\n",
      "Epoch 00006: val_accuracy improved from 0.83788 to 0.86113, saving model to ./Model/model_LSTM_150.v\n"
     ]
    },
    {
     "name": "stderr",
     "output_type": "stream",
     "text": [
      "WARNING:absl:Found untraced functions such as lstm_cell_17_layer_call_fn, lstm_cell_17_layer_call_and_return_conditional_losses, lstm_cell_18_layer_call_fn, lstm_cell_18_layer_call_and_return_conditional_losses, lstm_cell_12_layer_call_fn while saving (showing 5 of 30). These functions will not be directly callable after loading.\n",
      "WARNING:absl:Found untraced functions such as lstm_cell_17_layer_call_fn, lstm_cell_17_layer_call_and_return_conditional_losses, lstm_cell_18_layer_call_fn, lstm_cell_18_layer_call_and_return_conditional_losses, lstm_cell_12_layer_call_fn while saving (showing 5 of 30). These functions will not be directly callable after loading.\n"
     ]
    },
    {
     "name": "stdout",
     "output_type": "stream",
     "text": [
      "INFO:tensorflow:Assets written to: ./Model/model_LSTM_150.v/assets\n"
     ]
    },
    {
     "name": "stderr",
     "output_type": "stream",
     "text": [
      "INFO:tensorflow:Assets written to: ./Model/model_LSTM_150.v/assets\n"
     ]
    },
    {
     "name": "stdout",
     "output_type": "stream",
     "text": [
      "Epoch 7/500\n",
      "1240/1240 [==============================] - 81s 66ms/step - loss: 0.4031 - accuracy: 0.8387 - val_loss: 0.4107 - val_accuracy: 0.8318\n",
      "\n",
      "Epoch 00007: val_accuracy did not improve from 0.86113\n",
      "Epoch 8/500\n",
      "1240/1240 [==============================] - 82s 66ms/step - loss: 0.3979 - accuracy: 0.8499 - val_loss: 0.3094 - val_accuracy: 0.8902\n",
      "\n",
      "Epoch 00008: val_accuracy improved from 0.86113 to 0.89018, saving model to ./Model/model_LSTM_150.v\n"
     ]
    },
    {
     "name": "stderr",
     "output_type": "stream",
     "text": [
      "WARNING:absl:Found untraced functions such as lstm_cell_17_layer_call_fn, lstm_cell_17_layer_call_and_return_conditional_losses, lstm_cell_18_layer_call_fn, lstm_cell_18_layer_call_and_return_conditional_losses, lstm_cell_12_layer_call_fn while saving (showing 5 of 30). These functions will not be directly callable after loading.\n",
      "WARNING:absl:Found untraced functions such as lstm_cell_17_layer_call_fn, lstm_cell_17_layer_call_and_return_conditional_losses, lstm_cell_18_layer_call_fn, lstm_cell_18_layer_call_and_return_conditional_losses, lstm_cell_12_layer_call_fn while saving (showing 5 of 30). These functions will not be directly callable after loading.\n"
     ]
    },
    {
     "name": "stdout",
     "output_type": "stream",
     "text": [
      "INFO:tensorflow:Assets written to: ./Model/model_LSTM_150.v/assets\n"
     ]
    },
    {
     "name": "stderr",
     "output_type": "stream",
     "text": [
      "INFO:tensorflow:Assets written to: ./Model/model_LSTM_150.v/assets\n"
     ]
    },
    {
     "name": "stdout",
     "output_type": "stream",
     "text": [
      "Epoch 9/500\n",
      "1240/1240 [==============================] - 82s 66ms/step - loss: 0.3614 - accuracy: 0.8620 - val_loss: 0.2869 - val_accuracy: 0.8951\n",
      "\n",
      "Epoch 00009: val_accuracy improved from 0.89018 to 0.89512, saving model to ./Model/model_LSTM_150.v\n"
     ]
    },
    {
     "name": "stderr",
     "output_type": "stream",
     "text": [
      "WARNING:absl:Found untraced functions such as lstm_cell_17_layer_call_fn, lstm_cell_17_layer_call_and_return_conditional_losses, lstm_cell_18_layer_call_fn, lstm_cell_18_layer_call_and_return_conditional_losses, lstm_cell_12_layer_call_fn while saving (showing 5 of 30). These functions will not be directly callable after loading.\n",
      "WARNING:absl:Found untraced functions such as lstm_cell_17_layer_call_fn, lstm_cell_17_layer_call_and_return_conditional_losses, lstm_cell_18_layer_call_fn, lstm_cell_18_layer_call_and_return_conditional_losses, lstm_cell_12_layer_call_fn while saving (showing 5 of 30). These functions will not be directly callable after loading.\n"
     ]
    },
    {
     "name": "stdout",
     "output_type": "stream",
     "text": [
      "INFO:tensorflow:Assets written to: ./Model/model_LSTM_150.v/assets\n"
     ]
    },
    {
     "name": "stderr",
     "output_type": "stream",
     "text": [
      "INFO:tensorflow:Assets written to: ./Model/model_LSTM_150.v/assets\n"
     ]
    },
    {
     "name": "stdout",
     "output_type": "stream",
     "text": [
      "Epoch 10/500\n",
      "1240/1240 [==============================] - 81s 66ms/step - loss: 0.3314 - accuracy: 0.8793 - val_loss: 0.2495 - val_accuracy: 0.9137\n",
      "\n",
      "Epoch 00010: val_accuracy improved from 0.89512 to 0.91371, saving model to ./Model/model_LSTM_150.v\n"
     ]
    },
    {
     "name": "stderr",
     "output_type": "stream",
     "text": [
      "WARNING:absl:Found untraced functions such as lstm_cell_17_layer_call_fn, lstm_cell_17_layer_call_and_return_conditional_losses, lstm_cell_18_layer_call_fn, lstm_cell_18_layer_call_and_return_conditional_losses, lstm_cell_12_layer_call_fn while saving (showing 5 of 30). These functions will not be directly callable after loading.\n",
      "WARNING:absl:Found untraced functions such as lstm_cell_17_layer_call_fn, lstm_cell_17_layer_call_and_return_conditional_losses, lstm_cell_18_layer_call_fn, lstm_cell_18_layer_call_and_return_conditional_losses, lstm_cell_12_layer_call_fn while saving (showing 5 of 30). These functions will not be directly callable after loading.\n"
     ]
    },
    {
     "name": "stdout",
     "output_type": "stream",
     "text": [
      "INFO:tensorflow:Assets written to: ./Model/model_LSTM_150.v/assets\n"
     ]
    },
    {
     "name": "stderr",
     "output_type": "stream",
     "text": [
      "INFO:tensorflow:Assets written to: ./Model/model_LSTM_150.v/assets\n"
     ]
    },
    {
     "name": "stdout",
     "output_type": "stream",
     "text": [
      "Epoch 11/500\n",
      "1240/1240 [==============================] - 82s 66ms/step - loss: 0.3480 - accuracy: 0.8704 - val_loss: 0.2822 - val_accuracy: 0.8995\n",
      "\n",
      "Epoch 00011: val_accuracy did not improve from 0.91371\n",
      "Epoch 12/500\n",
      "1240/1240 [==============================] - 82s 66ms/step - loss: 0.3061 - accuracy: 0.8978 - val_loss: 0.3235 - val_accuracy: 0.9166\n",
      "\n",
      "Epoch 00012: val_accuracy improved from 0.91371 to 0.91662, saving model to ./Model/model_LSTM_150.v\n"
     ]
    },
    {
     "name": "stderr",
     "output_type": "stream",
     "text": [
      "WARNING:absl:Found untraced functions such as lstm_cell_17_layer_call_fn, lstm_cell_17_layer_call_and_return_conditional_losses, lstm_cell_18_layer_call_fn, lstm_cell_18_layer_call_and_return_conditional_losses, lstm_cell_12_layer_call_fn while saving (showing 5 of 30). These functions will not be directly callable after loading.\n",
      "WARNING:absl:Found untraced functions such as lstm_cell_17_layer_call_fn, lstm_cell_17_layer_call_and_return_conditional_losses, lstm_cell_18_layer_call_fn, lstm_cell_18_layer_call_and_return_conditional_losses, lstm_cell_12_layer_call_fn while saving (showing 5 of 30). These functions will not be directly callable after loading.\n"
     ]
    },
    {
     "name": "stdout",
     "output_type": "stream",
     "text": [
      "INFO:tensorflow:Assets written to: ./Model/model_LSTM_150.v/assets\n"
     ]
    },
    {
     "name": "stderr",
     "output_type": "stream",
     "text": [
      "INFO:tensorflow:Assets written to: ./Model/model_LSTM_150.v/assets\n"
     ]
    },
    {
     "name": "stdout",
     "output_type": "stream",
     "text": [
      "Epoch 13/500\n",
      "1240/1240 [==============================] - 83s 67ms/step - loss: 0.2809 - accuracy: 0.9091 - val_loss: 0.2244 - val_accuracy: 0.9274\n",
      "\n",
      "Epoch 00013: val_accuracy improved from 0.91662 to 0.92737, saving model to ./Model/model_LSTM_150.v\n"
     ]
    },
    {
     "name": "stderr",
     "output_type": "stream",
     "text": [
      "WARNING:absl:Found untraced functions such as lstm_cell_17_layer_call_fn, lstm_cell_17_layer_call_and_return_conditional_losses, lstm_cell_18_layer_call_fn, lstm_cell_18_layer_call_and_return_conditional_losses, lstm_cell_12_layer_call_fn while saving (showing 5 of 30). These functions will not be directly callable after loading.\n",
      "WARNING:absl:Found untraced functions such as lstm_cell_17_layer_call_fn, lstm_cell_17_layer_call_and_return_conditional_losses, lstm_cell_18_layer_call_fn, lstm_cell_18_layer_call_and_return_conditional_losses, lstm_cell_12_layer_call_fn while saving (showing 5 of 30). These functions will not be directly callable after loading.\n"
     ]
    },
    {
     "name": "stdout",
     "output_type": "stream",
     "text": [
      "INFO:tensorflow:Assets written to: ./Model/model_LSTM_150.v/assets\n"
     ]
    },
    {
     "name": "stderr",
     "output_type": "stream",
     "text": [
      "INFO:tensorflow:Assets written to: ./Model/model_LSTM_150.v/assets\n"
     ]
    },
    {
     "name": "stdout",
     "output_type": "stream",
     "text": [
      "Epoch 14/500\n",
      "1240/1240 [==============================] - 82s 66ms/step - loss: 0.2579 - accuracy: 0.9146 - val_loss: 0.2133 - val_accuracy: 0.9343\n",
      "\n",
      "Epoch 00014: val_accuracy improved from 0.92737 to 0.93434, saving model to ./Model/model_LSTM_150.v\n"
     ]
    },
    {
     "name": "stderr",
     "output_type": "stream",
     "text": [
      "WARNING:absl:Found untraced functions such as lstm_cell_17_layer_call_fn, lstm_cell_17_layer_call_and_return_conditional_losses, lstm_cell_18_layer_call_fn, lstm_cell_18_layer_call_and_return_conditional_losses, lstm_cell_12_layer_call_fn while saving (showing 5 of 30). These functions will not be directly callable after loading.\n",
      "WARNING:absl:Found untraced functions such as lstm_cell_17_layer_call_fn, lstm_cell_17_layer_call_and_return_conditional_losses, lstm_cell_18_layer_call_fn, lstm_cell_18_layer_call_and_return_conditional_losses, lstm_cell_12_layer_call_fn while saving (showing 5 of 30). These functions will not be directly callable after loading.\n"
     ]
    },
    {
     "name": "stdout",
     "output_type": "stream",
     "text": [
      "INFO:tensorflow:Assets written to: ./Model/model_LSTM_150.v/assets\n"
     ]
    },
    {
     "name": "stderr",
     "output_type": "stream",
     "text": [
      "INFO:tensorflow:Assets written to: ./Model/model_LSTM_150.v/assets\n"
     ]
    },
    {
     "name": "stdout",
     "output_type": "stream",
     "text": [
      "Epoch 15/500\n",
      "1240/1240 [==============================] - 82s 66ms/step - loss: 0.2545 - accuracy: 0.9186 - val_loss: 0.2008 - val_accuracy: 0.9335\n",
      "\n",
      "Epoch 00015: val_accuracy did not improve from 0.93434\n",
      "Epoch 16/500\n",
      "1240/1240 [==============================] - 81s 66ms/step - loss: 0.3106 - accuracy: 0.8894 - val_loss: 0.2439 - val_accuracy: 0.9277\n",
      "\n",
      "Epoch 00016: val_accuracy did not improve from 0.93434\n",
      "Epoch 17/500\n",
      "1240/1240 [==============================] - 81s 65ms/step - loss: 0.2457 - accuracy: 0.9236 - val_loss: 0.1805 - val_accuracy: 0.9451\n",
      "\n",
      "Epoch 00017: val_accuracy improved from 0.93434 to 0.94509, saving model to ./Model/model_LSTM_150.v\n"
     ]
    },
    {
     "name": "stderr",
     "output_type": "stream",
     "text": [
      "WARNING:absl:Found untraced functions such as lstm_cell_17_layer_call_fn, lstm_cell_17_layer_call_and_return_conditional_losses, lstm_cell_18_layer_call_fn, lstm_cell_18_layer_call_and_return_conditional_losses, lstm_cell_12_layer_call_fn while saving (showing 5 of 30). These functions will not be directly callable after loading.\n",
      "WARNING:absl:Found untraced functions such as lstm_cell_17_layer_call_fn, lstm_cell_17_layer_call_and_return_conditional_losses, lstm_cell_18_layer_call_fn, lstm_cell_18_layer_call_and_return_conditional_losses, lstm_cell_12_layer_call_fn while saving (showing 5 of 30). These functions will not be directly callable after loading.\n"
     ]
    },
    {
     "name": "stdout",
     "output_type": "stream",
     "text": [
      "INFO:tensorflow:Assets written to: ./Model/model_LSTM_150.v/assets\n"
     ]
    },
    {
     "name": "stderr",
     "output_type": "stream",
     "text": [
      "INFO:tensorflow:Assets written to: ./Model/model_LSTM_150.v/assets\n"
     ]
    },
    {
     "name": "stdout",
     "output_type": "stream",
     "text": [
      "Epoch 18/500\n",
      "1240/1240 [==============================] - 82s 66ms/step - loss: 0.2393 - accuracy: 0.9256 - val_loss: 0.3777 - val_accuracy: 0.9184\n",
      "\n",
      "Epoch 00018: val_accuracy did not improve from 0.94509\n",
      "Epoch 19/500\n",
      "1240/1240 [==============================] - 82s 66ms/step - loss: 0.3340 - accuracy: 0.8823 - val_loss: 0.2256 - val_accuracy: 0.9460\n",
      "\n",
      "Epoch 00019: val_accuracy improved from 0.94509 to 0.94596, saving model to ./Model/model_LSTM_150.v\n"
     ]
    },
    {
     "name": "stderr",
     "output_type": "stream",
     "text": [
      "WARNING:absl:Found untraced functions such as lstm_cell_17_layer_call_fn, lstm_cell_17_layer_call_and_return_conditional_losses, lstm_cell_18_layer_call_fn, lstm_cell_18_layer_call_and_return_conditional_losses, lstm_cell_12_layer_call_fn while saving (showing 5 of 30). These functions will not be directly callable after loading.\n",
      "WARNING:absl:Found untraced functions such as lstm_cell_17_layer_call_fn, lstm_cell_17_layer_call_and_return_conditional_losses, lstm_cell_18_layer_call_fn, lstm_cell_18_layer_call_and_return_conditional_losses, lstm_cell_12_layer_call_fn while saving (showing 5 of 30). These functions will not be directly callable after loading.\n"
     ]
    },
    {
     "name": "stdout",
     "output_type": "stream",
     "text": [
      "INFO:tensorflow:Assets written to: ./Model/model_LSTM_150.v/assets\n"
     ]
    },
    {
     "name": "stderr",
     "output_type": "stream",
     "text": [
      "INFO:tensorflow:Assets written to: ./Model/model_LSTM_150.v/assets\n"
     ]
    },
    {
     "name": "stdout",
     "output_type": "stream",
     "text": [
      "Epoch 20/500\n",
      "1240/1240 [==============================] - 82s 66ms/step - loss: 0.2179 - accuracy: 0.9320 - val_loss: 0.1843 - val_accuracy: 0.9497\n",
      "\n",
      "Epoch 00020: val_accuracy improved from 0.94596 to 0.94974, saving model to ./Model/model_LSTM_150.v\n"
     ]
    },
    {
     "name": "stderr",
     "output_type": "stream",
     "text": [
      "WARNING:absl:Found untraced functions such as lstm_cell_17_layer_call_fn, lstm_cell_17_layer_call_and_return_conditional_losses, lstm_cell_18_layer_call_fn, lstm_cell_18_layer_call_and_return_conditional_losses, lstm_cell_12_layer_call_fn while saving (showing 5 of 30). These functions will not be directly callable after loading.\n",
      "WARNING:absl:Found untraced functions such as lstm_cell_17_layer_call_fn, lstm_cell_17_layer_call_and_return_conditional_losses, lstm_cell_18_layer_call_fn, lstm_cell_18_layer_call_and_return_conditional_losses, lstm_cell_12_layer_call_fn while saving (showing 5 of 30). These functions will not be directly callable after loading.\n"
     ]
    },
    {
     "name": "stdout",
     "output_type": "stream",
     "text": [
      "INFO:tensorflow:Assets written to: ./Model/model_LSTM_150.v/assets\n"
     ]
    },
    {
     "name": "stderr",
     "output_type": "stream",
     "text": [
      "INFO:tensorflow:Assets written to: ./Model/model_LSTM_150.v/assets\n"
     ]
    },
    {
     "name": "stdout",
     "output_type": "stream",
     "text": [
      "Epoch 21/500\n",
      "1240/1240 [==============================] - 81s 66ms/step - loss: 0.2177 - accuracy: 0.9337 - val_loss: 0.2732 - val_accuracy: 0.9393\n",
      "\n",
      "Epoch 00021: val_accuracy did not improve from 0.94974\n",
      "Epoch 22/500\n",
      "1240/1240 [==============================] - 81s 65ms/step - loss: 0.2173 - accuracy: 0.9349 - val_loss: 0.1498 - val_accuracy: 0.9593\n",
      "\n",
      "Epoch 00022: val_accuracy improved from 0.94974 to 0.95933, saving model to ./Model/model_LSTM_150.v\n"
     ]
    },
    {
     "name": "stderr",
     "output_type": "stream",
     "text": [
      "WARNING:absl:Found untraced functions such as lstm_cell_17_layer_call_fn, lstm_cell_17_layer_call_and_return_conditional_losses, lstm_cell_18_layer_call_fn, lstm_cell_18_layer_call_and_return_conditional_losses, lstm_cell_12_layer_call_fn while saving (showing 5 of 30). These functions will not be directly callable after loading.\n",
      "WARNING:absl:Found untraced functions such as lstm_cell_17_layer_call_fn, lstm_cell_17_layer_call_and_return_conditional_losses, lstm_cell_18_layer_call_fn, lstm_cell_18_layer_call_and_return_conditional_losses, lstm_cell_12_layer_call_fn while saving (showing 5 of 30). These functions will not be directly callable after loading.\n"
     ]
    },
    {
     "name": "stdout",
     "output_type": "stream",
     "text": [
      "INFO:tensorflow:Assets written to: ./Model/model_LSTM_150.v/assets\n"
     ]
    },
    {
     "name": "stderr",
     "output_type": "stream",
     "text": [
      "INFO:tensorflow:Assets written to: ./Model/model_LSTM_150.v/assets\n"
     ]
    },
    {
     "name": "stdout",
     "output_type": "stream",
     "text": [
      "Epoch 23/500\n",
      "1240/1240 [==============================] - 81s 65ms/step - loss: 0.5145 - accuracy: 0.8609 - val_loss: 0.1726 - val_accuracy: 0.9497\n",
      "\n",
      "Epoch 00023: val_accuracy did not improve from 0.95933\n",
      "Epoch 24/500\n",
      "1240/1240 [==============================] - 82s 66ms/step - loss: 0.2175 - accuracy: 0.9336 - val_loss: 0.1666 - val_accuracy: 0.9553\n",
      "\n",
      "Epoch 00024: val_accuracy did not improve from 0.95933\n",
      "Epoch 25/500\n",
      "1240/1240 [==============================] - 81s 65ms/step - loss: 0.1935 - accuracy: 0.9423 - val_loss: 0.1420 - val_accuracy: 0.9622\n",
      "\n",
      "Epoch 00025: val_accuracy improved from 0.95933 to 0.96223, saving model to ./Model/model_LSTM_150.v\n"
     ]
    },
    {
     "name": "stderr",
     "output_type": "stream",
     "text": [
      "WARNING:absl:Found untraced functions such as lstm_cell_17_layer_call_fn, lstm_cell_17_layer_call_and_return_conditional_losses, lstm_cell_18_layer_call_fn, lstm_cell_18_layer_call_and_return_conditional_losses, lstm_cell_12_layer_call_fn while saving (showing 5 of 30). These functions will not be directly callable after loading.\n",
      "WARNING:absl:Found untraced functions such as lstm_cell_17_layer_call_fn, lstm_cell_17_layer_call_and_return_conditional_losses, lstm_cell_18_layer_call_fn, lstm_cell_18_layer_call_and_return_conditional_losses, lstm_cell_12_layer_call_fn while saving (showing 5 of 30). These functions will not be directly callable after loading.\n"
     ]
    },
    {
     "name": "stdout",
     "output_type": "stream",
     "text": [
      "INFO:tensorflow:Assets written to: ./Model/model_LSTM_150.v/assets\n"
     ]
    },
    {
     "name": "stderr",
     "output_type": "stream",
     "text": [
      "INFO:tensorflow:Assets written to: ./Model/model_LSTM_150.v/assets\n"
     ]
    },
    {
     "name": "stdout",
     "output_type": "stream",
     "text": [
      "Epoch 26/500\n",
      "1240/1240 [==============================] - 81s 65ms/step - loss: 0.1796 - accuracy: 0.9453 - val_loss: 0.1576 - val_accuracy: 0.9631\n",
      "\n",
      "Epoch 00026: val_accuracy improved from 0.96223 to 0.96310, saving model to ./Model/model_LSTM_150.v\n"
     ]
    },
    {
     "name": "stderr",
     "output_type": "stream",
     "text": [
      "WARNING:absl:Found untraced functions such as lstm_cell_17_layer_call_fn, lstm_cell_17_layer_call_and_return_conditional_losses, lstm_cell_18_layer_call_fn, lstm_cell_18_layer_call_and_return_conditional_losses, lstm_cell_12_layer_call_fn while saving (showing 5 of 30). These functions will not be directly callable after loading.\n",
      "WARNING:absl:Found untraced functions such as lstm_cell_17_layer_call_fn, lstm_cell_17_layer_call_and_return_conditional_losses, lstm_cell_18_layer_call_fn, lstm_cell_18_layer_call_and_return_conditional_losses, lstm_cell_12_layer_call_fn while saving (showing 5 of 30). These functions will not be directly callable after loading.\n"
     ]
    },
    {
     "name": "stdout",
     "output_type": "stream",
     "text": [
      "INFO:tensorflow:Assets written to: ./Model/model_LSTM_150.v/assets\n"
     ]
    },
    {
     "name": "stderr",
     "output_type": "stream",
     "text": [
      "INFO:tensorflow:Assets written to: ./Model/model_LSTM_150.v/assets\n"
     ]
    },
    {
     "name": "stdout",
     "output_type": "stream",
     "text": [
      "Epoch 27/500\n",
      "1240/1240 [==============================] - 80s 65ms/step - loss: 0.1929 - accuracy: 0.9438 - val_loss: 0.2421 - val_accuracy: 0.9192\n",
      "\n",
      "Epoch 00027: val_accuracy did not improve from 0.96310\n",
      "Epoch 28/500\n",
      "1240/1240 [==============================] - 81s 65ms/step - loss: 0.2274 - accuracy: 0.9233 - val_loss: 0.1319 - val_accuracy: 0.9605\n",
      "\n",
      "Epoch 00028: val_accuracy did not improve from 0.96310\n",
      "Epoch 29/500\n",
      "1240/1240 [==============================] - 80s 65ms/step - loss: 0.1851 - accuracy: 0.9428 - val_loss: 0.1689 - val_accuracy: 0.9657\n",
      "\n",
      "Epoch 00029: val_accuracy improved from 0.96310 to 0.96572, saving model to ./Model/model_LSTM_150.v\n"
     ]
    },
    {
     "name": "stderr",
     "output_type": "stream",
     "text": [
      "WARNING:absl:Found untraced functions such as lstm_cell_17_layer_call_fn, lstm_cell_17_layer_call_and_return_conditional_losses, lstm_cell_18_layer_call_fn, lstm_cell_18_layer_call_and_return_conditional_losses, lstm_cell_12_layer_call_fn while saving (showing 5 of 30). These functions will not be directly callable after loading.\n",
      "WARNING:absl:Found untraced functions such as lstm_cell_17_layer_call_fn, lstm_cell_17_layer_call_and_return_conditional_losses, lstm_cell_18_layer_call_fn, lstm_cell_18_layer_call_and_return_conditional_losses, lstm_cell_12_layer_call_fn while saving (showing 5 of 30). These functions will not be directly callable after loading.\n"
     ]
    },
    {
     "name": "stdout",
     "output_type": "stream",
     "text": [
      "INFO:tensorflow:Assets written to: ./Model/model_LSTM_150.v/assets\n"
     ]
    },
    {
     "name": "stderr",
     "output_type": "stream",
     "text": [
      "INFO:tensorflow:Assets written to: ./Model/model_LSTM_150.v/assets\n"
     ]
    },
    {
     "name": "stdout",
     "output_type": "stream",
     "text": [
      "Epoch 30/500\n",
      "1240/1240 [==============================] - 81s 65ms/step - loss: 0.1734 - accuracy: 0.9488 - val_loss: 0.2102 - val_accuracy: 0.9329\n",
      "\n",
      "Epoch 00030: val_accuracy did not improve from 0.96572\n",
      "Epoch 31/500\n",
      "1240/1240 [==============================] - 81s 65ms/step - loss: 0.2098 - accuracy: 0.9383 - val_loss: 0.1221 - val_accuracy: 0.9712\n",
      "\n",
      "Epoch 00031: val_accuracy improved from 0.96572 to 0.97124, saving model to ./Model/model_LSTM_150.v\n"
     ]
    },
    {
     "name": "stderr",
     "output_type": "stream",
     "text": [
      "WARNING:absl:Found untraced functions such as lstm_cell_17_layer_call_fn, lstm_cell_17_layer_call_and_return_conditional_losses, lstm_cell_18_layer_call_fn, lstm_cell_18_layer_call_and_return_conditional_losses, lstm_cell_12_layer_call_fn while saving (showing 5 of 30). These functions will not be directly callable after loading.\n",
      "WARNING:absl:Found untraced functions such as lstm_cell_17_layer_call_fn, lstm_cell_17_layer_call_and_return_conditional_losses, lstm_cell_18_layer_call_fn, lstm_cell_18_layer_call_and_return_conditional_losses, lstm_cell_12_layer_call_fn while saving (showing 5 of 30). These functions will not be directly callable after loading.\n"
     ]
    },
    {
     "name": "stdout",
     "output_type": "stream",
     "text": [
      "INFO:tensorflow:Assets written to: ./Model/model_LSTM_150.v/assets\n"
     ]
    },
    {
     "name": "stderr",
     "output_type": "stream",
     "text": [
      "INFO:tensorflow:Assets written to: ./Model/model_LSTM_150.v/assets\n"
     ]
    },
    {
     "name": "stdout",
     "output_type": "stream",
     "text": [
      "Epoch 32/500\n",
      "1240/1240 [==============================] - 81s 66ms/step - loss: 0.1931 - accuracy: 0.9416 - val_loss: 0.1728 - val_accuracy: 0.9590\n",
      "\n",
      "Epoch 00032: val_accuracy did not improve from 0.97124\n",
      "Epoch 33/500\n",
      "1240/1240 [==============================] - 81s 65ms/step - loss: 0.1556 - accuracy: 0.9527 - val_loss: 0.2048 - val_accuracy: 0.9648\n",
      "\n",
      "Epoch 00033: val_accuracy did not improve from 0.97124\n",
      "Epoch 34/500\n",
      "1240/1240 [==============================] - 81s 65ms/step - loss: 0.1772 - accuracy: 0.9513 - val_loss: 0.1618 - val_accuracy: 0.9736\n",
      "\n",
      "Epoch 00034: val_accuracy improved from 0.97124 to 0.97356, saving model to ./Model/model_LSTM_150.v\n"
     ]
    },
    {
     "name": "stderr",
     "output_type": "stream",
     "text": [
      "WARNING:absl:Found untraced functions such as lstm_cell_17_layer_call_fn, lstm_cell_17_layer_call_and_return_conditional_losses, lstm_cell_18_layer_call_fn, lstm_cell_18_layer_call_and_return_conditional_losses, lstm_cell_12_layer_call_fn while saving (showing 5 of 30). These functions will not be directly callable after loading.\n",
      "WARNING:absl:Found untraced functions such as lstm_cell_17_layer_call_fn, lstm_cell_17_layer_call_and_return_conditional_losses, lstm_cell_18_layer_call_fn, lstm_cell_18_layer_call_and_return_conditional_losses, lstm_cell_12_layer_call_fn while saving (showing 5 of 30). These functions will not be directly callable after loading.\n"
     ]
    },
    {
     "name": "stdout",
     "output_type": "stream",
     "text": [
      "INFO:tensorflow:Assets written to: ./Model/model_LSTM_150.v/assets\n"
     ]
    },
    {
     "name": "stderr",
     "output_type": "stream",
     "text": [
      "INFO:tensorflow:Assets written to: ./Model/model_LSTM_150.v/assets\n"
     ]
    },
    {
     "name": "stdout",
     "output_type": "stream",
     "text": [
      "Epoch 35/500\n",
      "1240/1240 [==============================] - 81s 65ms/step - loss: 0.1623 - accuracy: 0.9518 - val_loss: 0.1221 - val_accuracy: 0.9753\n",
      "\n",
      "Epoch 00035: val_accuracy improved from 0.97356 to 0.97531, saving model to ./Model/model_LSTM_150.v\n"
     ]
    },
    {
     "name": "stderr",
     "output_type": "stream",
     "text": [
      "WARNING:absl:Found untraced functions such as lstm_cell_17_layer_call_fn, lstm_cell_17_layer_call_and_return_conditional_losses, lstm_cell_18_layer_call_fn, lstm_cell_18_layer_call_and_return_conditional_losses, lstm_cell_12_layer_call_fn while saving (showing 5 of 30). These functions will not be directly callable after loading.\n",
      "WARNING:absl:Found untraced functions such as lstm_cell_17_layer_call_fn, lstm_cell_17_layer_call_and_return_conditional_losses, lstm_cell_18_layer_call_fn, lstm_cell_18_layer_call_and_return_conditional_losses, lstm_cell_12_layer_call_fn while saving (showing 5 of 30). These functions will not be directly callable after loading.\n"
     ]
    },
    {
     "name": "stdout",
     "output_type": "stream",
     "text": [
      "INFO:tensorflow:Assets written to: ./Model/model_LSTM_150.v/assets\n"
     ]
    },
    {
     "name": "stderr",
     "output_type": "stream",
     "text": [
      "INFO:tensorflow:Assets written to: ./Model/model_LSTM_150.v/assets\n"
     ]
    },
    {
     "name": "stdout",
     "output_type": "stream",
     "text": [
      "Epoch 36/500\n",
      "1240/1240 [==============================] - 82s 66ms/step - loss: 0.1571 - accuracy: 0.9551 - val_loss: 0.1265 - val_accuracy: 0.9704\n",
      "\n",
      "Epoch 00036: val_accuracy did not improve from 0.97531\n",
      "Epoch 37/500\n",
      "1240/1240 [==============================] - 81s 65ms/step - loss: 0.1781 - accuracy: 0.9550 - val_loss: 0.0951 - val_accuracy: 0.9756\n",
      "\n",
      "Epoch 00037: val_accuracy improved from 0.97531 to 0.97560, saving model to ./Model/model_LSTM_150.v\n"
     ]
    },
    {
     "name": "stderr",
     "output_type": "stream",
     "text": [
      "WARNING:absl:Found untraced functions such as lstm_cell_17_layer_call_fn, lstm_cell_17_layer_call_and_return_conditional_losses, lstm_cell_18_layer_call_fn, lstm_cell_18_layer_call_and_return_conditional_losses, lstm_cell_12_layer_call_fn while saving (showing 5 of 30). These functions will not be directly callable after loading.\n",
      "WARNING:absl:Found untraced functions such as lstm_cell_17_layer_call_fn, lstm_cell_17_layer_call_and_return_conditional_losses, lstm_cell_18_layer_call_fn, lstm_cell_18_layer_call_and_return_conditional_losses, lstm_cell_12_layer_call_fn while saving (showing 5 of 30). These functions will not be directly callable after loading.\n"
     ]
    },
    {
     "name": "stdout",
     "output_type": "stream",
     "text": [
      "INFO:tensorflow:Assets written to: ./Model/model_LSTM_150.v/assets\n"
     ]
    },
    {
     "name": "stderr",
     "output_type": "stream",
     "text": [
      "INFO:tensorflow:Assets written to: ./Model/model_LSTM_150.v/assets\n"
     ]
    },
    {
     "name": "stdout",
     "output_type": "stream",
     "text": [
      "Epoch 38/500\n",
      "1240/1240 [==============================] - 81s 65ms/step - loss: 0.1511 - accuracy: 0.9597 - val_loss: 0.2049 - val_accuracy: 0.9518\n",
      "\n",
      "Epoch 00038: val_accuracy did not improve from 0.97560\n",
      "Epoch 39/500\n",
      "1240/1240 [==============================] - 81s 65ms/step - loss: 0.1478 - accuracy: 0.9582 - val_loss: 0.1564 - val_accuracy: 0.9669\n",
      "\n",
      "Epoch 00039: val_accuracy did not improve from 0.97560\n",
      "Epoch 40/500\n",
      "1240/1240 [==============================] - 81s 65ms/step - loss: 0.1414 - accuracy: 0.9626 - val_loss: 0.1110 - val_accuracy: 0.9788\n",
      "\n",
      "Epoch 00040: val_accuracy improved from 0.97560 to 0.97879, saving model to ./Model/model_LSTM_150.v\n"
     ]
    },
    {
     "name": "stderr",
     "output_type": "stream",
     "text": [
      "WARNING:absl:Found untraced functions such as lstm_cell_17_layer_call_fn, lstm_cell_17_layer_call_and_return_conditional_losses, lstm_cell_18_layer_call_fn, lstm_cell_18_layer_call_and_return_conditional_losses, lstm_cell_12_layer_call_fn while saving (showing 5 of 30). These functions will not be directly callable after loading.\n",
      "WARNING:absl:Found untraced functions such as lstm_cell_17_layer_call_fn, lstm_cell_17_layer_call_and_return_conditional_losses, lstm_cell_18_layer_call_fn, lstm_cell_18_layer_call_and_return_conditional_losses, lstm_cell_12_layer_call_fn while saving (showing 5 of 30). These functions will not be directly callable after loading.\n"
     ]
    },
    {
     "name": "stdout",
     "output_type": "stream",
     "text": [
      "INFO:tensorflow:Assets written to: ./Model/model_LSTM_150.v/assets\n"
     ]
    },
    {
     "name": "stderr",
     "output_type": "stream",
     "text": [
      "INFO:tensorflow:Assets written to: ./Model/model_LSTM_150.v/assets\n"
     ]
    },
    {
     "name": "stdout",
     "output_type": "stream",
     "text": [
      "Epoch 41/500\n",
      "1240/1240 [==============================] - 81s 65ms/step - loss: 0.1418 - accuracy: 0.9607 - val_loss: 0.1360 - val_accuracy: 0.9768\n",
      "\n",
      "Epoch 00041: val_accuracy did not improve from 0.97879\n",
      "Epoch 42/500\n",
      "1240/1240 [==============================] - 80s 65ms/step - loss: 0.1296 - accuracy: 0.9640 - val_loss: 0.0816 - val_accuracy: 0.9785\n",
      "\n",
      "Epoch 00042: val_accuracy did not improve from 0.97879\n",
      "Epoch 43/500\n",
      "1240/1240 [==============================] - 80s 65ms/step - loss: 0.1846 - accuracy: 0.9518 - val_loss: 0.1029 - val_accuracy: 0.9817\n",
      "\n",
      "Epoch 00043: val_accuracy improved from 0.97879 to 0.98170, saving model to ./Model/model_LSTM_150.v\n"
     ]
    },
    {
     "name": "stderr",
     "output_type": "stream",
     "text": [
      "WARNING:absl:Found untraced functions such as lstm_cell_17_layer_call_fn, lstm_cell_17_layer_call_and_return_conditional_losses, lstm_cell_18_layer_call_fn, lstm_cell_18_layer_call_and_return_conditional_losses, lstm_cell_12_layer_call_fn while saving (showing 5 of 30). These functions will not be directly callable after loading.\n",
      "WARNING:absl:Found untraced functions such as lstm_cell_17_layer_call_fn, lstm_cell_17_layer_call_and_return_conditional_losses, lstm_cell_18_layer_call_fn, lstm_cell_18_layer_call_and_return_conditional_losses, lstm_cell_12_layer_call_fn while saving (showing 5 of 30). These functions will not be directly callable after loading.\n"
     ]
    },
    {
     "name": "stdout",
     "output_type": "stream",
     "text": [
      "INFO:tensorflow:Assets written to: ./Model/model_LSTM_150.v/assets\n"
     ]
    },
    {
     "name": "stderr",
     "output_type": "stream",
     "text": [
      "INFO:tensorflow:Assets written to: ./Model/model_LSTM_150.v/assets\n"
     ]
    },
    {
     "name": "stdout",
     "output_type": "stream",
     "text": [
      "Epoch 44/500\n",
      "1240/1240 [==============================] - 82s 66ms/step - loss: 0.1157 - accuracy: 0.9690 - val_loss: 0.0991 - val_accuracy: 0.9814\n",
      "\n",
      "Epoch 00044: val_accuracy did not improve from 0.98170\n",
      "Epoch 45/500\n",
      "1240/1240 [==============================] - 81s 65ms/step - loss: 0.1031 - accuracy: 0.9722 - val_loss: 0.0792 - val_accuracy: 0.9817\n",
      "\n",
      "Epoch 00045: val_accuracy did not improve from 0.98170\n",
      "Epoch 46/500\n",
      "1240/1240 [==============================] - 82s 66ms/step - loss: 0.1296 - accuracy: 0.9629 - val_loss: 0.0693 - val_accuracy: 0.9831\n",
      "\n",
      "Epoch 00046: val_accuracy improved from 0.98170 to 0.98315, saving model to ./Model/model_LSTM_150.v\n"
     ]
    },
    {
     "name": "stderr",
     "output_type": "stream",
     "text": [
      "WARNING:absl:Found untraced functions such as lstm_cell_17_layer_call_fn, lstm_cell_17_layer_call_and_return_conditional_losses, lstm_cell_18_layer_call_fn, lstm_cell_18_layer_call_and_return_conditional_losses, lstm_cell_12_layer_call_fn while saving (showing 5 of 30). These functions will not be directly callable after loading.\n",
      "WARNING:absl:Found untraced functions such as lstm_cell_17_layer_call_fn, lstm_cell_17_layer_call_and_return_conditional_losses, lstm_cell_18_layer_call_fn, lstm_cell_18_layer_call_and_return_conditional_losses, lstm_cell_12_layer_call_fn while saving (showing 5 of 30). These functions will not be directly callable after loading.\n"
     ]
    },
    {
     "name": "stdout",
     "output_type": "stream",
     "text": [
      "INFO:tensorflow:Assets written to: ./Model/model_LSTM_150.v/assets\n"
     ]
    },
    {
     "name": "stderr",
     "output_type": "stream",
     "text": [
      "INFO:tensorflow:Assets written to: ./Model/model_LSTM_150.v/assets\n"
     ]
    },
    {
     "name": "stdout",
     "output_type": "stream",
     "text": [
      "Epoch 47/500\n",
      "1240/1240 [==============================] - 81s 65ms/step - loss: 0.1537 - accuracy: 0.9610 - val_loss: 0.0890 - val_accuracy: 0.9840\n",
      "\n",
      "Epoch 00047: val_accuracy improved from 0.98315 to 0.98402, saving model to ./Model/model_LSTM_150.v\n"
     ]
    },
    {
     "name": "stderr",
     "output_type": "stream",
     "text": [
      "WARNING:absl:Found untraced functions such as lstm_cell_17_layer_call_fn, lstm_cell_17_layer_call_and_return_conditional_losses, lstm_cell_18_layer_call_fn, lstm_cell_18_layer_call_and_return_conditional_losses, lstm_cell_12_layer_call_fn while saving (showing 5 of 30). These functions will not be directly callable after loading.\n",
      "WARNING:absl:Found untraced functions such as lstm_cell_17_layer_call_fn, lstm_cell_17_layer_call_and_return_conditional_losses, lstm_cell_18_layer_call_fn, lstm_cell_18_layer_call_and_return_conditional_losses, lstm_cell_12_layer_call_fn while saving (showing 5 of 30). These functions will not be directly callable after loading.\n"
     ]
    },
    {
     "name": "stdout",
     "output_type": "stream",
     "text": [
      "INFO:tensorflow:Assets written to: ./Model/model_LSTM_150.v/assets\n"
     ]
    },
    {
     "name": "stderr",
     "output_type": "stream",
     "text": [
      "INFO:tensorflow:Assets written to: ./Model/model_LSTM_150.v/assets\n"
     ]
    },
    {
     "name": "stdout",
     "output_type": "stream",
     "text": [
      "Epoch 48/500\n",
      "1240/1240 [==============================] - 81s 66ms/step - loss: 0.0897 - accuracy: 0.9743 - val_loss: 0.0627 - val_accuracy: 0.9866\n",
      "\n",
      "Epoch 00048: val_accuracy improved from 0.98402 to 0.98664, saving model to ./Model/model_LSTM_150.v\n"
     ]
    },
    {
     "name": "stderr",
     "output_type": "stream",
     "text": [
      "WARNING:absl:Found untraced functions such as lstm_cell_17_layer_call_fn, lstm_cell_17_layer_call_and_return_conditional_losses, lstm_cell_18_layer_call_fn, lstm_cell_18_layer_call_and_return_conditional_losses, lstm_cell_12_layer_call_fn while saving (showing 5 of 30). These functions will not be directly callable after loading.\n",
      "WARNING:absl:Found untraced functions such as lstm_cell_17_layer_call_fn, lstm_cell_17_layer_call_and_return_conditional_losses, lstm_cell_18_layer_call_fn, lstm_cell_18_layer_call_and_return_conditional_losses, lstm_cell_12_layer_call_fn while saving (showing 5 of 30). These functions will not be directly callable after loading.\n"
     ]
    },
    {
     "name": "stdout",
     "output_type": "stream",
     "text": [
      "INFO:tensorflow:Assets written to: ./Model/model_LSTM_150.v/assets\n"
     ]
    },
    {
     "name": "stderr",
     "output_type": "stream",
     "text": [
      "INFO:tensorflow:Assets written to: ./Model/model_LSTM_150.v/assets\n"
     ]
    },
    {
     "name": "stdout",
     "output_type": "stream",
     "text": [
      "Epoch 49/500\n",
      "1240/1240 [==============================] - 82s 66ms/step - loss: 0.1078 - accuracy: 0.9720 - val_loss: 0.0721 - val_accuracy: 0.9814\n",
      "\n",
      "Epoch 00049: val_accuracy did not improve from 0.98664\n",
      "Epoch 50/500\n",
      "1240/1240 [==============================] - 81s 65ms/step - loss: 0.1082 - accuracy: 0.9710 - val_loss: 0.1054 - val_accuracy: 0.9794\n",
      "\n",
      "Epoch 00050: val_accuracy did not improve from 0.98664\n",
      "Epoch 51/500\n",
      "1240/1240 [==============================] - 80s 65ms/step - loss: 0.0897 - accuracy: 0.9737 - val_loss: 0.0611 - val_accuracy: 0.9840\n",
      "\n",
      "Epoch 00051: val_accuracy did not improve from 0.98664\n",
      "Epoch 52/500\n",
      "1240/1240 [==============================] - 81s 65ms/step - loss: 0.0910 - accuracy: 0.9763 - val_loss: 0.0847 - val_accuracy: 0.9826\n",
      "\n",
      "Epoch 00052: val_accuracy did not improve from 0.98664\n",
      "Epoch 53/500\n",
      "1240/1240 [==============================] - 81s 65ms/step - loss: 0.0944 - accuracy: 0.9771 - val_loss: 0.0691 - val_accuracy: 0.9849\n",
      "\n",
      "Epoch 00053: val_accuracy did not improve from 0.98664\n",
      "Epoch 54/500\n",
      "1240/1240 [==============================] - 81s 65ms/step - loss: 0.1581 - accuracy: 0.9592 - val_loss: 0.1128 - val_accuracy: 0.9800\n",
      "\n",
      "Epoch 00054: val_accuracy did not improve from 0.98664\n",
      "Epoch 55/500\n",
      "1240/1240 [==============================] - 81s 66ms/step - loss: 0.0993 - accuracy: 0.9732 - val_loss: 0.1039 - val_accuracy: 0.9718\n",
      "\n",
      "Epoch 00055: val_accuracy did not improve from 0.98664\n",
      "Epoch 56/500\n",
      "1240/1240 [==============================] - 81s 66ms/step - loss: 0.0981 - accuracy: 0.9728 - val_loss: 0.1134 - val_accuracy: 0.9788\n",
      "\n",
      "Epoch 00056: val_accuracy did not improve from 0.98664\n",
      "Epoch 57/500\n",
      "1240/1240 [==============================] - 82s 66ms/step - loss: 0.0835 - accuracy: 0.9755 - val_loss: 0.1001 - val_accuracy: 0.9744\n",
      "\n",
      "Epoch 00057: val_accuracy did not improve from 0.98664\n",
      "Epoch 58/500\n",
      "1240/1240 [==============================] - 82s 66ms/step - loss: 0.0970 - accuracy: 0.9732 - val_loss: 0.0839 - val_accuracy: 0.9820\n",
      "\n",
      "Epoch 00058: val_accuracy did not improve from 0.98664\n",
      "Epoch 59/500\n",
      "1240/1240 [==============================] - 81s 65ms/step - loss: 0.1050 - accuracy: 0.9715 - val_loss: 0.0726 - val_accuracy: 0.9829\n",
      "\n",
      "Epoch 00059: val_accuracy did not improve from 0.98664\n",
      "Epoch 60/500\n",
      "1240/1240 [==============================] - 81s 65ms/step - loss: 0.0821 - accuracy: 0.9758 - val_loss: 0.1283 - val_accuracy: 0.9617\n",
      "\n",
      "Epoch 00060: val_accuracy did not improve from 0.98664\n",
      "Epoch 61/500\n",
      "1240/1240 [==============================] - 81s 65ms/step - loss: 0.1354 - accuracy: 0.9552 - val_loss: 0.0785 - val_accuracy: 0.9834\n",
      "\n",
      "Epoch 00061: val_accuracy did not improve from 0.98664\n",
      "Epoch 62/500\n",
      "1240/1240 [==============================] - 81s 65ms/step - loss: 0.0846 - accuracy: 0.9769 - val_loss: 0.0734 - val_accuracy: 0.9855\n",
      "\n",
      "Epoch 00062: val_accuracy did not improve from 0.98664\n",
      "Epoch 63/500\n",
      "1240/1240 [==============================] - 81s 65ms/step - loss: 0.0798 - accuracy: 0.9789 - val_loss: 0.0579 - val_accuracy: 0.9846\n",
      "\n",
      "Epoch 00063: val_accuracy did not improve from 0.98664\n",
      "Epoch 64/500\n",
      "1240/1240 [==============================] - 81s 65ms/step - loss: 0.0772 - accuracy: 0.9804 - val_loss: 0.0693 - val_accuracy: 0.9869\n",
      "\n",
      "Epoch 00064: val_accuracy improved from 0.98664 to 0.98693, saving model to ./Model/model_LSTM_150.v\n"
     ]
    },
    {
     "name": "stderr",
     "output_type": "stream",
     "text": [
      "WARNING:absl:Found untraced functions such as lstm_cell_17_layer_call_fn, lstm_cell_17_layer_call_and_return_conditional_losses, lstm_cell_18_layer_call_fn, lstm_cell_18_layer_call_and_return_conditional_losses, lstm_cell_12_layer_call_fn while saving (showing 5 of 30). These functions will not be directly callable after loading.\n",
      "WARNING:absl:Found untraced functions such as lstm_cell_17_layer_call_fn, lstm_cell_17_layer_call_and_return_conditional_losses, lstm_cell_18_layer_call_fn, lstm_cell_18_layer_call_and_return_conditional_losses, lstm_cell_12_layer_call_fn while saving (showing 5 of 30). These functions will not be directly callable after loading.\n"
     ]
    },
    {
     "name": "stdout",
     "output_type": "stream",
     "text": [
      "INFO:tensorflow:Assets written to: ./Model/model_LSTM_150.v/assets\n"
     ]
    },
    {
     "name": "stderr",
     "output_type": "stream",
     "text": [
      "INFO:tensorflow:Assets written to: ./Model/model_LSTM_150.v/assets\n"
     ]
    },
    {
     "name": "stdout",
     "output_type": "stream",
     "text": [
      "Epoch 65/500\n",
      "1240/1240 [==============================] - 81s 65ms/step - loss: 0.0737 - accuracy: 0.9813 - val_loss: 0.0641 - val_accuracy: 0.9858\n",
      "\n",
      "Epoch 00065: val_accuracy did not improve from 0.98693\n",
      "Epoch 66/500\n",
      "1240/1240 [==============================] - 81s 66ms/step - loss: 0.0649 - accuracy: 0.9813 - val_loss: 0.0958 - val_accuracy: 0.9834\n",
      "\n",
      "Epoch 00066: val_accuracy did not improve from 0.98693\n",
      "Epoch 67/500\n",
      "1240/1240 [==============================] - 82s 66ms/step - loss: 0.0662 - accuracy: 0.9818 - val_loss: 0.0634 - val_accuracy: 0.9872\n",
      "\n",
      "Epoch 00067: val_accuracy improved from 0.98693 to 0.98722, saving model to ./Model/model_LSTM_150.v\n"
     ]
    },
    {
     "name": "stderr",
     "output_type": "stream",
     "text": [
      "WARNING:absl:Found untraced functions such as lstm_cell_17_layer_call_fn, lstm_cell_17_layer_call_and_return_conditional_losses, lstm_cell_18_layer_call_fn, lstm_cell_18_layer_call_and_return_conditional_losses, lstm_cell_12_layer_call_fn while saving (showing 5 of 30). These functions will not be directly callable after loading.\n",
      "WARNING:absl:Found untraced functions such as lstm_cell_17_layer_call_fn, lstm_cell_17_layer_call_and_return_conditional_losses, lstm_cell_18_layer_call_fn, lstm_cell_18_layer_call_and_return_conditional_losses, lstm_cell_12_layer_call_fn while saving (showing 5 of 30). These functions will not be directly callable after loading.\n"
     ]
    },
    {
     "name": "stdout",
     "output_type": "stream",
     "text": [
      "INFO:tensorflow:Assets written to: ./Model/model_LSTM_150.v/assets\n"
     ]
    },
    {
     "name": "stderr",
     "output_type": "stream",
     "text": [
      "INFO:tensorflow:Assets written to: ./Model/model_LSTM_150.v/assets\n"
     ]
    },
    {
     "name": "stdout",
     "output_type": "stream",
     "text": [
      "Epoch 68/500\n",
      "1240/1240 [==============================] - 81s 65ms/step - loss: 0.0674 - accuracy: 0.9816 - val_loss: 0.0876 - val_accuracy: 0.9829\n",
      "\n",
      "Epoch 00068: val_accuracy did not improve from 0.98722\n",
      "Epoch 69/500\n",
      "1240/1240 [==============================] - 81s 65ms/step - loss: 0.0711 - accuracy: 0.9794 - val_loss: 0.0703 - val_accuracy: 0.9881\n",
      "\n",
      "Epoch 00069: val_accuracy improved from 0.98722 to 0.98809, saving model to ./Model/model_LSTM_150.v\n"
     ]
    },
    {
     "name": "stderr",
     "output_type": "stream",
     "text": [
      "WARNING:absl:Found untraced functions such as lstm_cell_17_layer_call_fn, lstm_cell_17_layer_call_and_return_conditional_losses, lstm_cell_18_layer_call_fn, lstm_cell_18_layer_call_and_return_conditional_losses, lstm_cell_12_layer_call_fn while saving (showing 5 of 30). These functions will not be directly callable after loading.\n",
      "WARNING:absl:Found untraced functions such as lstm_cell_17_layer_call_fn, lstm_cell_17_layer_call_and_return_conditional_losses, lstm_cell_18_layer_call_fn, lstm_cell_18_layer_call_and_return_conditional_losses, lstm_cell_12_layer_call_fn while saving (showing 5 of 30). These functions will not be directly callable after loading.\n"
     ]
    },
    {
     "name": "stdout",
     "output_type": "stream",
     "text": [
      "INFO:tensorflow:Assets written to: ./Model/model_LSTM_150.v/assets\n"
     ]
    },
    {
     "name": "stderr",
     "output_type": "stream",
     "text": [
      "INFO:tensorflow:Assets written to: ./Model/model_LSTM_150.v/assets\n"
     ]
    },
    {
     "name": "stdout",
     "output_type": "stream",
     "text": [
      "Epoch 70/500\n",
      "1240/1240 [==============================] - 82s 66ms/step - loss: 0.0832 - accuracy: 0.9787 - val_loss: 0.0503 - val_accuracy: 0.9869\n",
      "\n",
      "Epoch 00070: val_accuracy did not improve from 0.98809\n",
      "Epoch 71/500\n",
      "1240/1240 [==============================] - 81s 66ms/step - loss: 0.0654 - accuracy: 0.9809 - val_loss: 0.0556 - val_accuracy: 0.9863\n",
      "\n",
      "Epoch 00071: val_accuracy did not improve from 0.98809\n",
      "Epoch 72/500\n",
      "1240/1240 [==============================] - 82s 66ms/step - loss: 0.0622 - accuracy: 0.9820 - val_loss: 0.0645 - val_accuracy: 0.9863\n",
      "\n",
      "Epoch 00072: val_accuracy did not improve from 0.98809\n",
      "Epoch 73/500\n",
      "1240/1240 [==============================] - 82s 66ms/step - loss: 0.0649 - accuracy: 0.9823 - val_loss: 0.0675 - val_accuracy: 0.9831\n",
      "\n",
      "Epoch 00073: val_accuracy did not improve from 0.98809\n",
      "Epoch 74/500\n",
      "1240/1240 [==============================] - 81s 66ms/step - loss: 0.0770 - accuracy: 0.9796 - val_loss: 0.0795 - val_accuracy: 0.9823\n",
      "\n",
      "Epoch 00074: val_accuracy did not improve from 0.98809\n",
      "Epoch 75/500\n",
      "1240/1240 [==============================] - 81s 65ms/step - loss: 0.1643 - accuracy: 0.9663 - val_loss: 0.0565 - val_accuracy: 0.9913\n",
      "\n",
      "Epoch 00075: val_accuracy improved from 0.98809 to 0.99128, saving model to ./Model/model_LSTM_150.v\n"
     ]
    },
    {
     "name": "stderr",
     "output_type": "stream",
     "text": [
      "WARNING:absl:Found untraced functions such as lstm_cell_17_layer_call_fn, lstm_cell_17_layer_call_and_return_conditional_losses, lstm_cell_18_layer_call_fn, lstm_cell_18_layer_call_and_return_conditional_losses, lstm_cell_12_layer_call_fn while saving (showing 5 of 30). These functions will not be directly callable after loading.\n",
      "WARNING:absl:Found untraced functions such as lstm_cell_17_layer_call_fn, lstm_cell_17_layer_call_and_return_conditional_losses, lstm_cell_18_layer_call_fn, lstm_cell_18_layer_call_and_return_conditional_losses, lstm_cell_12_layer_call_fn while saving (showing 5 of 30). These functions will not be directly callable after loading.\n"
     ]
    },
    {
     "name": "stdout",
     "output_type": "stream",
     "text": [
      "INFO:tensorflow:Assets written to: ./Model/model_LSTM_150.v/assets\n"
     ]
    },
    {
     "name": "stderr",
     "output_type": "stream",
     "text": [
      "INFO:tensorflow:Assets written to: ./Model/model_LSTM_150.v/assets\n"
     ]
    },
    {
     "name": "stdout",
     "output_type": "stream",
     "text": [
      "Epoch 76/500\n",
      "1240/1240 [==============================] - 81s 66ms/step - loss: 0.0829 - accuracy: 0.9794 - val_loss: 0.0503 - val_accuracy: 0.9878\n",
      "\n",
      "Epoch 00076: val_accuracy did not improve from 0.99128\n",
      "Epoch 77/500\n",
      "1240/1240 [==============================] - 82s 66ms/step - loss: 0.0526 - accuracy: 0.9857 - val_loss: 0.0512 - val_accuracy: 0.9887\n",
      "\n",
      "Epoch 00077: val_accuracy did not improve from 0.99128\n",
      "Epoch 78/500\n",
      "1240/1240 [==============================] - 82s 66ms/step - loss: 0.0761 - accuracy: 0.9821 - val_loss: 0.0519 - val_accuracy: 0.9884\n",
      "\n",
      "Epoch 00078: val_accuracy did not improve from 0.99128\n",
      "Epoch 79/500\n",
      "1240/1240 [==============================] - 81s 66ms/step - loss: 0.0538 - accuracy: 0.9858 - val_loss: 0.0487 - val_accuracy: 0.9875\n",
      "\n",
      "Epoch 00079: val_accuracy did not improve from 0.99128\n",
      "Epoch 80/500\n",
      "1240/1240 [==============================] - 81s 66ms/step - loss: 0.0554 - accuracy: 0.9839 - val_loss: 0.0493 - val_accuracy: 0.9866\n",
      "\n",
      "Epoch 00080: val_accuracy did not improve from 0.99128\n",
      "Epoch 81/500\n",
      "1240/1240 [==============================] - 81s 66ms/step - loss: 0.0623 - accuracy: 0.9822 - val_loss: 0.0425 - val_accuracy: 0.9872\n",
      "\n",
      "Epoch 00081: val_accuracy did not improve from 0.99128\n",
      "Epoch 82/500\n",
      "1240/1240 [==============================] - 82s 66ms/step - loss: 0.0808 - accuracy: 0.9788 - val_loss: 0.0407 - val_accuracy: 0.9849\n",
      "\n",
      "Epoch 00082: val_accuracy did not improve from 0.99128\n",
      "Epoch 83/500\n",
      "1240/1240 [==============================] - 82s 66ms/step - loss: 0.0588 - accuracy: 0.9853 - val_loss: 0.0419 - val_accuracy: 0.9890\n",
      "\n",
      "Epoch 00083: val_accuracy did not improve from 0.99128\n",
      "Epoch 84/500\n",
      "1240/1240 [==============================] - 81s 65ms/step - loss: 0.1767 - accuracy: 0.9660 - val_loss: 0.0528 - val_accuracy: 0.9890\n",
      "\n",
      "Epoch 00084: val_accuracy did not improve from 0.99128\n",
      "Epoch 85/500\n",
      "1240/1240 [==============================] - 81s 65ms/step - loss: 0.0567 - accuracy: 0.9848 - val_loss: 0.1017 - val_accuracy: 0.9640\n",
      "\n",
      "Epoch 00085: val_accuracy did not improve from 0.99128\n",
      "Epoch 86/500\n",
      "1240/1240 [==============================] - 83s 67ms/step - loss: 0.0960 - accuracy: 0.9664 - val_loss: 0.0463 - val_accuracy: 0.9863\n",
      "\n",
      "Epoch 00086: val_accuracy did not improve from 0.99128\n",
      "Epoch 87/500\n",
      "1240/1240 [==============================] - 81s 65ms/step - loss: 0.0523 - accuracy: 0.9855 - val_loss: 0.0618 - val_accuracy: 0.9878\n",
      "\n",
      "Epoch 00087: val_accuracy did not improve from 0.99128\n",
      "Epoch 88/500\n",
      "1240/1240 [==============================] - 81s 65ms/step - loss: 0.0536 - accuracy: 0.9857 - val_loss: 0.0497 - val_accuracy: 0.9893\n",
      "\n",
      "Epoch 00088: val_accuracy did not improve from 0.99128\n",
      "Epoch 89/500\n",
      "1240/1240 [==============================] - 81s 66ms/step - loss: 0.0498 - accuracy: 0.9863 - val_loss: 0.0416 - val_accuracy: 0.9884\n",
      "\n",
      "Epoch 00089: val_accuracy did not improve from 0.99128\n",
      "Epoch 90/500\n",
      "1240/1240 [==============================] - 81s 66ms/step - loss: 0.0515 - accuracy: 0.9860 - val_loss: 0.0335 - val_accuracy: 0.9898\n",
      "\n",
      "Epoch 00090: val_accuracy did not improve from 0.99128\n",
      "Epoch 91/500\n",
      "1240/1240 [==============================] - 81s 65ms/step - loss: 0.0441 - accuracy: 0.9878 - val_loss: 0.0332 - val_accuracy: 0.9904\n",
      "\n",
      "Epoch 00091: val_accuracy did not improve from 0.99128\n",
      "Epoch 92/500\n",
      "1240/1240 [==============================] - 82s 66ms/step - loss: 0.0470 - accuracy: 0.9876 - val_loss: 0.0767 - val_accuracy: 0.9861\n",
      "\n",
      "Epoch 00092: val_accuracy did not improve from 0.99128\n",
      "Epoch 93/500\n",
      "1240/1240 [==============================] - 82s 66ms/step - loss: 0.0652 - accuracy: 0.9850 - val_loss: 0.0464 - val_accuracy: 0.9922\n",
      "\n",
      "Epoch 00093: val_accuracy improved from 0.99128 to 0.99216, saving model to ./Model/model_LSTM_150.v\n"
     ]
    },
    {
     "name": "stderr",
     "output_type": "stream",
     "text": [
      "WARNING:absl:Found untraced functions such as lstm_cell_17_layer_call_fn, lstm_cell_17_layer_call_and_return_conditional_losses, lstm_cell_18_layer_call_fn, lstm_cell_18_layer_call_and_return_conditional_losses, lstm_cell_12_layer_call_fn while saving (showing 5 of 30). These functions will not be directly callable after loading.\n",
      "WARNING:absl:Found untraced functions such as lstm_cell_17_layer_call_fn, lstm_cell_17_layer_call_and_return_conditional_losses, lstm_cell_18_layer_call_fn, lstm_cell_18_layer_call_and_return_conditional_losses, lstm_cell_12_layer_call_fn while saving (showing 5 of 30). These functions will not be directly callable after loading.\n"
     ]
    },
    {
     "name": "stdout",
     "output_type": "stream",
     "text": [
      "INFO:tensorflow:Assets written to: ./Model/model_LSTM_150.v/assets\n"
     ]
    },
    {
     "name": "stderr",
     "output_type": "stream",
     "text": [
      "INFO:tensorflow:Assets written to: ./Model/model_LSTM_150.v/assets\n"
     ]
    },
    {
     "name": "stdout",
     "output_type": "stream",
     "text": [
      "Epoch 94/500\n",
      "1240/1240 [==============================] - 81s 66ms/step - loss: 0.0535 - accuracy: 0.9839 - val_loss: 0.0434 - val_accuracy: 0.9904\n",
      "\n",
      "Epoch 00094: val_accuracy did not improve from 0.99216\n",
      "Epoch 95/500\n",
      "1240/1240 [==============================] - 81s 65ms/step - loss: 0.0436 - accuracy: 0.9880 - val_loss: 0.0401 - val_accuracy: 0.9898\n",
      "\n",
      "Epoch 00095: val_accuracy did not improve from 0.99216\n",
      "Epoch 96/500\n",
      "1240/1240 [==============================] - 81s 66ms/step - loss: 0.0411 - accuracy: 0.9878 - val_loss: 0.0375 - val_accuracy: 0.9910\n",
      "\n",
      "Epoch 00096: val_accuracy did not improve from 0.99216\n",
      "Epoch 97/500\n",
      "1240/1240 [==============================] - 81s 65ms/step - loss: 0.0901 - accuracy: 0.9785 - val_loss: 0.0537 - val_accuracy: 0.9881\n",
      "\n",
      "Epoch 00097: val_accuracy did not improve from 0.99216\n",
      "Epoch 98/500\n",
      "1240/1240 [==============================] - 81s 66ms/step - loss: 0.0479 - accuracy: 0.9876 - val_loss: 0.0490 - val_accuracy: 0.9884\n",
      "\n",
      "Epoch 00098: val_accuracy did not improve from 0.99216\n",
      "Epoch 99/500\n",
      "1240/1240 [==============================] - 82s 66ms/step - loss: 0.0407 - accuracy: 0.9899 - val_loss: 0.0385 - val_accuracy: 0.9901\n",
      "\n",
      "Epoch 00099: val_accuracy did not improve from 0.99216\n",
      "Epoch 100/500\n",
      "1240/1240 [==============================] - 82s 66ms/step - loss: 0.0382 - accuracy: 0.9892 - val_loss: 0.0342 - val_accuracy: 0.9887\n",
      "\n",
      "Epoch 00100: val_accuracy did not improve from 0.99216\n",
      "Epoch 101/500\n",
      "1240/1240 [==============================] - 81s 66ms/step - loss: 0.0735 - accuracy: 0.9786 - val_loss: 0.0345 - val_accuracy: 0.9887\n",
      "\n",
      "Epoch 00101: val_accuracy did not improve from 0.99216\n",
      "Epoch 102/500\n",
      "1240/1240 [==============================] - 81s 65ms/step - loss: 0.0324 - accuracy: 0.9900 - val_loss: 0.0375 - val_accuracy: 0.9907\n",
      "\n",
      "Epoch 00102: val_accuracy did not improve from 0.99216\n",
      "Epoch 103/500\n",
      "1240/1240 [==============================] - 81s 65ms/step - loss: 0.0421 - accuracy: 0.9910 - val_loss: 0.1243 - val_accuracy: 0.9669\n",
      "\n",
      "Epoch 00103: val_accuracy did not improve from 0.99216\n",
      "Epoch 104/500\n",
      "1240/1240 [==============================] - 82s 66ms/step - loss: 0.0786 - accuracy: 0.9761 - val_loss: 0.0549 - val_accuracy: 0.9869\n",
      "\n",
      "Epoch 00104: val_accuracy did not improve from 0.99216\n",
      "Epoch 105/500\n",
      "1240/1240 [==============================] - 81s 65ms/step - loss: 0.3620 - accuracy: 0.8940 - val_loss: 0.1674 - val_accuracy: 0.9448\n",
      "\n",
      "Epoch 00105: val_accuracy did not improve from 0.99216\n",
      "Epoch 106/500\n",
      "1240/1240 [==============================] - 81s 66ms/step - loss: 0.1463 - accuracy: 0.9509 - val_loss: 0.1101 - val_accuracy: 0.9770\n",
      "\n",
      "Epoch 00106: val_accuracy did not improve from 0.99216\n",
      "Epoch 107/500\n",
      "1240/1240 [==============================] - 82s 66ms/step - loss: 0.0597 - accuracy: 0.9824 - val_loss: 0.0761 - val_accuracy: 0.9837\n",
      "\n",
      "Epoch 00107: val_accuracy did not improve from 0.99216\n",
      "Epoch 108/500\n",
      "1240/1240 [==============================] - 82s 66ms/step - loss: 0.0500 - accuracy: 0.9865 - val_loss: 0.0534 - val_accuracy: 0.9890\n",
      "\n",
      "Epoch 00108: val_accuracy did not improve from 0.99216\n",
      "Epoch 109/500\n",
      "1240/1240 [==============================] - 81s 65ms/step - loss: 0.0405 - accuracy: 0.9885 - val_loss: 0.0336 - val_accuracy: 0.9910\n",
      "\n",
      "Epoch 00109: val_accuracy did not improve from 0.99216\n",
      "Epoch 110/500\n",
      "1240/1240 [==============================] - 82s 66ms/step - loss: 0.0565 - accuracy: 0.9856 - val_loss: 0.0432 - val_accuracy: 0.9901\n",
      "\n",
      "Epoch 00110: val_accuracy did not improve from 0.99216\n",
      "Epoch 111/500\n",
      "1240/1240 [==============================] - 82s 66ms/step - loss: 0.0666 - accuracy: 0.9855 - val_loss: 0.0264 - val_accuracy: 0.9922\n",
      "\n",
      "Epoch 00111: val_accuracy did not improve from 0.99216\n",
      "Epoch 112/500\n",
      "1240/1240 [==============================] - 81s 66ms/step - loss: 0.0321 - accuracy: 0.9903 - val_loss: 0.0309 - val_accuracy: 0.9916\n",
      "\n",
      "Epoch 00112: val_accuracy did not improve from 0.99216\n",
      "Epoch 113/500\n",
      "1240/1240 [==============================] - 81s 65ms/step - loss: 0.0294 - accuracy: 0.9909 - val_loss: 0.0404 - val_accuracy: 0.9919\n",
      "\n",
      "Epoch 00113: val_accuracy did not improve from 0.99216\n",
      "Epoch 00113: early stopping\n"
     ]
    }
   ],
   "source": [
    "history1 = model1.fit(X_scaled_arr_train,Y_arr_train,epochs=500,validation_split=0.1,batch_size=25,shuffle=True,callbacks=[early_stopping, checkpoint])"
   ]
  },
  {
   "cell_type": "code",
   "execution_count": 47,
   "metadata": {},
   "outputs": [
    {
     "name": "stdout",
     "output_type": "stream",
     "text": [
      "Epoch 1/500\n",
      "689/689 [==============================] - 49s 71ms/step - loss: 0.0340 - accuracy: 0.9898 - val_loss: 0.0207 - val_accuracy: 0.9943\n",
      "\n",
      "Epoch 00001: val_accuracy improved from 0.99216 to 0.99433, saving model to ./Model/model_LSTM_150.v\n"
     ]
    },
    {
     "name": "stderr",
     "output_type": "stream",
     "text": [
      "WARNING:absl:Found untraced functions such as lstm_cell_17_layer_call_fn, lstm_cell_17_layer_call_and_return_conditional_losses, lstm_cell_18_layer_call_fn, lstm_cell_18_layer_call_and_return_conditional_losses, lstm_cell_12_layer_call_fn while saving (showing 5 of 30). These functions will not be directly callable after loading.\n",
      "WARNING:absl:Found untraced functions such as lstm_cell_17_layer_call_fn, lstm_cell_17_layer_call_and_return_conditional_losses, lstm_cell_18_layer_call_fn, lstm_cell_18_layer_call_and_return_conditional_losses, lstm_cell_12_layer_call_fn while saving (showing 5 of 30). These functions will not be directly callable after loading.\n"
     ]
    },
    {
     "name": "stdout",
     "output_type": "stream",
     "text": [
      "INFO:tensorflow:Assets written to: ./Model/model_LSTM_150.v/assets\n"
     ]
    },
    {
     "name": "stderr",
     "output_type": "stream",
     "text": [
      "INFO:tensorflow:Assets written to: ./Model/model_LSTM_150.v/assets\n"
     ]
    },
    {
     "name": "stdout",
     "output_type": "stream",
     "text": [
      "Epoch 2/500\n",
      "689/689 [==============================] - 47s 69ms/step - loss: 0.0314 - accuracy: 0.9909 - val_loss: 0.0187 - val_accuracy: 0.9943\n",
      "\n",
      "Epoch 00002: val_accuracy did not improve from 0.99433\n",
      "Epoch 3/500\n",
      "689/689 [==============================] - 48s 70ms/step - loss: 0.0308 - accuracy: 0.9915 - val_loss: 0.0190 - val_accuracy: 0.9943\n",
      "\n",
      "Epoch 00003: val_accuracy did not improve from 0.99433\n",
      "Epoch 4/500\n",
      "689/689 [==============================] - 48s 70ms/step - loss: 0.0283 - accuracy: 0.9915 - val_loss: 0.0269 - val_accuracy: 0.9935\n",
      "\n",
      "Epoch 00004: val_accuracy did not improve from 0.99433\n",
      "Epoch 5/500\n",
      "689/689 [==============================] - 48s 70ms/step - loss: 0.0369 - accuracy: 0.9899 - val_loss: 0.0216 - val_accuracy: 0.9930\n",
      "\n",
      "Epoch 00005: val_accuracy did not improve from 0.99433\n",
      "Epoch 6/500\n",
      "689/689 [==============================] - 48s 69ms/step - loss: 0.0304 - accuracy: 0.9907 - val_loss: 0.0212 - val_accuracy: 0.9945\n",
      "\n",
      "Epoch 00006: val_accuracy improved from 0.99433 to 0.99448, saving model to ./Model/model_LSTM_150.v\n"
     ]
    },
    {
     "name": "stderr",
     "output_type": "stream",
     "text": [
      "WARNING:absl:Found untraced functions such as lstm_cell_17_layer_call_fn, lstm_cell_17_layer_call_and_return_conditional_losses, lstm_cell_18_layer_call_fn, lstm_cell_18_layer_call_and_return_conditional_losses, lstm_cell_12_layer_call_fn while saving (showing 5 of 30). These functions will not be directly callable after loading.\n",
      "WARNING:absl:Found untraced functions such as lstm_cell_17_layer_call_fn, lstm_cell_17_layer_call_and_return_conditional_losses, lstm_cell_18_layer_call_fn, lstm_cell_18_layer_call_and_return_conditional_losses, lstm_cell_12_layer_call_fn while saving (showing 5 of 30). These functions will not be directly callable after loading.\n"
     ]
    },
    {
     "name": "stdout",
     "output_type": "stream",
     "text": [
      "INFO:tensorflow:Assets written to: ./Model/model_LSTM_150.v/assets\n"
     ]
    },
    {
     "name": "stderr",
     "output_type": "stream",
     "text": [
      "INFO:tensorflow:Assets written to: ./Model/model_LSTM_150.v/assets\n"
     ]
    },
    {
     "name": "stdout",
     "output_type": "stream",
     "text": [
      "Epoch 7/500\n",
      "689/689 [==============================] - 48s 70ms/step - loss: 0.0317 - accuracy: 0.9911 - val_loss: 0.0239 - val_accuracy: 0.9935\n",
      "\n",
      "Epoch 00007: val_accuracy did not improve from 0.99448\n",
      "Epoch 8/500\n",
      "689/689 [==============================] - 48s 69ms/step - loss: 0.0699 - accuracy: 0.9855 - val_loss: 0.0492 - val_accuracy: 0.9869\n",
      "\n",
      "Epoch 00008: val_accuracy did not improve from 0.99448\n",
      "Epoch 9/500\n",
      "689/689 [==============================] - 48s 69ms/step - loss: 0.1242 - accuracy: 0.9710 - val_loss: 0.1103 - val_accuracy: 0.9727\n",
      "\n",
      "Epoch 00009: val_accuracy did not improve from 0.99448\n",
      "Epoch 10/500\n",
      "689/689 [==============================] - 48s 69ms/step - loss: 0.0628 - accuracy: 0.9842 - val_loss: 0.0579 - val_accuracy: 0.9887\n",
      "\n",
      "Epoch 00010: val_accuracy did not improve from 0.99448\n",
      "Epoch 11/500\n",
      "689/689 [==============================] - 48s 69ms/step - loss: 0.0394 - accuracy: 0.9881 - val_loss: 0.0380 - val_accuracy: 0.9919\n",
      "\n",
      "Epoch 00011: val_accuracy did not improve from 0.99448\n",
      "Epoch 12/500\n",
      "689/689 [==============================] - 47s 69ms/step - loss: 0.0342 - accuracy: 0.9914 - val_loss: 0.0351 - val_accuracy: 0.9923\n",
      "\n",
      "Epoch 00012: val_accuracy did not improve from 0.99448\n",
      "Epoch 13/500\n",
      "689/689 [==============================] - 48s 70ms/step - loss: 0.0319 - accuracy: 0.9917 - val_loss: 0.0312 - val_accuracy: 0.9923\n",
      "\n",
      "Epoch 00013: val_accuracy did not improve from 0.99448\n",
      "Epoch 14/500\n",
      "689/689 [==============================] - 48s 70ms/step - loss: 0.0247 - accuracy: 0.9921 - val_loss: 0.0313 - val_accuracy: 0.9939\n",
      "\n",
      "Epoch 00014: val_accuracy did not improve from 0.99448\n",
      "Epoch 15/500\n",
      "689/689 [==============================] - 48s 69ms/step - loss: 0.0271 - accuracy: 0.9919 - val_loss: 0.0272 - val_accuracy: 0.9943\n",
      "\n",
      "Epoch 00015: val_accuracy did not improve from 0.99448\n",
      "Epoch 16/500\n",
      "689/689 [==============================] - 48s 69ms/step - loss: 0.0255 - accuracy: 0.9920 - val_loss: 0.0243 - val_accuracy: 0.9929\n",
      "\n",
      "Epoch 00016: val_accuracy did not improve from 0.99448\n",
      "Epoch 17/500\n",
      "689/689 [==============================] - 48s 70ms/step - loss: 0.0261 - accuracy: 0.9930 - val_loss: 0.0278 - val_accuracy: 0.9932\n",
      "\n",
      "Epoch 00017: val_accuracy did not improve from 0.99448\n",
      "Epoch 18/500\n",
      "689/689 [==============================] - 48s 70ms/step - loss: 0.0315 - accuracy: 0.9918 - val_loss: 0.0262 - val_accuracy: 0.9932\n",
      "\n",
      "Epoch 00018: val_accuracy did not improve from 0.99448\n",
      "Epoch 19/500\n",
      "689/689 [==============================] - 47s 68ms/step - loss: 0.0311 - accuracy: 0.9910 - val_loss: 0.0417 - val_accuracy: 0.9911\n",
      "\n",
      "Epoch 00019: val_accuracy did not improve from 0.99448\n",
      "Epoch 20/500\n",
      "689/689 [==============================] - 47s 69ms/step - loss: 0.0340 - accuracy: 0.9906 - val_loss: 0.0303 - val_accuracy: 0.9933\n",
      "\n",
      "Epoch 00020: val_accuracy did not improve from 0.99448\n",
      "Epoch 21/500\n",
      "689/689 [==============================] - 48s 69ms/step - loss: 0.0345 - accuracy: 0.9908 - val_loss: 0.0367 - val_accuracy: 0.9923\n",
      "\n",
      "Epoch 00021: val_accuracy did not improve from 0.99448\n",
      "Epoch 22/500\n",
      "689/689 [==============================] - 48s 69ms/step - loss: 0.2468 - accuracy: 0.9447 - val_loss: 0.2087 - val_accuracy: 0.9593\n",
      "\n",
      "Epoch 00022: val_accuracy did not improve from 0.99448\n",
      "Epoch 23/500\n",
      "689/689 [==============================] - 48s 70ms/step - loss: 0.0993 - accuracy: 0.9723 - val_loss: 0.0951 - val_accuracy: 0.9784\n",
      "\n",
      "Epoch 00023: val_accuracy did not improve from 0.99448\n",
      "Epoch 24/500\n",
      "689/689 [==============================] - 48s 70ms/step - loss: 0.0608 - accuracy: 0.9807 - val_loss: 0.0598 - val_accuracy: 0.9861\n",
      "\n",
      "Epoch 00024: val_accuracy did not improve from 0.99448\n",
      "Epoch 25/500\n",
      "689/689 [==============================] - 47s 68ms/step - loss: 0.0455 - accuracy: 0.9863 - val_loss: 0.0293 - val_accuracy: 0.9891\n",
      "\n",
      "Epoch 00025: val_accuracy did not improve from 0.99448\n",
      "Epoch 26/500\n",
      "689/689 [==============================] - 47s 69ms/step - loss: 0.0457 - accuracy: 0.9867 - val_loss: 0.0271 - val_accuracy: 0.9916\n",
      "\n",
      "Epoch 00026: val_accuracy did not improve from 0.99448\n",
      "Epoch 00026: early stopping\n"
     ]
    }
   ],
   "source": [
    "history2 = model1.fit(X_scaled_arr_train,Y_arr_train,epochs=500,validation_split=0.2,batch_size=40,shuffle=True,callbacks=[early_stopping, checkpoint])"
   ]
  },
  {
   "cell_type": "code",
   "execution_count": null,
   "metadata": {},
   "outputs": [],
   "source": []
  }
 ],
 "metadata": {
  "accelerator": "GPU",
  "colab": {
   "collapsed_sections": [],
   "name": "LSTM6.ipynb",
   "provenance": []
  },
  "kernelspec": {
   "display_name": "Python 3",
   "language": "python",
   "name": "python3"
  },
  "language_info": {
   "codemirror_mode": {
    "name": "ipython",
    "version": 3
   },
   "file_extension": ".py",
   "mimetype": "text/x-python",
   "name": "python",
   "nbconvert_exporter": "python",
   "pygments_lexer": "ipython3",
   "version": "3.8.8"
  }
 },
 "nbformat": 4,
 "nbformat_minor": 4
}
