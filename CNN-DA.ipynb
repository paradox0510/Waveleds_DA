{
  "nbformat": 4,
  "nbformat_minor": 0,
  "metadata": {
    "colab": {
      "provenance": []
    },
    "kernelspec": {
      "name": "python3",
      "display_name": "Python 3"
    },
    "language_info": {
      "name": "python"
    },
    "accelerator": "GPU"
  },
  "cells": [
    {
      "cell_type": "code",
      "metadata": {
        "id": "ZVEE1KCUMthE",
        "colab": {
          "base_uri": "https://localhost:8080/"
        },
        "outputId": "17ca25a8-0fd2-4236-a083-1ab367f685cb"
      },
      "source": [
        "from google.colab import drive\n",
        "drive.mount('/content/New')"
      ],
      "execution_count": null,
      "outputs": [
        {
          "output_type": "stream",
          "name": "stdout",
          "text": [
            "Mounted at /content/New\n"
          ]
        }
      ]
    },
    {
      "cell_type": "code",
      "metadata": {
        "id": "s695zzcEMw6q"
      },
      "source": [
        "\n",
        "from sklearn.preprocessing import MinMaxScaler, StandardScaler\n",
        "from sklearn.preprocessing import LabelEncoder\n",
        "from sklearn.metrics import mean_squared_error\n",
        "from sklearn.model_selection import StratifiedShuffleSplit\n",
        "\n",
        "from keras.models import Sequential\n",
        "from keras.layers import Dense\n",
        "from keras.layers import LSTM\n",
        "from keras.layers import Flatten\n",
        "from keras.callbacks import EarlyStopping, ModelCheckpoint\n",
        "from keras.models import load_model\n",
        "\n",
        "from keras.layers import Conv2D, MaxPooling2D, Dense, Dropout, Activation, Flatten, TimeDistributed\n",
        "import keras\n",
        "\n",
        "\n",
        "\n",
        "from random import shuffle\n",
        "from tensorflow.python.client import device_lib\n",
        "\n",
        "import os\n",
        "import glob\n",
        "import pandas as pd\n",
        "import numpy as np\n",
        "import matplotlib.pyplot as plt\n",
        "import matplotlib.image as mpimg\n",
        "\n",
        "# For wider plots\n",
        "plt.rcParams[\"figure.figsize\"] = (20,6)"
      ],
      "execution_count": null,
      "outputs": []
    },
    {
      "cell_type": "code",
      "metadata": {
        "id": "000jDJwpM9hr"
      },
      "source": [
        "files = glob.glob(\"/content/New/MyDrive/parkinsons/*_??.txt\")\n",
        "shuffle(files)"
      ],
      "execution_count": null,
      "outputs": []
    },
    {
      "cell_type": "code",
      "metadata": {
        "colab": {
          "base_uri": "https://localhost:8080/",
          "height": 35
        },
        "id": "fvJBncLaM_XA",
        "outputId": "fac1bdd6-5efd-4fb2-c035-cef47914e996"
      },
      "source": [
        "files[0]"
      ],
      "execution_count": null,
      "outputs": [
        {
          "output_type": "execute_result",
          "data": {
            "text/plain": [
              "'/content/New/MyDrive/parkinsons/JuPt28_02.txt'"
            ],
            "application/vnd.google.colaboratory.intrinsic+json": {
              "type": "string"
            }
          },
          "metadata": {},
          "execution_count": 4
        }
      ]
    },
    {
      "cell_type": "code",
      "metadata": {
        "id": "Vlje0mDQNBwr"
      },
      "source": [
        "def getClassForHealthyOrNot(filename):\n",
        "    if (filename.find(\"Co\") >=0):\n",
        "        return 0\n",
        "    else:\n",
        "        return 1"
      ],
      "execution_count": null,
      "outputs": []
    },
    {
      "cell_type": "code",
      "metadata": {
        "id": "GhkHeb5kNaJx"
      },
      "source": [
        "fdf = pd.DataFrame(files)\n",
        "\n",
        "# Do note that I am using a binary classification only below, use use getClassification for all classes\n",
        "fdf['classification']  = fdf[0].map(lambda x: getClassForHealthyOrNot(x))\n",
        "\n",
        "split = StratifiedShuffleSplit(n_splits=1, test_size=0.2, random_state=1917)\n",
        "for train_index, test_index in split.split(fdf, fdf['classification']):\n",
        "    strat_train = fdf.loc[train_index]\n",
        "    strat_test  = fdf.loc[test_index]\n",
        "    \n",
        "train_files = strat_train[0].values\n",
        "test_files = strat_test[0].values"
      ],
      "execution_count": null,
      "outputs": []
    },
    {
      "cell_type": "code",
      "metadata": {
        "colab": {
          "base_uri": "https://localhost:8080/"
        },
        "id": "RMKF4BxmNcl7",
        "outputId": "f8e009db-9532-4472-b44b-c049cd78157f"
      },
      "source": [
        "len(train_files), len(test_files)"
      ],
      "execution_count": null,
      "outputs": [
        {
          "output_type": "execute_result",
          "data": {
            "text/plain": [
              "(244, 62)"
            ]
          },
          "metadata": {},
          "execution_count": 7
        }
      ]
    },
    {
      "cell_type": "code",
      "metadata": {
        "colab": {
          "base_uri": "https://localhost:8080/",
          "height": 423
        },
        "id": "SLlKaBgaNfdz",
        "outputId": "259f38da-fe2b-4d74-f66c-48ff807b15dd"
      },
      "source": [
        "fdf"
      ],
      "execution_count": null,
      "outputs": [
        {
          "output_type": "execute_result",
          "data": {
            "text/plain": [
              "                                                 0  classification\n",
              "0    /content/New/MyDrive/parkinsons/JuPt28_02.txt               1\n",
              "1    /content/New/MyDrive/parkinsons/GaPt03_01.txt               1\n",
              "2    /content/New/MyDrive/parkinsons/SiPt12_01.txt               1\n",
              "3    /content/New/MyDrive/parkinsons/SiCo29_01.txt               0\n",
              "4    /content/New/MyDrive/parkinsons/JuCo25_01.txt               0\n",
              "..                                             ...             ...\n",
              "301  /content/New/MyDrive/parkinsons/JuPt22_01.txt               1\n",
              "302  /content/New/MyDrive/parkinsons/GaCo02_02.txt               0\n",
              "303  /content/New/MyDrive/parkinsons/JuPt01_06.txt               1\n",
              "304  /content/New/MyDrive/parkinsons/JuPt26_07.txt               1\n",
              "305  /content/New/MyDrive/parkinsons/SiPt31_01.txt               1\n",
              "\n",
              "[306 rows x 2 columns]"
            ],
            "text/html": [
              "\n",
              "  <div id=\"df-5b3a8acb-c529-4691-b240-a56c214e43a8\">\n",
              "    <div class=\"colab-df-container\">\n",
              "      <div>\n",
              "<style scoped>\n",
              "    .dataframe tbody tr th:only-of-type {\n",
              "        vertical-align: middle;\n",
              "    }\n",
              "\n",
              "    .dataframe tbody tr th {\n",
              "        vertical-align: top;\n",
              "    }\n",
              "\n",
              "    .dataframe thead th {\n",
              "        text-align: right;\n",
              "    }\n",
              "</style>\n",
              "<table border=\"1\" class=\"dataframe\">\n",
              "  <thead>\n",
              "    <tr style=\"text-align: right;\">\n",
              "      <th></th>\n",
              "      <th>0</th>\n",
              "      <th>classification</th>\n",
              "    </tr>\n",
              "  </thead>\n",
              "  <tbody>\n",
              "    <tr>\n",
              "      <th>0</th>\n",
              "      <td>/content/New/MyDrive/parkinsons/JuPt28_02.txt</td>\n",
              "      <td>1</td>\n",
              "    </tr>\n",
              "    <tr>\n",
              "      <th>1</th>\n",
              "      <td>/content/New/MyDrive/parkinsons/GaPt03_01.txt</td>\n",
              "      <td>1</td>\n",
              "    </tr>\n",
              "    <tr>\n",
              "      <th>2</th>\n",
              "      <td>/content/New/MyDrive/parkinsons/SiPt12_01.txt</td>\n",
              "      <td>1</td>\n",
              "    </tr>\n",
              "    <tr>\n",
              "      <th>3</th>\n",
              "      <td>/content/New/MyDrive/parkinsons/SiCo29_01.txt</td>\n",
              "      <td>0</td>\n",
              "    </tr>\n",
              "    <tr>\n",
              "      <th>4</th>\n",
              "      <td>/content/New/MyDrive/parkinsons/JuCo25_01.txt</td>\n",
              "      <td>0</td>\n",
              "    </tr>\n",
              "    <tr>\n",
              "      <th>...</th>\n",
              "      <td>...</td>\n",
              "      <td>...</td>\n",
              "    </tr>\n",
              "    <tr>\n",
              "      <th>301</th>\n",
              "      <td>/content/New/MyDrive/parkinsons/JuPt22_01.txt</td>\n",
              "      <td>1</td>\n",
              "    </tr>\n",
              "    <tr>\n",
              "      <th>302</th>\n",
              "      <td>/content/New/MyDrive/parkinsons/GaCo02_02.txt</td>\n",
              "      <td>0</td>\n",
              "    </tr>\n",
              "    <tr>\n",
              "      <th>303</th>\n",
              "      <td>/content/New/MyDrive/parkinsons/JuPt01_06.txt</td>\n",
              "      <td>1</td>\n",
              "    </tr>\n",
              "    <tr>\n",
              "      <th>304</th>\n",
              "      <td>/content/New/MyDrive/parkinsons/JuPt26_07.txt</td>\n",
              "      <td>1</td>\n",
              "    </tr>\n",
              "    <tr>\n",
              "      <th>305</th>\n",
              "      <td>/content/New/MyDrive/parkinsons/SiPt31_01.txt</td>\n",
              "      <td>1</td>\n",
              "    </tr>\n",
              "  </tbody>\n",
              "</table>\n",
              "<p>306 rows × 2 columns</p>\n",
              "</div>\n",
              "      <button class=\"colab-df-convert\" onclick=\"convertToInteractive('df-5b3a8acb-c529-4691-b240-a56c214e43a8')\"\n",
              "              title=\"Convert this dataframe to an interactive table.\"\n",
              "              style=\"display:none;\">\n",
              "        \n",
              "  <svg xmlns=\"http://www.w3.org/2000/svg\" height=\"24px\"viewBox=\"0 0 24 24\"\n",
              "       width=\"24px\">\n",
              "    <path d=\"M0 0h24v24H0V0z\" fill=\"none\"/>\n",
              "    <path d=\"M18.56 5.44l.94 2.06.94-2.06 2.06-.94-2.06-.94-.94-2.06-.94 2.06-2.06.94zm-11 1L8.5 8.5l.94-2.06 2.06-.94-2.06-.94L8.5 2.5l-.94 2.06-2.06.94zm10 10l.94 2.06.94-2.06 2.06-.94-2.06-.94-.94-2.06-.94 2.06-2.06.94z\"/><path d=\"M17.41 7.96l-1.37-1.37c-.4-.4-.92-.59-1.43-.59-.52 0-1.04.2-1.43.59L10.3 9.45l-7.72 7.72c-.78.78-.78 2.05 0 2.83L4 21.41c.39.39.9.59 1.41.59.51 0 1.02-.2 1.41-.59l7.78-7.78 2.81-2.81c.8-.78.8-2.07 0-2.86zM5.41 20L4 18.59l7.72-7.72 1.47 1.35L5.41 20z\"/>\n",
              "  </svg>\n",
              "      </button>\n",
              "      \n",
              "  <style>\n",
              "    .colab-df-container {\n",
              "      display:flex;\n",
              "      flex-wrap:wrap;\n",
              "      gap: 12px;\n",
              "    }\n",
              "\n",
              "    .colab-df-convert {\n",
              "      background-color: #E8F0FE;\n",
              "      border: none;\n",
              "      border-radius: 50%;\n",
              "      cursor: pointer;\n",
              "      display: none;\n",
              "      fill: #1967D2;\n",
              "      height: 32px;\n",
              "      padding: 0 0 0 0;\n",
              "      width: 32px;\n",
              "    }\n",
              "\n",
              "    .colab-df-convert:hover {\n",
              "      background-color: #E2EBFA;\n",
              "      box-shadow: 0px 1px 2px rgba(60, 64, 67, 0.3), 0px 1px 3px 1px rgba(60, 64, 67, 0.15);\n",
              "      fill: #174EA6;\n",
              "    }\n",
              "\n",
              "    [theme=dark] .colab-df-convert {\n",
              "      background-color: #3B4455;\n",
              "      fill: #D2E3FC;\n",
              "    }\n",
              "\n",
              "    [theme=dark] .colab-df-convert:hover {\n",
              "      background-color: #434B5C;\n",
              "      box-shadow: 0px 1px 3px 1px rgba(0, 0, 0, 0.15);\n",
              "      filter: drop-shadow(0px 1px 2px rgba(0, 0, 0, 0.3));\n",
              "      fill: #FFFFFF;\n",
              "    }\n",
              "  </style>\n",
              "\n",
              "      <script>\n",
              "        const buttonEl =\n",
              "          document.querySelector('#df-5b3a8acb-c529-4691-b240-a56c214e43a8 button.colab-df-convert');\n",
              "        buttonEl.style.display =\n",
              "          google.colab.kernel.accessAllowed ? 'block' : 'none';\n",
              "\n",
              "        async function convertToInteractive(key) {\n",
              "          const element = document.querySelector('#df-5b3a8acb-c529-4691-b240-a56c214e43a8');\n",
              "          const dataTable =\n",
              "            await google.colab.kernel.invokeFunction('convertToInteractive',\n",
              "                                                     [key], {});\n",
              "          if (!dataTable) return;\n",
              "\n",
              "          const docLinkHtml = 'Like what you see? Visit the ' +\n",
              "            '<a target=\"_blank\" href=https://colab.research.google.com/notebooks/data_table.ipynb>data table notebook</a>'\n",
              "            + ' to learn more about interactive tables.';\n",
              "          element.innerHTML = '';\n",
              "          dataTable['output_type'] = 'display_data';\n",
              "          await google.colab.output.renderOutput(dataTable, element);\n",
              "          const docLink = document.createElement('div');\n",
              "          docLink.innerHTML = docLinkHtml;\n",
              "          element.appendChild(docLink);\n",
              "        }\n",
              "      </script>\n",
              "    </div>\n",
              "  </div>\n",
              "  "
            ]
          },
          "metadata": {},
          "execution_count": 8
        }
      ]
    },
    {
      "cell_type": "code",
      "metadata": {
        "id": "DYE4HMmmNhXk"
      },
      "source": [
        "def parkinsonOneHot(label, len):\n",
        "    onehot = np.zeros([len, 2])\n",
        "\n",
        "    if (label == 0):\n",
        "        onehot[:, 0] = 1\n",
        "    else:\n",
        "        onehot[:, 1] = 1\n",
        "    return onehot"
      ],
      "execution_count": null,
      "outputs": []
    },
    {
      "cell_type": "code",
      "metadata": {
        "colab": {
          "base_uri": "https://localhost:8080/",
          "height": 74
        },
        "id": "VR2mXldiNo4p",
        "outputId": "0d34c317-a0e0-46ec-f1df-8b5eefdb0c98"
      },
      "source": [
        "\n",
        "sc = StandardScaler()\n",
        "\n",
        "def initScalerWith():\n",
        "    d = pd.DataFrame()\n",
        "    \n",
        "    for f in train_files:\n",
        "        data = pd.read_csv(f, sep='\\t')\n",
        "        data['classification'] = getClassForHealthyOrNot(f)\n",
        "        d = pd.concat([data], axis=1)\n",
        "    return d.values\n",
        "\n",
        "sc.fit(initScalerWith())"
      ],
      "execution_count": null,
      "outputs": [
        {
          "output_type": "execute_result",
          "data": {
            "text/plain": [
              "StandardScaler()"
            ],
            "text/html": [
              "<style>#sk-container-id-1 {color: black;background-color: white;}#sk-container-id-1 pre{padding: 0;}#sk-container-id-1 div.sk-toggleable {background-color: white;}#sk-container-id-1 label.sk-toggleable__label {cursor: pointer;display: block;width: 100%;margin-bottom: 0;padding: 0.3em;box-sizing: border-box;text-align: center;}#sk-container-id-1 label.sk-toggleable__label-arrow:before {content: \"▸\";float: left;margin-right: 0.25em;color: #696969;}#sk-container-id-1 label.sk-toggleable__label-arrow:hover:before {color: black;}#sk-container-id-1 div.sk-estimator:hover label.sk-toggleable__label-arrow:before {color: black;}#sk-container-id-1 div.sk-toggleable__content {max-height: 0;max-width: 0;overflow: hidden;text-align: left;background-color: #f0f8ff;}#sk-container-id-1 div.sk-toggleable__content pre {margin: 0.2em;color: black;border-radius: 0.25em;background-color: #f0f8ff;}#sk-container-id-1 input.sk-toggleable__control:checked~div.sk-toggleable__content {max-height: 200px;max-width: 100%;overflow: auto;}#sk-container-id-1 input.sk-toggleable__control:checked~label.sk-toggleable__label-arrow:before {content: \"▾\";}#sk-container-id-1 div.sk-estimator input.sk-toggleable__control:checked~label.sk-toggleable__label {background-color: #d4ebff;}#sk-container-id-1 div.sk-label input.sk-toggleable__control:checked~label.sk-toggleable__label {background-color: #d4ebff;}#sk-container-id-1 input.sk-hidden--visually {border: 0;clip: rect(1px 1px 1px 1px);clip: rect(1px, 1px, 1px, 1px);height: 1px;margin: -1px;overflow: hidden;padding: 0;position: absolute;width: 1px;}#sk-container-id-1 div.sk-estimator {font-family: monospace;background-color: #f0f8ff;border: 1px dotted black;border-radius: 0.25em;box-sizing: border-box;margin-bottom: 0.5em;}#sk-container-id-1 div.sk-estimator:hover {background-color: #d4ebff;}#sk-container-id-1 div.sk-parallel-item::after {content: \"\";width: 100%;border-bottom: 1px solid gray;flex-grow: 1;}#sk-container-id-1 div.sk-label:hover label.sk-toggleable__label {background-color: #d4ebff;}#sk-container-id-1 div.sk-serial::before {content: \"\";position: absolute;border-left: 1px solid gray;box-sizing: border-box;top: 0;bottom: 0;left: 50%;z-index: 0;}#sk-container-id-1 div.sk-serial {display: flex;flex-direction: column;align-items: center;background-color: white;padding-right: 0.2em;padding-left: 0.2em;position: relative;}#sk-container-id-1 div.sk-item {position: relative;z-index: 1;}#sk-container-id-1 div.sk-parallel {display: flex;align-items: stretch;justify-content: center;background-color: white;position: relative;}#sk-container-id-1 div.sk-item::before, #sk-container-id-1 div.sk-parallel-item::before {content: \"\";position: absolute;border-left: 1px solid gray;box-sizing: border-box;top: 0;bottom: 0;left: 50%;z-index: -1;}#sk-container-id-1 div.sk-parallel-item {display: flex;flex-direction: column;z-index: 1;position: relative;background-color: white;}#sk-container-id-1 div.sk-parallel-item:first-child::after {align-self: flex-end;width: 50%;}#sk-container-id-1 div.sk-parallel-item:last-child::after {align-self: flex-start;width: 50%;}#sk-container-id-1 div.sk-parallel-item:only-child::after {width: 0;}#sk-container-id-1 div.sk-dashed-wrapped {border: 1px dashed gray;margin: 0 0.4em 0.5em 0.4em;box-sizing: border-box;padding-bottom: 0.4em;background-color: white;}#sk-container-id-1 div.sk-label label {font-family: monospace;font-weight: bold;display: inline-block;line-height: 1.2em;}#sk-container-id-1 div.sk-label-container {text-align: center;}#sk-container-id-1 div.sk-container {/* jupyter's `normalize.less` sets `[hidden] { display: none; }` but bootstrap.min.css set `[hidden] { display: none !important; }` so we also need the `!important` here to be able to override the default hidden behavior on the sphinx rendered scikit-learn.org. See: https://github.com/scikit-learn/scikit-learn/issues/21755 */display: inline-block !important;position: relative;}#sk-container-id-1 div.sk-text-repr-fallback {display: none;}</style><div id=\"sk-container-id-1\" class=\"sk-top-container\"><div class=\"sk-text-repr-fallback\"><pre>StandardScaler()</pre><b>In a Jupyter environment, please rerun this cell to show the HTML representation or trust the notebook. <br />On GitHub, the HTML representation is unable to render, please try loading this page with nbviewer.org.</b></div><div class=\"sk-container\" hidden><div class=\"sk-item\"><div class=\"sk-estimator sk-toggleable\"><input class=\"sk-toggleable__control sk-hidden--visually\" id=\"sk-estimator-id-1\" type=\"checkbox\" checked><label for=\"sk-estimator-id-1\" class=\"sk-toggleable__label sk-toggleable__label-arrow\">StandardScaler</label><div class=\"sk-toggleable__content\"><pre>StandardScaler()</pre></div></div></div></div></div>"
            ]
          },
          "metadata": {},
          "execution_count": 10
        }
      ]
    },
    {
      "cell_type": "code",
      "metadata": {
        "id": "um4fvrVGNsUC"
      },
      "source": [
        "def readSensorDataFromFile(f):\n",
        "    data = pd.read_csv(f, sep='\\t')\n",
        "    data['classification'] = getClassForHealthyOrNot(f)\n",
        "    return sc.transform(data.values)"
      ],
      "execution_count": null,
      "outputs": []
    },
    {
      "cell_type": "code",
      "metadata": {
        "id": "5TqnwaNeQLxs"
      },
      "source": [
        "def produceImagesFromFile(file, image_height, offset=100):\n",
        "    r = pd.DataFrame()\n",
        "   \n",
        "    # Width is 16 pixels\n",
        "    d = readSensorDataFromFile(file)[:, 1:17]\n",
        "\n",
        "    for i in range(0, d.shape[0], offset):\n",
        "        if (i+image_height > d.shape[0]):\n",
        "            continue\n",
        "        r = pd.concat([r, pd.DataFrame(d[i:i+image_height])], axis=0)\n",
        "\n",
        "    return r.values.reshape(-1, 16, image_height, 1), getClassForHealthyOrNot(file)"
      ],
      "execution_count": null,
      "outputs": []
    },
    {
      "cell_type": "code",
      "metadata": {
        "id": "xtYMYS7JRJgO"
      },
      "source": [
        "batch_size = 16\n",
        "image_height = 192\n",
        "\n",
        "def generate_arrays_from_file(files):\n",
        "    while 1:\n",
        "         for f in files:\n",
        "            #print(\"processing \", f)\n",
        "            x_batch, y_class = produceImagesFromFile(f, image_height=image_height)\n",
        "            y_batch = parkinsonOneHot(y_class, x_batch.shape[0])\n",
        "       \n",
        "            # Batch size defined as \"batch_size\" in the initialization\n",
        "            for i in range (0, len(x_batch), batch_size):\n",
        "                yield (x_batch[i:i+batch_size], y_batch[i:i+batch_size])"
      ],
      "execution_count": null,
      "outputs": []
    },
    {
      "cell_type": "code",
      "metadata": {
        "id": "ORTbpSZ7RLCv"
      },
      "source": [
        "def count_steps_in_epoch(files, batch_size = 64, image_height = 192):\n",
        "    count = 0\n",
        "    for f in files:\n",
        "        xb, _ = produceImagesFromFile(f, image_height=image_height)\n",
        "        count = count + int(xb.shape[0] / batch_size)\n",
        "    return count"
      ],
      "execution_count": null,
      "outputs": []
    },
    {
      "cell_type": "code",
      "metadata": {
        "colab": {
          "base_uri": "https://localhost:8080/"
        },
        "id": "mV6F9vv2Tvrk",
        "outputId": "8be9deea-8e71-49aa-8838-b2363785f03a"
      },
      "source": [
        "batch_size = 16\n",
        "image_height = 240\n",
        "\n",
        "training_set_steps_per_epoch = count_steps_in_epoch(train_files, batch_size=batch_size, image_height=image_height)\n",
        "test_set_steps_per_epoch = count_steps_in_epoch(test_files, batch_size=batch_size, image_height=image_height)\n",
        "\n",
        "a,b = next(generate_arrays_from_file(test_files))\n",
        "\n",
        "print(\"Training: \", training_set_steps_per_epoch, \" samples, testing: \", test_set_steps_per_epoch)"
      ],
      "execution_count": null,
      "outputs": [
        {
          "output_type": "stream",
          "name": "stdout",
          "text": [
            "Training:  1494  samples, testing:  402\n"
          ]
        }
      ]
    },
    {
      "cell_type": "code",
      "metadata": {
        "colab": {
          "base_uri": "https://localhost:8080/"
        },
        "id": "7rEhCY4nTyZe",
        "outputId": "4a0a8866-4008-4c56-e064-75c753f31e42"
      },
      "source": [
        "model = Sequential()\n",
        "model.add(Conv2D(32, (5, 5), padding='same', kernel_initializer='glorot_uniform',\n",
        "                 input_shape=a.shape[1:]))\n",
        "model.add(Activation('relu'))\n",
        "\n",
        "model.add(MaxPooling2D(pool_size=(2, 2)))\n",
        "\n",
        "model.add(Conv2D(64, (5, 5), padding='same', kernel_initializer='glorot_uniform',\n",
        "                 input_shape=a.shape[1:]))\n",
        "model.add(Activation('relu'))\n",
        "model.add(MaxPooling2D(pool_size=(2, 2)))\n",
        "model.add(Dropout(0.5))\n",
        "model.add(Flatten())\n",
        "model.add(Dense(2))\n",
        "model.add(Activation('softmax'))\n",
        "\n",
        "opt = keras.optimizers.Adam(learning_rate=0.001)\n",
        "\n",
        "\n",
        "checkpoint = ModelCheckpoint(\"/content/New/MyDrive/Model/Model_Tune/model_parkinsons_v10.h5\", \n",
        "                             monitor='val_accuracy', verbose=0, save_best_only=True, \n",
        "                             save_weights_only=False, mode='auto', period=1)\n",
        "early_stopping = EarlyStopping(monitor='val_loss', min_delta=0.01, patience=20, verbose=0, mode='auto')\n",
        "\n",
        "model.compile(loss='binary_crossentropy',\n",
        "              optimizer=opt,\n",
        "              metrics=['accuracy'])"
      ],
      "execution_count": null,
      "outputs": [
        {
          "output_type": "stream",
          "name": "stderr",
          "text": [
            "WARNING:tensorflow:`period` argument is deprecated. Please use `save_freq` to specify the frequency in number of batches seen.\n"
          ]
        }
      ]
    },
    {
      "cell_type": "code",
      "metadata": {
        "id": "OPMTmPZkaoGR",
        "colab": {
          "base_uri": "https://localhost:8080/"
        },
        "outputId": "2056c944-e9d8-4b28-d08b-bb8ce4d9d5de"
      },
      "source": [
        "history = model.fit(generate_arrays_from_file(train_files), \n",
        "                    validation_data=generate_arrays_from_file(test_files),\n",
        "                    steps_per_epoch=training_set_steps_per_epoch, \n",
        "                    validation_steps=test_set_steps_per_epoch,\n",
        "                    verbose=2,\n",
        "                    epochs=50, \n",
        "                    shuffle=True,\n",
        "                    use_multiprocessing=True,\n",
        "                   callbacks=[early_stopping, checkpoint])"
      ],
      "execution_count": null,
      "outputs": [
        {
          "output_type": "stream",
          "name": "stdout",
          "text": [
            "Epoch 1/50\n",
            "1494/1494 - 32s - loss: 0.7522 - accuracy: 0.6796 - val_loss: 0.6024 - val_accuracy: 0.7443 - 32s/epoch - 22ms/step\n",
            "Epoch 2/50\n",
            "1494/1494 - 34s - loss: 0.7463 - accuracy: 0.6937 - val_loss: 0.5867 - val_accuracy: 0.7443 - 34s/epoch - 22ms/step\n",
            "Epoch 3/50\n",
            "1494/1494 - 28s - loss: 0.8029 - accuracy: 0.6944 - val_loss: 0.6580 - val_accuracy: 0.7134 - 28s/epoch - 19ms/step\n",
            "Epoch 4/50\n",
            "1494/1494 - 33s - loss: 0.8936 - accuracy: 0.6977 - val_loss: 0.5820 - val_accuracy: 0.7443 - 33s/epoch - 22ms/step\n",
            "Epoch 5/50\n",
            "1494/1494 - 29s - loss: 0.7725 - accuracy: 0.6792 - val_loss: 0.5808 - val_accuracy: 0.7443 - 29s/epoch - 19ms/step\n",
            "Epoch 6/50\n",
            "1494/1494 - 29s - loss: 0.6041 - accuracy: 0.7125 - val_loss: 0.5755 - val_accuracy: 0.7443 - 29s/epoch - 19ms/step\n",
            "Epoch 7/50\n",
            "1494/1494 - 26s - loss: 0.8180 - accuracy: 0.6960 - val_loss: 0.5700 - val_accuracy: 0.7442 - 26s/epoch - 17ms/step\n",
            "Epoch 8/50\n",
            "1494/1494 - 29s - loss: 0.8646 - accuracy: 0.6984 - val_loss: 0.5767 - val_accuracy: 0.7443 - 29s/epoch - 19ms/step\n",
            "Epoch 9/50\n",
            "1494/1494 - 26s - loss: 0.6952 - accuracy: 0.6903 - val_loss: 0.5736 - val_accuracy: 0.7443 - 26s/epoch - 17ms/step\n",
            "Epoch 10/50\n",
            "1494/1494 - 26s - loss: 0.7600 - accuracy: 0.6975 - val_loss: 0.5763 - val_accuracy: 0.7443 - 26s/epoch - 18ms/step\n",
            "Epoch 11/50\n",
            "1494/1494 - 27s - loss: 0.6460 - accuracy: 0.6792 - val_loss: 0.5719 - val_accuracy: 0.7443 - 27s/epoch - 18ms/step\n",
            "Epoch 12/50\n",
            "1494/1494 - 25s - loss: 0.6920 - accuracy: 0.6873 - val_loss: 0.5797 - val_accuracy: 0.7442 - 25s/epoch - 17ms/step\n",
            "Epoch 13/50\n",
            "1494/1494 - 27s - loss: 0.7006 - accuracy: 0.7144 - val_loss: 0.5799 - val_accuracy: 0.7443 - 27s/epoch - 18ms/step\n",
            "Epoch 14/50\n",
            "1494/1494 - 27s - loss: 0.6715 - accuracy: 0.7068 - val_loss: 0.5777 - val_accuracy: 0.7443 - 27s/epoch - 18ms/step\n",
            "Epoch 15/50\n",
            "1494/1494 - 27s - loss: 0.6254 - accuracy: 0.6843 - val_loss: 0.5699 - val_accuracy: 0.7443 - 27s/epoch - 18ms/step\n",
            "Epoch 16/50\n",
            "1494/1494 - 27s - loss: 0.6241 - accuracy: 0.6826 - val_loss: 0.5797 - val_accuracy: 0.7443 - 27s/epoch - 18ms/step\n",
            "Epoch 17/50\n",
            "1494/1494 - 26s - loss: 0.7042 - accuracy: 0.6895 - val_loss: 0.6885 - val_accuracy: 0.7127 - 26s/epoch - 17ms/step\n",
            "Epoch 18/50\n",
            "1494/1494 - 37s - loss: 0.6410 - accuracy: 0.6774 - val_loss: 0.5798 - val_accuracy: 0.7443 - 37s/epoch - 25ms/step\n",
            "Epoch 19/50\n",
            "1494/1494 - 29s - loss: 0.6616 - accuracy: 0.6962 - val_loss: 0.5758 - val_accuracy: 0.7443 - 29s/epoch - 20ms/step\n",
            "Epoch 20/50\n",
            "1494/1494 - 20s - loss: 0.6237 - accuracy: 0.6924 - val_loss: 0.5643 - val_accuracy: 0.7320 - 20s/epoch - 13ms/step\n",
            "Epoch 21/50\n",
            "1494/1494 - 25s - loss: 0.9321 - accuracy: 0.7142 - val_loss: 0.5667 - val_accuracy: 0.7416 - 25s/epoch - 17ms/step\n",
            "Epoch 22/50\n",
            "1494/1494 - 25s - loss: 0.5981 - accuracy: 0.7023 - val_loss: 0.6284 - val_accuracy: 0.7199 - 25s/epoch - 17ms/step\n",
            "Epoch 23/50\n",
            "1494/1494 - 38s - loss: 0.6574 - accuracy: 0.6902 - val_loss: 0.5265 - val_accuracy: 0.7445 - 38s/epoch - 25ms/step\n",
            "Epoch 24/50\n",
            "1494/1494 - 29s - loss: 0.5613 - accuracy: 0.7256 - val_loss: 0.6964 - val_accuracy: 0.7443 - 29s/epoch - 19ms/step\n",
            "Epoch 25/50\n",
            "1494/1494 - 20s - loss: 0.5849 - accuracy: 0.7058 - val_loss: 0.5213 - val_accuracy: 0.7575 - 20s/epoch - 13ms/step\n",
            "Epoch 26/50\n",
            "1494/1494 - 22s - loss: 0.5869 - accuracy: 0.7190 - val_loss: 0.5135 - val_accuracy: 0.7403 - 22s/epoch - 15ms/step\n",
            "Epoch 27/50\n",
            "1494/1494 - 29s - loss: 0.6151 - accuracy: 0.7043 - val_loss: 0.5580 - val_accuracy: 0.7797 - 29s/epoch - 19ms/step\n",
            "Epoch 28/50\n",
            "1494/1494 - 37s - loss: 0.5288 - accuracy: 0.7476 - val_loss: 0.4856 - val_accuracy: 0.7919 - 37s/epoch - 25ms/step\n",
            "Epoch 29/50\n",
            "1494/1494 - 24s - loss: 0.6391 - accuracy: 0.7466 - val_loss: 0.4799 - val_accuracy: 0.7916 - 24s/epoch - 16ms/step\n",
            "Epoch 30/50\n",
            "1494/1494 - 37s - loss: 0.5280 - accuracy: 0.7425 - val_loss: 0.4845 - val_accuracy: 0.7879 - 37s/epoch - 25ms/step\n",
            "Epoch 31/50\n",
            "1494/1494 - 30s - loss: 0.4922 - accuracy: 0.7614 - val_loss: 0.5798 - val_accuracy: 0.7660 - 30s/epoch - 20ms/step\n",
            "Epoch 32/50\n",
            "1494/1494 - 20s - loss: 0.5720 - accuracy: 0.7703 - val_loss: 0.6396 - val_accuracy: 0.7975 - 20s/epoch - 13ms/step\n",
            "Epoch 33/50\n",
            "1494/1494 - 27s - loss: 0.5376 - accuracy: 0.7575 - val_loss: 0.4758 - val_accuracy: 0.7903 - 27s/epoch - 18ms/step\n",
            "Epoch 34/50\n",
            "1494/1494 - 26s - loss: 0.4579 - accuracy: 0.7906 - val_loss: 0.5397 - val_accuracy: 0.7647 - 26s/epoch - 17ms/step\n",
            "Epoch 35/50\n",
            "1494/1494 - 27s - loss: 0.4536 - accuracy: 0.8013 - val_loss: 0.4490 - val_accuracy: 0.7968 - 27s/epoch - 18ms/step\n",
            "Epoch 36/50\n",
            "1494/1494 - 28s - loss: 0.4372 - accuracy: 0.8163 - val_loss: 0.4483 - val_accuracy: 0.8230 - 28s/epoch - 19ms/step\n",
            "Epoch 37/50\n",
            "1494/1494 - 26s - loss: 0.4625 - accuracy: 0.8053 - val_loss: 0.4800 - val_accuracy: 0.8102 - 26s/epoch - 17ms/step\n",
            "Epoch 38/50\n",
            "1494/1494 - 28s - loss: 0.5328 - accuracy: 0.8068 - val_loss: 0.4460 - val_accuracy: 0.8098 - 28s/epoch - 19ms/step\n",
            "Epoch 39/50\n",
            "1494/1494 - 26s - loss: 0.4042 - accuracy: 0.8156 - val_loss: 0.8791 - val_accuracy: 0.7418 - 26s/epoch - 17ms/step\n",
            "Epoch 40/50\n",
            "1494/1494 - 37s - loss: 1.0850 - accuracy: 0.8157 - val_loss: 0.6950 - val_accuracy: 0.7709 - 37s/epoch - 25ms/step\n",
            "Epoch 41/50\n",
            "1494/1494 - 33s - loss: 0.4069 - accuracy: 0.8113 - val_loss: 0.9364 - val_accuracy: 0.7883 - 33s/epoch - 22ms/step\n",
            "Epoch 42/50\n",
            "1494/1494 - 20s - loss: 0.4560 - accuracy: 0.8138 - val_loss: 0.5833 - val_accuracy: 0.8070 - 20s/epoch - 13ms/step\n",
            "Epoch 43/50\n",
            "1494/1494 - 38s - loss: 0.3664 - accuracy: 0.8415 - val_loss: 0.5576 - val_accuracy: 0.8095 - 38s/epoch - 25ms/step\n",
            "Epoch 44/50\n",
            "1494/1494 - 20s - loss: 0.3763 - accuracy: 0.8220 - val_loss: 0.9026 - val_accuracy: 0.7495 - 20s/epoch - 14ms/step\n",
            "Epoch 45/50\n",
            "1494/1494 - 33s - loss: 0.3656 - accuracy: 0.8423 - val_loss: 0.5990 - val_accuracy: 0.7814 - 33s/epoch - 22ms/step\n",
            "Epoch 46/50\n",
            "1494/1494 - 38s - loss: 0.3548 - accuracy: 0.8476 - val_loss: 1.2110 - val_accuracy: 0.7709 - 38s/epoch - 25ms/step\n",
            "Epoch 47/50\n",
            "1494/1494 - 30s - loss: 0.5783 - accuracy: 0.8285 - val_loss: 0.7277 - val_accuracy: 0.7721 - 30s/epoch - 20ms/step\n",
            "Epoch 48/50\n",
            "1494/1494 - 28s - loss: 0.3644 - accuracy: 0.8417 - val_loss: 0.4964 - val_accuracy: 0.8073 - 28s/epoch - 19ms/step\n",
            "Epoch 49/50\n"
          ]
        }
      ]
    },
    {
      "cell_type": "code",
      "source": [
        "model.summary()"
      ],
      "metadata": {
        "colab": {
          "base_uri": "https://localhost:8080/"
        },
        "id": "LrP8yWYJoDzR",
        "outputId": "b2263a79-0557-43f2-8871-a459f17cd100"
      },
      "execution_count": null,
      "outputs": [
        {
          "output_type": "stream",
          "name": "stdout",
          "text": [
            "Model: \"sequential\"\n",
            "_________________________________________________________________\n",
            " Layer (type)                Output Shape              Param #   \n",
            "=================================================================\n",
            " conv2d (Conv2D)             (None, 16, 240, 32)       832       \n",
            "                                                                 \n",
            " activation (Activation)     (None, 16, 240, 32)       0         \n",
            "                                                                 \n",
            " max_pooling2d (MaxPooling2D  (None, 8, 120, 32)       0         \n",
            " )                                                               \n",
            "                                                                 \n",
            " conv2d_1 (Conv2D)           (None, 8, 120, 64)        51264     \n",
            "                                                                 \n",
            " activation_1 (Activation)   (None, 8, 120, 64)        0         \n",
            "                                                                 \n",
            " max_pooling2d_1 (MaxPooling  (None, 4, 60, 64)        0         \n",
            " 2D)                                                             \n",
            "                                                                 \n",
            " dropout (Dropout)           (None, 4, 60, 64)         0         \n",
            "                                                                 \n",
            " flatten (Flatten)           (None, 15360)             0         \n",
            "                                                                 \n",
            " dense (Dense)               (None, 2)                 30722     \n",
            "                                                                 \n",
            " activation_2 (Activation)   (None, 2)                 0         \n",
            "                                                                 \n",
            "=================================================================\n",
            "Total params: 82,818\n",
            "Trainable params: 82,818\n",
            "Non-trainable params: 0\n",
            "_________________________________________________________________\n"
          ]
        }
      ]
    },
    {
      "cell_type": "code",
      "metadata": {
        "id": "4k2lafmexbvz",
        "colab": {
          "base_uri": "https://localhost:8080/"
        },
        "outputId": "f30334c3-dc81-4e85-8844-cf5bbed648e6"
      },
      "source": [
        "print(history.history.keys())"
      ],
      "execution_count": null,
      "outputs": [
        {
          "output_type": "stream",
          "name": "stdout",
          "text": [
            "dict_keys(['loss', 'accuracy', 'val_loss', 'val_accuracy'])\n"
          ]
        }
      ]
    },
    {
      "cell_type": "code",
      "metadata": {
        "id": "Dxoh33uvwwMO",
        "colab": {
          "base_uri": "https://localhost:8080/",
          "height": 435
        },
        "outputId": "9b671879-79ba-4b69-8474-e8c5c6eb1f71"
      },
      "source": [
        "plt.plot(history.history['loss'], label='Parkinson(training data)')\n",
        "plt.plot(history.history['val_loss'], label='Parkinson (validation data)')\n",
        "plt.title('')\n",
        "plt.ylabel('')\n",
        "plt.xlabel('No. epoch')\n",
        "plt.legend(loc=\"upper left\")\n",
        "plt.show()"
      ],
      "execution_count": null,
      "outputs": [
        {
          "output_type": "display_data",
          "data": {
            "text/plain": [
              "<Figure size 2000x600 with 1 Axes>"
            ],
            "image/png": "[encoded data removed]"
          },
          "metadata": {}
        }
      ]
    },
    {
      "cell_type": "code",
      "metadata": {
        "id": "Yq3xrCjuA3pM",
        "colab": {
          "base_uri": "https://localhost:8080/",
          "height": 433
        },
        "outputId": "b6d5dd75-1562-4687-a7ba-697ab7cfc70e"
      },
      "source": [
        "plt.plot(history.history['accuracy'], label='Parkinson(training data)')\n",
        "plt.plot(history.history['val_accuracy'], label='Parkinson (validation data)')\n",
        "plt.title('')\n",
        "plt.ylabel('')\n",
        "plt.xlabel('No. epoch')\n",
        "plt.legend(loc=\"upper left\")\n",
        "plt.show()"
      ],
      "execution_count": null,
      "outputs": [
        {
          "output_type": "display_data",
          "data": {
            "text/plain": [
              "<Figure size 2000x600 with 1 Axes>"
            ],
            "image/png": "[encoded data removed]"
          },
          "metadata": {}
        }
      ]
    },
    {
      "cell_type": "code",
      "metadata": {
        "id": "Tzh8uwR1BEwZ",
        "colab": {
          "base_uri": "https://localhost:8080/"
        },
        "outputId": "6744242d-4362-4e28-9e31-0ef33da8074e"
      },
      "source": [
        "max(history.history['val_accuracy'])"
      ],
      "execution_count": null,
      "outputs": [
        {
          "output_type": "execute_result",
          "data": {
            "text/plain": [
              "0.7443181872367859"
            ]
          },
          "metadata": {},
          "execution_count": 22
        }
      ]
    },
    {
      "cell_type": "code",
      "metadata": {
        "id": "aoqlenKVBcPA",
        "colab": {
          "base_uri": "https://localhost:8080/"
        },
        "outputId": "daa20efe-c8bc-48a4-e53f-c2b40ca704cd"
      },
      "source": [
        "history.history['val_accuracy']"
      ],
      "execution_count": null,
      "outputs": [
        {
          "output_type": "execute_result",
          "data": {
            "text/plain": [
              "[0.7443181872367859]"
            ]
          },
          "metadata": {},
          "execution_count": 23
        }
      ]
    },
    {
      "cell_type": "code",
      "metadata": {
        "id": "YgKS8YnMBfNM",
        "colab": {
          "base_uri": "https://localhost:8080/"
        },
        "outputId": "4ba1b7e1-9a40-4665-b5b2-577c4784964f"
      },
      "source": [
        "max(history.history['accuracy'])"
      ],
      "execution_count": null,
      "outputs": [
        {
          "output_type": "execute_result",
          "data": {
            "text/plain": [
              "0.650031566619873"
            ]
          },
          "metadata": {},
          "execution_count": 24
        }
      ]
    },
    {
      "cell_type": "code",
      "metadata": {
        "id": "mLKS8qyyBjC8",
        "colab": {
          "base_uri": "https://localhost:8080/"
        },
        "outputId": "cb0a20e9-2fac-4f9c-f528-397dd1fa00b9"
      },
      "source": [
        "history.history['loss']"
      ],
      "execution_count": null,
      "outputs": [
        {
          "output_type": "execute_result",
          "data": {
            "text/plain": [
              "[1.151228904724121]"
            ]
          },
          "metadata": {},
          "execution_count": 25
        }
      ]
    },
    {
      "cell_type": "code",
      "metadata": {
        "id": "ltqWIIPeBo-C",
        "colab": {
          "base_uri": "https://localhost:8080/"
        },
        "outputId": "3bf735a2-bf5c-41a4-8960-543584937439"
      },
      "source": [
        "min(history.history['loss'])"
      ],
      "execution_count": null,
      "outputs": [
        {
          "output_type": "execute_result",
          "data": {
            "text/plain": [
              "1.151228904724121"
            ]
          },
          "metadata": {},
          "execution_count": 26
        }
      ]
    },
    {
      "cell_type": "code",
      "metadata": {
        "id": "e2EFDSUaBuCW",
        "colab": {
          "base_uri": "https://localhost:8080/"
        },
        "outputId": "b7cf5656-b73a-4e80-b3c1-1faa7361f0ca"
      },
      "source": [
        "min(history.history['val_loss'])"
      ],
      "execution_count": null,
      "outputs": [
        {
          "output_type": "execute_result",
          "data": {
            "text/plain": [
              "0.6290410161018372"
            ]
          },
          "metadata": {},
          "execution_count": 27
        }
      ]
    },
    {
      "cell_type": "code",
      "metadata": {
        "id": "hU8Clrkyaxnt"
      },
      "source": [
        "parkmodel = load_model(\"/content/New/MyDrive/Model/Model_Tune/model_parkinsons_v6.h5\")\n"
      ],
      "execution_count": null,
      "outputs": []
    },
    {
      "cell_type": "code",
      "metadata": {
        "id": "lH40c6uBo1sg"
      },
      "source": [
        "n_park = 0\n",
        "n_control = 0\n",
        "\n",
        "for f in test_files:\n",
        "    if (f.find(\"Co\") > 0):\n",
        "        n_control += 1\n",
        "    else:\n",
        "        n_park += 1"
      ],
      "execution_count": null,
      "outputs": []
    },
    {
      "cell_type": "code",
      "metadata": {
        "id": "kNRzwF8go-Dr"
      },
      "source": [
        "n_control, n_park"
      ],
      "execution_count": null,
      "outputs": []
    },
    {
      "cell_type": "code",
      "metadata": {
        "id": "7LSGqVF1o_6C"
      },
      "source": [
        "LOAD_MODEL = False\n",
        "correct = 0\n",
        "incorrect = 0\n",
        "\n",
        "true_y = []\n",
        "predicted_y = []\n",
        "\n",
        "if (LOAD_MODEL):\n",
        "    parkmodel = load_model(\"/content/New/MyDrive/Model/Model_Tune/model_parkinsons_v7.h5\")\n",
        "\n",
        "for f in test_files:\n",
        "    d_x, label = produceImagesFromFile(file=f, image_height=240)\n",
        "    \n",
        "    predictions = parkmodel.predict_classes(d_x)\n",
        "    \n",
        "    predict_distribution = pd.Series(predictions).value_counts()\n",
        "    predictClass = predict_distribution.idxmax()\n",
        "    \n",
        "    true_y.append(label)\n",
        "    predicted_y.append(predictClass)\n",
        "    \n",
        "    if (label == predictClass):\n",
        "        prediction_text = \"correct\"\n",
        "        correct += 1\n",
        "    else:\n",
        "        prediction_text = \"incorrect (vote distribution: %s)\" % (predict_distribution.values)\n",
        "        incorrect += 1\n",
        "\n",
        "    output = (\"prediction was %s for %s\") % (prediction_text, os.path.basename(f))\n",
        "    print(output)\n",
        "\n",
        "print((\"Number of samples: %d, %d correct, %d incorrect.\") % \n",
        "    (correct+incorrect, correct, incorrect))"
      ],
      "execution_count": null,
      "outputs": []
    },
    {
      "cell_type": "code",
      "metadata": {
        "id": "pt8mgnhkpH3l"
      },
      "source": [
        "from sklearn.metrics import recall_score, f1_score, precision_score\n",
        "recall = recall_score(true_y, predicted_y)\n",
        "precision = precision_score(true_y, predicted_y)\n",
        "f1 = f1_score(true_y, predicted_y)\n",
        "\n",
        "print('Recall score: {0:0.2f}'.format(recall))\n",
        "print('Precision score: {0:0.2f}'.format(precision))\n",
        "print('F1-score: {0:0.2f}'.format(precision))"
      ],
      "execution_count": null,
      "outputs": []
    },
    {
      "cell_type": "code",
      "metadata": {
        "id": "Jp6G-Il_pqZV"
      },
      "source": [],
      "execution_count": null,
      "outputs": []
    }
  ]
}